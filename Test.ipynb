{
 "cells": [
  {
   "cell_type": "code",
   "execution_count": 3,
   "id": "4799ebb5-0f17-4df3-995b-e84611274c5d",
   "metadata": {},
   "outputs": [
    {
     "name": "stdout",
     "output_type": "stream",
     "text": [
      "[ 2  1  0  7  9 11 26]\n",
      "[ 2  1  0  7  9 11 26]\n",
      "[ 2  1  0  7  9 11 26]\n",
      "[ 0  1  2  9  7 11 26]\n"
     ]
    }
   ],
   "source": [
    "import numpy as np\n",
    "\n",
    "arr = np.array([7,2,9,1,0,11,26])\n",
    "print(np.partition(arr, -4))\n",
    "print(np.partition(arr, 4))\n",
    "print(np.partition(arr, -2))\n",
    "print(np.partition(arr, 2))"
   ]
  },
  {
   "cell_type": "code",
   "execution_count": 7,
   "id": "92cf6c18-2864-4b57-94f0-48293672a3a7",
   "metadata": {},
   "outputs": [
    {
     "data": {
      "text/plain": [
       "<scipy.stats._distn_infrastructure.rv_frozen at 0x185f0f6a080>"
      ]
     },
     "execution_count": 7,
     "metadata": {},
     "output_type": "execute_result"
    }
   ],
   "source": [
    "from scipy.stats import randint\n",
    "\n",
    "randint(low=1, high=10)"
   ]
  },
  {
   "cell_type": "code",
   "execution_count": 11,
   "id": "f855a005-256b-442f-b3cb-49e79e20c8a8",
   "metadata": {},
   "outputs": [
    {
     "name": "stdout",
     "output_type": "stream",
     "text": [
      "[1 9 8 9 9]\n"
     ]
    }
   ],
   "source": [
    "print(np.random.randint(0, 10, 5))"
   ]
  },
  {
   "cell_type": "code",
   "execution_count": null,
   "id": "8b5b502e-770b-4d4b-82bb-5caf4a08efaa",
   "metadata": {},
   "outputs": [],
   "source": []
  }
 ],
 "metadata": {
  "kernelspec": {
   "display_name": "Python 3 (ipykernel)",
   "language": "python",
   "name": "python3"
  },
  "language_info": {
   "codemirror_mode": {
    "name": "ipython",
    "version": 3
   },
   "file_extension": ".py",
   "mimetype": "text/x-python",
   "name": "python",
   "nbconvert_exporter": "python",
   "pygments_lexer": "ipython3",
   "version": "3.7.0"
  }
 },
 "nbformat": 4,
 "nbformat_minor": 5
}
