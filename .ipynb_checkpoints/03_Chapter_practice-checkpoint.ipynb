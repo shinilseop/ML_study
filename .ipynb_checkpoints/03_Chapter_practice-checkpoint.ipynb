{
 "cells": [
  {
   "cell_type": "markdown",
   "id": "c3c5ac71-cb36-42df-836e-50fa636ed552",
   "metadata": {
    "tags": []
   },
   "source": [
    "# 1. MNIST 데이터셋을 97% 이상의 정확도로 구분해내기 (kNeighborsClassifier 사용 추천)"
   ]
  },
  {
   "cell_type": "markdown",
   "id": "f966ec39-d9e5-432d-a82b-6c171c7711b5",
   "metadata": {
    "tags": []
   },
   "source": [
    "### 데이터셋 다운 및 준비"
   ]
  },
  {
   "cell_type": "code",
   "execution_count": 1,
   "id": "cec95f8b-9d2d-4f99-b1c2-f040eee03ab2",
   "metadata": {},
   "outputs": [
    {
     "data": {
      "text/plain": [
       "dict_keys(['data', 'target', 'frame', 'categories', 'feature_names', 'target_names', 'DESCR', 'details', 'url'])"
      ]
     },
     "execution_count": 1,
     "metadata": {},
     "output_type": "execute_result"
    }
   ],
   "source": [
    "import pandas as pd\n",
    "import numpy as np\n",
    "\n",
    "from sklearn.datasets import fetch_openml\n",
    "\n",
    "mnist = fetch_openml('mnist_784', version=1)\n",
    "mnist.keys()"
   ]
  },
  {
   "cell_type": "code",
   "execution_count": 2,
   "id": "71923949-4af4-4934-a7f6-56e2a5e9285d",
   "metadata": {},
   "outputs": [
    {
     "data": {
      "text/plain": [
       "((70000, 784), (70000,))"
      ]
     },
     "execution_count": 2,
     "metadata": {},
     "output_type": "execute_result"
    }
   ],
   "source": [
    "X, y = mnist['data'], mnist['target']\n",
    "print(X.shape, y.shape)\n",
    "\n",
    "X_train = X[:60000]\n",
    "y_train = y[:60000]\n",
    "X_test = X[60000:]\n",
    "y_test = y[60000:]"
   ]
  },
  {
   "cell_type": "markdown",
   "id": "41ed47af-4c0a-4556-bf52-eceb2a61aaf7",
   "metadata": {},
   "source": [
    "### 그리드 파라메터 제작 및 학습"
   ]
  },
  {
   "cell_type": "code",
   "execution_count": 6,
   "id": "e313ef37-deea-4cd8-8fe0-54ac7161322a",
   "metadata": {},
   "outputs": [
    {
     "name": "stdout",
     "output_type": "stream",
     "text": [
      "Fitting 5 folds for each of 20 candidates, totalling 100 fits\n",
      "[CV 1/5] END ....n_neighbors=1, weights=uniform;, score=0.970 total time=  15.1s\n",
      "[CV 2/5] END ....n_neighbors=1, weights=uniform;, score=0.971 total time=  14.0s\n",
      "[CV 3/5] END ....n_neighbors=1, weights=uniform;, score=0.969 total time=  14.0s\n",
      "[CV 4/5] END ....n_neighbors=1, weights=uniform;, score=0.969 total time=  14.2s\n",
      "[CV 5/5] END ....n_neighbors=1, weights=uniform;, score=0.968 total time=  14.0s\n",
      "[CV 1/5] END ...n_neighbors=1, weights=distance;, score=0.970 total time=  13.8s\n",
      "[CV 2/5] END ...n_neighbors=1, weights=distance;, score=0.971 total time=  13.6s\n",
      "[CV 3/5] END ...n_neighbors=1, weights=distance;, score=0.969 total time=  13.8s\n",
      "[CV 4/5] END ...n_neighbors=1, weights=distance;, score=0.969 total time=  13.7s\n",
      "[CV 5/5] END ...n_neighbors=1, weights=distance;, score=0.968 total time=  13.8s\n",
      "[CV 1/5] END ....n_neighbors=2, weights=uniform;, score=0.964 total time=  14.6s\n",
      "[CV 2/5] END ....n_neighbors=2, weights=uniform;, score=0.963 total time=  14.6s\n",
      "[CV 3/5] END ....n_neighbors=2, weights=uniform;, score=0.962 total time=  14.9s\n",
      "[CV 4/5] END ....n_neighbors=2, weights=uniform;, score=0.963 total time=  14.4s\n",
      "[CV 5/5] END ....n_neighbors=2, weights=uniform;, score=0.964 total time=  14.9s\n",
      "[CV 1/5] END ...n_neighbors=2, weights=distance;, score=0.970 total time=  14.4s\n",
      "[CV 2/5] END ...n_neighbors=2, weights=distance;, score=0.971 total time=  14.1s\n",
      "[CV 3/5] END ...n_neighbors=2, weights=distance;, score=0.969 total time=  14.2s\n",
      "[CV 4/5] END ...n_neighbors=2, weights=distance;, score=0.969 total time=  14.5s\n",
      "[CV 5/5] END ...n_neighbors=2, weights=distance;, score=0.968 total time=  14.7s\n",
      "[CV 1/5] END ....n_neighbors=3, weights=uniform;, score=0.972 total time=  15.6s\n",
      "[CV 2/5] END ....n_neighbors=3, weights=uniform;, score=0.971 total time=  17.0s\n",
      "[CV 3/5] END ....n_neighbors=3, weights=uniform;, score=0.969 total time=  15.2s\n",
      "[CV 4/5] END ....n_neighbors=3, weights=uniform;, score=0.969 total time=  15.5s\n",
      "[CV 5/5] END ....n_neighbors=3, weights=uniform;, score=0.970 total time=  15.3s\n",
      "[CV 1/5] END ...n_neighbors=3, weights=distance;, score=0.972 total time=  14.8s\n",
      "[CV 2/5] END ...n_neighbors=3, weights=distance;, score=0.972 total time=  15.0s\n",
      "[CV 3/5] END ...n_neighbors=3, weights=distance;, score=0.970 total time=  15.3s\n",
      "[CV 4/5] END ...n_neighbors=3, weights=distance;, score=0.970 total time=  14.7s\n",
      "[CV 5/5] END ...n_neighbors=3, weights=distance;, score=0.971 total time=  16.2s\n",
      "[CV 1/5] END ....n_neighbors=4, weights=uniform;, score=0.969 total time=  18.6s\n",
      "[CV 2/5] END ....n_neighbors=4, weights=uniform;, score=0.968 total time=  17.6s\n",
      "[CV 3/5] END ....n_neighbors=4, weights=uniform;, score=0.968 total time=  18.3s\n",
      "[CV 4/5] END ....n_neighbors=4, weights=uniform;, score=0.967 total time=  18.5s\n",
      "[CV 5/5] END ....n_neighbors=4, weights=uniform;, score=0.970 total time=  19.0s\n",
      "[CV 1/5] END ...n_neighbors=4, weights=distance;, score=0.973 total time=  18.4s\n",
      "[CV 2/5] END ...n_neighbors=4, weights=distance;, score=0.972 total time=  18.0s\n",
      "[CV 3/5] END ...n_neighbors=4, weights=distance;, score=0.970 total time=  17.5s\n",
      "[CV 4/5] END ...n_neighbors=4, weights=distance;, score=0.971 total time=  17.7s\n",
      "[CV 5/5] END ...n_neighbors=4, weights=distance;, score=0.972 total time=  18.2s\n",
      "[CV 1/5] END ....n_neighbors=5, weights=uniform;, score=0.970 total time=  17.3s\n",
      "[CV 2/5] END ....n_neighbors=5, weights=uniform;, score=0.970 total time=  18.6s\n",
      "[CV 3/5] END ....n_neighbors=5, weights=uniform;, score=0.969 total time=  17.8s\n",
      "[CV 4/5] END ....n_neighbors=5, weights=uniform;, score=0.968 total time=  19.0s\n",
      "[CV 5/5] END ....n_neighbors=5, weights=uniform;, score=0.969 total time=  18.8s\n",
      "[CV 1/5] END ...n_neighbors=5, weights=distance;, score=0.970 total time=  19.3s\n",
      "[CV 2/5] END ...n_neighbors=5, weights=distance;, score=0.971 total time=  19.9s\n",
      "[CV 3/5] END ...n_neighbors=5, weights=distance;, score=0.970 total time=  18.1s\n",
      "[CV 4/5] END ...n_neighbors=5, weights=distance;, score=0.969 total time=  18.8s\n",
      "[CV 5/5] END ...n_neighbors=5, weights=distance;, score=0.971 total time=  18.1s\n",
      "[CV 1/5] END ....n_neighbors=6, weights=uniform;, score=0.968 total time=  18.2s\n",
      "[CV 2/5] END ....n_neighbors=6, weights=uniform;, score=0.969 total time=  18.2s\n",
      "[CV 3/5] END ....n_neighbors=6, weights=uniform;, score=0.968 total time=  17.7s\n",
      "[CV 4/5] END ....n_neighbors=6, weights=uniform;, score=0.967 total time=  20.2s\n",
      "[CV 5/5] END ....n_neighbors=6, weights=uniform;, score=0.969 total time=  21.0s\n",
      "[CV 1/5] END ...n_neighbors=6, weights=distance;, score=0.972 total time=  19.6s\n",
      "[CV 2/5] END ...n_neighbors=6, weights=distance;, score=0.972 total time=  19.3s\n",
      "[CV 3/5] END ...n_neighbors=6, weights=distance;, score=0.970 total time=  17.2s\n",
      "[CV 4/5] END ...n_neighbors=6, weights=distance;, score=0.970 total time=  18.1s\n",
      "[CV 5/5] END ...n_neighbors=6, weights=distance;, score=0.972 total time=  18.8s\n",
      "[CV 1/5] END ....n_neighbors=7, weights=uniform;, score=0.968 total time=  17.6s\n",
      "[CV 2/5] END ....n_neighbors=7, weights=uniform;, score=0.970 total time=  17.9s\n",
      "[CV 3/5] END ....n_neighbors=7, weights=uniform;, score=0.966 total time=  17.4s\n",
      "[CV 4/5] END ....n_neighbors=7, weights=uniform;, score=0.967 total time=  18.6s\n",
      "[CV 5/5] END ....n_neighbors=7, weights=uniform;, score=0.968 total time=  17.8s\n",
      "[CV 1/5] END ...n_neighbors=7, weights=distance;, score=0.969 total time=  17.9s\n",
      "[CV 2/5] END ...n_neighbors=7, weights=distance;, score=0.970 total time=  17.9s\n",
      "[CV 3/5] END ...n_neighbors=7, weights=distance;, score=0.967 total time=  19.7s\n",
      "[CV 4/5] END ...n_neighbors=7, weights=distance;, score=0.969 total time=  18.5s\n",
      "[CV 5/5] END ...n_neighbors=7, weights=distance;, score=0.969 total time=  18.2s\n",
      "[CV 1/5] END ....n_neighbors=8, weights=uniform;, score=0.966 total time=  18.6s\n",
      "[CV 2/5] END ....n_neighbors=8, weights=uniform;, score=0.967 total time=  17.4s\n",
      "[CV 3/5] END ....n_neighbors=8, weights=uniform;, score=0.965 total time=  18.4s\n",
      "[CV 4/5] END ....n_neighbors=8, weights=uniform;, score=0.965 total time=  19.5s\n",
      "[CV 5/5] END ....n_neighbors=8, weights=uniform;, score=0.968 total time=  17.8s\n",
      "[CV 1/5] END ...n_neighbors=8, weights=distance;, score=0.969 total time=  18.6s\n",
      "[CV 2/5] END ...n_neighbors=8, weights=distance;, score=0.970 total time=  20.2s\n",
      "[CV 3/5] END ...n_neighbors=8, weights=distance;, score=0.967 total time=  19.7s\n",
      "[CV 4/5] END ...n_neighbors=8, weights=distance;, score=0.968 total time=  17.6s\n",
      "[CV 5/5] END ...n_neighbors=8, weights=distance;, score=0.971 total time=  18.5s\n",
      "[CV 1/5] END ....n_neighbors=9, weights=uniform;, score=0.965 total time=  17.4s\n",
      "[CV 2/5] END ....n_neighbors=9, weights=uniform;, score=0.968 total time=  19.0s\n",
      "[CV 3/5] END ....n_neighbors=9, weights=uniform;, score=0.965 total time=  17.5s\n",
      "[CV 4/5] END ....n_neighbors=9, weights=uniform;, score=0.965 total time=  18.8s\n",
      "[CV 5/5] END ....n_neighbors=9, weights=uniform;, score=0.968 total time=  20.2s\n",
      "[CV 1/5] END ...n_neighbors=9, weights=distance;, score=0.967 total time=  17.3s\n",
      "[CV 2/5] END ...n_neighbors=9, weights=distance;, score=0.968 total time=  18.3s\n",
      "[CV 3/5] END ...n_neighbors=9, weights=distance;, score=0.966 total time=  18.0s\n",
      "[CV 4/5] END ...n_neighbors=9, weights=distance;, score=0.966 total time=  18.3s\n",
      "[CV 5/5] END ...n_neighbors=9, weights=distance;, score=0.970 total time=  18.9s\n",
      "[CV 1/5] END ...n_neighbors=10, weights=uniform;, score=0.965 total time=  18.6s\n",
      "[CV 2/5] END ...n_neighbors=10, weights=uniform;, score=0.966 total time=  19.1s\n",
      "[CV 3/5] END ...n_neighbors=10, weights=uniform;, score=0.963 total time=  18.3s\n",
      "[CV 4/5] END ...n_neighbors=10, weights=uniform;, score=0.964 total time=  19.2s\n",
      "[CV 5/5] END ...n_neighbors=10, weights=uniform;, score=0.967 total time=  20.3s\n",
      "[CV 1/5] END ..n_neighbors=10, weights=distance;, score=0.967 total time=  17.9s\n",
      "[CV 2/5] END ..n_neighbors=10, weights=distance;, score=0.969 total time=  17.3s\n",
      "[CV 3/5] END ..n_neighbors=10, weights=distance;, score=0.966 total time=  17.1s\n",
      "[CV 4/5] END ..n_neighbors=10, weights=distance;, score=0.965 total time=  17.3s\n",
      "[CV 5/5] END ..n_neighbors=10, weights=distance;, score=0.969 total time=  17.6s\n"
     ]
    },
    {
     "data": {
      "text/plain": [
       "GridSearchCV(cv=5, estimator=KNeighborsClassifier(),\n",
       "             param_grid={'n_neighbors': array([ 1,  2,  3,  4,  5,  6,  7,  8,  9, 10]),\n",
       "                         'weights': ['uniform', 'distance']},\n",
       "             scoring='accuracy', verbose=3)"
      ]
     },
     "execution_count": 6,
     "metadata": {},
     "output_type": "execute_result"
    }
   ],
   "source": [
    "from sklearn.neighbors import KNeighborsClassifier\n",
    "from sklearn.model_selection import GridSearchCV\n",
    "from sklearn.model_selection import train_test_split\n",
    "\n",
    "\n",
    "grid_params = {\n",
    "    'n_neighbors':np.arange(1, 11, 1),\n",
    "    'weights':['uniform', 'distance'],\n",
    "    # 'metric':['minkowski', 'euclidean', 'mahalannobis'],\n",
    "}\n",
    "\n",
    "knn_clf = KNeighborsClassifier()\n",
    "grid_search = GridSearchCV(knn_clf, grid_params, cv=5, verbose=3, scoring =\"accuracy\")\n",
    "grid_search.fit(X_train, y_train)"
   ]
  },
  {
   "cell_type": "code",
   "execution_count": 8,
   "id": "5fe42b60-9670-490b-9faa-1f5a6e7c2d7c",
   "metadata": {},
   "outputs": [
    {
     "data": {
      "text/plain": [
       "(0.9716166666666666, {'n_neighbors': 4, 'weights': 'distance'})"
      ]
     },
     "execution_count": 8,
     "metadata": {},
     "output_type": "execute_result"
    }
   ],
   "source": [
    "grid_search.best_score_, grid_search.best_params_"
   ]
  },
  {
   "cell_type": "code",
   "execution_count": 9,
   "id": "03e97462-afd7-4b17-8375-df9bfd417f90",
   "metadata": {},
   "outputs": [
    {
     "data": {
      "text/plain": [
       "0.9714"
      ]
     },
     "execution_count": 9,
     "metadata": {},
     "output_type": "execute_result"
    }
   ],
   "source": [
    "from sklearn.metrics import accuracy_score\n",
    "\n",
    "y_pred = grid_search.predict(X_test)\n",
    "accuracy_score(y_test, y_pred)"
   ]
  },
  {
   "cell_type": "markdown",
   "id": "15c8f182-8a05-4c8f-b313-b2fb5cee4cba",
   "metadata": {},
   "source": [
    "# 2. MNIST 이미지 데이테셋을 상하좌우로 1픽셀씩 이동하여 데이터 증폭시키고 위에서 찾은 모델로 훈련해보기"
   ]
  },
  {
   "cell_type": "code",
   "execution_count": 111,
   "id": "36aaa126-5acb-4fa9-b186-8b28d64c3d61",
   "metadata": {},
   "outputs": [],
   "source": [
    "from datetime import datetime\n",
    "\n",
    "def make_move_pixel_dataset(X, moving):\n",
    "    X_result = X.copy().reshape(len(X), 28, 28)\n",
    "    x_move = [moving, 0, -moving, 0]\n",
    "    y_move = [0, moving, 0, -moving]\n",
    "    \n",
    "    for move_idx in range(len(x_move)):\n",
    "        X_reshape = X.copy().reshape(len(X), 28, 28)\n",
    "        # print(X_reshape.shape)\n",
    "        for i, _X in enumerate(X_reshape):\n",
    "            # print(_X.shape, len(_X), len(_X[0]))\n",
    "            for _X_y in range(len(_X)):\n",
    "                for _X_x in range(len(_X[0])):\n",
    "                    y_pos = _X_y+y_move[move_idx]\n",
    "                    x_pos = _X_x+x_move[move_idx]\n",
    "                    # print(_X_y, _X_x,'->', y_pos, x_pos)\n",
    "                    # print((y_pos < 0) , (x_pos < 0) , (y_pos >= len(_X)) , (x_pos >= len(_X[0])))\n",
    "                    if (y_pos < 0) | (x_pos < 0) | (y_pos >= len(_X)) | (x_pos >= len(_X[0])):\n",
    "                        continue\n",
    "                    else:\n",
    "                        X_reshape[i][y_pos][x_pos] = X_result[i][_X_y][_X_x]\n",
    "            \n",
    "            if x_move[move_idx] > 0:\n",
    "                X_reshape[i,:,:x_move[move_idx]]=0\n",
    "            if y_move[move_idx] > 0:\n",
    "                X_reshape[i,:y_move[move_idx]]=0\n",
    "            if x_move[move_idx] < 0:\n",
    "                X_reshape[i,:,x_move[move_idx]:]=0\n",
    "            if y_move[move_idx] < 0:\n",
    "                X_reshape[i,y_move[move_idx]:]=0\n",
    "        \n",
    "        X_result = np.concatenate([X_result, X_reshape], axis=0)\n",
    "        print(datetime.now(), X_result.shape)\n",
    "        # if move_idx == 1:\n",
    "        #     break\n",
    "    \n",
    "    return X_result"
   ]
  },
  {
   "cell_type": "code",
   "execution_count": null,
   "id": "fb70d376-3298-42f5-92c2-49ead79fbfa2",
   "metadata": {
    "scrolled": true,
    "tags": []
   },
   "outputs": [
    {
     "name": "stdout",
     "output_type": "stream",
     "text": [
      "start\t\t 2022-01-16 19:15:16.986884\n",
      "2022-01-16 19:16:00.885626 (120000, 28, 28)\n",
      "2022-01-16 19:16:45.951925 (180000, 28, 28)\n",
      "2022-01-16 19:17:30.750798 (240000, 28, 28)\n",
      "2022-01-16 19:18:18.892067 (300000, 28, 28)\n",
      "end\t\t 2022-01-16 19:18:19.115056\n"
     ]
    }
   ],
   "source": [
    "print('start\\t\\t', datetime.now())\n",
    "test_X = make_move_pixel_dataset(X_train.values, 5)\n",
    "print('end\\t\\t',datetime.now())"
   ]
  },
  {
   "cell_type": "code",
   "execution_count": 112,
   "id": "ac2732d0-46fc-4ae0-ad47-1b66cc79ed71",
   "metadata": {
    "tags": []
   },
   "outputs": [
    {
     "data": {
      "text/plain": [
       "(300000, 28, 28)"
      ]
     },
     "execution_count": 112,
     "metadata": {},
     "output_type": "execute_result"
    }
   ],
   "source": [
    "test_X.shape"
   ]
  },
  {
   "cell_type": "code",
   "execution_count": 113,
   "id": "7988ee6d-5887-4ea0-8d53-21327346d476",
   "metadata": {},
   "outputs": [
    {
     "data": {
      "image/png": "[encoded data removed]",
      "text/plain": [
       "<Figure size 1440x720 with 5 Axes>"
      ]
     },
     "metadata": {
      "needs_background": "light"
     },
     "output_type": "display_data"
    }
   ],
   "source": [
    "%matplotlib inline\n",
    "import matplotlib.pyplot as plt\n",
    "\n",
    "plt.figure(figsize=(20, 10))\n",
    "plt.subplot(151)\n",
    "plt.title('Original Number', fontsize=14)\n",
    "plt.imshow(test_X[10], interpolation='nearest', cmap='Greys')\n",
    "plt.subplot(152)\n",
    "plt.title('Shift Right Number', fontsize=14)\n",
    "plt.imshow(test_X[10+len(X_train)], interpolation='nearest', cmap='Greys')\n",
    "plt.subplot(153)\n",
    "plt.title('Shift Down Number', fontsize=14)\n",
    "plt.imshow(test_X[10+(len(X_train)*2)], interpolation='nearest', cmap='Greys')\n",
    "plt.subplot(154)\n",
    "plt.title('Shift Left Number', fontsize=14)\n",
    "plt.imshow(test_X[10+(len(X_train)*3)], interpolation='nearest', cmap='Greys')\n",
    "plt.subplot(155)\n",
    "plt.title('Shift Up Number', fontsize=14)\n",
    "plt.imshow(test_X[10+(len(X_train)*4)], interpolation='nearest', cmap='Greys')\n",
    "plt.show()"
   ]
  },
  {
   "cell_type": "code",
   "execution_count": 119,
   "id": "faf43da8-cb2c-43b3-abcd-333bae03f972",
   "metadata": {},
   "outputs": [
    {
     "name": "stdout",
     "output_type": "stream",
     "text": [
      "(300000, 784) (300000,)\n"
     ]
    },
    {
     "data": {
      "text/plain": [
       "KNeighborsClassifier(n_neighbors=4, weights='distance')"
      ]
     },
     "execution_count": 119,
     "metadata": {},
     "output_type": "execute_result"
    }
   ],
   "source": [
    "X_train_enlarge = test_X.reshape(len(test_X), 28*28)\n",
    "y_train_enlarge = np.concatenate([y_train,y_train,y_train,y_train,y_train], axis=0)\n",
    "print(X_train_enlarge.shape, y_train_enlarge.shape)\n",
    "knn_clf = KNeighborsClassifier(**grid_search.best_params_)\n",
    "knn_clf.fit(X_train_enlarge, y_train_enlarge)"
   ]
  },
  {
   "cell_type": "code",
   "execution_count": 121,
   "id": "fb592736-ec0a-4e80-b163-6bd5744e7c91",
   "metadata": {},
   "outputs": [
    {
     "name": "stderr",
     "output_type": "stream",
     "text": [
      "D:\\anaconda3\\envs\\ml_study\\lib\\site-packages\\sklearn\\base.py:444: UserWarning: X has feature names, but KNeighborsClassifier was fitted without feature names\n",
      "  f\"X has feature names, but {self.__class__.__name__} was fitted without\"\n"
     ]
    },
    {
     "data": {
      "text/plain": [
       "0.9708"
      ]
     },
     "execution_count": 121,
     "metadata": {},
     "output_type": "execute_result"
    }
   ],
   "source": [
    "y_pred_enlarge = knn_clf.predict(X_test)\n",
    "accuracy_score(y_test, y_pred_enlarge)"
   ]
  },
  {
   "cell_type": "code",
   "execution_count": 115,
   "id": "7212fc39-4848-4fbc-9b92-83259419bf93",
   "metadata": {},
   "outputs": [
    {
     "name": "stdout",
     "output_type": "stream",
     "text": [
      "start\t\t 2022-01-16 19:20:04.014626\n",
      "end\t\t 2022-01-16 19:20:37.426633\n"
     ]
    },
    {
     "name": "stderr",
     "output_type": "stream",
     "text": [
      "D:\\anaconda3\\envs\\ml_study\\lib\\site-packages\\ipykernel_launcher.py:18: VisibleDeprecationWarning: Creating an ndarray from ragged nested sequences (which is a list-or-tuple of lists-or-tuples-or ndarrays with different lengths or shapes) is deprecated. If you meant to do this, you must specify 'dtype=object' when creating the ndarray.\n"
     ]
    }
   ],
   "source": [
    "# 본문에서 제시한 방법 (속도가 엄청 빠름...)\n",
    "from scipy.ndimage.interpolation import shift\n",
    "\n",
    "def shift_image(image, dx, dy):\n",
    "    image = image.reshape((28, 28))\n",
    "    shifted_image = shift(image, [dy, dx], cval=0, mode=\"constant\")\n",
    "    return shifted_image.reshape([-1])\n",
    "\n",
    "print('start\\t\\t', datetime.now())\n",
    "X_train_augmented = [image for image in X_train]\n",
    "y_train_augmented = [label for label in y_train]\n",
    "\n",
    "for dx, dy in ((1, 0), (-1, 0), (0, 1), (0, -1)):\n",
    "    for image, label in zip(X_train.values, y_train.values):\n",
    "        X_train_augmented.append(shift_image(image, dx, dy))\n",
    "        y_train_augmented.append(label)\n",
    "\n",
    "X_train_augmented = np.array(X_train_augmented)\n",
    "y_train_augmented = np.array(y_train_augmented)\n",
    "print('end\\t\\t', datetime.now())"
   ]
  },
  {
   "cell_type": "markdown",
   "id": "db14bc69-787e-4200-9f6c-53f66376bbe9",
   "metadata": {},
   "source": [
    "# 3. 타이타닉 생존자 예측하기"
   ]
  },
  {
   "cell_type": "markdown",
   "id": "924399cd-c0d0-4c10-b178-de1ba28ec1b9",
   "metadata": {},
   "source": [
    "### 데이터셋 다운 및 준비"
   ]
  },
  {
   "cell_type": "code",
   "execution_count": 124,
   "id": "874761f4-b07d-45fa-bb30-49d28dab7347",
   "metadata": {},
   "outputs": [
    {
     "name": "stdout",
     "output_type": "stream",
     "text": [
      "Downloading train.csv\n",
      "Downloading test.csv\n"
     ]
    }
   ],
   "source": [
    "import os\n",
    "import urllib.request\n",
    "\n",
    "TITANIC_PATH = os.path.join(\"datasets\", \"titanic\")\n",
    "DOWNLOAD_URL = \"https://raw.githubusercontent.com/rickiepark/handson-ml2/master/datasets/titanic/\"\n",
    "\n",
    "def fetch_titanic_data(url=DOWNLOAD_URL, path=TITANIC_PATH):\n",
    "    if not os.path.isdir(path):\n",
    "        os.makedirs(path)\n",
    "    for filename in (\"train.csv\", \"test.csv\"):\n",
    "        filepath = os.path.join(path, filename)\n",
    "        if not os.path.isfile(filepath):\n",
    "            print(\"Downloading\", filename)\n",
    "            urllib.request.urlretrieve(url + filename, filepath)\n",
    "\n",
    "fetch_titanic_data()"
   ]
  },
  {
   "cell_type": "code",
   "execution_count": 126,
   "id": "6731c301-526a-439d-b23d-4c72251affa2",
   "metadata": {},
   "outputs": [],
   "source": [
    "import pandas as pd\n",
    "\n",
    "def load_titanic_data(filename, titanic_path):\n",
    "    csv_path = os.path.join(titanic_path, filename)\n",
    "    return pd.read_csv(csv_path)\n",
    "\n",
    "train_data = load_titanic_data('train.csv', TITANIC_PATH)\n",
    "test_data = load_titanic_data('test.csv', TITANIC_PATH)"
   ]
  },
  {
   "cell_type": "code",
   "execution_count": 129,
   "id": "153b97eb-86e7-4711-baac-4f57df43a93d",
   "metadata": {},
   "outputs": [
    {
     "data": {
      "text/html": [
       "<div>\n",
       "<style scoped>\n",
       "    .dataframe tbody tr th:only-of-type {\n",
       "        vertical-align: middle;\n",
       "    }\n",
       "\n",
       "    .dataframe tbody tr th {\n",
       "        vertical-align: top;\n",
       "    }\n",
       "\n",
       "    .dataframe thead th {\n",
       "        text-align: right;\n",
       "    }\n",
       "</style>\n",
       "<table border=\"1\" class=\"dataframe\">\n",
       "  <thead>\n",
       "    <tr style=\"text-align: right;\">\n",
       "      <th></th>\n",
       "      <th>PassengerId</th>\n",
       "      <th>Survived</th>\n",
       "      <th>Pclass</th>\n",
       "      <th>Name</th>\n",
       "      <th>Sex</th>\n",
       "      <th>Age</th>\n",
       "      <th>SibSp</th>\n",
       "      <th>Parch</th>\n",
       "      <th>Ticket</th>\n",
       "      <th>Fare</th>\n",
       "      <th>Cabin</th>\n",
       "      <th>Embarked</th>\n",
       "    </tr>\n",
       "  </thead>\n",
       "  <tbody>\n",
       "    <tr>\n",
       "      <th>0</th>\n",
       "      <td>1</td>\n",
       "      <td>0</td>\n",
       "      <td>3</td>\n",
       "      <td>Braund, Mr. Owen Harris</td>\n",
       "      <td>male</td>\n",
       "      <td>22.0</td>\n",
       "      <td>1</td>\n",
       "      <td>0</td>\n",
       "      <td>A/5 21171</td>\n",
       "      <td>7.2500</td>\n",
       "      <td>NaN</td>\n",
       "      <td>S</td>\n",
       "    </tr>\n",
       "    <tr>\n",
       "      <th>1</th>\n",
       "      <td>2</td>\n",
       "      <td>1</td>\n",
       "      <td>1</td>\n",
       "      <td>Cumings, Mrs. John Bradley (Florence Briggs Th...</td>\n",
       "      <td>female</td>\n",
       "      <td>38.0</td>\n",
       "      <td>1</td>\n",
       "      <td>0</td>\n",
       "      <td>PC 17599</td>\n",
       "      <td>71.2833</td>\n",
       "      <td>C85</td>\n",
       "      <td>C</td>\n",
       "    </tr>\n",
       "    <tr>\n",
       "      <th>2</th>\n",
       "      <td>3</td>\n",
       "      <td>1</td>\n",
       "      <td>3</td>\n",
       "      <td>Heikkinen, Miss. Laina</td>\n",
       "      <td>female</td>\n",
       "      <td>26.0</td>\n",
       "      <td>0</td>\n",
       "      <td>0</td>\n",
       "      <td>STON/O2. 3101282</td>\n",
       "      <td>7.9250</td>\n",
       "      <td>NaN</td>\n",
       "      <td>S</td>\n",
       "    </tr>\n",
       "    <tr>\n",
       "      <th>3</th>\n",
       "      <td>4</td>\n",
       "      <td>1</td>\n",
       "      <td>1</td>\n",
       "      <td>Futrelle, Mrs. Jacques Heath (Lily May Peel)</td>\n",
       "      <td>female</td>\n",
       "      <td>35.0</td>\n",
       "      <td>1</td>\n",
       "      <td>0</td>\n",
       "      <td>113803</td>\n",
       "      <td>53.1000</td>\n",
       "      <td>C123</td>\n",
       "      <td>S</td>\n",
       "    </tr>\n",
       "    <tr>\n",
       "      <th>4</th>\n",
       "      <td>5</td>\n",
       "      <td>0</td>\n",
       "      <td>3</td>\n",
       "      <td>Allen, Mr. William Henry</td>\n",
       "      <td>male</td>\n",
       "      <td>35.0</td>\n",
       "      <td>0</td>\n",
       "      <td>0</td>\n",
       "      <td>373450</td>\n",
       "      <td>8.0500</td>\n",
       "      <td>NaN</td>\n",
       "      <td>S</td>\n",
       "    </tr>\n",
       "  </tbody>\n",
       "</table>\n",
       "</div>"
      ],
      "text/plain": [
       "   PassengerId  Survived  Pclass  \\\n",
       "0            1         0       3   \n",
       "1            2         1       1   \n",
       "2            3         1       3   \n",
       "3            4         1       1   \n",
       "4            5         0       3   \n",
       "\n",
       "                                                Name     Sex   Age  SibSp  \\\n",
       "0                            Braund, Mr. Owen Harris    male  22.0      1   \n",
       "1  Cumings, Mrs. John Bradley (Florence Briggs Th...  female  38.0      1   \n",
       "2                             Heikkinen, Miss. Laina  female  26.0      0   \n",
       "3       Futrelle, Mrs. Jacques Heath (Lily May Peel)  female  35.0      1   \n",
       "4                           Allen, Mr. William Henry    male  35.0      0   \n",
       "\n",
       "   Parch            Ticket     Fare Cabin Embarked  \n",
       "0      0         A/5 21171   7.2500   NaN        S  \n",
       "1      0          PC 17599  71.2833   C85        C  \n",
       "2      0  STON/O2. 3101282   7.9250   NaN        S  \n",
       "3      0            113803  53.1000  C123        S  \n",
       "4      0            373450   8.0500   NaN        S  "
      ]
     },
     "execution_count": 129,
     "metadata": {},
     "output_type": "execute_result"
    }
   ],
   "source": [
    "train_data.head()"
   ]
  },
  {
   "cell_type": "code",
   "execution_count": null,
   "id": "77d43871-6dcc-4fde-a7f1-1ae5e5bc3ccc",
   "metadata": {},
   "outputs": [],
   "source": []
  }
 ],
 "metadata": {
  "kernelspec": {
   "display_name": "Python 3 (ipykernel)",
   "language": "python",
   "name": "python3"
  },
  "language_info": {
   "codemirror_mode": {
    "name": "ipython",
    "version": 3
   },
   "file_extension": ".py",
   "mimetype": "text/x-python",
   "name": "python",
   "nbconvert_exporter": "python",
   "pygments_lexer": "ipython3",
   "version": "3.7.0"
  }
 },
 "nbformat": 4,
 "nbformat_minor": 5
}
