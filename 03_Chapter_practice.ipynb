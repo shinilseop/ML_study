{
 "cells": [
  {
   "cell_type": "markdown",
   "id": "c3c5ac71-cb36-42df-836e-50fa636ed552",
   "metadata": {
    "tags": []
   },
   "source": [
    "# 1. MNIST 데이터셋을 97% 이상의 정확도로 구분해내기 (kNeighborsClassifier 사용 추천)"
   ]
  },
  {
   "cell_type": "markdown",
   "id": "f966ec39-d9e5-432d-a82b-6c171c7711b5",
   "metadata": {
    "tags": []
   },
   "source": [
    "### 데이터셋 다운 및 준비"
   ]
  },
  {
   "cell_type": "code",
   "execution_count": 1,
   "id": "cec95f8b-9d2d-4f99-b1c2-f040eee03ab2",
   "metadata": {},
   "outputs": [
    {
     "data": {
      "text/plain": [
       "dict_keys(['data', 'target', 'frame', 'categories', 'feature_names', 'target_names', 'DESCR', 'details', 'url'])"
      ]
     },
     "execution_count": 1,
     "metadata": {},
     "output_type": "execute_result"
    }
   ],
   "source": [
    "import pandas as pd\n",
    "import numpy as np\n",
    "\n",
    "from sklearn.datasets import fetch_openml\n",
    "\n",
    "mnist = fetch_openml('mnist_784', version=1)\n",
    "mnist.keys()"
   ]
  },
  {
   "cell_type": "code",
   "execution_count": 2,
   "id": "71923949-4af4-4934-a7f6-56e2a5e9285d",
   "metadata": {},
   "outputs": [
    {
     "data": {
      "text/plain": [
       "((70000, 784), (70000,))"
      ]
     },
     "execution_count": 2,
     "metadata": {},
     "output_type": "execute_result"
    }
   ],
   "source": [
    "X, y = mnist['data'], mnist['target']\n",
    "print(X.shape, y.shape)\n",
    "\n",
    "X_train = X[:60000]\n",
    "y_train = y[:60000]\n",
    "X_test = X[60000:]\n",
    "y_test = y[60000:]"
   ]
  },
  {
   "cell_type": "markdown",
   "id": "41ed47af-4c0a-4556-bf52-eceb2a61aaf7",
   "metadata": {},
   "source": [
    "### 그리드 파라메터 제작 및 학습"
   ]
  },
  {
   "cell_type": "code",
   "execution_count": 6,
   "id": "e313ef37-deea-4cd8-8fe0-54ac7161322a",
   "metadata": {},
   "outputs": [
    {
     "name": "stdout",
     "output_type": "stream",
     "text": [
      "Fitting 5 folds for each of 20 candidates, totalling 100 fits\n",
      "[CV 1/5] END ....n_neighbors=1, weights=uniform;, score=0.970 total time=  15.1s\n",
      "[CV 2/5] END ....n_neighbors=1, weights=uniform;, score=0.971 total time=  14.0s\n",
      "[CV 3/5] END ....n_neighbors=1, weights=uniform;, score=0.969 total time=  14.0s\n",
      "[CV 4/5] END ....n_neighbors=1, weights=uniform;, score=0.969 total time=  14.2s\n",
      "[CV 5/5] END ....n_neighbors=1, weights=uniform;, score=0.968 total time=  14.0s\n",
      "[CV 1/5] END ...n_neighbors=1, weights=distance;, score=0.970 total time=  13.8s\n",
      "[CV 2/5] END ...n_neighbors=1, weights=distance;, score=0.971 total time=  13.6s\n",
      "[CV 3/5] END ...n_neighbors=1, weights=distance;, score=0.969 total time=  13.8s\n",
      "[CV 4/5] END ...n_neighbors=1, weights=distance;, score=0.969 total time=  13.7s\n",
      "[CV 5/5] END ...n_neighbors=1, weights=distance;, score=0.968 total time=  13.8s\n",
      "[CV 1/5] END ....n_neighbors=2, weights=uniform;, score=0.964 total time=  14.6s\n",
      "[CV 2/5] END ....n_neighbors=2, weights=uniform;, score=0.963 total time=  14.6s\n",
      "[CV 3/5] END ....n_neighbors=2, weights=uniform;, score=0.962 total time=  14.9s\n",
      "[CV 4/5] END ....n_neighbors=2, weights=uniform;, score=0.963 total time=  14.4s\n",
      "[CV 5/5] END ....n_neighbors=2, weights=uniform;, score=0.964 total time=  14.9s\n",
      "[CV 1/5] END ...n_neighbors=2, weights=distance;, score=0.970 total time=  14.4s\n",
      "[CV 2/5] END ...n_neighbors=2, weights=distance;, score=0.971 total time=  14.1s\n",
      "[CV 3/5] END ...n_neighbors=2, weights=distance;, score=0.969 total time=  14.2s\n",
      "[CV 4/5] END ...n_neighbors=2, weights=distance;, score=0.969 total time=  14.5s\n",
      "[CV 5/5] END ...n_neighbors=2, weights=distance;, score=0.968 total time=  14.7s\n",
      "[CV 1/5] END ....n_neighbors=3, weights=uniform;, score=0.972 total time=  15.6s\n",
      "[CV 2/5] END ....n_neighbors=3, weights=uniform;, score=0.971 total time=  17.0s\n",
      "[CV 3/5] END ....n_neighbors=3, weights=uniform;, score=0.969 total time=  15.2s\n",
      "[CV 4/5] END ....n_neighbors=3, weights=uniform;, score=0.969 total time=  15.5s\n",
      "[CV 5/5] END ....n_neighbors=3, weights=uniform;, score=0.970 total time=  15.3s\n",
      "[CV 1/5] END ...n_neighbors=3, weights=distance;, score=0.972 total time=  14.8s\n",
      "[CV 2/5] END ...n_neighbors=3, weights=distance;, score=0.972 total time=  15.0s\n",
      "[CV 3/5] END ...n_neighbors=3, weights=distance;, score=0.970 total time=  15.3s\n",
      "[CV 4/5] END ...n_neighbors=3, weights=distance;, score=0.970 total time=  14.7s\n",
      "[CV 5/5] END ...n_neighbors=3, weights=distance;, score=0.971 total time=  16.2s\n",
      "[CV 1/5] END ....n_neighbors=4, weights=uniform;, score=0.969 total time=  18.6s\n",
      "[CV 2/5] END ....n_neighbors=4, weights=uniform;, score=0.968 total time=  17.6s\n",
      "[CV 3/5] END ....n_neighbors=4, weights=uniform;, score=0.968 total time=  18.3s\n",
      "[CV 4/5] END ....n_neighbors=4, weights=uniform;, score=0.967 total time=  18.5s\n",
      "[CV 5/5] END ....n_neighbors=4, weights=uniform;, score=0.970 total time=  19.0s\n",
      "[CV 1/5] END ...n_neighbors=4, weights=distance;, score=0.973 total time=  18.4s\n",
      "[CV 2/5] END ...n_neighbors=4, weights=distance;, score=0.972 total time=  18.0s\n",
      "[CV 3/5] END ...n_neighbors=4, weights=distance;, score=0.970 total time=  17.5s\n",
      "[CV 4/5] END ...n_neighbors=4, weights=distance;, score=0.971 total time=  17.7s\n",
      "[CV 5/5] END ...n_neighbors=4, weights=distance;, score=0.972 total time=  18.2s\n",
      "[CV 1/5] END ....n_neighbors=5, weights=uniform;, score=0.970 total time=  17.3s\n",
      "[CV 2/5] END ....n_neighbors=5, weights=uniform;, score=0.970 total time=  18.6s\n",
      "[CV 3/5] END ....n_neighbors=5, weights=uniform;, score=0.969 total time=  17.8s\n",
      "[CV 4/5] END ....n_neighbors=5, weights=uniform;, score=0.968 total time=  19.0s\n",
      "[CV 5/5] END ....n_neighbors=5, weights=uniform;, score=0.969 total time=  18.8s\n",
      "[CV 1/5] END ...n_neighbors=5, weights=distance;, score=0.970 total time=  19.3s\n",
      "[CV 2/5] END ...n_neighbors=5, weights=distance;, score=0.971 total time=  19.9s\n",
      "[CV 3/5] END ...n_neighbors=5, weights=distance;, score=0.970 total time=  18.1s\n",
      "[CV 4/5] END ...n_neighbors=5, weights=distance;, score=0.969 total time=  18.8s\n",
      "[CV 5/5] END ...n_neighbors=5, weights=distance;, score=0.971 total time=  18.1s\n",
      "[CV 1/5] END ....n_neighbors=6, weights=uniform;, score=0.968 total time=  18.2s\n",
      "[CV 2/5] END ....n_neighbors=6, weights=uniform;, score=0.969 total time=  18.2s\n",
      "[CV 3/5] END ....n_neighbors=6, weights=uniform;, score=0.968 total time=  17.7s\n",
      "[CV 4/5] END ....n_neighbors=6, weights=uniform;, score=0.967 total time=  20.2s\n",
      "[CV 5/5] END ....n_neighbors=6, weights=uniform;, score=0.969 total time=  21.0s\n",
      "[CV 1/5] END ...n_neighbors=6, weights=distance;, score=0.972 total time=  19.6s\n",
      "[CV 2/5] END ...n_neighbors=6, weights=distance;, score=0.972 total time=  19.3s\n",
      "[CV 3/5] END ...n_neighbors=6, weights=distance;, score=0.970 total time=  17.2s\n",
      "[CV 4/5] END ...n_neighbors=6, weights=distance;, score=0.970 total time=  18.1s\n",
      "[CV 5/5] END ...n_neighbors=6, weights=distance;, score=0.972 total time=  18.8s\n",
      "[CV 1/5] END ....n_neighbors=7, weights=uniform;, score=0.968 total time=  17.6s\n",
      "[CV 2/5] END ....n_neighbors=7, weights=uniform;, score=0.970 total time=  17.9s\n",
      "[CV 3/5] END ....n_neighbors=7, weights=uniform;, score=0.966 total time=  17.4s\n",
      "[CV 4/5] END ....n_neighbors=7, weights=uniform;, score=0.967 total time=  18.6s\n",
      "[CV 5/5] END ....n_neighbors=7, weights=uniform;, score=0.968 total time=  17.8s\n",
      "[CV 1/5] END ...n_neighbors=7, weights=distance;, score=0.969 total time=  17.9s\n",
      "[CV 2/5] END ...n_neighbors=7, weights=distance;, score=0.970 total time=  17.9s\n",
      "[CV 3/5] END ...n_neighbors=7, weights=distance;, score=0.967 total time=  19.7s\n",
      "[CV 4/5] END ...n_neighbors=7, weights=distance;, score=0.969 total time=  18.5s\n",
      "[CV 5/5] END ...n_neighbors=7, weights=distance;, score=0.969 total time=  18.2s\n",
      "[CV 1/5] END ....n_neighbors=8, weights=uniform;, score=0.966 total time=  18.6s\n",
      "[CV 2/5] END ....n_neighbors=8, weights=uniform;, score=0.967 total time=  17.4s\n",
      "[CV 3/5] END ....n_neighbors=8, weights=uniform;, score=0.965 total time=  18.4s\n",
      "[CV 4/5] END ....n_neighbors=8, weights=uniform;, score=0.965 total time=  19.5s\n",
      "[CV 5/5] END ....n_neighbors=8, weights=uniform;, score=0.968 total time=  17.8s\n",
      "[CV 1/5] END ...n_neighbors=8, weights=distance;, score=0.969 total time=  18.6s\n",
      "[CV 2/5] END ...n_neighbors=8, weights=distance;, score=0.970 total time=  20.2s\n",
      "[CV 3/5] END ...n_neighbors=8, weights=distance;, score=0.967 total time=  19.7s\n",
      "[CV 4/5] END ...n_neighbors=8, weights=distance;, score=0.968 total time=  17.6s\n",
      "[CV 5/5] END ...n_neighbors=8, weights=distance;, score=0.971 total time=  18.5s\n",
      "[CV 1/5] END ....n_neighbors=9, weights=uniform;, score=0.965 total time=  17.4s\n",
      "[CV 2/5] END ....n_neighbors=9, weights=uniform;, score=0.968 total time=  19.0s\n",
      "[CV 3/5] END ....n_neighbors=9, weights=uniform;, score=0.965 total time=  17.5s\n",
      "[CV 4/5] END ....n_neighbors=9, weights=uniform;, score=0.965 total time=  18.8s\n",
      "[CV 5/5] END ....n_neighbors=9, weights=uniform;, score=0.968 total time=  20.2s\n",
      "[CV 1/5] END ...n_neighbors=9, weights=distance;, score=0.967 total time=  17.3s\n",
      "[CV 2/5] END ...n_neighbors=9, weights=distance;, score=0.968 total time=  18.3s\n",
      "[CV 3/5] END ...n_neighbors=9, weights=distance;, score=0.966 total time=  18.0s\n",
      "[CV 4/5] END ...n_neighbors=9, weights=distance;, score=0.966 total time=  18.3s\n",
      "[CV 5/5] END ...n_neighbors=9, weights=distance;, score=0.970 total time=  18.9s\n",
      "[CV 1/5] END ...n_neighbors=10, weights=uniform;, score=0.965 total time=  18.6s\n",
      "[CV 2/5] END ...n_neighbors=10, weights=uniform;, score=0.966 total time=  19.1s\n",
      "[CV 3/5] END ...n_neighbors=10, weights=uniform;, score=0.963 total time=  18.3s\n",
      "[CV 4/5] END ...n_neighbors=10, weights=uniform;, score=0.964 total time=  19.2s\n",
      "[CV 5/5] END ...n_neighbors=10, weights=uniform;, score=0.967 total time=  20.3s\n",
      "[CV 1/5] END ..n_neighbors=10, weights=distance;, score=0.967 total time=  17.9s\n",
      "[CV 2/5] END ..n_neighbors=10, weights=distance;, score=0.969 total time=  17.3s\n",
      "[CV 3/5] END ..n_neighbors=10, weights=distance;, score=0.966 total time=  17.1s\n",
      "[CV 4/5] END ..n_neighbors=10, weights=distance;, score=0.965 total time=  17.3s\n",
      "[CV 5/5] END ..n_neighbors=10, weights=distance;, score=0.969 total time=  17.6s\n"
     ]
    },
    {
     "data": {
      "text/plain": [
       "GridSearchCV(cv=5, estimator=KNeighborsClassifier(),\n",
       "             param_grid={'n_neighbors': array([ 1,  2,  3,  4,  5,  6,  7,  8,  9, 10]),\n",
       "                         'weights': ['uniform', 'distance']},\n",
       "             scoring='accuracy', verbose=3)"
      ]
     },
     "execution_count": 6,
     "metadata": {},
     "output_type": "execute_result"
    }
   ],
   "source": [
    "from sklearn.neighbors import KNeighborsClassifier\n",
    "from sklearn.model_selection import GridSearchCV\n",
    "from sklearn.model_selection import train_test_split\n",
    "\n",
    "\n",
    "grid_params = {\n",
    "    'n_neighbors':np.arange(1, 11, 1),\n",
    "    'weights':['uniform', 'distance'],\n",
    "    # 'metric':['minkowski', 'euclidean', 'mahalannobis'],\n",
    "}\n",
    "\n",
    "knn_clf = KNeighborsClassifier()\n",
    "grid_search = GridSearchCV(knn_clf, grid_params, cv=5, verbose=3, scoring =\"accuracy\")\n",
    "grid_search.fit(X_train, y_train)"
   ]
  },
  {
   "cell_type": "code",
   "execution_count": 8,
   "id": "5fe42b60-9670-490b-9faa-1f5a6e7c2d7c",
   "metadata": {},
   "outputs": [
    {
     "data": {
      "text/plain": [
       "(0.9716166666666666, {'n_neighbors': 4, 'weights': 'distance'})"
      ]
     },
     "execution_count": 8,
     "metadata": {},
     "output_type": "execute_result"
    }
   ],
   "source": [
    "grid_search.best_score_, grid_search.best_params_"
   ]
  },
  {
   "cell_type": "code",
   "execution_count": 9,
   "id": "03e97462-afd7-4b17-8375-df9bfd417f90",
   "metadata": {},
   "outputs": [
    {
     "data": {
      "text/plain": [
       "0.9714"
      ]
     },
     "execution_count": 9,
     "metadata": {},
     "output_type": "execute_result"
    }
   ],
   "source": [
    "from sklearn.metrics import accuracy_score\n",
    "\n",
    "y_pred = grid_search.predict(X_test)\n",
    "accuracy_score(y_test, y_pred)"
   ]
  },
  {
   "cell_type": "markdown",
   "id": "15c8f182-8a05-4c8f-b313-b2fb5cee4cba",
   "metadata": {},
   "source": [
    "# 2. MNIST 이미지 데이테셋을 상하좌우로 1픽셀씩 이동하여 데이터 증폭시키고 위에서 찾은 모델로 훈련해보기"
   ]
  },
  {
   "cell_type": "code",
   "execution_count": 111,
   "id": "36aaa126-5acb-4fa9-b186-8b28d64c3d61",
   "metadata": {},
   "outputs": [],
   "source": [
    "from datetime import datetime\n",
    "\n",
    "def make_move_pixel_dataset(X, moving):\n",
    "    X_result = X.copy().reshape(len(X), 28, 28)\n",
    "    x_move = [moving, 0, -moving, 0]\n",
    "    y_move = [0, moving, 0, -moving]\n",
    "    \n",
    "    for move_idx in range(len(x_move)):\n",
    "        X_reshape = X.copy().reshape(len(X), 28, 28)\n",
    "        # print(X_reshape.shape)\n",
    "        for i, _X in enumerate(X_reshape):\n",
    "            # print(_X.shape, len(_X), len(_X[0]))\n",
    "            for _X_y in range(len(_X)):\n",
    "                for _X_x in range(len(_X[0])):\n",
    "                    y_pos = _X_y+y_move[move_idx]\n",
    "                    x_pos = _X_x+x_move[move_idx]\n",
    "                    # print(_X_y, _X_x,'->', y_pos, x_pos)\n",
    "                    # print((y_pos < 0) , (x_pos < 0) , (y_pos >= len(_X)) , (x_pos >= len(_X[0])))\n",
    "                    if (y_pos < 0) | (x_pos < 0) | (y_pos >= len(_X)) | (x_pos >= len(_X[0])):\n",
    "                        continue\n",
    "                    else:\n",
    "                        X_reshape[i][y_pos][x_pos] = X_result[i][_X_y][_X_x]\n",
    "            \n",
    "            if x_move[move_idx] > 0:\n",
    "                X_reshape[i,:,:x_move[move_idx]]=0\n",
    "            if y_move[move_idx] > 0:\n",
    "                X_reshape[i,:y_move[move_idx]]=0\n",
    "            if x_move[move_idx] < 0:\n",
    "                X_reshape[i,:,x_move[move_idx]:]=0\n",
    "            if y_move[move_idx] < 0:\n",
    "                X_reshape[i,y_move[move_idx]:]=0\n",
    "        \n",
    "        X_result = np.concatenate([X_result, X_reshape], axis=0)\n",
    "        print(datetime.now(), X_result.shape)\n",
    "        # if move_idx == 1:\n",
    "        #     break\n",
    "    \n",
    "    return X_result"
   ]
  },
  {
   "cell_type": "code",
   "execution_count": null,
   "id": "fb70d376-3298-42f5-92c2-49ead79fbfa2",
   "metadata": {
    "scrolled": true,
    "tags": []
   },
   "outputs": [
    {
     "name": "stdout",
     "output_type": "stream",
     "text": [
      "start\t\t 2022-01-16 19:15:16.986884\n",
      "2022-01-16 19:16:00.885626 (120000, 28, 28)\n",
      "2022-01-16 19:16:45.951925 (180000, 28, 28)\n",
      "2022-01-16 19:17:30.750798 (240000, 28, 28)\n",
      "2022-01-16 19:18:18.892067 (300000, 28, 28)\n",
      "end\t\t 2022-01-16 19:18:19.115056\n"
     ]
    }
   ],
   "source": [
    "print('start\\t\\t', datetime.now())\n",
    "test_X = make_move_pixel_dataset(X_train.values, 5)\n",
    "print('end\\t\\t',datetime.now())"
   ]
  },
  {
   "cell_type": "code",
   "execution_count": 112,
   "id": "ac2732d0-46fc-4ae0-ad47-1b66cc79ed71",
   "metadata": {
    "tags": []
   },
   "outputs": [
    {
     "data": {
      "text/plain": [
       "(300000, 28, 28)"
      ]
     },
     "execution_count": 112,
     "metadata": {},
     "output_type": "execute_result"
    }
   ],
   "source": [
    "test_X.shape"
   ]
  },
  {
   "cell_type": "code",
   "execution_count": 113,
   "id": "7988ee6d-5887-4ea0-8d53-21327346d476",
   "metadata": {},
   "outputs": [
    {
     "data": {
      "image/png": "[encoded data removed]",
      "text/plain": [
       "<Figure size 1440x720 with 5 Axes>"
      ]
     },
     "metadata": {
      "needs_background": "light"
     },
     "output_type": "display_data"
    }
   ],
   "source": [
    "%matplotlib inline\n",
    "import matplotlib.pyplot as plt\n",
    "\n",
    "plt.figure(figsize=(20, 10))\n",
    "plt.subplot(151)\n",
    "plt.title('Original Number', fontsize=14)\n",
    "plt.imshow(test_X[10], interpolation='nearest', cmap='Greys')\n",
    "plt.subplot(152)\n",
    "plt.title('Shift Right Number', fontsize=14)\n",
    "plt.imshow(test_X[10+len(X_train)], interpolation='nearest', cmap='Greys')\n",
    "plt.subplot(153)\n",
    "plt.title('Shift Down Number', fontsize=14)\n",
    "plt.imshow(test_X[10+(len(X_train)*2)], interpolation='nearest', cmap='Greys')\n",
    "plt.subplot(154)\n",
    "plt.title('Shift Left Number', fontsize=14)\n",
    "plt.imshow(test_X[10+(len(X_train)*3)], interpolation='nearest', cmap='Greys')\n",
    "plt.subplot(155)\n",
    "plt.title('Shift Up Number', fontsize=14)\n",
    "plt.imshow(test_X[10+(len(X_train)*4)], interpolation='nearest', cmap='Greys')\n",
    "plt.show()"
   ]
  },
  {
   "cell_type": "code",
   "execution_count": 119,
   "id": "faf43da8-cb2c-43b3-abcd-333bae03f972",
   "metadata": {},
   "outputs": [
    {
     "name": "stdout",
     "output_type": "stream",
     "text": [
      "(300000, 784) (300000,)\n"
     ]
    },
    {
     "data": {
      "text/plain": [
       "KNeighborsClassifier(n_neighbors=4, weights='distance')"
      ]
     },
     "execution_count": 119,
     "metadata": {},
     "output_type": "execute_result"
    }
   ],
   "source": [
    "X_train_enlarge = test_X.reshape(len(test_X), 28*28)\n",
    "y_train_enlarge = np.concatenate([y_train,y_train,y_train,y_train,y_train], axis=0)\n",
    "print(X_train_enlarge.shape, y_train_enlarge.shape)\n",
    "knn_clf = KNeighborsClassifier(**grid_search.best_params_)\n",
    "knn_clf.fit(X_train_enlarge, y_train_enlarge)"
   ]
  },
  {
   "cell_type": "code",
   "execution_count": 121,
   "id": "fb592736-ec0a-4e80-b163-6bd5744e7c91",
   "metadata": {},
   "outputs": [
    {
     "name": "stderr",
     "output_type": "stream",
     "text": [
      "D:\\anaconda3\\envs\\ml_study\\lib\\site-packages\\sklearn\\base.py:444: UserWarning: X has feature names, but KNeighborsClassifier was fitted without feature names\n",
      "  f\"X has feature names, but {self.__class__.__name__} was fitted without\"\n"
     ]
    },
    {
     "data": {
      "text/plain": [
       "0.9708"
      ]
     },
     "execution_count": 121,
     "metadata": {},
     "output_type": "execute_result"
    }
   ],
   "source": [
    "y_pred_enlarge = knn_clf.predict(X_test)\n",
    "accuracy_score(y_test, y_pred_enlarge)"
   ]
  },
  {
   "cell_type": "code",
   "execution_count": 115,
   "id": "7212fc39-4848-4fbc-9b92-83259419bf93",
   "metadata": {},
   "outputs": [
    {
     "name": "stdout",
     "output_type": "stream",
     "text": [
      "start\t\t 2022-01-16 19:20:04.014626\n",
      "end\t\t 2022-01-16 19:20:37.426633\n"
     ]
    },
    {
     "name": "stderr",
     "output_type": "stream",
     "text": [
      "D:\\anaconda3\\envs\\ml_study\\lib\\site-packages\\ipykernel_launcher.py:18: VisibleDeprecationWarning: Creating an ndarray from ragged nested sequences (which is a list-or-tuple of lists-or-tuples-or ndarrays with different lengths or shapes) is deprecated. If you meant to do this, you must specify 'dtype=object' when creating the ndarray.\n"
     ]
    }
   ],
   "source": [
    "# 본문에서 제시한 방법 (속도가 엄청 빠름...)\n",
    "from scipy.ndimage.interpolation import shift\n",
    "\n",
    "def shift_image(image, dx, dy):\n",
    "    image = image.reshape((28, 28))\n",
    "    shifted_image = shift(image, [dy, dx], cval=0, mode=\"constant\")\n",
    "    return shifted_image.reshape([-1])\n",
    "\n",
    "print('start\\t\\t', datetime.now())\n",
    "X_train_augmented = [image for image in X_train]\n",
    "y_train_augmented = [label for label in y_train]\n",
    "\n",
    "for dx, dy in ((1, 0), (-1, 0), (0, 1), (0, -1)):\n",
    "    for image, label in zip(X_train.values, y_train.values):\n",
    "        X_train_augmented.append(shift_image(image, dx, dy))\n",
    "        y_train_augmented.append(label)\n",
    "\n",
    "X_train_augmented = np.array(X_train_augmented)\n",
    "y_train_augmented = np.array(y_train_augmented)\n",
    "print('end\\t\\t', datetime.now())"
   ]
  },
  {
   "cell_type": "markdown",
   "id": "db14bc69-787e-4200-9f6c-53f66376bbe9",
   "metadata": {},
   "source": [
    "# 3. 타이타닉 생존자 예측하기"
   ]
  },
  {
   "cell_type": "markdown",
   "id": "924399cd-c0d0-4c10-b178-de1ba28ec1b9",
   "metadata": {},
   "source": [
    "### 데이터셋 다운 및 준비"
   ]
  },
  {
   "cell_type": "code",
   "execution_count": 443,
   "id": "874761f4-b07d-45fa-bb30-49d28dab7347",
   "metadata": {},
   "outputs": [],
   "source": [
    "import os\n",
    "import urllib.request\n",
    "\n",
    "TITANIC_PATH = os.path.join(\"datasets\", \"titanic\")\n",
    "DOWNLOAD_URL = \"https://raw.githubusercontent.com/rickiepark/handson-ml2/master/datasets/titanic/\"\n",
    "\n",
    "def fetch_titanic_data(url=DOWNLOAD_URL, path=TITANIC_PATH):\n",
    "    if not os.path.isdir(path):\n",
    "        os.makedirs(path)\n",
    "    for filename in (\"train.csv\", \"test.csv\"):\n",
    "        filepath = os.path.join(path, filename)\n",
    "        if not os.path.isfile(filepath):\n",
    "            print(\"Downloading\", filename)\n",
    "            urllib.request.urlretrieve(url + filename, filepath)\n",
    "\n",
    "fetch_titanic_data()"
   ]
  },
  {
   "cell_type": "code",
   "execution_count": 590,
   "id": "6731c301-526a-439d-b23d-4c72251affa2",
   "metadata": {},
   "outputs": [
    {
     "name": "stdout",
     "output_type": "stream",
     "text": [
      "Survived\n",
      "0    549\n",
      "1    342\n",
      "dtype: int64\n"
     ]
    }
   ],
   "source": [
    "import pandas as pd\n",
    "\n",
    "def load_titanic_data(filename, titanic_path):\n",
    "    csv_path = os.path.join(titanic_path, filename)\n",
    "    return pd.read_csv(csv_path)\n",
    "\n",
    "train_data = load_titanic_data('train.csv', TITANIC_PATH)\n",
    "test_data = load_titanic_data('test.csv', TITANIC_PATH)\n",
    "print(train_data.groupby(['Survived']).size())"
   ]
  },
  {
   "cell_type": "code",
   "execution_count": 591,
   "id": "153b97eb-86e7-4711-baac-4f57df43a93d",
   "metadata": {},
   "outputs": [
    {
     "data": {
      "text/html": [
       "<div>\n",
       "<style scoped>\n",
       "    .dataframe tbody tr th:only-of-type {\n",
       "        vertical-align: middle;\n",
       "    }\n",
       "\n",
       "    .dataframe tbody tr th {\n",
       "        vertical-align: top;\n",
       "    }\n",
       "\n",
       "    .dataframe thead th {\n",
       "        text-align: right;\n",
       "    }\n",
       "</style>\n",
       "<table border=\"1\" class=\"dataframe\">\n",
       "  <thead>\n",
       "    <tr style=\"text-align: right;\">\n",
       "      <th></th>\n",
       "      <th>PassengerId</th>\n",
       "      <th>Survived</th>\n",
       "      <th>Pclass</th>\n",
       "      <th>Name</th>\n",
       "      <th>Sex</th>\n",
       "      <th>Age</th>\n",
       "      <th>SibSp</th>\n",
       "      <th>Parch</th>\n",
       "      <th>Ticket</th>\n",
       "      <th>Fare</th>\n",
       "      <th>Cabin</th>\n",
       "      <th>Embarked</th>\n",
       "    </tr>\n",
       "  </thead>\n",
       "  <tbody>\n",
       "    <tr>\n",
       "      <th>0</th>\n",
       "      <td>1</td>\n",
       "      <td>0</td>\n",
       "      <td>3</td>\n",
       "      <td>Braund, Mr. Owen Harris</td>\n",
       "      <td>male</td>\n",
       "      <td>22.0</td>\n",
       "      <td>1</td>\n",
       "      <td>0</td>\n",
       "      <td>A/5 21171</td>\n",
       "      <td>7.2500</td>\n",
       "      <td>NaN</td>\n",
       "      <td>S</td>\n",
       "    </tr>\n",
       "    <tr>\n",
       "      <th>1</th>\n",
       "      <td>2</td>\n",
       "      <td>1</td>\n",
       "      <td>1</td>\n",
       "      <td>Cumings, Mrs. John Bradley (Florence Briggs Th...</td>\n",
       "      <td>female</td>\n",
       "      <td>38.0</td>\n",
       "      <td>1</td>\n",
       "      <td>0</td>\n",
       "      <td>PC 17599</td>\n",
       "      <td>71.2833</td>\n",
       "      <td>C85</td>\n",
       "      <td>C</td>\n",
       "    </tr>\n",
       "    <tr>\n",
       "      <th>2</th>\n",
       "      <td>3</td>\n",
       "      <td>1</td>\n",
       "      <td>3</td>\n",
       "      <td>Heikkinen, Miss. Laina</td>\n",
       "      <td>female</td>\n",
       "      <td>26.0</td>\n",
       "      <td>0</td>\n",
       "      <td>0</td>\n",
       "      <td>STON/O2. 3101282</td>\n",
       "      <td>7.9250</td>\n",
       "      <td>NaN</td>\n",
       "      <td>S</td>\n",
       "    </tr>\n",
       "    <tr>\n",
       "      <th>3</th>\n",
       "      <td>4</td>\n",
       "      <td>1</td>\n",
       "      <td>1</td>\n",
       "      <td>Futrelle, Mrs. Jacques Heath (Lily May Peel)</td>\n",
       "      <td>female</td>\n",
       "      <td>35.0</td>\n",
       "      <td>1</td>\n",
       "      <td>0</td>\n",
       "      <td>113803</td>\n",
       "      <td>53.1000</td>\n",
       "      <td>C123</td>\n",
       "      <td>S</td>\n",
       "    </tr>\n",
       "    <tr>\n",
       "      <th>4</th>\n",
       "      <td>5</td>\n",
       "      <td>0</td>\n",
       "      <td>3</td>\n",
       "      <td>Allen, Mr. William Henry</td>\n",
       "      <td>male</td>\n",
       "      <td>35.0</td>\n",
       "      <td>0</td>\n",
       "      <td>0</td>\n",
       "      <td>373450</td>\n",
       "      <td>8.0500</td>\n",
       "      <td>NaN</td>\n",
       "      <td>S</td>\n",
       "    </tr>\n",
       "  </tbody>\n",
       "</table>\n",
       "</div>"
      ],
      "text/plain": [
       "   PassengerId  Survived  Pclass  \\\n",
       "0            1         0       3   \n",
       "1            2         1       1   \n",
       "2            3         1       3   \n",
       "3            4         1       1   \n",
       "4            5         0       3   \n",
       "\n",
       "                                                Name     Sex   Age  SibSp  \\\n",
       "0                            Braund, Mr. Owen Harris    male  22.0      1   \n",
       "1  Cumings, Mrs. John Bradley (Florence Briggs Th...  female  38.0      1   \n",
       "2                             Heikkinen, Miss. Laina  female  26.0      0   \n",
       "3       Futrelle, Mrs. Jacques Heath (Lily May Peel)  female  35.0      1   \n",
       "4                           Allen, Mr. William Henry    male  35.0      0   \n",
       "\n",
       "   Parch            Ticket     Fare Cabin Embarked  \n",
       "0      0         A/5 21171   7.2500   NaN        S  \n",
       "1      0          PC 17599  71.2833   C85        C  \n",
       "2      0  STON/O2. 3101282   7.9250   NaN        S  \n",
       "3      0            113803  53.1000  C123        S  \n",
       "4      0            373450   8.0500   NaN        S  "
      ]
     },
     "execution_count": 591,
     "metadata": {},
     "output_type": "execute_result"
    }
   ],
   "source": [
    "train_data.head()"
   ]
  },
  {
   "cell_type": "markdown",
   "id": "5f0a41a6-339a-495c-9055-2ef7862d741f",
   "metadata": {},
   "source": [
    "속성 설명:\n",
    "* **PassengerId**: 각 승객의 고유 식별자.\n",
    "* **Survived**: 타깃입니다. 0은 생존하지 못한 것이고 1은 생존을 의미합니다.\n",
    "* **Pclass**: 승객 등급. 1, 2, 3등석.\n",
    "* **Name**, **Sex**, **Age**: 이름 그대로 의미입니다.\n",
    "* **SibSp**: 함께 탑승한 형제, 배우자의 수.\n",
    "* **Parch**: 함께 탑승한 자녀, 부모의 수.\n",
    "* **Ticket**: 티켓 아이디\n",
    "* **Fare**: 티켓 요금 (파운드)\n",
    "* **Cabin**: 객실 번호\n",
    "* **Embarked**: 승객이 탑승한 곳. C(Cherbourg), Q(Queenstown), S(Southampton)"
   ]
  },
  {
   "cell_type": "code",
   "execution_count": 592,
   "id": "77d43871-6dcc-4fde-a7f1-1ae5e5bc3ccc",
   "metadata": {},
   "outputs": [
    {
     "name": "stdout",
     "output_type": "stream",
     "text": [
      "<class 'pandas.core.frame.DataFrame'>\n",
      "RangeIndex: 891 entries, 0 to 890\n",
      "Data columns (total 12 columns):\n",
      " #   Column       Non-Null Count  Dtype  \n",
      "---  ------       --------------  -----  \n",
      " 0   PassengerId  891 non-null    int64  \n",
      " 1   Survived     891 non-null    int64  \n",
      " 2   Pclass       891 non-null    int64  \n",
      " 3   Name         891 non-null    object \n",
      " 4   Sex          891 non-null    object \n",
      " 5   Age          714 non-null    float64\n",
      " 6   SibSp        891 non-null    int64  \n",
      " 7   Parch        891 non-null    int64  \n",
      " 8   Ticket       891 non-null    object \n",
      " 9   Fare         891 non-null    float64\n",
      " 10  Cabin        204 non-null    object \n",
      " 11  Embarked     889 non-null    object \n",
      "dtypes: float64(2), int64(5), object(5)\n",
      "memory usage: 83.7+ KB\n"
     ]
    }
   ],
   "source": [
    "train_data.info()"
   ]
  },
  {
   "cell_type": "markdown",
   "id": "fd2f9549-f397-4baa-a431-91e5a76ee3d8",
   "metadata": {},
   "source": [
    "데이터 카운팅 결과\n",
    "* Cabin의 경우 없는 데이터가 너무 많고 쉽사리 채우기 힘든 특성이어서 제거\n",
    "* Age의 경우 생존에 연관성이 큰 특성으로 보이기 때문에 median 값으로 채움\n",
    "* Embarked 는 nan 인 행만 제거"
   ]
  },
  {
   "cell_type": "code",
   "execution_count": 593,
   "id": "633ae6ba-18a4-47dd-9054-b8592ab9e7d0",
   "metadata": {},
   "outputs": [],
   "source": [
    "train_data.drop('Cabin', axis=1, inplace=True)"
   ]
  },
  {
   "cell_type": "code",
   "execution_count": 594,
   "id": "d8e90d10-3627-4377-aa83-b752b7d82302",
   "metadata": {},
   "outputs": [
    {
     "data": {
      "text/html": [
       "<div>\n",
       "<style scoped>\n",
       "    .dataframe tbody tr th:only-of-type {\n",
       "        vertical-align: middle;\n",
       "    }\n",
       "\n",
       "    .dataframe tbody tr th {\n",
       "        vertical-align: top;\n",
       "    }\n",
       "\n",
       "    .dataframe thead th {\n",
       "        text-align: right;\n",
       "    }\n",
       "</style>\n",
       "<table border=\"1\" class=\"dataframe\">\n",
       "  <thead>\n",
       "    <tr style=\"text-align: right;\">\n",
       "      <th></th>\n",
       "      <th>PassengerId</th>\n",
       "      <th>Survived</th>\n",
       "      <th>Pclass</th>\n",
       "      <th>Name</th>\n",
       "      <th>Sex</th>\n",
       "      <th>Age</th>\n",
       "      <th>SibSp</th>\n",
       "      <th>Parch</th>\n",
       "      <th>Ticket</th>\n",
       "      <th>Fare</th>\n",
       "      <th>Embarked</th>\n",
       "    </tr>\n",
       "  </thead>\n",
       "  <tbody>\n",
       "    <tr>\n",
       "      <th>0</th>\n",
       "      <td>1</td>\n",
       "      <td>0</td>\n",
       "      <td>3</td>\n",
       "      <td>Braund, Mr. Owen Harris</td>\n",
       "      <td>male</td>\n",
       "      <td>22.0</td>\n",
       "      <td>1</td>\n",
       "      <td>0</td>\n",
       "      <td>A/5 21171</td>\n",
       "      <td>7.2500</td>\n",
       "      <td>S</td>\n",
       "    </tr>\n",
       "    <tr>\n",
       "      <th>1</th>\n",
       "      <td>2</td>\n",
       "      <td>1</td>\n",
       "      <td>1</td>\n",
       "      <td>Cumings, Mrs. John Bradley (Florence Briggs Th...</td>\n",
       "      <td>female</td>\n",
       "      <td>38.0</td>\n",
       "      <td>1</td>\n",
       "      <td>0</td>\n",
       "      <td>PC 17599</td>\n",
       "      <td>71.2833</td>\n",
       "      <td>C</td>\n",
       "    </tr>\n",
       "    <tr>\n",
       "      <th>2</th>\n",
       "      <td>3</td>\n",
       "      <td>1</td>\n",
       "      <td>3</td>\n",
       "      <td>Heikkinen, Miss. Laina</td>\n",
       "      <td>female</td>\n",
       "      <td>26.0</td>\n",
       "      <td>0</td>\n",
       "      <td>0</td>\n",
       "      <td>STON/O2. 3101282</td>\n",
       "      <td>7.9250</td>\n",
       "      <td>S</td>\n",
       "    </tr>\n",
       "  </tbody>\n",
       "</table>\n",
       "</div>"
      ],
      "text/plain": [
       "   PassengerId  Survived  Pclass  \\\n",
       "0            1         0       3   \n",
       "1            2         1       1   \n",
       "2            3         1       3   \n",
       "\n",
       "                                                Name     Sex   Age  SibSp  \\\n",
       "0                            Braund, Mr. Owen Harris    male  22.0      1   \n",
       "1  Cumings, Mrs. John Bradley (Florence Briggs Th...  female  38.0      1   \n",
       "2                             Heikkinen, Miss. Laina  female  26.0      0   \n",
       "\n",
       "   Parch            Ticket     Fare Embarked  \n",
       "0      0         A/5 21171   7.2500        S  \n",
       "1      0          PC 17599  71.2833        C  \n",
       "2      0  STON/O2. 3101282   7.9250        S  "
      ]
     },
     "execution_count": 594,
     "metadata": {},
     "output_type": "execute_result"
    }
   ],
   "source": [
    "train_data.head(3)"
   ]
  },
  {
   "cell_type": "code",
   "execution_count": 595,
   "id": "87e55de8-7fb7-4d25-8bd0-c86cdf684f06",
   "metadata": {},
   "outputs": [
    {
     "data": {
      "text/html": [
       "<div>\n",
       "<style scoped>\n",
       "    .dataframe tbody tr th:only-of-type {\n",
       "        vertical-align: middle;\n",
       "    }\n",
       "\n",
       "    .dataframe tbody tr th {\n",
       "        vertical-align: top;\n",
       "    }\n",
       "\n",
       "    .dataframe thead th {\n",
       "        text-align: right;\n",
       "    }\n",
       "</style>\n",
       "<table border=\"1\" class=\"dataframe\">\n",
       "  <thead>\n",
       "    <tr style=\"text-align: right;\">\n",
       "      <th></th>\n",
       "      <th>PassengerId</th>\n",
       "      <th>Survived</th>\n",
       "      <th>Pclass</th>\n",
       "      <th>Age</th>\n",
       "      <th>SibSp</th>\n",
       "      <th>Parch</th>\n",
       "      <th>Fare</th>\n",
       "    </tr>\n",
       "  </thead>\n",
       "  <tbody>\n",
       "    <tr>\n",
       "      <th>count</th>\n",
       "      <td>891.000000</td>\n",
       "      <td>891.000000</td>\n",
       "      <td>891.000000</td>\n",
       "      <td>714.000000</td>\n",
       "      <td>891.000000</td>\n",
       "      <td>891.000000</td>\n",
       "      <td>891.000000</td>\n",
       "    </tr>\n",
       "    <tr>\n",
       "      <th>mean</th>\n",
       "      <td>446.000000</td>\n",
       "      <td>0.383838</td>\n",
       "      <td>2.308642</td>\n",
       "      <td>29.699118</td>\n",
       "      <td>0.523008</td>\n",
       "      <td>0.381594</td>\n",
       "      <td>32.204208</td>\n",
       "    </tr>\n",
       "    <tr>\n",
       "      <th>std</th>\n",
       "      <td>257.353842</td>\n",
       "      <td>0.486592</td>\n",
       "      <td>0.836071</td>\n",
       "      <td>14.526497</td>\n",
       "      <td>1.102743</td>\n",
       "      <td>0.806057</td>\n",
       "      <td>49.693429</td>\n",
       "    </tr>\n",
       "    <tr>\n",
       "      <th>min</th>\n",
       "      <td>1.000000</td>\n",
       "      <td>0.000000</td>\n",
       "      <td>1.000000</td>\n",
       "      <td>0.420000</td>\n",
       "      <td>0.000000</td>\n",
       "      <td>0.000000</td>\n",
       "      <td>0.000000</td>\n",
       "    </tr>\n",
       "    <tr>\n",
       "      <th>25%</th>\n",
       "      <td>223.500000</td>\n",
       "      <td>0.000000</td>\n",
       "      <td>2.000000</td>\n",
       "      <td>20.125000</td>\n",
       "      <td>0.000000</td>\n",
       "      <td>0.000000</td>\n",
       "      <td>7.910400</td>\n",
       "    </tr>\n",
       "    <tr>\n",
       "      <th>50%</th>\n",
       "      <td>446.000000</td>\n",
       "      <td>0.000000</td>\n",
       "      <td>3.000000</td>\n",
       "      <td>28.000000</td>\n",
       "      <td>0.000000</td>\n",
       "      <td>0.000000</td>\n",
       "      <td>14.454200</td>\n",
       "    </tr>\n",
       "    <tr>\n",
       "      <th>75%</th>\n",
       "      <td>668.500000</td>\n",
       "      <td>1.000000</td>\n",
       "      <td>3.000000</td>\n",
       "      <td>38.000000</td>\n",
       "      <td>1.000000</td>\n",
       "      <td>0.000000</td>\n",
       "      <td>31.000000</td>\n",
       "    </tr>\n",
       "    <tr>\n",
       "      <th>max</th>\n",
       "      <td>891.000000</td>\n",
       "      <td>1.000000</td>\n",
       "      <td>3.000000</td>\n",
       "      <td>80.000000</td>\n",
       "      <td>8.000000</td>\n",
       "      <td>6.000000</td>\n",
       "      <td>512.329200</td>\n",
       "    </tr>\n",
       "  </tbody>\n",
       "</table>\n",
       "</div>"
      ],
      "text/plain": [
       "       PassengerId    Survived      Pclass         Age       SibSp  \\\n",
       "count   891.000000  891.000000  891.000000  714.000000  891.000000   \n",
       "mean    446.000000    0.383838    2.308642   29.699118    0.523008   \n",
       "std     257.353842    0.486592    0.836071   14.526497    1.102743   \n",
       "min       1.000000    0.000000    1.000000    0.420000    0.000000   \n",
       "25%     223.500000    0.000000    2.000000   20.125000    0.000000   \n",
       "50%     446.000000    0.000000    3.000000   28.000000    0.000000   \n",
       "75%     668.500000    1.000000    3.000000   38.000000    1.000000   \n",
       "max     891.000000    1.000000    3.000000   80.000000    8.000000   \n",
       "\n",
       "            Parch        Fare  \n",
       "count  891.000000  891.000000  \n",
       "mean     0.381594   32.204208  \n",
       "std      0.806057   49.693429  \n",
       "min      0.000000    0.000000  \n",
       "25%      0.000000    7.910400  \n",
       "50%      0.000000   14.454200  \n",
       "75%      0.000000   31.000000  \n",
       "max      6.000000  512.329200  "
      ]
     },
     "execution_count": 595,
     "metadata": {},
     "output_type": "execute_result"
    }
   ],
   "source": [
    "train_data.describe()"
   ]
  },
  {
   "cell_type": "code",
   "execution_count": 596,
   "id": "4092238b-d76d-4bcf-a00d-323b45eeabc3",
   "metadata": {},
   "outputs": [],
   "source": [
    "train_data['Age']=train_data['Age'].fillna(train_data.describe()['Age']['50%'])"
   ]
  },
  {
   "cell_type": "code",
   "execution_count": 597,
   "id": "ec519159-9cec-4746-8011-1e97aefdf9c4",
   "metadata": {},
   "outputs": [
    {
     "name": "stdout",
     "output_type": "stream",
     "text": [
      "<class 'pandas.core.frame.DataFrame'>\n",
      "RangeIndex: 891 entries, 0 to 890\n",
      "Data columns (total 11 columns):\n",
      " #   Column       Non-Null Count  Dtype  \n",
      "---  ------       --------------  -----  \n",
      " 0   PassengerId  891 non-null    int64  \n",
      " 1   Survived     891 non-null    int64  \n",
      " 2   Pclass       891 non-null    int64  \n",
      " 3   Name         891 non-null    object \n",
      " 4   Sex          891 non-null    object \n",
      " 5   Age          891 non-null    float64\n",
      " 6   SibSp        891 non-null    int64  \n",
      " 7   Parch        891 non-null    int64  \n",
      " 8   Ticket       891 non-null    object \n",
      " 9   Fare         891 non-null    float64\n",
      " 10  Embarked     889 non-null    object \n",
      "dtypes: float64(2), int64(5), object(4)\n",
      "memory usage: 76.7+ KB\n"
     ]
    }
   ],
   "source": [
    "train_data.info()"
   ]
  },
  {
   "cell_type": "code",
   "execution_count": 598,
   "id": "3b8cb3b3-f7c6-4cac-a6de-a1c4718a4e8f",
   "metadata": {
    "tags": []
   },
   "outputs": [
    {
     "data": {
      "text/plain": [
       "[61, 829]"
      ]
     },
     "execution_count": 598,
     "metadata": {},
     "output_type": "execute_result"
    }
   ],
   "source": [
    "train_data[train_data['Embarked'].isnull()].index.tolist()"
   ]
  },
  {
   "cell_type": "code",
   "execution_count": 599,
   "id": "173a3c2f-ccc4-41cd-8673-857e3cc3db9f",
   "metadata": {},
   "outputs": [],
   "source": [
    "train_data.drop(train_data[train_data['Embarked'].isnull()].index.tolist(), axis=0, inplace=True)"
   ]
  },
  {
   "cell_type": "code",
   "execution_count": 600,
   "id": "9bd3a4a6-2a45-4726-85ea-71051896c62b",
   "metadata": {},
   "outputs": [
    {
     "name": "stdout",
     "output_type": "stream",
     "text": [
      "<class 'pandas.core.frame.DataFrame'>\n",
      "Int64Index: 889 entries, 0 to 890\n",
      "Data columns (total 11 columns):\n",
      " #   Column       Non-Null Count  Dtype  \n",
      "---  ------       --------------  -----  \n",
      " 0   PassengerId  889 non-null    int64  \n",
      " 1   Survived     889 non-null    int64  \n",
      " 2   Pclass       889 non-null    int64  \n",
      " 3   Name         889 non-null    object \n",
      " 4   Sex          889 non-null    object \n",
      " 5   Age          889 non-null    float64\n",
      " 6   SibSp        889 non-null    int64  \n",
      " 7   Parch        889 non-null    int64  \n",
      " 8   Ticket       889 non-null    object \n",
      " 9   Fare         889 non-null    float64\n",
      " 10  Embarked     889 non-null    object \n",
      "dtypes: float64(2), int64(5), object(4)\n",
      "memory usage: 83.3+ KB\n"
     ]
    }
   ],
   "source": [
    "train_data.info()"
   ]
  },
  {
   "cell_type": "code",
   "execution_count": 601,
   "id": "68dc3ae1-4d25-4fe8-8b3e-8fe13b9df728",
   "metadata": {},
   "outputs": [
    {
     "name": "stdout",
     "output_type": "stream",
     "text": [
      "[ 77 304 468 643 754 802 829] [0.83 0.92 0.75 0.75 0.67 0.42 0.83]\n"
     ]
    }
   ],
   "source": [
    "# 나이데이터에 소수점이 들어가있음 이를 제거하기 위해서 올림할지 반올림할지 정하려고 함\n",
    "float_indexes = np.where(train_data['Age'].values<1)\n",
    "for i in float_indexes:\n",
    "    print(i,train_data['Age'].values[i])"
   ]
  },
  {
   "cell_type": "markdown",
   "id": "0302662a-db4e-4296-b67e-f43941d6a4b8",
   "metadata": {},
   "source": [
    "0.42 와 같은 데이터는 0살로 치부되기때문에 올림을 하기로함."
   ]
  },
  {
   "cell_type": "code",
   "execution_count": 602,
   "id": "b157edd9-b168-4ce7-9c65-27c86ccc1622",
   "metadata": {},
   "outputs": [],
   "source": [
    "import math\n",
    "train_data['Age']=[math.ceil(x) for x in train_data['Age']]"
   ]
  },
  {
   "cell_type": "code",
   "execution_count": 603,
   "id": "06e02561-a2cb-4736-b421-f48095824671",
   "metadata": {},
   "outputs": [
    {
     "name": "stdout",
     "output_type": "stream",
     "text": [
      "[ 77 304 468 643 754 802 829] [1 1 1 1 1 1 1]\n"
     ]
    }
   ],
   "source": [
    "# 확인\n",
    "for i in float_indexes:\n",
    "    print(i,train_data['Age'].values[i])"
   ]
  },
  {
   "cell_type": "markdown",
   "id": "905d27ea-f59e-4baa-be5f-492defb48a38",
   "metadata": {
    "tags": []
   },
   "source": [
    "데이터 분석 시작\n",
    "* 우선 상관관계를 알아보기 위해서 관계가 있을법한 데이터와 예측결과의 정답인 Survived 데이터와 비교하여 그래프를 그려봄\n",
    "* Pclass : 티켓의 등급이 높다면 생존확률이 높을것으로 예측됨\n",
    "* Sex : 성별이 여성일 경우 우선적으로 구해졌기 때문에 생족확률이 높을것으로 예측됨\n",
    "* Age : 어린나이일수록 우선적으로 구해졌기 때문에 생존확률이 높을것으로 예측됨\n",
    "\n",
    "우선 이정도"
   ]
  },
  {
   "cell_type": "code",
   "execution_count": 604,
   "id": "cb3fd8b4-9980-4e9b-b0eb-7ed7d769cf37",
   "metadata": {},
   "outputs": [
    {
     "name": "stdout",
     "output_type": "stream",
     "text": [
      "Pclass  Survived\n",
      "1       0            80\n",
      "        1           134\n",
      "2       0            97\n",
      "        1            87\n",
      "3       0           372\n",
      "        1           119\n",
      "dtype: int64\n",
      "Sex     Survived\n",
      "female  0            81\n",
      "        1           231\n",
      "male    0           468\n",
      "        1           109\n",
      "dtype: int64\n",
      "Age  Survived\n",
      "1    0            2\n",
      "     1           12\n",
      "2    0            7\n",
      "     1            3\n",
      "3    0            1\n",
      "                 ..\n",
      "66   0            1\n",
      "70   0            2\n",
      "71   0            3\n",
      "74   0            1\n",
      "80   1            1\n",
      "Length: 123, dtype: int64\n"
     ]
    }
   ],
   "source": [
    "print(train_data.groupby(['Pclass', 'Survived']).size())\n",
    "print(train_data.groupby(['Sex', 'Survived']).size())\n",
    "print(train_data.groupby(['Age', 'Survived']).size())"
   ]
  },
  {
   "cell_type": "code",
   "execution_count": 605,
   "id": "7bad6e8e-9ceb-44a9-8aaa-daed13689b56",
   "metadata": {},
   "outputs": [],
   "source": [
    "pclass_count = train_data.groupby(['Pclass', 'Survived']).size()\n",
    "sex_count = train_data.groupby(['Sex', 'Survived']).size()\n",
    "age_count = train_data.groupby(['Age', 'Survived']).size()"
   ]
  },
  {
   "cell_type": "code",
   "execution_count": 606,
   "id": "1490188e-7330-42db-90a7-b2db53fee85c",
   "metadata": {
    "tags": []
   },
   "outputs": [
    {
     "data": {
      "image/png": "[encoded data removed]",
      "text/plain": [
       "<Figure size 2376x432 with 2 Axes>"
      ]
     },
     "metadata": {
      "needs_background": "light"
     },
     "output_type": "display_data"
    },
    {
     "data": {
      "image/png": "[encoded data removed]",
      "text/plain": [
       "<Figure size 2376x576 with 1 Axes>"
      ]
     },
     "metadata": {
      "needs_background": "light"
     },
     "output_type": "display_data"
    }
   ],
   "source": [
    "plt.figure(figsize=(33,6))\n",
    "\n",
    "plt.title('Pclass to Survived', fontsize=14)\n",
    "plt.subplot(121)\n",
    "plt.bar('1_dead', pclass_count[1][0], color='r')\n",
    "plt.bar('1_alive', pclass_count[1][1], color='b')\n",
    "plt.bar('2_dead', pclass_count[2][0], color='r')\n",
    "plt.bar('2_alive', pclass_count[2][1], color='b')\n",
    "plt.bar('3_dead', pclass_count[3][0], color='r')\n",
    "plt.bar('3_alive', pclass_count[3][1], color='b')\n",
    "\n",
    "plt.title('Sex to Survived', fontsize=14)\n",
    "plt.subplot(122)\n",
    "plt.bar('female_dead', sex_count['female'][0], color='r')\n",
    "plt.bar('female_alive', sex_count['female'][1], color='b')\n",
    "plt.bar('male_dead', sex_count['male'][0], color='r')\n",
    "plt.bar('male_alive', sex_count['male'][1], color='b')\n",
    "plt.show()\n",
    "\n",
    "plt.figure(figsize=(33,8))\n",
    "plt.title('Age to Survived', fontsize=14)\n",
    "for _age, _state in age_count.index:\n",
    "    if _state==0:\n",
    "        plt.bar(f'{_age}', age_count[_age][_state], color='r')\n",
    "    else:\n",
    "        plt.bar(f'{_age}', age_count[_age][_state], color='b')\n",
    "plt.show()"
   ]
  },
  {
   "cell_type": "markdown",
   "id": "ffdaba6a-faaf-4f9d-abc1-1e4b3554e4ee",
   "metadata": {},
   "source": [
    "3개의 특성 시각화 결과\n",
    "* 3 등급의 티켓 사람들이 많이 죽음\n",
    "* 남자일수록 죽고 여자일수록 생존\n",
    "* 28의 데이터가 너무많은데 이는 아까 결측치를 median 값인 28 로 다채웠기때문\n",
    "* 큰 차이는 없어보이지만 18 ~ 30살, 37 ~ 47살, 61살 ~ 의 경우 죽는 경우가 더 큼"
   ]
  },
  {
   "cell_type": "code",
   "execution_count": 612,
   "id": "8c16e3a7-1a58-4564-bf49-69ddc5d4520b",
   "metadata": {},
   "outputs": [
    {
     "data": {
      "text/html": [
       "<div>\n",
       "<style scoped>\n",
       "    .dataframe tbody tr th:only-of-type {\n",
       "        vertical-align: middle;\n",
       "    }\n",
       "\n",
       "    .dataframe tbody tr th {\n",
       "        vertical-align: top;\n",
       "    }\n",
       "\n",
       "    .dataframe thead th {\n",
       "        text-align: right;\n",
       "    }\n",
       "</style>\n",
       "<table border=\"1\" class=\"dataframe\">\n",
       "  <thead>\n",
       "    <tr style=\"text-align: right;\">\n",
       "      <th></th>\n",
       "      <th>PassengerId</th>\n",
       "      <th>Survived</th>\n",
       "      <th>Name</th>\n",
       "      <th>Age</th>\n",
       "      <th>SibSp</th>\n",
       "      <th>Parch</th>\n",
       "      <th>Ticket</th>\n",
       "      <th>Fare</th>\n",
       "      <th>Embarked</th>\n",
       "      <th>female</th>\n",
       "      <th>male</th>\n",
       "      <th>1</th>\n",
       "      <th>2</th>\n",
       "      <th>3</th>\n",
       "    </tr>\n",
       "  </thead>\n",
       "  <tbody>\n",
       "    <tr>\n",
       "      <th>0</th>\n",
       "      <td>1</td>\n",
       "      <td>0</td>\n",
       "      <td>Braund, Mr. Owen Harris</td>\n",
       "      <td>22</td>\n",
       "      <td>1</td>\n",
       "      <td>0</td>\n",
       "      <td>A/5 21171</td>\n",
       "      <td>7.2500</td>\n",
       "      <td>S</td>\n",
       "      <td>0</td>\n",
       "      <td>1</td>\n",
       "      <td>0</td>\n",
       "      <td>0</td>\n",
       "      <td>1</td>\n",
       "    </tr>\n",
       "    <tr>\n",
       "      <th>1</th>\n",
       "      <td>2</td>\n",
       "      <td>1</td>\n",
       "      <td>Cumings, Mrs. John Bradley (Florence Briggs Th...</td>\n",
       "      <td>38</td>\n",
       "      <td>1</td>\n",
       "      <td>0</td>\n",
       "      <td>PC 17599</td>\n",
       "      <td>71.2833</td>\n",
       "      <td>C</td>\n",
       "      <td>1</td>\n",
       "      <td>0</td>\n",
       "      <td>1</td>\n",
       "      <td>0</td>\n",
       "      <td>0</td>\n",
       "    </tr>\n",
       "    <tr>\n",
       "      <th>2</th>\n",
       "      <td>3</td>\n",
       "      <td>1</td>\n",
       "      <td>Heikkinen, Miss. Laina</td>\n",
       "      <td>26</td>\n",
       "      <td>0</td>\n",
       "      <td>0</td>\n",
       "      <td>STON/O2. 3101282</td>\n",
       "      <td>7.9250</td>\n",
       "      <td>S</td>\n",
       "      <td>1</td>\n",
       "      <td>0</td>\n",
       "      <td>0</td>\n",
       "      <td>0</td>\n",
       "      <td>1</td>\n",
       "    </tr>\n",
       "    <tr>\n",
       "      <th>3</th>\n",
       "      <td>4</td>\n",
       "      <td>1</td>\n",
       "      <td>Futrelle, Mrs. Jacques Heath (Lily May Peel)</td>\n",
       "      <td>35</td>\n",
       "      <td>1</td>\n",
       "      <td>0</td>\n",
       "      <td>113803</td>\n",
       "      <td>53.1000</td>\n",
       "      <td>S</td>\n",
       "      <td>1</td>\n",
       "      <td>0</td>\n",
       "      <td>1</td>\n",
       "      <td>0</td>\n",
       "      <td>0</td>\n",
       "    </tr>\n",
       "    <tr>\n",
       "      <th>4</th>\n",
       "      <td>5</td>\n",
       "      <td>0</td>\n",
       "      <td>Allen, Mr. William Henry</td>\n",
       "      <td>35</td>\n",
       "      <td>0</td>\n",
       "      <td>0</td>\n",
       "      <td>373450</td>\n",
       "      <td>8.0500</td>\n",
       "      <td>S</td>\n",
       "      <td>0</td>\n",
       "      <td>1</td>\n",
       "      <td>0</td>\n",
       "      <td>0</td>\n",
       "      <td>1</td>\n",
       "    </tr>\n",
       "    <tr>\n",
       "      <th>...</th>\n",
       "      <td>...</td>\n",
       "      <td>...</td>\n",
       "      <td>...</td>\n",
       "      <td>...</td>\n",
       "      <td>...</td>\n",
       "      <td>...</td>\n",
       "      <td>...</td>\n",
       "      <td>...</td>\n",
       "      <td>...</td>\n",
       "      <td>...</td>\n",
       "      <td>...</td>\n",
       "      <td>...</td>\n",
       "      <td>...</td>\n",
       "      <td>...</td>\n",
       "    </tr>\n",
       "    <tr>\n",
       "      <th>886</th>\n",
       "      <td>887</td>\n",
       "      <td>0</td>\n",
       "      <td>Montvila, Rev. Juozas</td>\n",
       "      <td>27</td>\n",
       "      <td>0</td>\n",
       "      <td>0</td>\n",
       "      <td>211536</td>\n",
       "      <td>13.0000</td>\n",
       "      <td>S</td>\n",
       "      <td>0</td>\n",
       "      <td>1</td>\n",
       "      <td>0</td>\n",
       "      <td>1</td>\n",
       "      <td>0</td>\n",
       "    </tr>\n",
       "    <tr>\n",
       "      <th>887</th>\n",
       "      <td>888</td>\n",
       "      <td>1</td>\n",
       "      <td>Graham, Miss. Margaret Edith</td>\n",
       "      <td>19</td>\n",
       "      <td>0</td>\n",
       "      <td>0</td>\n",
       "      <td>112053</td>\n",
       "      <td>30.0000</td>\n",
       "      <td>S</td>\n",
       "      <td>1</td>\n",
       "      <td>0</td>\n",
       "      <td>1</td>\n",
       "      <td>0</td>\n",
       "      <td>0</td>\n",
       "    </tr>\n",
       "    <tr>\n",
       "      <th>888</th>\n",
       "      <td>889</td>\n",
       "      <td>0</td>\n",
       "      <td>Johnston, Miss. Catherine Helen \"Carrie\"</td>\n",
       "      <td>28</td>\n",
       "      <td>1</td>\n",
       "      <td>2</td>\n",
       "      <td>W./C. 6607</td>\n",
       "      <td>23.4500</td>\n",
       "      <td>S</td>\n",
       "      <td>1</td>\n",
       "      <td>0</td>\n",
       "      <td>0</td>\n",
       "      <td>0</td>\n",
       "      <td>1</td>\n",
       "    </tr>\n",
       "    <tr>\n",
       "      <th>889</th>\n",
       "      <td>890</td>\n",
       "      <td>1</td>\n",
       "      <td>Behr, Mr. Karl Howell</td>\n",
       "      <td>26</td>\n",
       "      <td>0</td>\n",
       "      <td>0</td>\n",
       "      <td>111369</td>\n",
       "      <td>30.0000</td>\n",
       "      <td>C</td>\n",
       "      <td>0</td>\n",
       "      <td>1</td>\n",
       "      <td>1</td>\n",
       "      <td>0</td>\n",
       "      <td>0</td>\n",
       "    </tr>\n",
       "    <tr>\n",
       "      <th>890</th>\n",
       "      <td>891</td>\n",
       "      <td>0</td>\n",
       "      <td>Dooley, Mr. Patrick</td>\n",
       "      <td>32</td>\n",
       "      <td>0</td>\n",
       "      <td>0</td>\n",
       "      <td>370376</td>\n",
       "      <td>7.7500</td>\n",
       "      <td>Q</td>\n",
       "      <td>0</td>\n",
       "      <td>1</td>\n",
       "      <td>0</td>\n",
       "      <td>0</td>\n",
       "      <td>1</td>\n",
       "    </tr>\n",
       "  </tbody>\n",
       "</table>\n",
       "<p>889 rows × 14 columns</p>\n",
       "</div>"
      ],
      "text/plain": [
       "     PassengerId  Survived                                               Name  \\\n",
       "0              1         0                            Braund, Mr. Owen Harris   \n",
       "1              2         1  Cumings, Mrs. John Bradley (Florence Briggs Th...   \n",
       "2              3         1                             Heikkinen, Miss. Laina   \n",
       "3              4         1       Futrelle, Mrs. Jacques Heath (Lily May Peel)   \n",
       "4              5         0                           Allen, Mr. William Henry   \n",
       "..           ...       ...                                                ...   \n",
       "886          887         0                              Montvila, Rev. Juozas   \n",
       "887          888         1                       Graham, Miss. Margaret Edith   \n",
       "888          889         0           Johnston, Miss. Catherine Helen \"Carrie\"   \n",
       "889          890         1                              Behr, Mr. Karl Howell   \n",
       "890          891         0                                Dooley, Mr. Patrick   \n",
       "\n",
       "     Age  SibSp  Parch            Ticket     Fare Embarked  female  male  1  \\\n",
       "0     22      1      0         A/5 21171   7.2500        S       0     1  0   \n",
       "1     38      1      0          PC 17599  71.2833        C       1     0  1   \n",
       "2     26      0      0  STON/O2. 3101282   7.9250        S       1     0  0   \n",
       "3     35      1      0            113803  53.1000        S       1     0  1   \n",
       "4     35      0      0            373450   8.0500        S       0     1  0   \n",
       "..   ...    ...    ...               ...      ...      ...     ...   ... ..   \n",
       "886   27      0      0            211536  13.0000        S       0     1  0   \n",
       "887   19      0      0            112053  30.0000        S       1     0  1   \n",
       "888   28      1      2        W./C. 6607  23.4500        S       1     0  0   \n",
       "889   26      0      0            111369  30.0000        C       0     1  1   \n",
       "890   32      0      0            370376   7.7500        Q       0     1  0   \n",
       "\n",
       "     2  3  \n",
       "0    0  1  \n",
       "1    0  0  \n",
       "2    0  1  \n",
       "3    0  0  \n",
       "4    0  1  \n",
       "..  .. ..  \n",
       "886  1  0  \n",
       "887  0  0  \n",
       "888  0  1  \n",
       "889  0  0  \n",
       "890  0  1  \n",
       "\n",
       "[889 rows x 14 columns]"
      ]
     },
     "execution_count": 612,
     "metadata": {},
     "output_type": "execute_result"
    }
   ],
   "source": [
    "# 상관분석을 위한 one_hot_encoding 시작\n",
    "# Sex 특징을 onehot으로 변환\n",
    "sex_dummy = pd.get_dummies(train_data['Sex'])\n",
    "train_data_dummy = pd.merge(left=train_data.drop('Sex', axis=1), right=sex_dummy, left_index=True, right_index=True)\n",
    "\n",
    "pclass_dummy = pd.get_dummies(train_data_dummy['Pclass'])\n",
    "train_data_dummy = pd.merge(left=train_data_dummy.drop('Pclass', axis=1), right=pclass_dummy, left_index=True, right_index=True)\n",
    "\n",
    "# age_dummy = pd.get_dummies(train_data_dummy['Age'])\n",
    "# train_data_dummy = pd.merge(left=train_data_dummy.drop('Age', axis=1), right=age_dummy, left_index=True, right_index=True)\n",
    "\n",
    "train_data_dummy"
   ]
  },
  {
   "cell_type": "code",
   "execution_count": 613,
   "id": "55879e84-57dc-43a8-82bd-84e088e7b8cd",
   "metadata": {},
   "outputs": [
    {
     "name": "stdout",
     "output_type": "stream",
     "text": [
      "<class 'pandas.core.frame.DataFrame'>\n",
      "Int64Index: 889 entries, 0 to 890\n",
      "Data columns (total 14 columns):\n",
      " #   Column       Non-Null Count  Dtype  \n",
      "---  ------       --------------  -----  \n",
      " 0   PassengerId  889 non-null    int64  \n",
      " 1   Survived     889 non-null    int64  \n",
      " 2   Name         889 non-null    object \n",
      " 3   Age          889 non-null    int64  \n",
      " 4   SibSp        889 non-null    int64  \n",
      " 5   Parch        889 non-null    int64  \n",
      " 6   Ticket       889 non-null    object \n",
      " 7   Fare         889 non-null    float64\n",
      " 8   Embarked     889 non-null    object \n",
      " 9   female       889 non-null    uint8  \n",
      " 10  male         889 non-null    uint8  \n",
      " 11  1            889 non-null    uint8  \n",
      " 12  2            889 non-null    uint8  \n",
      " 13  3            889 non-null    uint8  \n",
      "dtypes: float64(1), int64(5), object(3), uint8(5)\n",
      "memory usage: 106.1+ KB\n"
     ]
    }
   ],
   "source": [
    "train_data_dummy.info()"
   ]
  },
  {
   "cell_type": "code",
   "execution_count": 614,
   "id": "875bdc5d-f344-4291-80da-e9bd2f8eab98",
   "metadata": {},
   "outputs": [
    {
     "data": {
      "text/plain": [
       "Survived       1.000000\n",
       "female         0.541585\n",
       "1              0.282368\n",
       "Fare           0.255290\n",
       "2              0.095002\n",
       "Parch          0.083151\n",
       "PassengerId   -0.005028\n",
       "SibSp         -0.034040\n",
       "Age           -0.070143\n",
       "3             -0.320171\n",
       "male          -0.541585\n",
       "Name: Survived, dtype: float64"
      ]
     },
     "execution_count": 614,
     "metadata": {},
     "output_type": "execute_result"
    }
   ],
   "source": [
    "corr_matrix = train_data_dummy.corr()\n",
    "corr_matrix['Survived'].sort_values(ascending=False)"
   ]
  },
  {
   "cell_type": "markdown",
   "id": "7a76a319-3708-48af-b4e3-2aa139dcd8ca",
   "metadata": {
    "tags": []
   },
   "source": [
    "corr 상관분석 결과\n",
    "* Sex가 제일 높음\n",
    "* Pclass가 높음\n",
    "* Fare도 높음 -> 티켓가격이니 Pclass와 비슷한 관계\n",
    "* Age는 그렇게 높진 않지만 낮은 특징들에 비해서는 높은 수준\n",
    "* 상관분석도가 낮은 PassengerId, SibSp, Parch 는 제거하고 학습하는게 도움이 클듯\n",
    "* 또한, 학습에 어려운 데이터인 Name, Ticket, Embarked 데이터는 제거하고 학습"
   ]
  },
  {
   "cell_type": "code",
   "execution_count": 615,
   "id": "949ffc95-3b87-4173-b647-10574500630e",
   "metadata": {},
   "outputs": [
    {
     "data": {
      "text/plain": [
       "((889, 7), (889, 1))"
      ]
     },
     "execution_count": 615,
     "metadata": {},
     "output_type": "execute_result"
    }
   ],
   "source": [
    "train_data_last = train_data_dummy.drop(['PassengerId', 'SibSp', 'Parch', 'Name', 'Ticket', 'Embarked'],axis=1)\n",
    "train_data_last.head()\n",
    "X_train = train_data_last.drop('Survived', axis=1)\n",
    "y_train = train_data_last[['Survived']]\n",
    "X_train.shape, y_train.shape"
   ]
  },
  {
   "cell_type": "code",
   "execution_count": 616,
   "id": "2bd9f911-31fd-41b0-8c73-8354c314cc71",
   "metadata": {},
   "outputs": [
    {
     "data": {
      "text/html": [
       "<div>\n",
       "<style scoped>\n",
       "    .dataframe tbody tr th:only-of-type {\n",
       "        vertical-align: middle;\n",
       "    }\n",
       "\n",
       "    .dataframe tbody tr th {\n",
       "        vertical-align: top;\n",
       "    }\n",
       "\n",
       "    .dataframe thead th {\n",
       "        text-align: right;\n",
       "    }\n",
       "</style>\n",
       "<table border=\"1\" class=\"dataframe\">\n",
       "  <thead>\n",
       "    <tr style=\"text-align: right;\">\n",
       "      <th></th>\n",
       "      <th>Age</th>\n",
       "      <th>Fare</th>\n",
       "      <th>female</th>\n",
       "      <th>male</th>\n",
       "      <th>1</th>\n",
       "      <th>2</th>\n",
       "      <th>3</th>\n",
       "    </tr>\n",
       "  </thead>\n",
       "  <tbody>\n",
       "    <tr>\n",
       "      <th>0</th>\n",
       "      <td>22</td>\n",
       "      <td>7.2500</td>\n",
       "      <td>0</td>\n",
       "      <td>1</td>\n",
       "      <td>0</td>\n",
       "      <td>0</td>\n",
       "      <td>1</td>\n",
       "    </tr>\n",
       "    <tr>\n",
       "      <th>1</th>\n",
       "      <td>38</td>\n",
       "      <td>71.2833</td>\n",
       "      <td>1</td>\n",
       "      <td>0</td>\n",
       "      <td>1</td>\n",
       "      <td>0</td>\n",
       "      <td>0</td>\n",
       "    </tr>\n",
       "    <tr>\n",
       "      <th>2</th>\n",
       "      <td>26</td>\n",
       "      <td>7.9250</td>\n",
       "      <td>1</td>\n",
       "      <td>0</td>\n",
       "      <td>0</td>\n",
       "      <td>0</td>\n",
       "      <td>1</td>\n",
       "    </tr>\n",
       "    <tr>\n",
       "      <th>3</th>\n",
       "      <td>35</td>\n",
       "      <td>53.1000</td>\n",
       "      <td>1</td>\n",
       "      <td>0</td>\n",
       "      <td>1</td>\n",
       "      <td>0</td>\n",
       "      <td>0</td>\n",
       "    </tr>\n",
       "    <tr>\n",
       "      <th>4</th>\n",
       "      <td>35</td>\n",
       "      <td>8.0500</td>\n",
       "      <td>0</td>\n",
       "      <td>1</td>\n",
       "      <td>0</td>\n",
       "      <td>0</td>\n",
       "      <td>1</td>\n",
       "    </tr>\n",
       "  </tbody>\n",
       "</table>\n",
       "</div>"
      ],
      "text/plain": [
       "   Age     Fare  female  male  1  2  3\n",
       "0   22   7.2500       0     1  0  0  1\n",
       "1   38  71.2833       1     0  1  0  0\n",
       "2   26   7.9250       1     0  0  0  1\n",
       "3   35  53.1000       1     0  1  0  0\n",
       "4   35   8.0500       0     1  0  0  1"
      ]
     },
     "execution_count": 616,
     "metadata": {},
     "output_type": "execute_result"
    }
   ],
   "source": [
    "X_train.head()"
   ]
  },
  {
   "cell_type": "code",
   "execution_count": 617,
   "id": "039747ce-fb58-49e9-9521-d5557dc016cd",
   "metadata": {
    "scrolled": true,
    "tags": []
   },
   "outputs": [
    {
     "name": "stdout",
     "output_type": "stream",
     "text": [
      "Fitting 5 folds for each of 88 candidates, totalling 440 fits\n",
      "[CV 1/5] END ....max_features=3, n_estimators=5;, score=0.758 total time=   0.0s\n",
      "[CV 2/5] END ....max_features=3, n_estimators=5;, score=0.770 total time=   0.0s\n",
      "[CV 3/5] END ....max_features=3, n_estimators=5;, score=0.843 total time=   0.0s\n",
      "[CV 4/5] END ....max_features=3, n_estimators=5;, score=0.792 total time=   0.0s\n",
      "[CV 5/5] END ....max_features=3, n_estimators=5;, score=0.836 total time=   0.0s\n",
      "[CV 1/5] END ...max_features=3, n_estimators=10;, score=0.758 total time=   0.0s\n",
      "[CV 2/5] END ...max_features=3, n_estimators=10;, score=0.820 total time=   0.0s\n",
      "[CV 3/5] END ...max_features=3, n_estimators=10;, score=0.871 total time=   0.0s\n",
      "[CV 4/5] END ...max_features=3, n_estimators=10;, score=0.792 total time=   0.0s\n",
      "[CV 5/5] END ...max_features=3, n_estimators=10;, score=0.831 total time=   0.0s\n",
      "[CV 1/5] END ...max_features=3, n_estimators=20;, score=0.753 total time=   0.0s"
     ]
    },
    {
     "name": "stderr",
     "output_type": "stream",
     "text": [
      "D:\\anaconda3\\envs\\ml_study\\lib\\site-packages\\sklearn\\model_selection\\_validation.py:680: DataConversionWarning: A column-vector y was passed when a 1d array was expected. Please change the shape of y to (n_samples,), for example using ravel().\n",
      "  estimator.fit(X_train, y_train, **fit_params)\n",
      "D:\\anaconda3\\envs\\ml_study\\lib\\site-packages\\sklearn\\model_selection\\_validation.py:680: DataConversionWarning: A column-vector y was passed when a 1d array was expected. Please change the shape of y to (n_samples,), for example using ravel().\n",
      "  estimator.fit(X_train, y_train, **fit_params)\n",
      "D:\\anaconda3\\envs\\ml_study\\lib\\site-packages\\sklearn\\model_selection\\_validation.py:680: DataConversionWarning: A column-vector y was passed when a 1d array was expected. Please change the shape of y to (n_samples,), for example using ravel().\n",
      "  estimator.fit(X_train, y_train, **fit_params)\n",
      "D:\\anaconda3\\envs\\ml_study\\lib\\site-packages\\sklearn\\model_selection\\_validation.py:680: DataConversionWarning: A column-vector y was passed when a 1d array was expected. Please change the shape of y to (n_samples,), for example using ravel().\n",
      "  estimator.fit(X_train, y_train, **fit_params)\n",
      "D:\\anaconda3\\envs\\ml_study\\lib\\site-packages\\sklearn\\model_selection\\_validation.py:680: DataConversionWarning: A column-vector y was passed when a 1d array was expected. Please change the shape of y to (n_samples,), for example using ravel().\n",
      "  estimator.fit(X_train, y_train, **fit_params)\n",
      "D:\\anaconda3\\envs\\ml_study\\lib\\site-packages\\sklearn\\model_selection\\_validation.py:680: DataConversionWarning: A column-vector y was passed when a 1d array was expected. Please change the shape of y to (n_samples,), for example using ravel().\n",
      "  estimator.fit(X_train, y_train, **fit_params)\n",
      "D:\\anaconda3\\envs\\ml_study\\lib\\site-packages\\sklearn\\model_selection\\_validation.py:680: DataConversionWarning: A column-vector y was passed when a 1d array was expected. Please change the shape of y to (n_samples,), for example using ravel().\n",
      "  estimator.fit(X_train, y_train, **fit_params)\n",
      "D:\\anaconda3\\envs\\ml_study\\lib\\site-packages\\sklearn\\model_selection\\_validation.py:680: DataConversionWarning: A column-vector y was passed when a 1d array was expected. Please change the shape of y to (n_samples,), for example using ravel().\n",
      "  estimator.fit(X_train, y_train, **fit_params)\n",
      "D:\\anaconda3\\envs\\ml_study\\lib\\site-packages\\sklearn\\model_selection\\_validation.py:680: DataConversionWarning: A column-vector y was passed when a 1d array was expected. Please change the shape of y to (n_samples,), for example using ravel().\n",
      "  estimator.fit(X_train, y_train, **fit_params)\n",
      "D:\\anaconda3\\envs\\ml_study\\lib\\site-packages\\sklearn\\model_selection\\_validation.py:680: DataConversionWarning: A column-vector y was passed when a 1d array was expected. Please change the shape of y to (n_samples,), for example using ravel().\n",
      "  estimator.fit(X_train, y_train, **fit_params)\n",
      "D:\\anaconda3\\envs\\ml_study\\lib\\site-packages\\sklearn\\model_selection\\_validation.py:680: DataConversionWarning: A column-vector y was passed when a 1d array was expected. Please change the shape of y to (n_samples,), for example using ravel().\n",
      "  estimator.fit(X_train, y_train, **fit_params)\n"
     ]
    },
    {
     "name": "stdout",
     "output_type": "stream",
     "text": [
      "\n",
      "[CV 2/5] END ...max_features=3, n_estimators=20;, score=0.798 total time=   0.0s\n",
      "[CV 3/5] END ...max_features=3, n_estimators=20;, score=0.843 total time=   0.0s\n",
      "[CV 4/5] END ...max_features=3, n_estimators=20;, score=0.798 total time=   0.0s\n",
      "[CV 5/5] END ...max_features=3, n_estimators=20;, score=0.825 total time=   0.0s\n",
      "[CV 1/5] END ...max_features=3, n_estimators=30;, score=0.781 total time=   0.0s\n"
     ]
    },
    {
     "name": "stderr",
     "output_type": "stream",
     "text": [
      "D:\\anaconda3\\envs\\ml_study\\lib\\site-packages\\sklearn\\model_selection\\_validation.py:680: DataConversionWarning: A column-vector y was passed when a 1d array was expected. Please change the shape of y to (n_samples,), for example using ravel().\n",
      "  estimator.fit(X_train, y_train, **fit_params)\n",
      "D:\\anaconda3\\envs\\ml_study\\lib\\site-packages\\sklearn\\model_selection\\_validation.py:680: DataConversionWarning: A column-vector y was passed when a 1d array was expected. Please change the shape of y to (n_samples,), for example using ravel().\n",
      "  estimator.fit(X_train, y_train, **fit_params)\n",
      "D:\\anaconda3\\envs\\ml_study\\lib\\site-packages\\sklearn\\model_selection\\_validation.py:680: DataConversionWarning: A column-vector y was passed when a 1d array was expected. Please change the shape of y to (n_samples,), for example using ravel().\n",
      "  estimator.fit(X_train, y_train, **fit_params)\n",
      "D:\\anaconda3\\envs\\ml_study\\lib\\site-packages\\sklearn\\model_selection\\_validation.py:680: DataConversionWarning: A column-vector y was passed when a 1d array was expected. Please change the shape of y to (n_samples,), for example using ravel().\n",
      "  estimator.fit(X_train, y_train, **fit_params)\n",
      "D:\\anaconda3\\envs\\ml_study\\lib\\site-packages\\sklearn\\model_selection\\_validation.py:680: DataConversionWarning: A column-vector y was passed when a 1d array was expected. Please change the shape of y to (n_samples,), for example using ravel().\n",
      "  estimator.fit(X_train, y_train, **fit_params)\n"
     ]
    },
    {
     "name": "stdout",
     "output_type": "stream",
     "text": [
      "[CV 2/5] END ...max_features=3, n_estimators=30;, score=0.815 total time=   0.0s\n",
      "[CV 3/5] END ...max_features=3, n_estimators=30;, score=0.826 total time=   0.0s\n",
      "[CV 4/5] END ...max_features=3, n_estimators=30;, score=0.798 total time=   0.0s\n",
      "[CV 5/5] END ...max_features=3, n_estimators=30;, score=0.814 total time=   0.0s\n"
     ]
    },
    {
     "name": "stderr",
     "output_type": "stream",
     "text": [
      "D:\\anaconda3\\envs\\ml_study\\lib\\site-packages\\sklearn\\model_selection\\_validation.py:680: DataConversionWarning: A column-vector y was passed when a 1d array was expected. Please change the shape of y to (n_samples,), for example using ravel().\n",
      "  estimator.fit(X_train, y_train, **fit_params)\n",
      "D:\\anaconda3\\envs\\ml_study\\lib\\site-packages\\sklearn\\model_selection\\_validation.py:680: DataConversionWarning: A column-vector y was passed when a 1d array was expected. Please change the shape of y to (n_samples,), for example using ravel().\n",
      "  estimator.fit(X_train, y_train, **fit_params)\n",
      "D:\\anaconda3\\envs\\ml_study\\lib\\site-packages\\sklearn\\model_selection\\_validation.py:680: DataConversionWarning: A column-vector y was passed when a 1d array was expected. Please change the shape of y to (n_samples,), for example using ravel().\n",
      "  estimator.fit(X_train, y_train, **fit_params)\n",
      "D:\\anaconda3\\envs\\ml_study\\lib\\site-packages\\sklearn\\model_selection\\_validation.py:680: DataConversionWarning: A column-vector y was passed when a 1d array was expected. Please change the shape of y to (n_samples,), for example using ravel().\n",
      "  estimator.fit(X_train, y_train, **fit_params)\n",
      "D:\\anaconda3\\envs\\ml_study\\lib\\site-packages\\sklearn\\model_selection\\_validation.py:680: DataConversionWarning: A column-vector y was passed when a 1d array was expected. Please change the shape of y to (n_samples,), for example using ravel().\n",
      "  estimator.fit(X_train, y_train, **fit_params)\n"
     ]
    },
    {
     "name": "stdout",
     "output_type": "stream",
     "text": [
      "[CV 1/5] END ...max_features=3, n_estimators=40;, score=0.770 total time=   0.0s\n",
      "[CV 2/5] END ...max_features=3, n_estimators=40;, score=0.803 total time=   0.0s\n",
      "[CV 3/5] END ...max_features=3, n_estimators=40;, score=0.848 total time=   0.0s\n"
     ]
    },
    {
     "name": "stderr",
     "output_type": "stream",
     "text": [
      "D:\\anaconda3\\envs\\ml_study\\lib\\site-packages\\sklearn\\model_selection\\_validation.py:680: DataConversionWarning: A column-vector y was passed when a 1d array was expected. Please change the shape of y to (n_samples,), for example using ravel().\n",
      "  estimator.fit(X_train, y_train, **fit_params)\n",
      "D:\\anaconda3\\envs\\ml_study\\lib\\site-packages\\sklearn\\model_selection\\_validation.py:680: DataConversionWarning: A column-vector y was passed when a 1d array was expected. Please change the shape of y to (n_samples,), for example using ravel().\n",
      "  estimator.fit(X_train, y_train, **fit_params)\n",
      "D:\\anaconda3\\envs\\ml_study\\lib\\site-packages\\sklearn\\model_selection\\_validation.py:680: DataConversionWarning: A column-vector y was passed when a 1d array was expected. Please change the shape of y to (n_samples,), for example using ravel().\n",
      "  estimator.fit(X_train, y_train, **fit_params)\n"
     ]
    },
    {
     "name": "stdout",
     "output_type": "stream",
     "text": [
      "[CV 4/5] END ...max_features=3, n_estimators=40;, score=0.803 total time=   0.0s\n",
      "[CV 5/5] END ...max_features=3, n_estimators=40;, score=0.836 total time=   0.0s\n",
      "[CV 1/5] END ...max_features=3, n_estimators=50;, score=0.787 total time=   0.0s\n"
     ]
    },
    {
     "name": "stderr",
     "output_type": "stream",
     "text": [
      "D:\\anaconda3\\envs\\ml_study\\lib\\site-packages\\sklearn\\model_selection\\_validation.py:680: DataConversionWarning: A column-vector y was passed when a 1d array was expected. Please change the shape of y to (n_samples,), for example using ravel().\n",
      "  estimator.fit(X_train, y_train, **fit_params)\n",
      "D:\\anaconda3\\envs\\ml_study\\lib\\site-packages\\sklearn\\model_selection\\_validation.py:680: DataConversionWarning: A column-vector y was passed when a 1d array was expected. Please change the shape of y to (n_samples,), for example using ravel().\n",
      "  estimator.fit(X_train, y_train, **fit_params)\n",
      "D:\\anaconda3\\envs\\ml_study\\lib\\site-packages\\sklearn\\model_selection\\_validation.py:680: DataConversionWarning: A column-vector y was passed when a 1d array was expected. Please change the shape of y to (n_samples,), for example using ravel().\n",
      "  estimator.fit(X_train, y_train, **fit_params)\n"
     ]
    },
    {
     "name": "stdout",
     "output_type": "stream",
     "text": [
      "[CV 2/5] END ...max_features=3, n_estimators=50;, score=0.798 total time=   0.0s\n",
      "[CV 3/5] END ...max_features=3, n_estimators=50;, score=0.843 total time=   0.0s\n",
      "[CV 4/5] END ...max_features=3, n_estimators=50;, score=0.815 total time=   0.0s\n"
     ]
    },
    {
     "name": "stderr",
     "output_type": "stream",
     "text": [
      "D:\\anaconda3\\envs\\ml_study\\lib\\site-packages\\sklearn\\model_selection\\_validation.py:680: DataConversionWarning: A column-vector y was passed when a 1d array was expected. Please change the shape of y to (n_samples,), for example using ravel().\n",
      "  estimator.fit(X_train, y_train, **fit_params)\n",
      "D:\\anaconda3\\envs\\ml_study\\lib\\site-packages\\sklearn\\model_selection\\_validation.py:680: DataConversionWarning: A column-vector y was passed when a 1d array was expected. Please change the shape of y to (n_samples,), for example using ravel().\n",
      "  estimator.fit(X_train, y_train, **fit_params)\n",
      "D:\\anaconda3\\envs\\ml_study\\lib\\site-packages\\sklearn\\model_selection\\_validation.py:680: DataConversionWarning: A column-vector y was passed when a 1d array was expected. Please change the shape of y to (n_samples,), for example using ravel().\n",
      "  estimator.fit(X_train, y_train, **fit_params)\n"
     ]
    },
    {
     "name": "stdout",
     "output_type": "stream",
     "text": [
      "[CV 5/5] END ...max_features=3, n_estimators=50;, score=0.831 total time=   0.0s\n",
      "[CV 1/5] END ..max_features=3, n_estimators=100;, score=0.764 total time=   0.1s\n"
     ]
    },
    {
     "name": "stderr",
     "output_type": "stream",
     "text": [
      "D:\\anaconda3\\envs\\ml_study\\lib\\site-packages\\sklearn\\model_selection\\_validation.py:680: DataConversionWarning: A column-vector y was passed when a 1d array was expected. Please change the shape of y to (n_samples,), for example using ravel().\n",
      "  estimator.fit(X_train, y_train, **fit_params)\n",
      "D:\\anaconda3\\envs\\ml_study\\lib\\site-packages\\sklearn\\model_selection\\_validation.py:680: DataConversionWarning: A column-vector y was passed when a 1d array was expected. Please change the shape of y to (n_samples,), for example using ravel().\n",
      "  estimator.fit(X_train, y_train, **fit_params)\n"
     ]
    },
    {
     "name": "stdout",
     "output_type": "stream",
     "text": [
      "[CV 2/5] END ..max_features=3, n_estimators=100;, score=0.815 total time=   0.1s\n",
      "[CV 3/5] END ..max_features=3, n_estimators=100;, score=0.837 total time=   0.1s\n"
     ]
    },
    {
     "name": "stderr",
     "output_type": "stream",
     "text": [
      "D:\\anaconda3\\envs\\ml_study\\lib\\site-packages\\sklearn\\model_selection\\_validation.py:680: DataConversionWarning: A column-vector y was passed when a 1d array was expected. Please change the shape of y to (n_samples,), for example using ravel().\n",
      "  estimator.fit(X_train, y_train, **fit_params)\n",
      "D:\\anaconda3\\envs\\ml_study\\lib\\site-packages\\sklearn\\model_selection\\_validation.py:680: DataConversionWarning: A column-vector y was passed when a 1d array was expected. Please change the shape of y to (n_samples,), for example using ravel().\n",
      "  estimator.fit(X_train, y_train, **fit_params)\n"
     ]
    },
    {
     "name": "stdout",
     "output_type": "stream",
     "text": [
      "[CV 4/5] END ..max_features=3, n_estimators=100;, score=0.798 total time=   0.1s\n",
      "[CV 5/5] END ..max_features=3, n_estimators=100;, score=0.825 total time=   0.1s\n"
     ]
    },
    {
     "name": "stderr",
     "output_type": "stream",
     "text": [
      "D:\\anaconda3\\envs\\ml_study\\lib\\site-packages\\sklearn\\model_selection\\_validation.py:680: DataConversionWarning: A column-vector y was passed when a 1d array was expected. Please change the shape of y to (n_samples,), for example using ravel().\n",
      "  estimator.fit(X_train, y_train, **fit_params)\n",
      "D:\\anaconda3\\envs\\ml_study\\lib\\site-packages\\sklearn\\model_selection\\_validation.py:680: DataConversionWarning: A column-vector y was passed when a 1d array was expected. Please change the shape of y to (n_samples,), for example using ravel().\n",
      "  estimator.fit(X_train, y_train, **fit_params)\n"
     ]
    },
    {
     "name": "stdout",
     "output_type": "stream",
     "text": [
      "[CV 1/5] END ..max_features=3, n_estimators=150;, score=0.781 total time=   0.2s\n"
     ]
    },
    {
     "name": "stderr",
     "output_type": "stream",
     "text": [
      "D:\\anaconda3\\envs\\ml_study\\lib\\site-packages\\sklearn\\model_selection\\_validation.py:680: DataConversionWarning: A column-vector y was passed when a 1d array was expected. Please change the shape of y to (n_samples,), for example using ravel().\n",
      "  estimator.fit(X_train, y_train, **fit_params)\n"
     ]
    },
    {
     "name": "stdout",
     "output_type": "stream",
     "text": [
      "[CV 2/5] END ..max_features=3, n_estimators=150;, score=0.809 total time=   0.2s\n"
     ]
    },
    {
     "name": "stderr",
     "output_type": "stream",
     "text": [
      "D:\\anaconda3\\envs\\ml_study\\lib\\site-packages\\sklearn\\model_selection\\_validation.py:680: DataConversionWarning: A column-vector y was passed when a 1d array was expected. Please change the shape of y to (n_samples,), for example using ravel().\n",
      "  estimator.fit(X_train, y_train, **fit_params)\n"
     ]
    },
    {
     "name": "stdout",
     "output_type": "stream",
     "text": [
      "[CV 3/5] END ..max_features=3, n_estimators=150;, score=0.848 total time=   0.2s\n"
     ]
    },
    {
     "name": "stderr",
     "output_type": "stream",
     "text": [
      "D:\\anaconda3\\envs\\ml_study\\lib\\site-packages\\sklearn\\model_selection\\_validation.py:680: DataConversionWarning: A column-vector y was passed when a 1d array was expected. Please change the shape of y to (n_samples,), for example using ravel().\n",
      "  estimator.fit(X_train, y_train, **fit_params)\n"
     ]
    },
    {
     "name": "stdout",
     "output_type": "stream",
     "text": [
      "[CV 4/5] END ..max_features=3, n_estimators=150;, score=0.798 total time=   0.2s\n"
     ]
    },
    {
     "name": "stderr",
     "output_type": "stream",
     "text": [
      "D:\\anaconda3\\envs\\ml_study\\lib\\site-packages\\sklearn\\model_selection\\_validation.py:680: DataConversionWarning: A column-vector y was passed when a 1d array was expected. Please change the shape of y to (n_samples,), for example using ravel().\n",
      "  estimator.fit(X_train, y_train, **fit_params)\n"
     ]
    },
    {
     "name": "stdout",
     "output_type": "stream",
     "text": [
      "[CV 5/5] END ..max_features=3, n_estimators=150;, score=0.825 total time=   0.2s\n"
     ]
    },
    {
     "name": "stderr",
     "output_type": "stream",
     "text": [
      "D:\\anaconda3\\envs\\ml_study\\lib\\site-packages\\sklearn\\model_selection\\_validation.py:680: DataConversionWarning: A column-vector y was passed when a 1d array was expected. Please change the shape of y to (n_samples,), for example using ravel().\n",
      "  estimator.fit(X_train, y_train, **fit_params)\n"
     ]
    },
    {
     "name": "stdout",
     "output_type": "stream",
     "text": [
      "[CV 1/5] END ..max_features=3, n_estimators=200;, score=0.792 total time=   0.3s\n"
     ]
    },
    {
     "name": "stderr",
     "output_type": "stream",
     "text": [
      "D:\\anaconda3\\envs\\ml_study\\lib\\site-packages\\sklearn\\model_selection\\_validation.py:680: DataConversionWarning: A column-vector y was passed when a 1d array was expected. Please change the shape of y to (n_samples,), for example using ravel().\n",
      "  estimator.fit(X_train, y_train, **fit_params)\n"
     ]
    },
    {
     "name": "stdout",
     "output_type": "stream",
     "text": [
      "[CV 2/5] END ..max_features=3, n_estimators=200;, score=0.809 total time=   0.3s\n"
     ]
    },
    {
     "name": "stderr",
     "output_type": "stream",
     "text": [
      "D:\\anaconda3\\envs\\ml_study\\lib\\site-packages\\sklearn\\model_selection\\_validation.py:680: DataConversionWarning: A column-vector y was passed when a 1d array was expected. Please change the shape of y to (n_samples,), for example using ravel().\n",
      "  estimator.fit(X_train, y_train, **fit_params)\n"
     ]
    },
    {
     "name": "stdout",
     "output_type": "stream",
     "text": [
      "[CV 3/5] END ..max_features=3, n_estimators=200;, score=0.843 total time=   0.2s\n"
     ]
    },
    {
     "name": "stderr",
     "output_type": "stream",
     "text": [
      "D:\\anaconda3\\envs\\ml_study\\lib\\site-packages\\sklearn\\model_selection\\_validation.py:680: DataConversionWarning: A column-vector y was passed when a 1d array was expected. Please change the shape of y to (n_samples,), for example using ravel().\n",
      "  estimator.fit(X_train, y_train, **fit_params)\n"
     ]
    },
    {
     "name": "stdout",
     "output_type": "stream",
     "text": [
      "[CV 4/5] END ..max_features=3, n_estimators=200;, score=0.798 total time=   0.2s\n"
     ]
    },
    {
     "name": "stderr",
     "output_type": "stream",
     "text": [
      "D:\\anaconda3\\envs\\ml_study\\lib\\site-packages\\sklearn\\model_selection\\_validation.py:680: DataConversionWarning: A column-vector y was passed when a 1d array was expected. Please change the shape of y to (n_samples,), for example using ravel().\n",
      "  estimator.fit(X_train, y_train, **fit_params)\n"
     ]
    },
    {
     "name": "stdout",
     "output_type": "stream",
     "text": [
      "[CV 5/5] END ..max_features=3, n_estimators=200;, score=0.842 total time=   0.2s\n"
     ]
    },
    {
     "name": "stderr",
     "output_type": "stream",
     "text": [
      "D:\\anaconda3\\envs\\ml_study\\lib\\site-packages\\sklearn\\model_selection\\_validation.py:680: DataConversionWarning: A column-vector y was passed when a 1d array was expected. Please change the shape of y to (n_samples,), for example using ravel().\n",
      "  estimator.fit(X_train, y_train, **fit_params)\n"
     ]
    },
    {
     "name": "stdout",
     "output_type": "stream",
     "text": [
      "[CV 1/5] END ..max_features=3, n_estimators=250;, score=0.787 total time=   0.2s\n"
     ]
    },
    {
     "name": "stderr",
     "output_type": "stream",
     "text": [
      "D:\\anaconda3\\envs\\ml_study\\lib\\site-packages\\sklearn\\model_selection\\_validation.py:680: DataConversionWarning: A column-vector y was passed when a 1d array was expected. Please change the shape of y to (n_samples,), for example using ravel().\n",
      "  estimator.fit(X_train, y_train, **fit_params)\n"
     ]
    },
    {
     "name": "stdout",
     "output_type": "stream",
     "text": [
      "[CV 2/5] END ..max_features=3, n_estimators=250;, score=0.803 total time=   0.4s\n"
     ]
    },
    {
     "name": "stderr",
     "output_type": "stream",
     "text": [
      "D:\\anaconda3\\envs\\ml_study\\lib\\site-packages\\sklearn\\model_selection\\_validation.py:680: DataConversionWarning: A column-vector y was passed when a 1d array was expected. Please change the shape of y to (n_samples,), for example using ravel().\n",
      "  estimator.fit(X_train, y_train, **fit_params)\n"
     ]
    },
    {
     "name": "stdout",
     "output_type": "stream",
     "text": [
      "[CV 3/5] END ..max_features=3, n_estimators=250;, score=0.854 total time=   0.3s\n"
     ]
    },
    {
     "name": "stderr",
     "output_type": "stream",
     "text": [
      "D:\\anaconda3\\envs\\ml_study\\lib\\site-packages\\sklearn\\model_selection\\_validation.py:680: DataConversionWarning: A column-vector y was passed when a 1d array was expected. Please change the shape of y to (n_samples,), for example using ravel().\n",
      "  estimator.fit(X_train, y_train, **fit_params)\n"
     ]
    },
    {
     "name": "stdout",
     "output_type": "stream",
     "text": [
      "[CV 4/5] END ..max_features=3, n_estimators=250;, score=0.792 total time=   0.3s\n"
     ]
    },
    {
     "name": "stderr",
     "output_type": "stream",
     "text": [
      "D:\\anaconda3\\envs\\ml_study\\lib\\site-packages\\sklearn\\model_selection\\_validation.py:680: DataConversionWarning: A column-vector y was passed when a 1d array was expected. Please change the shape of y to (n_samples,), for example using ravel().\n",
      "  estimator.fit(X_train, y_train, **fit_params)\n"
     ]
    },
    {
     "name": "stdout",
     "output_type": "stream",
     "text": [
      "[CV 5/5] END ..max_features=3, n_estimators=250;, score=0.836 total time=   0.3s\n"
     ]
    },
    {
     "name": "stderr",
     "output_type": "stream",
     "text": [
      "D:\\anaconda3\\envs\\ml_study\\lib\\site-packages\\sklearn\\model_selection\\_validation.py:680: DataConversionWarning: A column-vector y was passed when a 1d array was expected. Please change the shape of y to (n_samples,), for example using ravel().\n",
      "  estimator.fit(X_train, y_train, **fit_params)\n"
     ]
    },
    {
     "name": "stdout",
     "output_type": "stream",
     "text": [
      "[CV 1/5] END ..max_features=3, n_estimators=300;, score=0.781 total time=   0.4s\n"
     ]
    },
    {
     "name": "stderr",
     "output_type": "stream",
     "text": [
      "D:\\anaconda3\\envs\\ml_study\\lib\\site-packages\\sklearn\\model_selection\\_validation.py:680: DataConversionWarning: A column-vector y was passed when a 1d array was expected. Please change the shape of y to (n_samples,), for example using ravel().\n",
      "  estimator.fit(X_train, y_train, **fit_params)\n"
     ]
    },
    {
     "name": "stdout",
     "output_type": "stream",
     "text": [
      "[CV 2/5] END ..max_features=3, n_estimators=300;, score=0.803 total time=   0.3s\n"
     ]
    },
    {
     "name": "stderr",
     "output_type": "stream",
     "text": [
      "D:\\anaconda3\\envs\\ml_study\\lib\\site-packages\\sklearn\\model_selection\\_validation.py:680: DataConversionWarning: A column-vector y was passed when a 1d array was expected. Please change the shape of y to (n_samples,), for example using ravel().\n",
      "  estimator.fit(X_train, y_train, **fit_params)\n"
     ]
    },
    {
     "name": "stdout",
     "output_type": "stream",
     "text": [
      "[CV 3/5] END ..max_features=3, n_estimators=300;, score=0.843 total time=   0.5s\n"
     ]
    },
    {
     "name": "stderr",
     "output_type": "stream",
     "text": [
      "D:\\anaconda3\\envs\\ml_study\\lib\\site-packages\\sklearn\\model_selection\\_validation.py:680: DataConversionWarning: A column-vector y was passed when a 1d array was expected. Please change the shape of y to (n_samples,), for example using ravel().\n",
      "  estimator.fit(X_train, y_train, **fit_params)\n"
     ]
    },
    {
     "name": "stdout",
     "output_type": "stream",
     "text": [
      "[CV 4/5] END ..max_features=3, n_estimators=300;, score=0.809 total time=   0.4s\n"
     ]
    },
    {
     "name": "stderr",
     "output_type": "stream",
     "text": [
      "D:\\anaconda3\\envs\\ml_study\\lib\\site-packages\\sklearn\\model_selection\\_validation.py:680: DataConversionWarning: A column-vector y was passed when a 1d array was expected. Please change the shape of y to (n_samples,), for example using ravel().\n",
      "  estimator.fit(X_train, y_train, **fit_params)\n"
     ]
    },
    {
     "name": "stdout",
     "output_type": "stream",
     "text": [
      "[CV 5/5] END ..max_features=3, n_estimators=300;, score=0.847 total time=   0.4s\n",
      "[CV 1/5] END ....max_features=4, n_estimators=5;, score=0.753 total time=   0.0s\n",
      "[CV 2/5] END ....max_features=4, n_estimators=5;, score=0.798 total time=   0.0s\n",
      "[CV 3/5] END ....max_features=4, n_estimators=5;, score=0.798 total time=   0.0s\n",
      "[CV 4/5] END ....max_features=4, n_estimators=5;, score=0.803 total time=   0.0s\n",
      "[CV 5/5] END ....max_features=4, n_estimators=5;, score=0.847 total time=   0.0s\n",
      "[CV 1/5] END ...max_features=4, n_estimators=10;, score=0.775 total time=   0.0s\n",
      "[CV 2/5] END ...max_features=4, n_estimators=10;, score=0.792 total time=   0.0s\n",
      "[CV 3/5] END ...max_features=4, n_estimators=10;, score=0.860 total time=   0.0s\n",
      "[CV 4/5] END ...max_features=4, n_estimators=10;, score=0.798 total time=   0.0s\n",
      "[CV 5/5] END ...max_features=4, n_estimators=10;, score=0.814 total time=   0.0s\n",
      "[CV 1/5] END ...max_features=4, n_estimators=20;, score=0.775 total time=   0.0s\n",
      "[CV 2/5] END ...max_features=4, n_estimators=20;, score=0.792 total time=   0.0s\n"
     ]
    },
    {
     "name": "stderr",
     "output_type": "stream",
     "text": [
      "D:\\anaconda3\\envs\\ml_study\\lib\\site-packages\\sklearn\\model_selection\\_validation.py:680: DataConversionWarning: A column-vector y was passed when a 1d array was expected. Please change the shape of y to (n_samples,), for example using ravel().\n",
      "  estimator.fit(X_train, y_train, **fit_params)\n",
      "D:\\anaconda3\\envs\\ml_study\\lib\\site-packages\\sklearn\\model_selection\\_validation.py:680: DataConversionWarning: A column-vector y was passed when a 1d array was expected. Please change the shape of y to (n_samples,), for example using ravel().\n",
      "  estimator.fit(X_train, y_train, **fit_params)\n",
      "D:\\anaconda3\\envs\\ml_study\\lib\\site-packages\\sklearn\\model_selection\\_validation.py:680: DataConversionWarning: A column-vector y was passed when a 1d array was expected. Please change the shape of y to (n_samples,), for example using ravel().\n",
      "  estimator.fit(X_train, y_train, **fit_params)\n",
      "D:\\anaconda3\\envs\\ml_study\\lib\\site-packages\\sklearn\\model_selection\\_validation.py:680: DataConversionWarning: A column-vector y was passed when a 1d array was expected. Please change the shape of y to (n_samples,), for example using ravel().\n",
      "  estimator.fit(X_train, y_train, **fit_params)\n",
      "D:\\anaconda3\\envs\\ml_study\\lib\\site-packages\\sklearn\\model_selection\\_validation.py:680: DataConversionWarning: A column-vector y was passed when a 1d array was expected. Please change the shape of y to (n_samples,), for example using ravel().\n",
      "  estimator.fit(X_train, y_train, **fit_params)\n",
      "D:\\anaconda3\\envs\\ml_study\\lib\\site-packages\\sklearn\\model_selection\\_validation.py:680: DataConversionWarning: A column-vector y was passed when a 1d array was expected. Please change the shape of y to (n_samples,), for example using ravel().\n",
      "  estimator.fit(X_train, y_train, **fit_params)\n",
      "D:\\anaconda3\\envs\\ml_study\\lib\\site-packages\\sklearn\\model_selection\\_validation.py:680: DataConversionWarning: A column-vector y was passed when a 1d array was expected. Please change the shape of y to (n_samples,), for example using ravel().\n",
      "  estimator.fit(X_train, y_train, **fit_params)\n",
      "D:\\anaconda3\\envs\\ml_study\\lib\\site-packages\\sklearn\\model_selection\\_validation.py:680: DataConversionWarning: A column-vector y was passed when a 1d array was expected. Please change the shape of y to (n_samples,), for example using ravel().\n",
      "  estimator.fit(X_train, y_train, **fit_params)\n",
      "D:\\anaconda3\\envs\\ml_study\\lib\\site-packages\\sklearn\\model_selection\\_validation.py:680: DataConversionWarning: A column-vector y was passed when a 1d array was expected. Please change the shape of y to (n_samples,), for example using ravel().\n",
      "  estimator.fit(X_train, y_train, **fit_params)\n",
      "D:\\anaconda3\\envs\\ml_study\\lib\\site-packages\\sklearn\\model_selection\\_validation.py:680: DataConversionWarning: A column-vector y was passed when a 1d array was expected. Please change the shape of y to (n_samples,), for example using ravel().\n",
      "  estimator.fit(X_train, y_train, **fit_params)\n",
      "D:\\anaconda3\\envs\\ml_study\\lib\\site-packages\\sklearn\\model_selection\\_validation.py:680: DataConversionWarning: A column-vector y was passed when a 1d array was expected. Please change the shape of y to (n_samples,), for example using ravel().\n",
      "  estimator.fit(X_train, y_train, **fit_params)\n",
      "D:\\anaconda3\\envs\\ml_study\\lib\\site-packages\\sklearn\\model_selection\\_validation.py:680: DataConversionWarning: A column-vector y was passed when a 1d array was expected. Please change the shape of y to (n_samples,), for example using ravel().\n",
      "  estimator.fit(X_train, y_train, **fit_params)\n",
      "D:\\anaconda3\\envs\\ml_study\\lib\\site-packages\\sklearn\\model_selection\\_validation.py:680: DataConversionWarning: A column-vector y was passed when a 1d array was expected. Please change the shape of y to (n_samples,), for example using ravel().\n",
      "  estimator.fit(X_train, y_train, **fit_params)\n",
      "D:\\anaconda3\\envs\\ml_study\\lib\\site-packages\\sklearn\\model_selection\\_validation.py:680: DataConversionWarning: A column-vector y was passed when a 1d array was expected. Please change the shape of y to (n_samples,), for example using ravel().\n",
      "  estimator.fit(X_train, y_train, **fit_params)\n",
      "D:\\anaconda3\\envs\\ml_study\\lib\\site-packages\\sklearn\\model_selection\\_validation.py:680: DataConversionWarning: A column-vector y was passed when a 1d array was expected. Please change the shape of y to (n_samples,), for example using ravel().\n",
      "  estimator.fit(X_train, y_train, **fit_params)\n",
      "D:\\anaconda3\\envs\\ml_study\\lib\\site-packages\\sklearn\\model_selection\\_validation.py:680: DataConversionWarning: A column-vector y was passed when a 1d array was expected. Please change the shape of y to (n_samples,), for example using ravel().\n",
      "  estimator.fit(X_train, y_train, **fit_params)\n",
      "D:\\anaconda3\\envs\\ml_study\\lib\\site-packages\\sklearn\\model_selection\\_validation.py:680: DataConversionWarning: A column-vector y was passed when a 1d array was expected. Please change the shape of y to (n_samples,), for example using ravel().\n",
      "  estimator.fit(X_train, y_train, **fit_params)\n",
      "D:\\anaconda3\\envs\\ml_study\\lib\\site-packages\\sklearn\\model_selection\\_validation.py:680: DataConversionWarning: A column-vector y was passed when a 1d array was expected. Please change the shape of y to (n_samples,), for example using ravel().\n",
      "  estimator.fit(X_train, y_train, **fit_params)\n"
     ]
    },
    {
     "name": "stdout",
     "output_type": "stream",
     "text": [
      "[CV 3/5] END ...max_features=4, n_estimators=20;, score=0.854 total time=   0.0s\n",
      "[CV 4/5] END ...max_features=4, n_estimators=20;, score=0.787 total time=   0.0s\n",
      "[CV 5/5] END ...max_features=4, n_estimators=20;, score=0.842 total time=   0.0s\n",
      "[CV 1/5] END ...max_features=4, n_estimators=30;, score=0.781 total time=   0.0s\n",
      "[CV 2/5] END ...max_features=4, n_estimators=30;, score=0.792 total time=   0.0s\n",
      "[CV 3/5] END ...max_features=4, n_estimators=30;, score=0.848 total time=   0.0s\n"
     ]
    },
    {
     "name": "stderr",
     "output_type": "stream",
     "text": [
      "D:\\anaconda3\\envs\\ml_study\\lib\\site-packages\\sklearn\\model_selection\\_validation.py:680: DataConversionWarning: A column-vector y was passed when a 1d array was expected. Please change the shape of y to (n_samples,), for example using ravel().\n",
      "  estimator.fit(X_train, y_train, **fit_params)\n",
      "D:\\anaconda3\\envs\\ml_study\\lib\\site-packages\\sklearn\\model_selection\\_validation.py:680: DataConversionWarning: A column-vector y was passed when a 1d array was expected. Please change the shape of y to (n_samples,), for example using ravel().\n",
      "  estimator.fit(X_train, y_train, **fit_params)\n",
      "D:\\anaconda3\\envs\\ml_study\\lib\\site-packages\\sklearn\\model_selection\\_validation.py:680: DataConversionWarning: A column-vector y was passed when a 1d array was expected. Please change the shape of y to (n_samples,), for example using ravel().\n",
      "  estimator.fit(X_train, y_train, **fit_params)\n",
      "D:\\anaconda3\\envs\\ml_study\\lib\\site-packages\\sklearn\\model_selection\\_validation.py:680: DataConversionWarning: A column-vector y was passed when a 1d array was expected. Please change the shape of y to (n_samples,), for example using ravel().\n",
      "  estimator.fit(X_train, y_train, **fit_params)\n"
     ]
    },
    {
     "name": "stdout",
     "output_type": "stream",
     "text": [
      "[CV 4/5] END ...max_features=4, n_estimators=30;, score=0.798 total time=   0.0s\n",
      "[CV 5/5] END ...max_features=4, n_estimators=30;, score=0.819 total time=   0.0s\n",
      "[CV 1/5] END ...max_features=4, n_estimators=40;, score=0.792 total time=   0.0s\n",
      "[CV 2/5] END ...max_features=4, n_estimators=40;, score=0.798 total time=   0.0s\n"
     ]
    },
    {
     "name": "stderr",
     "output_type": "stream",
     "text": [
      "D:\\anaconda3\\envs\\ml_study\\lib\\site-packages\\sklearn\\model_selection\\_validation.py:680: DataConversionWarning: A column-vector y was passed when a 1d array was expected. Please change the shape of y to (n_samples,), for example using ravel().\n",
      "  estimator.fit(X_train, y_train, **fit_params)\n",
      "D:\\anaconda3\\envs\\ml_study\\lib\\site-packages\\sklearn\\model_selection\\_validation.py:680: DataConversionWarning: A column-vector y was passed when a 1d array was expected. Please change the shape of y to (n_samples,), for example using ravel().\n",
      "  estimator.fit(X_train, y_train, **fit_params)\n",
      "D:\\anaconda3\\envs\\ml_study\\lib\\site-packages\\sklearn\\model_selection\\_validation.py:680: DataConversionWarning: A column-vector y was passed when a 1d array was expected. Please change the shape of y to (n_samples,), for example using ravel().\n",
      "  estimator.fit(X_train, y_train, **fit_params)\n"
     ]
    },
    {
     "name": "stdout",
     "output_type": "stream",
     "text": [
      "[CV 3/5] END ...max_features=4, n_estimators=40;, score=0.848 total time=   0.0s\n",
      "[CV 4/5] END ...max_features=4, n_estimators=40;, score=0.798 total time=   0.0s\n",
      "[CV 5/5] END ...max_features=4, n_estimators=40;, score=0.825 total time=   0.0s\n",
      "[CV 1/5] END ...max_features=4, n_estimators=50;, score=0.770 total time=   0.0s\n"
     ]
    },
    {
     "name": "stderr",
     "output_type": "stream",
     "text": [
      "D:\\anaconda3\\envs\\ml_study\\lib\\site-packages\\sklearn\\model_selection\\_validation.py:680: DataConversionWarning: A column-vector y was passed when a 1d array was expected. Please change the shape of y to (n_samples,), for example using ravel().\n",
      "  estimator.fit(X_train, y_train, **fit_params)\n",
      "D:\\anaconda3\\envs\\ml_study\\lib\\site-packages\\sklearn\\model_selection\\_validation.py:680: DataConversionWarning: A column-vector y was passed when a 1d array was expected. Please change the shape of y to (n_samples,), for example using ravel().\n",
      "  estimator.fit(X_train, y_train, **fit_params)\n",
      "D:\\anaconda3\\envs\\ml_study\\lib\\site-packages\\sklearn\\model_selection\\_validation.py:680: DataConversionWarning: A column-vector y was passed when a 1d array was expected. Please change the shape of y to (n_samples,), for example using ravel().\n",
      "  estimator.fit(X_train, y_train, **fit_params)\n"
     ]
    },
    {
     "name": "stdout",
     "output_type": "stream",
     "text": [
      "[CV 2/5] END ...max_features=4, n_estimators=50;, score=0.815 total time=   0.0s\n",
      "[CV 3/5] END ...max_features=4, n_estimators=50;, score=0.854 total time=   0.0s\n",
      "[CV 4/5] END ...max_features=4, n_estimators=50;, score=0.792 total time=   0.0s\n"
     ]
    },
    {
     "name": "stderr",
     "output_type": "stream",
     "text": [
      "D:\\anaconda3\\envs\\ml_study\\lib\\site-packages\\sklearn\\model_selection\\_validation.py:680: DataConversionWarning: A column-vector y was passed when a 1d array was expected. Please change the shape of y to (n_samples,), for example using ravel().\n",
      "  estimator.fit(X_train, y_train, **fit_params)\n",
      "D:\\anaconda3\\envs\\ml_study\\lib\\site-packages\\sklearn\\model_selection\\_validation.py:680: DataConversionWarning: A column-vector y was passed when a 1d array was expected. Please change the shape of y to (n_samples,), for example using ravel().\n",
      "  estimator.fit(X_train, y_train, **fit_params)\n",
      "D:\\anaconda3\\envs\\ml_study\\lib\\site-packages\\sklearn\\model_selection\\_validation.py:680: DataConversionWarning: A column-vector y was passed when a 1d array was expected. Please change the shape of y to (n_samples,), for example using ravel().\n",
      "  estimator.fit(X_train, y_train, **fit_params)\n"
     ]
    },
    {
     "name": "stdout",
     "output_type": "stream",
     "text": [
      "[CV 5/5] END ...max_features=4, n_estimators=50;, score=0.842 total time=   0.0s\n",
      "[CV 1/5] END ..max_features=4, n_estimators=100;, score=0.787 total time=   0.0s\n"
     ]
    },
    {
     "name": "stderr",
     "output_type": "stream",
     "text": [
      "D:\\anaconda3\\envs\\ml_study\\lib\\site-packages\\sklearn\\model_selection\\_validation.py:680: DataConversionWarning: A column-vector y was passed when a 1d array was expected. Please change the shape of y to (n_samples,), for example using ravel().\n",
      "  estimator.fit(X_train, y_train, **fit_params)\n",
      "D:\\anaconda3\\envs\\ml_study\\lib\\site-packages\\sklearn\\model_selection\\_validation.py:680: DataConversionWarning: A column-vector y was passed when a 1d array was expected. Please change the shape of y to (n_samples,), for example using ravel().\n",
      "  estimator.fit(X_train, y_train, **fit_params)\n"
     ]
    },
    {
     "name": "stdout",
     "output_type": "stream",
     "text": [
      "[CV 2/5] END ..max_features=4, n_estimators=100;, score=0.803 total time=   0.0s\n",
      "[CV 3/5] END ..max_features=4, n_estimators=100;, score=0.843 total time=   0.1s\n"
     ]
    },
    {
     "name": "stderr",
     "output_type": "stream",
     "text": [
      "D:\\anaconda3\\envs\\ml_study\\lib\\site-packages\\sklearn\\model_selection\\_validation.py:680: DataConversionWarning: A column-vector y was passed when a 1d array was expected. Please change the shape of y to (n_samples,), for example using ravel().\n",
      "  estimator.fit(X_train, y_train, **fit_params)\n"
     ]
    },
    {
     "name": "stdout",
     "output_type": "stream",
     "text": [
      "[CV 4/5] END ..max_features=4, n_estimators=100;, score=0.792 total time=   0.1s\n",
      "[CV 5/5] END ..max_features=4, n_estimators=100;, score=0.836 total time=   0.1s\n"
     ]
    },
    {
     "name": "stderr",
     "output_type": "stream",
     "text": [
      "D:\\anaconda3\\envs\\ml_study\\lib\\site-packages\\sklearn\\model_selection\\_validation.py:680: DataConversionWarning: A column-vector y was passed when a 1d array was expected. Please change the shape of y to (n_samples,), for example using ravel().\n",
      "  estimator.fit(X_train, y_train, **fit_params)\n",
      "D:\\anaconda3\\envs\\ml_study\\lib\\site-packages\\sklearn\\model_selection\\_validation.py:680: DataConversionWarning: A column-vector y was passed when a 1d array was expected. Please change the shape of y to (n_samples,), for example using ravel().\n",
      "  estimator.fit(X_train, y_train, **fit_params)\n"
     ]
    },
    {
     "name": "stdout",
     "output_type": "stream",
     "text": [
      "[CV 1/5] END ..max_features=4, n_estimators=150;, score=0.781 total time=   0.2s\n"
     ]
    },
    {
     "name": "stderr",
     "output_type": "stream",
     "text": [
      "D:\\anaconda3\\envs\\ml_study\\lib\\site-packages\\sklearn\\model_selection\\_validation.py:680: DataConversionWarning: A column-vector y was passed when a 1d array was expected. Please change the shape of y to (n_samples,), for example using ravel().\n",
      "  estimator.fit(X_train, y_train, **fit_params)\n"
     ]
    },
    {
     "name": "stdout",
     "output_type": "stream",
     "text": [
      "[CV 2/5] END ..max_features=4, n_estimators=150;, score=0.803 total time=   0.1s\n"
     ]
    },
    {
     "name": "stderr",
     "output_type": "stream",
     "text": [
      "D:\\anaconda3\\envs\\ml_study\\lib\\site-packages\\sklearn\\model_selection\\_validation.py:680: DataConversionWarning: A column-vector y was passed when a 1d array was expected. Please change the shape of y to (n_samples,), for example using ravel().\n",
      "  estimator.fit(X_train, y_train, **fit_params)\n"
     ]
    },
    {
     "name": "stdout",
     "output_type": "stream",
     "text": [
      "[CV 3/5] END ..max_features=4, n_estimators=150;, score=0.837 total time=   0.1s\n"
     ]
    },
    {
     "name": "stderr",
     "output_type": "stream",
     "text": [
      "D:\\anaconda3\\envs\\ml_study\\lib\\site-packages\\sklearn\\model_selection\\_validation.py:680: DataConversionWarning: A column-vector y was passed when a 1d array was expected. Please change the shape of y to (n_samples,), for example using ravel().\n",
      "  estimator.fit(X_train, y_train, **fit_params)\n"
     ]
    },
    {
     "name": "stdout",
     "output_type": "stream",
     "text": [
      "[CV 4/5] END ..max_features=4, n_estimators=150;, score=0.798 total time=   0.2s\n"
     ]
    },
    {
     "name": "stderr",
     "output_type": "stream",
     "text": [
      "D:\\anaconda3\\envs\\ml_study\\lib\\site-packages\\sklearn\\model_selection\\_validation.py:680: DataConversionWarning: A column-vector y was passed when a 1d array was expected. Please change the shape of y to (n_samples,), for example using ravel().\n",
      "  estimator.fit(X_train, y_train, **fit_params)\n"
     ]
    },
    {
     "name": "stdout",
     "output_type": "stream",
     "text": [
      "[CV 5/5] END ..max_features=4, n_estimators=150;, score=0.831 total time=   0.2s\n"
     ]
    },
    {
     "name": "stderr",
     "output_type": "stream",
     "text": [
      "D:\\anaconda3\\envs\\ml_study\\lib\\site-packages\\sklearn\\model_selection\\_validation.py:680: DataConversionWarning: A column-vector y was passed when a 1d array was expected. Please change the shape of y to (n_samples,), for example using ravel().\n",
      "  estimator.fit(X_train, y_train, **fit_params)\n"
     ]
    },
    {
     "name": "stdout",
     "output_type": "stream",
     "text": [
      "[CV 1/5] END ..max_features=4, n_estimators=200;, score=0.781 total time=   0.2s\n"
     ]
    },
    {
     "name": "stderr",
     "output_type": "stream",
     "text": [
      "D:\\anaconda3\\envs\\ml_study\\lib\\site-packages\\sklearn\\model_selection\\_validation.py:680: DataConversionWarning: A column-vector y was passed when a 1d array was expected. Please change the shape of y to (n_samples,), for example using ravel().\n",
      "  estimator.fit(X_train, y_train, **fit_params)\n"
     ]
    },
    {
     "name": "stdout",
     "output_type": "stream",
     "text": [
      "[CV 2/5] END ..max_features=4, n_estimators=200;, score=0.815 total time=   0.2s\n"
     ]
    },
    {
     "name": "stderr",
     "output_type": "stream",
     "text": [
      "D:\\anaconda3\\envs\\ml_study\\lib\\site-packages\\sklearn\\model_selection\\_validation.py:680: DataConversionWarning: A column-vector y was passed when a 1d array was expected. Please change the shape of y to (n_samples,), for example using ravel().\n",
      "  estimator.fit(X_train, y_train, **fit_params)\n"
     ]
    },
    {
     "name": "stdout",
     "output_type": "stream",
     "text": [
      "[CV 3/5] END ..max_features=4, n_estimators=200;, score=0.848 total time=   0.3s\n"
     ]
    },
    {
     "name": "stderr",
     "output_type": "stream",
     "text": [
      "D:\\anaconda3\\envs\\ml_study\\lib\\site-packages\\sklearn\\model_selection\\_validation.py:680: DataConversionWarning: A column-vector y was passed when a 1d array was expected. Please change the shape of y to (n_samples,), for example using ravel().\n",
      "  estimator.fit(X_train, y_train, **fit_params)\n"
     ]
    },
    {
     "name": "stdout",
     "output_type": "stream",
     "text": [
      "[CV 4/5] END ..max_features=4, n_estimators=200;, score=0.792 total time=   0.2s\n"
     ]
    },
    {
     "name": "stderr",
     "output_type": "stream",
     "text": [
      "D:\\anaconda3\\envs\\ml_study\\lib\\site-packages\\sklearn\\model_selection\\_validation.py:680: DataConversionWarning: A column-vector y was passed when a 1d array was expected. Please change the shape of y to (n_samples,), for example using ravel().\n",
      "  estimator.fit(X_train, y_train, **fit_params)\n"
     ]
    },
    {
     "name": "stdout",
     "output_type": "stream",
     "text": [
      "[CV 5/5] END ..max_features=4, n_estimators=200;, score=0.831 total time=   0.2s\n"
     ]
    },
    {
     "name": "stderr",
     "output_type": "stream",
     "text": [
      "D:\\anaconda3\\envs\\ml_study\\lib\\site-packages\\sklearn\\model_selection\\_validation.py:680: DataConversionWarning: A column-vector y was passed when a 1d array was expected. Please change the shape of y to (n_samples,), for example using ravel().\n",
      "  estimator.fit(X_train, y_train, **fit_params)\n"
     ]
    },
    {
     "name": "stdout",
     "output_type": "stream",
     "text": [
      "[CV 1/5] END ..max_features=4, n_estimators=250;, score=0.770 total time=   0.3s\n"
     ]
    },
    {
     "name": "stderr",
     "output_type": "stream",
     "text": [
      "D:\\anaconda3\\envs\\ml_study\\lib\\site-packages\\sklearn\\model_selection\\_validation.py:680: DataConversionWarning: A column-vector y was passed when a 1d array was expected. Please change the shape of y to (n_samples,), for example using ravel().\n",
      "  estimator.fit(X_train, y_train, **fit_params)\n"
     ]
    },
    {
     "name": "stdout",
     "output_type": "stream",
     "text": [
      "[CV 2/5] END ..max_features=4, n_estimators=250;, score=0.798 total time=   0.3s\n"
     ]
    },
    {
     "name": "stderr",
     "output_type": "stream",
     "text": [
      "D:\\anaconda3\\envs\\ml_study\\lib\\site-packages\\sklearn\\model_selection\\_validation.py:680: DataConversionWarning: A column-vector y was passed when a 1d array was expected. Please change the shape of y to (n_samples,), for example using ravel().\n",
      "  estimator.fit(X_train, y_train, **fit_params)\n"
     ]
    },
    {
     "name": "stdout",
     "output_type": "stream",
     "text": [
      "[CV 3/5] END ..max_features=4, n_estimators=250;, score=0.837 total time=   0.3s\n"
     ]
    },
    {
     "name": "stderr",
     "output_type": "stream",
     "text": [
      "D:\\anaconda3\\envs\\ml_study\\lib\\site-packages\\sklearn\\model_selection\\_validation.py:680: DataConversionWarning: A column-vector y was passed when a 1d array was expected. Please change the shape of y to (n_samples,), for example using ravel().\n",
      "  estimator.fit(X_train, y_train, **fit_params)\n"
     ]
    },
    {
     "name": "stdout",
     "output_type": "stream",
     "text": [
      "[CV 4/5] END ..max_features=4, n_estimators=250;, score=0.792 total time=   0.3s\n"
     ]
    },
    {
     "name": "stderr",
     "output_type": "stream",
     "text": [
      "D:\\anaconda3\\envs\\ml_study\\lib\\site-packages\\sklearn\\model_selection\\_validation.py:680: DataConversionWarning: A column-vector y was passed when a 1d array was expected. Please change the shape of y to (n_samples,), for example using ravel().\n",
      "  estimator.fit(X_train, y_train, **fit_params)\n"
     ]
    },
    {
     "name": "stdout",
     "output_type": "stream",
     "text": [
      "[CV 5/5] END ..max_features=4, n_estimators=250;, score=0.836 total time=   0.3s\n"
     ]
    },
    {
     "name": "stderr",
     "output_type": "stream",
     "text": [
      "D:\\anaconda3\\envs\\ml_study\\lib\\site-packages\\sklearn\\model_selection\\_validation.py:680: DataConversionWarning: A column-vector y was passed when a 1d array was expected. Please change the shape of y to (n_samples,), for example using ravel().\n",
      "  estimator.fit(X_train, y_train, **fit_params)\n"
     ]
    },
    {
     "name": "stdout",
     "output_type": "stream",
     "text": [
      "[CV 1/5] END ..max_features=4, n_estimators=300;, score=0.787 total time=   0.4s\n"
     ]
    },
    {
     "name": "stderr",
     "output_type": "stream",
     "text": [
      "D:\\anaconda3\\envs\\ml_study\\lib\\site-packages\\sklearn\\model_selection\\_validation.py:680: DataConversionWarning: A column-vector y was passed when a 1d array was expected. Please change the shape of y to (n_samples,), for example using ravel().\n",
      "  estimator.fit(X_train, y_train, **fit_params)\n"
     ]
    },
    {
     "name": "stdout",
     "output_type": "stream",
     "text": [
      "[CV 2/5] END ..max_features=4, n_estimators=300;, score=0.809 total time=   0.3s\n"
     ]
    },
    {
     "name": "stderr",
     "output_type": "stream",
     "text": [
      "D:\\anaconda3\\envs\\ml_study\\lib\\site-packages\\sklearn\\model_selection\\_validation.py:680: DataConversionWarning: A column-vector y was passed when a 1d array was expected. Please change the shape of y to (n_samples,), for example using ravel().\n",
      "  estimator.fit(X_train, y_train, **fit_params)\n"
     ]
    },
    {
     "name": "stdout",
     "output_type": "stream",
     "text": [
      "[CV 3/5] END ..max_features=4, n_estimators=300;, score=0.837 total time=   0.3s\n"
     ]
    },
    {
     "name": "stderr",
     "output_type": "stream",
     "text": [
      "D:\\anaconda3\\envs\\ml_study\\lib\\site-packages\\sklearn\\model_selection\\_validation.py:680: DataConversionWarning: A column-vector y was passed when a 1d array was expected. Please change the shape of y to (n_samples,), for example using ravel().\n",
      "  estimator.fit(X_train, y_train, **fit_params)\n"
     ]
    },
    {
     "name": "stdout",
     "output_type": "stream",
     "text": [
      "[CV 4/5] END ..max_features=4, n_estimators=300;, score=0.787 total time=   0.3s\n"
     ]
    },
    {
     "name": "stderr",
     "output_type": "stream",
     "text": [
      "D:\\anaconda3\\envs\\ml_study\\lib\\site-packages\\sklearn\\model_selection\\_validation.py:680: DataConversionWarning: A column-vector y was passed when a 1d array was expected. Please change the shape of y to (n_samples,), for example using ravel().\n",
      "  estimator.fit(X_train, y_train, **fit_params)\n"
     ]
    },
    {
     "name": "stdout",
     "output_type": "stream",
     "text": [
      "[CV 5/5] END ..max_features=4, n_estimators=300;, score=0.842 total time=   0.4s\n",
      "[CV 1/5] END ....max_features=5, n_estimators=5;, score=0.747 total time=   0.0s\n",
      "[CV 2/5] END ....max_features=5, n_estimators=5;, score=0.798 total time=   0.0s\n",
      "[CV 3/5] END ....max_features=5, n_estimators=5;, score=0.837 total time=   0.0s\n",
      "[CV 4/5] END ....max_features=5, n_estimators=5;, score=0.792 total time=   0.0s\n",
      "[CV 5/5] END ....max_features=5, n_estimators=5;, score=0.819 total time=   0.0s\n",
      "[CV 1/5] END ...max_features=5, n_estimators=10;, score=0.758 total time=   0.0s\n",
      "[CV 2/5] END ...max_features=5, n_estimators=10;, score=0.798 total time=   0.0s\n",
      "[CV 3/5] END ...max_features=5, n_estimators=10;, score=0.854 total time=   0.0s\n",
      "[CV 4/5] END ...max_features=5, n_estimators=10;, score=0.792 total time=   0.0s\n",
      "[CV 5/5] END ...max_features=5, n_estimators=10;, score=0.797 total time=   0.0s\n",
      "[CV 1/5] END ...max_features=5, n_estimators=20;, score=0.764 total time=   0.0s\n"
     ]
    },
    {
     "name": "stderr",
     "output_type": "stream",
     "text": [
      "D:\\anaconda3\\envs\\ml_study\\lib\\site-packages\\sklearn\\model_selection\\_validation.py:680: DataConversionWarning: A column-vector y was passed when a 1d array was expected. Please change the shape of y to (n_samples,), for example using ravel().\n",
      "  estimator.fit(X_train, y_train, **fit_params)\n",
      "D:\\anaconda3\\envs\\ml_study\\lib\\site-packages\\sklearn\\model_selection\\_validation.py:680: DataConversionWarning: A column-vector y was passed when a 1d array was expected. Please change the shape of y to (n_samples,), for example using ravel().\n",
      "  estimator.fit(X_train, y_train, **fit_params)\n",
      "D:\\anaconda3\\envs\\ml_study\\lib\\site-packages\\sklearn\\model_selection\\_validation.py:680: DataConversionWarning: A column-vector y was passed when a 1d array was expected. Please change the shape of y to (n_samples,), for example using ravel().\n",
      "  estimator.fit(X_train, y_train, **fit_params)\n",
      "D:\\anaconda3\\envs\\ml_study\\lib\\site-packages\\sklearn\\model_selection\\_validation.py:680: DataConversionWarning: A column-vector y was passed when a 1d array was expected. Please change the shape of y to (n_samples,), for example using ravel().\n",
      "  estimator.fit(X_train, y_train, **fit_params)\n",
      "D:\\anaconda3\\envs\\ml_study\\lib\\site-packages\\sklearn\\model_selection\\_validation.py:680: DataConversionWarning: A column-vector y was passed when a 1d array was expected. Please change the shape of y to (n_samples,), for example using ravel().\n",
      "  estimator.fit(X_train, y_train, **fit_params)\n",
      "D:\\anaconda3\\envs\\ml_study\\lib\\site-packages\\sklearn\\model_selection\\_validation.py:680: DataConversionWarning: A column-vector y was passed when a 1d array was expected. Please change the shape of y to (n_samples,), for example using ravel().\n",
      "  estimator.fit(X_train, y_train, **fit_params)\n",
      "D:\\anaconda3\\envs\\ml_study\\lib\\site-packages\\sklearn\\model_selection\\_validation.py:680: DataConversionWarning: A column-vector y was passed when a 1d array was expected. Please change the shape of y to (n_samples,), for example using ravel().\n",
      "  estimator.fit(X_train, y_train, **fit_params)\n",
      "D:\\anaconda3\\envs\\ml_study\\lib\\site-packages\\sklearn\\model_selection\\_validation.py:680: DataConversionWarning: A column-vector y was passed when a 1d array was expected. Please change the shape of y to (n_samples,), for example using ravel().\n",
      "  estimator.fit(X_train, y_train, **fit_params)\n",
      "D:\\anaconda3\\envs\\ml_study\\lib\\site-packages\\sklearn\\model_selection\\_validation.py:680: DataConversionWarning: A column-vector y was passed when a 1d array was expected. Please change the shape of y to (n_samples,), for example using ravel().\n",
      "  estimator.fit(X_train, y_train, **fit_params)\n",
      "D:\\anaconda3\\envs\\ml_study\\lib\\site-packages\\sklearn\\model_selection\\_validation.py:680: DataConversionWarning: A column-vector y was passed when a 1d array was expected. Please change the shape of y to (n_samples,), for example using ravel().\n",
      "  estimator.fit(X_train, y_train, **fit_params)\n",
      "D:\\anaconda3\\envs\\ml_study\\lib\\site-packages\\sklearn\\model_selection\\_validation.py:680: DataConversionWarning: A column-vector y was passed when a 1d array was expected. Please change the shape of y to (n_samples,), for example using ravel().\n",
      "  estimator.fit(X_train, y_train, **fit_params)\n",
      "D:\\anaconda3\\envs\\ml_study\\lib\\site-packages\\sklearn\\model_selection\\_validation.py:680: DataConversionWarning: A column-vector y was passed when a 1d array was expected. Please change the shape of y to (n_samples,), for example using ravel().\n",
      "  estimator.fit(X_train, y_train, **fit_params)\n",
      "D:\\anaconda3\\envs\\ml_study\\lib\\site-packages\\sklearn\\model_selection\\_validation.py:680: DataConversionWarning: A column-vector y was passed when a 1d array was expected. Please change the shape of y to (n_samples,), for example using ravel().\n",
      "  estimator.fit(X_train, y_train, **fit_params)\n",
      "D:\\anaconda3\\envs\\ml_study\\lib\\site-packages\\sklearn\\model_selection\\_validation.py:680: DataConversionWarning: A column-vector y was passed when a 1d array was expected. Please change the shape of y to (n_samples,), for example using ravel().\n",
      "  estimator.fit(X_train, y_train, **fit_params)\n",
      "D:\\anaconda3\\envs\\ml_study\\lib\\site-packages\\sklearn\\model_selection\\_validation.py:680: DataConversionWarning: A column-vector y was passed when a 1d array was expected. Please change the shape of y to (n_samples,), for example using ravel().\n",
      "  estimator.fit(X_train, y_train, **fit_params)\n"
     ]
    },
    {
     "name": "stdout",
     "output_type": "stream",
     "text": [
      "[CV 2/5] END ...max_features=5, n_estimators=20;, score=0.798 total time=   0.0s\n",
      "[CV 3/5] END ...max_features=5, n_estimators=20;, score=0.854 total time=   0.0s\n",
      "[CV 4/5] END ...max_features=5, n_estimators=20;, score=0.787 total time=   0.0s\n",
      "[CV 5/5] END ...max_features=5, n_estimators=20;, score=0.819 total time=   0.0s\n",
      "[CV 1/5] END ...max_features=5, n_estimators=30;, score=0.775 total time=   0.0s\n"
     ]
    },
    {
     "name": "stderr",
     "output_type": "stream",
     "text": [
      "D:\\anaconda3\\envs\\ml_study\\lib\\site-packages\\sklearn\\model_selection\\_validation.py:680: DataConversionWarning: A column-vector y was passed when a 1d array was expected. Please change the shape of y to (n_samples,), for example using ravel().\n",
      "  estimator.fit(X_train, y_train, **fit_params)\n",
      "D:\\anaconda3\\envs\\ml_study\\lib\\site-packages\\sklearn\\model_selection\\_validation.py:680: DataConversionWarning: A column-vector y was passed when a 1d array was expected. Please change the shape of y to (n_samples,), for example using ravel().\n",
      "  estimator.fit(X_train, y_train, **fit_params)\n",
      "D:\\anaconda3\\envs\\ml_study\\lib\\site-packages\\sklearn\\model_selection\\_validation.py:680: DataConversionWarning: A column-vector y was passed when a 1d array was expected. Please change the shape of y to (n_samples,), for example using ravel().\n",
      "  estimator.fit(X_train, y_train, **fit_params)\n",
      "D:\\anaconda3\\envs\\ml_study\\lib\\site-packages\\sklearn\\model_selection\\_validation.py:680: DataConversionWarning: A column-vector y was passed when a 1d array was expected. Please change the shape of y to (n_samples,), for example using ravel().\n",
      "  estimator.fit(X_train, y_train, **fit_params)\n"
     ]
    },
    {
     "name": "stdout",
     "output_type": "stream",
     "text": [
      "[CV 2/5] END ...max_features=5, n_estimators=30;, score=0.798 total time=   0.0s\n",
      "[CV 3/5] END ...max_features=5, n_estimators=30;, score=0.848 total time=   0.0s\n",
      "[CV 4/5] END ...max_features=5, n_estimators=30;, score=0.787 total time=   0.0s\n",
      "[CV 5/5] END ...max_features=5, n_estimators=30;, score=0.836 total time=   0.0s\n",
      "[CV 1/5] END ...max_features=5, n_estimators=40;, score=0.764 total time=   0.0s\n"
     ]
    },
    {
     "name": "stderr",
     "output_type": "stream",
     "text": [
      "D:\\anaconda3\\envs\\ml_study\\lib\\site-packages\\sklearn\\model_selection\\_validation.py:680: DataConversionWarning: A column-vector y was passed when a 1d array was expected. Please change the shape of y to (n_samples,), for example using ravel().\n",
      "  estimator.fit(X_train, y_train, **fit_params)\n",
      "D:\\anaconda3\\envs\\ml_study\\lib\\site-packages\\sklearn\\model_selection\\_validation.py:680: DataConversionWarning: A column-vector y was passed when a 1d array was expected. Please change the shape of y to (n_samples,), for example using ravel().\n",
      "  estimator.fit(X_train, y_train, **fit_params)\n",
      "D:\\anaconda3\\envs\\ml_study\\lib\\site-packages\\sklearn\\model_selection\\_validation.py:680: DataConversionWarning: A column-vector y was passed when a 1d array was expected. Please change the shape of y to (n_samples,), for example using ravel().\n",
      "  estimator.fit(X_train, y_train, **fit_params)\n",
      "D:\\anaconda3\\envs\\ml_study\\lib\\site-packages\\sklearn\\model_selection\\_validation.py:680: DataConversionWarning: A column-vector y was passed when a 1d array was expected. Please change the shape of y to (n_samples,), for example using ravel().\n",
      "  estimator.fit(X_train, y_train, **fit_params)\n"
     ]
    },
    {
     "name": "stdout",
     "output_type": "stream",
     "text": [
      "[CV 2/5] END ...max_features=5, n_estimators=40;, score=0.792 total time=   0.0s\n",
      "[CV 3/5] END ...max_features=5, n_estimators=40;, score=0.843 total time=   0.0s\n",
      "[CV 4/5] END ...max_features=5, n_estimators=40;, score=0.792 total time=   0.0s\n"
     ]
    },
    {
     "name": "stderr",
     "output_type": "stream",
     "text": [
      "D:\\anaconda3\\envs\\ml_study\\lib\\site-packages\\sklearn\\model_selection\\_validation.py:680: DataConversionWarning: A column-vector y was passed when a 1d array was expected. Please change the shape of y to (n_samples,), for example using ravel().\n",
      "  estimator.fit(X_train, y_train, **fit_params)\n",
      "D:\\anaconda3\\envs\\ml_study\\lib\\site-packages\\sklearn\\model_selection\\_validation.py:680: DataConversionWarning: A column-vector y was passed when a 1d array was expected. Please change the shape of y to (n_samples,), for example using ravel().\n",
      "  estimator.fit(X_train, y_train, **fit_params)\n",
      "D:\\anaconda3\\envs\\ml_study\\lib\\site-packages\\sklearn\\model_selection\\_validation.py:680: DataConversionWarning: A column-vector y was passed when a 1d array was expected. Please change the shape of y to (n_samples,), for example using ravel().\n",
      "  estimator.fit(X_train, y_train, **fit_params)\n"
     ]
    },
    {
     "name": "stdout",
     "output_type": "stream",
     "text": [
      "[CV 5/5] END ...max_features=5, n_estimators=40;, score=0.836 total time=   0.0s\n",
      "[CV 1/5] END ...max_features=5, n_estimators=50;, score=0.758 total time=   0.0s\n",
      "[CV 2/5] END ...max_features=5, n_estimators=50;, score=0.787 total time=   0.0s\n"
     ]
    },
    {
     "name": "stderr",
     "output_type": "stream",
     "text": [
      "D:\\anaconda3\\envs\\ml_study\\lib\\site-packages\\sklearn\\model_selection\\_validation.py:680: DataConversionWarning: A column-vector y was passed when a 1d array was expected. Please change the shape of y to (n_samples,), for example using ravel().\n",
      "  estimator.fit(X_train, y_train, **fit_params)\n",
      "D:\\anaconda3\\envs\\ml_study\\lib\\site-packages\\sklearn\\model_selection\\_validation.py:680: DataConversionWarning: A column-vector y was passed when a 1d array was expected. Please change the shape of y to (n_samples,), for example using ravel().\n",
      "  estimator.fit(X_train, y_train, **fit_params)\n"
     ]
    },
    {
     "name": "stdout",
     "output_type": "stream",
     "text": [
      "[CV 3/5] END ...max_features=5, n_estimators=50;, score=0.837 total time=   0.0s\n",
      "[CV 4/5] END ...max_features=5, n_estimators=50;, score=0.798 total time=   0.0s\n",
      "[CV 5/5] END ...max_features=5, n_estimators=50;, score=0.831 total time=   0.0s\n"
     ]
    },
    {
     "name": "stderr",
     "output_type": "stream",
     "text": [
      "D:\\anaconda3\\envs\\ml_study\\lib\\site-packages\\sklearn\\model_selection\\_validation.py:680: DataConversionWarning: A column-vector y was passed when a 1d array was expected. Please change the shape of y to (n_samples,), for example using ravel().\n",
      "  estimator.fit(X_train, y_train, **fit_params)\n",
      "D:\\anaconda3\\envs\\ml_study\\lib\\site-packages\\sklearn\\model_selection\\_validation.py:680: DataConversionWarning: A column-vector y was passed when a 1d array was expected. Please change the shape of y to (n_samples,), for example using ravel().\n",
      "  estimator.fit(X_train, y_train, **fit_params)\n",
      "D:\\anaconda3\\envs\\ml_study\\lib\\site-packages\\sklearn\\model_selection\\_validation.py:680: DataConversionWarning: A column-vector y was passed when a 1d array was expected. Please change the shape of y to (n_samples,), for example using ravel().\n",
      "  estimator.fit(X_train, y_train, **fit_params)\n",
      "D:\\anaconda3\\envs\\ml_study\\lib\\site-packages\\sklearn\\model_selection\\_validation.py:680: DataConversionWarning: A column-vector y was passed when a 1d array was expected. Please change the shape of y to (n_samples,), for example using ravel().\n",
      "  estimator.fit(X_train, y_train, **fit_params)\n"
     ]
    },
    {
     "name": "stdout",
     "output_type": "stream",
     "text": [
      "[CV 1/5] END ..max_features=5, n_estimators=100;, score=0.770 total time=   0.1s\n",
      "[CV 2/5] END ..max_features=5, n_estimators=100;, score=0.809 total time=   0.1s\n"
     ]
    },
    {
     "name": "stderr",
     "output_type": "stream",
     "text": [
      "D:\\anaconda3\\envs\\ml_study\\lib\\site-packages\\sklearn\\model_selection\\_validation.py:680: DataConversionWarning: A column-vector y was passed when a 1d array was expected. Please change the shape of y to (n_samples,), for example using ravel().\n",
      "  estimator.fit(X_train, y_train, **fit_params)\n"
     ]
    },
    {
     "name": "stdout",
     "output_type": "stream",
     "text": [
      "[CV 3/5] END ..max_features=5, n_estimators=100;, score=0.854 total time=   0.1s\n",
      "[CV 4/5] END ..max_features=5, n_estimators=100;, score=0.798 total time=   0.1s\n"
     ]
    },
    {
     "name": "stderr",
     "output_type": "stream",
     "text": [
      "D:\\anaconda3\\envs\\ml_study\\lib\\site-packages\\sklearn\\model_selection\\_validation.py:680: DataConversionWarning: A column-vector y was passed when a 1d array was expected. Please change the shape of y to (n_samples,), for example using ravel().\n",
      "  estimator.fit(X_train, y_train, **fit_params)\n",
      "D:\\anaconda3\\envs\\ml_study\\lib\\site-packages\\sklearn\\model_selection\\_validation.py:680: DataConversionWarning: A column-vector y was passed when a 1d array was expected. Please change the shape of y to (n_samples,), for example using ravel().\n",
      "  estimator.fit(X_train, y_train, **fit_params)\n"
     ]
    },
    {
     "name": "stdout",
     "output_type": "stream",
     "text": [
      "[CV 5/5] END ..max_features=5, n_estimators=100;, score=0.825 total time=   0.1s\n"
     ]
    },
    {
     "name": "stderr",
     "output_type": "stream",
     "text": [
      "D:\\anaconda3\\envs\\ml_study\\lib\\site-packages\\sklearn\\model_selection\\_validation.py:680: DataConversionWarning: A column-vector y was passed when a 1d array was expected. Please change the shape of y to (n_samples,), for example using ravel().\n",
      "  estimator.fit(X_train, y_train, **fit_params)\n"
     ]
    },
    {
     "name": "stdout",
     "output_type": "stream",
     "text": [
      "[CV 1/5] END ..max_features=5, n_estimators=150;, score=0.775 total time=   0.2s\n"
     ]
    },
    {
     "name": "stderr",
     "output_type": "stream",
     "text": [
      "D:\\anaconda3\\envs\\ml_study\\lib\\site-packages\\sklearn\\model_selection\\_validation.py:680: DataConversionWarning: A column-vector y was passed when a 1d array was expected. Please change the shape of y to (n_samples,), for example using ravel().\n",
      "  estimator.fit(X_train, y_train, **fit_params)\n"
     ]
    },
    {
     "name": "stdout",
     "output_type": "stream",
     "text": [
      "[CV 2/5] END ..max_features=5, n_estimators=150;, score=0.803 total time=   0.1s\n"
     ]
    },
    {
     "name": "stderr",
     "output_type": "stream",
     "text": [
      "D:\\anaconda3\\envs\\ml_study\\lib\\site-packages\\sklearn\\model_selection\\_validation.py:680: DataConversionWarning: A column-vector y was passed when a 1d array was expected. Please change the shape of y to (n_samples,), for example using ravel().\n",
      "  estimator.fit(X_train, y_train, **fit_params)\n"
     ]
    },
    {
     "name": "stdout",
     "output_type": "stream",
     "text": [
      "[CV 3/5] END ..max_features=5, n_estimators=150;, score=0.831 total time=   0.2s\n"
     ]
    },
    {
     "name": "stderr",
     "output_type": "stream",
     "text": [
      "D:\\anaconda3\\envs\\ml_study\\lib\\site-packages\\sklearn\\model_selection\\_validation.py:680: DataConversionWarning: A column-vector y was passed when a 1d array was expected. Please change the shape of y to (n_samples,), for example using ravel().\n",
      "  estimator.fit(X_train, y_train, **fit_params)\n"
     ]
    },
    {
     "name": "stdout",
     "output_type": "stream",
     "text": [
      "[CV 4/5] END ..max_features=5, n_estimators=150;, score=0.798 total time=   0.1s\n"
     ]
    },
    {
     "name": "stderr",
     "output_type": "stream",
     "text": [
      "D:\\anaconda3\\envs\\ml_study\\lib\\site-packages\\sklearn\\model_selection\\_validation.py:680: DataConversionWarning: A column-vector y was passed when a 1d array was expected. Please change the shape of y to (n_samples,), for example using ravel().\n",
      "  estimator.fit(X_train, y_train, **fit_params)\n"
     ]
    },
    {
     "name": "stdout",
     "output_type": "stream",
     "text": [
      "[CV 5/5] END ..max_features=5, n_estimators=150;, score=0.836 total time=   0.1s\n"
     ]
    },
    {
     "name": "stderr",
     "output_type": "stream",
     "text": [
      "D:\\anaconda3\\envs\\ml_study\\lib\\site-packages\\sklearn\\model_selection\\_validation.py:680: DataConversionWarning: A column-vector y was passed when a 1d array was expected. Please change the shape of y to (n_samples,), for example using ravel().\n",
      "  estimator.fit(X_train, y_train, **fit_params)\n"
     ]
    },
    {
     "name": "stdout",
     "output_type": "stream",
     "text": [
      "[CV 1/5] END ..max_features=5, n_estimators=200;, score=0.770 total time=   0.2s\n"
     ]
    },
    {
     "name": "stderr",
     "output_type": "stream",
     "text": [
      "D:\\anaconda3\\envs\\ml_study\\lib\\site-packages\\sklearn\\model_selection\\_validation.py:680: DataConversionWarning: A column-vector y was passed when a 1d array was expected. Please change the shape of y to (n_samples,), for example using ravel().\n",
      "  estimator.fit(X_train, y_train, **fit_params)\n"
     ]
    },
    {
     "name": "stdout",
     "output_type": "stream",
     "text": [
      "[CV 2/5] END ..max_features=5, n_estimators=200;, score=0.815 total time=   0.2s\n"
     ]
    },
    {
     "name": "stderr",
     "output_type": "stream",
     "text": [
      "D:\\anaconda3\\envs\\ml_study\\lib\\site-packages\\sklearn\\model_selection\\_validation.py:680: DataConversionWarning: A column-vector y was passed when a 1d array was expected. Please change the shape of y to (n_samples,), for example using ravel().\n",
      "  estimator.fit(X_train, y_train, **fit_params)\n"
     ]
    },
    {
     "name": "stdout",
     "output_type": "stream",
     "text": [
      "[CV 3/5] END ..max_features=5, n_estimators=200;, score=0.831 total time=   0.2s\n"
     ]
    },
    {
     "name": "stderr",
     "output_type": "stream",
     "text": [
      "D:\\anaconda3\\envs\\ml_study\\lib\\site-packages\\sklearn\\model_selection\\_validation.py:680: DataConversionWarning: A column-vector y was passed when a 1d array was expected. Please change the shape of y to (n_samples,), for example using ravel().\n",
      "  estimator.fit(X_train, y_train, **fit_params)\n"
     ]
    },
    {
     "name": "stdout",
     "output_type": "stream",
     "text": [
      "[CV 4/5] END ..max_features=5, n_estimators=200;, score=0.787 total time=   0.3s\n"
     ]
    },
    {
     "name": "stderr",
     "output_type": "stream",
     "text": [
      "D:\\anaconda3\\envs\\ml_study\\lib\\site-packages\\sklearn\\model_selection\\_validation.py:680: DataConversionWarning: A column-vector y was passed when a 1d array was expected. Please change the shape of y to (n_samples,), for example using ravel().\n",
      "  estimator.fit(X_train, y_train, **fit_params)\n"
     ]
    },
    {
     "name": "stdout",
     "output_type": "stream",
     "text": [
      "[CV 5/5] END ..max_features=5, n_estimators=200;, score=0.831 total time=   0.2s\n"
     ]
    },
    {
     "name": "stderr",
     "output_type": "stream",
     "text": [
      "D:\\anaconda3\\envs\\ml_study\\lib\\site-packages\\sklearn\\model_selection\\_validation.py:680: DataConversionWarning: A column-vector y was passed when a 1d array was expected. Please change the shape of y to (n_samples,), for example using ravel().\n",
      "  estimator.fit(X_train, y_train, **fit_params)\n"
     ]
    },
    {
     "name": "stdout",
     "output_type": "stream",
     "text": [
      "[CV 1/5] END ..max_features=5, n_estimators=250;, score=0.781 total time=   0.3s\n"
     ]
    },
    {
     "name": "stderr",
     "output_type": "stream",
     "text": [
      "D:\\anaconda3\\envs\\ml_study\\lib\\site-packages\\sklearn\\model_selection\\_validation.py:680: DataConversionWarning: A column-vector y was passed when a 1d array was expected. Please change the shape of y to (n_samples,), for example using ravel().\n",
      "  estimator.fit(X_train, y_train, **fit_params)\n"
     ]
    },
    {
     "name": "stdout",
     "output_type": "stream",
     "text": [
      "[CV 2/5] END ..max_features=5, n_estimators=250;, score=0.798 total time=   0.3s\n"
     ]
    },
    {
     "name": "stderr",
     "output_type": "stream",
     "text": [
      "D:\\anaconda3\\envs\\ml_study\\lib\\site-packages\\sklearn\\model_selection\\_validation.py:680: DataConversionWarning: A column-vector y was passed when a 1d array was expected. Please change the shape of y to (n_samples,), for example using ravel().\n",
      "  estimator.fit(X_train, y_train, **fit_params)\n"
     ]
    },
    {
     "name": "stdout",
     "output_type": "stream",
     "text": [
      "[CV 3/5] END ..max_features=5, n_estimators=250;, score=0.848 total time=   0.3s\n"
     ]
    },
    {
     "name": "stderr",
     "output_type": "stream",
     "text": [
      "D:\\anaconda3\\envs\\ml_study\\lib\\site-packages\\sklearn\\model_selection\\_validation.py:680: DataConversionWarning: A column-vector y was passed when a 1d array was expected. Please change the shape of y to (n_samples,), for example using ravel().\n",
      "  estimator.fit(X_train, y_train, **fit_params)\n"
     ]
    },
    {
     "name": "stdout",
     "output_type": "stream",
     "text": [
      "[CV 4/5] END ..max_features=5, n_estimators=250;, score=0.803 total time=   0.3s\n"
     ]
    },
    {
     "name": "stderr",
     "output_type": "stream",
     "text": [
      "D:\\anaconda3\\envs\\ml_study\\lib\\site-packages\\sklearn\\model_selection\\_validation.py:680: DataConversionWarning: A column-vector y was passed when a 1d array was expected. Please change the shape of y to (n_samples,), for example using ravel().\n",
      "  estimator.fit(X_train, y_train, **fit_params)\n"
     ]
    },
    {
     "name": "stdout",
     "output_type": "stream",
     "text": [
      "[CV 5/5] END ..max_features=5, n_estimators=250;, score=0.831 total time=   0.3s\n"
     ]
    },
    {
     "name": "stderr",
     "output_type": "stream",
     "text": [
      "D:\\anaconda3\\envs\\ml_study\\lib\\site-packages\\sklearn\\model_selection\\_validation.py:680: DataConversionWarning: A column-vector y was passed when a 1d array was expected. Please change the shape of y to (n_samples,), for example using ravel().\n",
      "  estimator.fit(X_train, y_train, **fit_params)\n"
     ]
    },
    {
     "name": "stdout",
     "output_type": "stream",
     "text": [
      "[CV 1/5] END ..max_features=5, n_estimators=300;, score=0.798 total time=   0.4s\n"
     ]
    },
    {
     "name": "stderr",
     "output_type": "stream",
     "text": [
      "D:\\anaconda3\\envs\\ml_study\\lib\\site-packages\\sklearn\\model_selection\\_validation.py:680: DataConversionWarning: A column-vector y was passed when a 1d array was expected. Please change the shape of y to (n_samples,), for example using ravel().\n",
      "  estimator.fit(X_train, y_train, **fit_params)\n"
     ]
    },
    {
     "name": "stdout",
     "output_type": "stream",
     "text": [
      "[CV 2/5] END ..max_features=5, n_estimators=300;, score=0.803 total time=   0.4s\n"
     ]
    },
    {
     "name": "stderr",
     "output_type": "stream",
     "text": [
      "D:\\anaconda3\\envs\\ml_study\\lib\\site-packages\\sklearn\\model_selection\\_validation.py:680: DataConversionWarning: A column-vector y was passed when a 1d array was expected. Please change the shape of y to (n_samples,), for example using ravel().\n",
      "  estimator.fit(X_train, y_train, **fit_params)\n"
     ]
    },
    {
     "name": "stdout",
     "output_type": "stream",
     "text": [
      "[CV 3/5] END ..max_features=5, n_estimators=300;, score=0.837 total time=   0.4s\n"
     ]
    },
    {
     "name": "stderr",
     "output_type": "stream",
     "text": [
      "D:\\anaconda3\\envs\\ml_study\\lib\\site-packages\\sklearn\\model_selection\\_validation.py:680: DataConversionWarning: A column-vector y was passed when a 1d array was expected. Please change the shape of y to (n_samples,), for example using ravel().\n",
      "  estimator.fit(X_train, y_train, **fit_params)\n"
     ]
    },
    {
     "name": "stdout",
     "output_type": "stream",
     "text": [
      "[CV 4/5] END ..max_features=5, n_estimators=300;, score=0.787 total time=   0.4s\n"
     ]
    },
    {
     "name": "stderr",
     "output_type": "stream",
     "text": [
      "D:\\anaconda3\\envs\\ml_study\\lib\\site-packages\\sklearn\\model_selection\\_validation.py:680: DataConversionWarning: A column-vector y was passed when a 1d array was expected. Please change the shape of y to (n_samples,), for example using ravel().\n",
      "  estimator.fit(X_train, y_train, **fit_params)\n"
     ]
    },
    {
     "name": "stdout",
     "output_type": "stream",
     "text": [
      "[CV 5/5] END ..max_features=5, n_estimators=300;, score=0.819 total time=   0.4s\n",
      "[CV 1/5] END ....max_features=6, n_estimators=5;, score=0.758 total time=   0.0s\n",
      "[CV 2/5] END ....max_features=6, n_estimators=5;, score=0.792 total time=   0.0s\n",
      "[CV 3/5] END ....max_features=6, n_estimators=5;, score=0.815 total time=   0.0s\n",
      "[CV 4/5] END ....max_features=6, n_estimators=5;, score=0.792 total time=   0.0s\n",
      "[CV 5/5] END ....max_features=6, n_estimators=5;, score=0.814 total time=   0.0s\n",
      "[CV 1/5] END ...max_features=6, n_estimators=10;, score=0.742 total time=   0.0s\n",
      "[CV 2/5] END ...max_features=6, n_estimators=10;, score=0.798 total time=   0.0s\n",
      "[CV 3/5] END ...max_features=6, n_estimators=10;, score=0.871 total time=   0.0s\n",
      "[CV 4/5] END ...max_features=6, n_estimators=10;, score=0.781 total time=   0.0s\n",
      "[CV 5/5] END ...max_features=6, n_estimators=10;, score=0.808 total time=   0.0s\n",
      "[CV 1/5] END ...max_features=6, n_estimators=20;, score=0.764 total time=   0.0s\n",
      "[CV 2/5] END ...max_features=6, n_estimators=20;, score=0.803 total time=   0.0s\n"
     ]
    },
    {
     "name": "stderr",
     "output_type": "stream",
     "text": [
      "D:\\anaconda3\\envs\\ml_study\\lib\\site-packages\\sklearn\\model_selection\\_validation.py:680: DataConversionWarning: A column-vector y was passed when a 1d array was expected. Please change the shape of y to (n_samples,), for example using ravel().\n",
      "  estimator.fit(X_train, y_train, **fit_params)\n",
      "D:\\anaconda3\\envs\\ml_study\\lib\\site-packages\\sklearn\\model_selection\\_validation.py:680: DataConversionWarning: A column-vector y was passed when a 1d array was expected. Please change the shape of y to (n_samples,), for example using ravel().\n",
      "  estimator.fit(X_train, y_train, **fit_params)\n",
      "D:\\anaconda3\\envs\\ml_study\\lib\\site-packages\\sklearn\\model_selection\\_validation.py:680: DataConversionWarning: A column-vector y was passed when a 1d array was expected. Please change the shape of y to (n_samples,), for example using ravel().\n",
      "  estimator.fit(X_train, y_train, **fit_params)\n",
      "D:\\anaconda3\\envs\\ml_study\\lib\\site-packages\\sklearn\\model_selection\\_validation.py:680: DataConversionWarning: A column-vector y was passed when a 1d array was expected. Please change the shape of y to (n_samples,), for example using ravel().\n",
      "  estimator.fit(X_train, y_train, **fit_params)\n",
      "D:\\anaconda3\\envs\\ml_study\\lib\\site-packages\\sklearn\\model_selection\\_validation.py:680: DataConversionWarning: A column-vector y was passed when a 1d array was expected. Please change the shape of y to (n_samples,), for example using ravel().\n",
      "  estimator.fit(X_train, y_train, **fit_params)\n",
      "D:\\anaconda3\\envs\\ml_study\\lib\\site-packages\\sklearn\\model_selection\\_validation.py:680: DataConversionWarning: A column-vector y was passed when a 1d array was expected. Please change the shape of y to (n_samples,), for example using ravel().\n",
      "  estimator.fit(X_train, y_train, **fit_params)\n",
      "D:\\anaconda3\\envs\\ml_study\\lib\\site-packages\\sklearn\\model_selection\\_validation.py:680: DataConversionWarning: A column-vector y was passed when a 1d array was expected. Please change the shape of y to (n_samples,), for example using ravel().\n",
      "  estimator.fit(X_train, y_train, **fit_params)\n",
      "D:\\anaconda3\\envs\\ml_study\\lib\\site-packages\\sklearn\\model_selection\\_validation.py:680: DataConversionWarning: A column-vector y was passed when a 1d array was expected. Please change the shape of y to (n_samples,), for example using ravel().\n",
      "  estimator.fit(X_train, y_train, **fit_params)\n",
      "D:\\anaconda3\\envs\\ml_study\\lib\\site-packages\\sklearn\\model_selection\\_validation.py:680: DataConversionWarning: A column-vector y was passed when a 1d array was expected. Please change the shape of y to (n_samples,), for example using ravel().\n",
      "  estimator.fit(X_train, y_train, **fit_params)\n",
      "D:\\anaconda3\\envs\\ml_study\\lib\\site-packages\\sklearn\\model_selection\\_validation.py:680: DataConversionWarning: A column-vector y was passed when a 1d array was expected. Please change the shape of y to (n_samples,), for example using ravel().\n",
      "  estimator.fit(X_train, y_train, **fit_params)\n",
      "D:\\anaconda3\\envs\\ml_study\\lib\\site-packages\\sklearn\\model_selection\\_validation.py:680: DataConversionWarning: A column-vector y was passed when a 1d array was expected. Please change the shape of y to (n_samples,), for example using ravel().\n",
      "  estimator.fit(X_train, y_train, **fit_params)\n",
      "D:\\anaconda3\\envs\\ml_study\\lib\\site-packages\\sklearn\\model_selection\\_validation.py:680: DataConversionWarning: A column-vector y was passed when a 1d array was expected. Please change the shape of y to (n_samples,), for example using ravel().\n",
      "  estimator.fit(X_train, y_train, **fit_params)\n",
      "D:\\anaconda3\\envs\\ml_study\\lib\\site-packages\\sklearn\\model_selection\\_validation.py:680: DataConversionWarning: A column-vector y was passed when a 1d array was expected. Please change the shape of y to (n_samples,), for example using ravel().\n",
      "  estimator.fit(X_train, y_train, **fit_params)\n",
      "D:\\anaconda3\\envs\\ml_study\\lib\\site-packages\\sklearn\\model_selection\\_validation.py:680: DataConversionWarning: A column-vector y was passed when a 1d array was expected. Please change the shape of y to (n_samples,), for example using ravel().\n",
      "  estimator.fit(X_train, y_train, **fit_params)\n",
      "D:\\anaconda3\\envs\\ml_study\\lib\\site-packages\\sklearn\\model_selection\\_validation.py:680: DataConversionWarning: A column-vector y was passed when a 1d array was expected. Please change the shape of y to (n_samples,), for example using ravel().\n",
      "  estimator.fit(X_train, y_train, **fit_params)\n",
      "D:\\anaconda3\\envs\\ml_study\\lib\\site-packages\\sklearn\\model_selection\\_validation.py:680: DataConversionWarning: A column-vector y was passed when a 1d array was expected. Please change the shape of y to (n_samples,), for example using ravel().\n",
      "  estimator.fit(X_train, y_train, **fit_params)\n",
      "D:\\anaconda3\\envs\\ml_study\\lib\\site-packages\\sklearn\\model_selection\\_validation.py:680: DataConversionWarning: A column-vector y was passed when a 1d array was expected. Please change the shape of y to (n_samples,), for example using ravel().\n",
      "  estimator.fit(X_train, y_train, **fit_params)\n"
     ]
    },
    {
     "name": "stdout",
     "output_type": "stream",
     "text": [
      "[CV 3/5] END ...max_features=6, n_estimators=20;, score=0.831 total time=   0.0s\n",
      "[CV 4/5] END ...max_features=6, n_estimators=20;, score=0.798 total time=   0.0s\n",
      "[CV 5/5] END ...max_features=6, n_estimators=20;, score=0.825 total time=   0.0s\n",
      "[CV 1/5] END ...max_features=6, n_estimators=30;, score=0.742 total time=   0.0s\n",
      "[CV 2/5] END ...max_features=6, n_estimators=30;, score=0.803 total time=   0.0s\n"
     ]
    },
    {
     "name": "stderr",
     "output_type": "stream",
     "text": [
      "D:\\anaconda3\\envs\\ml_study\\lib\\site-packages\\sklearn\\model_selection\\_validation.py:680: DataConversionWarning: A column-vector y was passed when a 1d array was expected. Please change the shape of y to (n_samples,), for example using ravel().\n",
      "  estimator.fit(X_train, y_train, **fit_params)\n",
      "D:\\anaconda3\\envs\\ml_study\\lib\\site-packages\\sklearn\\model_selection\\_validation.py:680: DataConversionWarning: A column-vector y was passed when a 1d array was expected. Please change the shape of y to (n_samples,), for example using ravel().\n",
      "  estimator.fit(X_train, y_train, **fit_params)\n",
      "D:\\anaconda3\\envs\\ml_study\\lib\\site-packages\\sklearn\\model_selection\\_validation.py:680: DataConversionWarning: A column-vector y was passed when a 1d array was expected. Please change the shape of y to (n_samples,), for example using ravel().\n",
      "  estimator.fit(X_train, y_train, **fit_params)\n",
      "D:\\anaconda3\\envs\\ml_study\\lib\\site-packages\\sklearn\\model_selection\\_validation.py:680: DataConversionWarning: A column-vector y was passed when a 1d array was expected. Please change the shape of y to (n_samples,), for example using ravel().\n",
      "  estimator.fit(X_train, y_train, **fit_params)\n"
     ]
    },
    {
     "name": "stdout",
     "output_type": "stream",
     "text": [
      "[CV 3/5] END ...max_features=6, n_estimators=30;, score=0.848 total time=   0.0s\n",
      "[CV 4/5] END ...max_features=6, n_estimators=30;, score=0.787 total time=   0.0s\n",
      "[CV 5/5] END ...max_features=6, n_estimators=30;, score=0.842 total time=   0.0s\n",
      "[CV 1/5] END ...max_features=6, n_estimators=40;, score=0.775 total time=   0.0s\n",
      "[CV 2/5] END ...max_features=6, n_estimators=40;, score=0.787 total time=   0.0s\n",
      "[CV 3/5] END ...max_features=6, n_estimators=40;, score=0.826 total time=   0.0s\n"
     ]
    },
    {
     "name": "stderr",
     "output_type": "stream",
     "text": [
      "D:\\anaconda3\\envs\\ml_study\\lib\\site-packages\\sklearn\\model_selection\\_validation.py:680: DataConversionWarning: A column-vector y was passed when a 1d array was expected. Please change the shape of y to (n_samples,), for example using ravel().\n",
      "  estimator.fit(X_train, y_train, **fit_params)\n",
      "D:\\anaconda3\\envs\\ml_study\\lib\\site-packages\\sklearn\\model_selection\\_validation.py:680: DataConversionWarning: A column-vector y was passed when a 1d array was expected. Please change the shape of y to (n_samples,), for example using ravel().\n",
      "  estimator.fit(X_train, y_train, **fit_params)\n",
      "D:\\anaconda3\\envs\\ml_study\\lib\\site-packages\\sklearn\\model_selection\\_validation.py:680: DataConversionWarning: A column-vector y was passed when a 1d array was expected. Please change the shape of y to (n_samples,), for example using ravel().\n",
      "  estimator.fit(X_train, y_train, **fit_params)\n"
     ]
    },
    {
     "name": "stdout",
     "output_type": "stream",
     "text": [
      "[CV 4/5] END ...max_features=6, n_estimators=40;, score=0.775 total time=   0.0s\n",
      "[CV 5/5] END ...max_features=6, n_estimators=40;, score=0.814 total time=   0.0s\n",
      "[CV 1/5] END ...max_features=6, n_estimators=50;, score=0.781 total time=   0.0s\n"
     ]
    },
    {
     "name": "stderr",
     "output_type": "stream",
     "text": [
      "D:\\anaconda3\\envs\\ml_study\\lib\\site-packages\\sklearn\\model_selection\\_validation.py:680: DataConversionWarning: A column-vector y was passed when a 1d array was expected. Please change the shape of y to (n_samples,), for example using ravel().\n",
      "  estimator.fit(X_train, y_train, **fit_params)\n",
      "D:\\anaconda3\\envs\\ml_study\\lib\\site-packages\\sklearn\\model_selection\\_validation.py:680: DataConversionWarning: A column-vector y was passed when a 1d array was expected. Please change the shape of y to (n_samples,), for example using ravel().\n",
      "  estimator.fit(X_train, y_train, **fit_params)\n",
      "D:\\anaconda3\\envs\\ml_study\\lib\\site-packages\\sklearn\\model_selection\\_validation.py:680: DataConversionWarning: A column-vector y was passed when a 1d array was expected. Please change the shape of y to (n_samples,), for example using ravel().\n",
      "  estimator.fit(X_train, y_train, **fit_params)\n"
     ]
    },
    {
     "name": "stdout",
     "output_type": "stream",
     "text": [
      "[CV 2/5] END ...max_features=6, n_estimators=50;, score=0.809 total time=   0.0s\n",
      "[CV 3/5] END ...max_features=6, n_estimators=50;, score=0.854 total time=   0.0s\n",
      "[CV 4/5] END ...max_features=6, n_estimators=50;, score=0.792 total time=   0.0s\n"
     ]
    },
    {
     "name": "stderr",
     "output_type": "stream",
     "text": [
      "D:\\anaconda3\\envs\\ml_study\\lib\\site-packages\\sklearn\\model_selection\\_validation.py:680: DataConversionWarning: A column-vector y was passed when a 1d array was expected. Please change the shape of y to (n_samples,), for example using ravel().\n",
      "  estimator.fit(X_train, y_train, **fit_params)\n",
      "D:\\anaconda3\\envs\\ml_study\\lib\\site-packages\\sklearn\\model_selection\\_validation.py:680: DataConversionWarning: A column-vector y was passed when a 1d array was expected. Please change the shape of y to (n_samples,), for example using ravel().\n",
      "  estimator.fit(X_train, y_train, **fit_params)\n",
      "D:\\anaconda3\\envs\\ml_study\\lib\\site-packages\\sklearn\\model_selection\\_validation.py:680: DataConversionWarning: A column-vector y was passed when a 1d array was expected. Please change the shape of y to (n_samples,), for example using ravel().\n",
      "  estimator.fit(X_train, y_train, **fit_params)\n"
     ]
    },
    {
     "name": "stdout",
     "output_type": "stream",
     "text": [
      "[CV 5/5] END ...max_features=6, n_estimators=50;, score=0.836 total time=   0.0s\n",
      "[CV 1/5] END ..max_features=6, n_estimators=100;, score=0.764 total time=   0.1s\n"
     ]
    },
    {
     "name": "stderr",
     "output_type": "stream",
     "text": [
      "D:\\anaconda3\\envs\\ml_study\\lib\\site-packages\\sklearn\\model_selection\\_validation.py:680: DataConversionWarning: A column-vector y was passed when a 1d array was expected. Please change the shape of y to (n_samples,), for example using ravel().\n",
      "  estimator.fit(X_train, y_train, **fit_params)\n",
      "D:\\anaconda3\\envs\\ml_study\\lib\\site-packages\\sklearn\\model_selection\\_validation.py:680: DataConversionWarning: A column-vector y was passed when a 1d array was expected. Please change the shape of y to (n_samples,), for example using ravel().\n",
      "  estimator.fit(X_train, y_train, **fit_params)\n"
     ]
    },
    {
     "name": "stdout",
     "output_type": "stream",
     "text": [
      "[CV 2/5] END ..max_features=6, n_estimators=100;, score=0.809 total time=   0.1s\n",
      "[CV 3/5] END ..max_features=6, n_estimators=100;, score=0.843 total time=   0.1s\n"
     ]
    },
    {
     "name": "stderr",
     "output_type": "stream",
     "text": [
      "D:\\anaconda3\\envs\\ml_study\\lib\\site-packages\\sklearn\\model_selection\\_validation.py:680: DataConversionWarning: A column-vector y was passed when a 1d array was expected. Please change the shape of y to (n_samples,), for example using ravel().\n",
      "  estimator.fit(X_train, y_train, **fit_params)\n",
      "D:\\anaconda3\\envs\\ml_study\\lib\\site-packages\\sklearn\\model_selection\\_validation.py:680: DataConversionWarning: A column-vector y was passed when a 1d array was expected. Please change the shape of y to (n_samples,), for example using ravel().\n",
      "  estimator.fit(X_train, y_train, **fit_params)\n"
     ]
    },
    {
     "name": "stdout",
     "output_type": "stream",
     "text": [
      "[CV 4/5] END ..max_features=6, n_estimators=100;, score=0.792 total time=   0.1s\n",
      "[CV 5/5] END ..max_features=6, n_estimators=100;, score=0.814 total time=   0.1s\n"
     ]
    },
    {
     "name": "stderr",
     "output_type": "stream",
     "text": [
      "D:\\anaconda3\\envs\\ml_study\\lib\\site-packages\\sklearn\\model_selection\\_validation.py:680: DataConversionWarning: A column-vector y was passed when a 1d array was expected. Please change the shape of y to (n_samples,), for example using ravel().\n",
      "  estimator.fit(X_train, y_train, **fit_params)\n",
      "D:\\anaconda3\\envs\\ml_study\\lib\\site-packages\\sklearn\\model_selection\\_validation.py:680: DataConversionWarning: A column-vector y was passed when a 1d array was expected. Please change the shape of y to (n_samples,), for example using ravel().\n",
      "  estimator.fit(X_train, y_train, **fit_params)\n"
     ]
    },
    {
     "name": "stdout",
     "output_type": "stream",
     "text": [
      "[CV 1/5] END ..max_features=6, n_estimators=150;, score=0.758 total time=   0.2s\n"
     ]
    },
    {
     "name": "stderr",
     "output_type": "stream",
     "text": [
      "D:\\anaconda3\\envs\\ml_study\\lib\\site-packages\\sklearn\\model_selection\\_validation.py:680: DataConversionWarning: A column-vector y was passed when a 1d array was expected. Please change the shape of y to (n_samples,), for example using ravel().\n",
      "  estimator.fit(X_train, y_train, **fit_params)\n"
     ]
    },
    {
     "name": "stdout",
     "output_type": "stream",
     "text": [
      "[CV 2/5] END ..max_features=6, n_estimators=150;, score=0.803 total time=   0.1s\n"
     ]
    },
    {
     "name": "stderr",
     "output_type": "stream",
     "text": [
      "D:\\anaconda3\\envs\\ml_study\\lib\\site-packages\\sklearn\\model_selection\\_validation.py:680: DataConversionWarning: A column-vector y was passed when a 1d array was expected. Please change the shape of y to (n_samples,), for example using ravel().\n",
      "  estimator.fit(X_train, y_train, **fit_params)\n"
     ]
    },
    {
     "name": "stdout",
     "output_type": "stream",
     "text": [
      "[CV 3/5] END ..max_features=6, n_estimators=150;, score=0.848 total time=   0.2s\n"
     ]
    },
    {
     "name": "stderr",
     "output_type": "stream",
     "text": [
      "D:\\anaconda3\\envs\\ml_study\\lib\\site-packages\\sklearn\\model_selection\\_validation.py:680: DataConversionWarning: A column-vector y was passed when a 1d array was expected. Please change the shape of y to (n_samples,), for example using ravel().\n",
      "  estimator.fit(X_train, y_train, **fit_params)\n"
     ]
    },
    {
     "name": "stdout",
     "output_type": "stream",
     "text": [
      "[CV 4/5] END ..max_features=6, n_estimators=150;, score=0.792 total time=   0.1s\n"
     ]
    },
    {
     "name": "stderr",
     "output_type": "stream",
     "text": [
      "D:\\anaconda3\\envs\\ml_study\\lib\\site-packages\\sklearn\\model_selection\\_validation.py:680: DataConversionWarning: A column-vector y was passed when a 1d array was expected. Please change the shape of y to (n_samples,), for example using ravel().\n",
      "  estimator.fit(X_train, y_train, **fit_params)\n"
     ]
    },
    {
     "name": "stdout",
     "output_type": "stream",
     "text": [
      "[CV 5/5] END ..max_features=6, n_estimators=150;, score=0.825 total time=   0.1s\n"
     ]
    },
    {
     "name": "stderr",
     "output_type": "stream",
     "text": [
      "D:\\anaconda3\\envs\\ml_study\\lib\\site-packages\\sklearn\\model_selection\\_validation.py:680: DataConversionWarning: A column-vector y was passed when a 1d array was expected. Please change the shape of y to (n_samples,), for example using ravel().\n",
      "  estimator.fit(X_train, y_train, **fit_params)\n"
     ]
    },
    {
     "name": "stdout",
     "output_type": "stream",
     "text": [
      "[CV 1/5] END ..max_features=6, n_estimators=200;, score=0.770 total time=   0.2s\n"
     ]
    },
    {
     "name": "stderr",
     "output_type": "stream",
     "text": [
      "D:\\anaconda3\\envs\\ml_study\\lib\\site-packages\\sklearn\\model_selection\\_validation.py:680: DataConversionWarning: A column-vector y was passed when a 1d array was expected. Please change the shape of y to (n_samples,), for example using ravel().\n",
      "  estimator.fit(X_train, y_train, **fit_params)\n"
     ]
    },
    {
     "name": "stdout",
     "output_type": "stream",
     "text": [
      "[CV 2/5] END ..max_features=6, n_estimators=200;, score=0.809 total time=   0.3s\n"
     ]
    },
    {
     "name": "stderr",
     "output_type": "stream",
     "text": [
      "D:\\anaconda3\\envs\\ml_study\\lib\\site-packages\\sklearn\\model_selection\\_validation.py:680: DataConversionWarning: A column-vector y was passed when a 1d array was expected. Please change the shape of y to (n_samples,), for example using ravel().\n",
      "  estimator.fit(X_train, y_train, **fit_params)\n"
     ]
    },
    {
     "name": "stdout",
     "output_type": "stream",
     "text": [
      "[CV 3/5] END ..max_features=6, n_estimators=200;, score=0.854 total time=   0.3s\n"
     ]
    },
    {
     "name": "stderr",
     "output_type": "stream",
     "text": [
      "D:\\anaconda3\\envs\\ml_study\\lib\\site-packages\\sklearn\\model_selection\\_validation.py:680: DataConversionWarning: A column-vector y was passed when a 1d array was expected. Please change the shape of y to (n_samples,), for example using ravel().\n",
      "  estimator.fit(X_train, y_train, **fit_params)\n"
     ]
    },
    {
     "name": "stdout",
     "output_type": "stream",
     "text": [
      "[CV 4/5] END ..max_features=6, n_estimators=200;, score=0.792 total time=   0.3s\n"
     ]
    },
    {
     "name": "stderr",
     "output_type": "stream",
     "text": [
      "D:\\anaconda3\\envs\\ml_study\\lib\\site-packages\\sklearn\\model_selection\\_validation.py:680: DataConversionWarning: A column-vector y was passed when a 1d array was expected. Please change the shape of y to (n_samples,), for example using ravel().\n",
      "  estimator.fit(X_train, y_train, **fit_params)\n"
     ]
    },
    {
     "name": "stdout",
     "output_type": "stream",
     "text": [
      "[CV 5/5] END ..max_features=6, n_estimators=200;, score=0.836 total time=   0.2s\n"
     ]
    },
    {
     "name": "stderr",
     "output_type": "stream",
     "text": [
      "D:\\anaconda3\\envs\\ml_study\\lib\\site-packages\\sklearn\\model_selection\\_validation.py:680: DataConversionWarning: A column-vector y was passed when a 1d array was expected. Please change the shape of y to (n_samples,), for example using ravel().\n",
      "  estimator.fit(X_train, y_train, **fit_params)\n"
     ]
    },
    {
     "name": "stdout",
     "output_type": "stream",
     "text": [
      "[CV 1/5] END ..max_features=6, n_estimators=250;, score=0.792 total time=   0.3s\n"
     ]
    },
    {
     "name": "stderr",
     "output_type": "stream",
     "text": [
      "D:\\anaconda3\\envs\\ml_study\\lib\\site-packages\\sklearn\\model_selection\\_validation.py:680: DataConversionWarning: A column-vector y was passed when a 1d array was expected. Please change the shape of y to (n_samples,), for example using ravel().\n",
      "  estimator.fit(X_train, y_train, **fit_params)\n"
     ]
    },
    {
     "name": "stdout",
     "output_type": "stream",
     "text": [
      "[CV 2/5] END ..max_features=6, n_estimators=250;, score=0.803 total time=   0.3s\n"
     ]
    },
    {
     "name": "stderr",
     "output_type": "stream",
     "text": [
      "D:\\anaconda3\\envs\\ml_study\\lib\\site-packages\\sklearn\\model_selection\\_validation.py:680: DataConversionWarning: A column-vector y was passed when a 1d array was expected. Please change the shape of y to (n_samples,), for example using ravel().\n",
      "  estimator.fit(X_train, y_train, **fit_params)\n"
     ]
    },
    {
     "name": "stdout",
     "output_type": "stream",
     "text": [
      "[CV 3/5] END ..max_features=6, n_estimators=250;, score=0.848 total time=   0.3s\n"
     ]
    },
    {
     "name": "stderr",
     "output_type": "stream",
     "text": [
      "D:\\anaconda3\\envs\\ml_study\\lib\\site-packages\\sklearn\\model_selection\\_validation.py:680: DataConversionWarning: A column-vector y was passed when a 1d array was expected. Please change the shape of y to (n_samples,), for example using ravel().\n",
      "  estimator.fit(X_train, y_train, **fit_params)\n"
     ]
    },
    {
     "name": "stdout",
     "output_type": "stream",
     "text": [
      "[CV 4/5] END ..max_features=6, n_estimators=250;, score=0.787 total time=   0.3s\n"
     ]
    },
    {
     "name": "stderr",
     "output_type": "stream",
     "text": [
      "D:\\anaconda3\\envs\\ml_study\\lib\\site-packages\\sklearn\\model_selection\\_validation.py:680: DataConversionWarning: A column-vector y was passed when a 1d array was expected. Please change the shape of y to (n_samples,), for example using ravel().\n",
      "  estimator.fit(X_train, y_train, **fit_params)\n"
     ]
    },
    {
     "name": "stdout",
     "output_type": "stream",
     "text": [
      "[CV 5/5] END ..max_features=6, n_estimators=250;, score=0.814 total time=   0.4s\n"
     ]
    },
    {
     "name": "stderr",
     "output_type": "stream",
     "text": [
      "D:\\anaconda3\\envs\\ml_study\\lib\\site-packages\\sklearn\\model_selection\\_validation.py:680: DataConversionWarning: A column-vector y was passed when a 1d array was expected. Please change the shape of y to (n_samples,), for example using ravel().\n",
      "  estimator.fit(X_train, y_train, **fit_params)\n"
     ]
    },
    {
     "name": "stdout",
     "output_type": "stream",
     "text": [
      "[CV 1/5] END ..max_features=6, n_estimators=300;, score=0.764 total time=   0.4s\n"
     ]
    },
    {
     "name": "stderr",
     "output_type": "stream",
     "text": [
      "D:\\anaconda3\\envs\\ml_study\\lib\\site-packages\\sklearn\\model_selection\\_validation.py:680: DataConversionWarning: A column-vector y was passed when a 1d array was expected. Please change the shape of y to (n_samples,), for example using ravel().\n",
      "  estimator.fit(X_train, y_train, **fit_params)\n"
     ]
    },
    {
     "name": "stdout",
     "output_type": "stream",
     "text": [
      "[CV 2/5] END ..max_features=6, n_estimators=300;, score=0.809 total time=   0.5s\n"
     ]
    },
    {
     "name": "stderr",
     "output_type": "stream",
     "text": [
      "D:\\anaconda3\\envs\\ml_study\\lib\\site-packages\\sklearn\\model_selection\\_validation.py:680: DataConversionWarning: A column-vector y was passed when a 1d array was expected. Please change the shape of y to (n_samples,), for example using ravel().\n",
      "  estimator.fit(X_train, y_train, **fit_params)\n"
     ]
    },
    {
     "name": "stdout",
     "output_type": "stream",
     "text": [
      "[CV 3/5] END ..max_features=6, n_estimators=300;, score=0.848 total time=   0.5s\n"
     ]
    },
    {
     "name": "stderr",
     "output_type": "stream",
     "text": [
      "D:\\anaconda3\\envs\\ml_study\\lib\\site-packages\\sklearn\\model_selection\\_validation.py:680: DataConversionWarning: A column-vector y was passed when a 1d array was expected. Please change the shape of y to (n_samples,), for example using ravel().\n",
      "  estimator.fit(X_train, y_train, **fit_params)\n"
     ]
    },
    {
     "name": "stdout",
     "output_type": "stream",
     "text": [
      "[CV 4/5] END ..max_features=6, n_estimators=300;, score=0.787 total time=   0.5s\n"
     ]
    },
    {
     "name": "stderr",
     "output_type": "stream",
     "text": [
      "D:\\anaconda3\\envs\\ml_study\\lib\\site-packages\\sklearn\\model_selection\\_validation.py:680: DataConversionWarning: A column-vector y was passed when a 1d array was expected. Please change the shape of y to (n_samples,), for example using ravel().\n",
      "  estimator.fit(X_train, y_train, **fit_params)\n"
     ]
    },
    {
     "name": "stdout",
     "output_type": "stream",
     "text": [
      "[CV 5/5] END ..max_features=6, n_estimators=300;, score=0.825 total time=   0.4s\n",
      "[CV 1/5] END ....max_features=7, n_estimators=5;, score=0.742 total time=   0.0s\n",
      "[CV 2/5] END ....max_features=7, n_estimators=5;, score=0.803 total time=   0.0s\n",
      "[CV 3/5] END ....max_features=7, n_estimators=5;, score=0.831 total time=   0.0s\n",
      "[CV 4/5] END ....max_features=7, n_estimators=5;, score=0.781 total time=   0.0s\n",
      "[CV 5/5] END ....max_features=7, n_estimators=5;, score=0.802 total time=   0.0s\n",
      "[CV 1/5] END ...max_features=7, n_estimators=10;, score=0.787 total time=   0.0s\n",
      "[CV 2/5] END ...max_features=7, n_estimators=10;, score=0.809 total time=   0.0s\n",
      "[CV 3/5] END ...max_features=7, n_estimators=10;, score=0.837 total time=   0.0s\n",
      "[CV 4/5] END ...max_features=7, n_estimators=10;, score=0.792 total time=   0.0s\n",
      "[CV 5/5] END ...max_features=7, n_estimators=10;, score=0.842 total time=   0.0s\n",
      "[CV 1/5] END ...max_features=7, n_estimators=20;, score=0.787 total time=   0.0s\n",
      "[CV 2/5] END ...max_features=7, n_estimators=20;, score=0.787 total time=   0.0s\n"
     ]
    },
    {
     "name": "stderr",
     "output_type": "stream",
     "text": [
      "D:\\anaconda3\\envs\\ml_study\\lib\\site-packages\\sklearn\\model_selection\\_validation.py:680: DataConversionWarning: A column-vector y was passed when a 1d array was expected. Please change the shape of y to (n_samples,), for example using ravel().\n",
      "  estimator.fit(X_train, y_train, **fit_params)\n",
      "D:\\anaconda3\\envs\\ml_study\\lib\\site-packages\\sklearn\\model_selection\\_validation.py:680: DataConversionWarning: A column-vector y was passed when a 1d array was expected. Please change the shape of y to (n_samples,), for example using ravel().\n",
      "  estimator.fit(X_train, y_train, **fit_params)\n",
      "D:\\anaconda3\\envs\\ml_study\\lib\\site-packages\\sklearn\\model_selection\\_validation.py:680: DataConversionWarning: A column-vector y was passed when a 1d array was expected. Please change the shape of y to (n_samples,), for example using ravel().\n",
      "  estimator.fit(X_train, y_train, **fit_params)\n",
      "D:\\anaconda3\\envs\\ml_study\\lib\\site-packages\\sklearn\\model_selection\\_validation.py:680: DataConversionWarning: A column-vector y was passed when a 1d array was expected. Please change the shape of y to (n_samples,), for example using ravel().\n",
      "  estimator.fit(X_train, y_train, **fit_params)\n",
      "D:\\anaconda3\\envs\\ml_study\\lib\\site-packages\\sklearn\\model_selection\\_validation.py:680: DataConversionWarning: A column-vector y was passed when a 1d array was expected. Please change the shape of y to (n_samples,), for example using ravel().\n",
      "  estimator.fit(X_train, y_train, **fit_params)\n",
      "D:\\anaconda3\\envs\\ml_study\\lib\\site-packages\\sklearn\\model_selection\\_validation.py:680: DataConversionWarning: A column-vector y was passed when a 1d array was expected. Please change the shape of y to (n_samples,), for example using ravel().\n",
      "  estimator.fit(X_train, y_train, **fit_params)\n",
      "D:\\anaconda3\\envs\\ml_study\\lib\\site-packages\\sklearn\\model_selection\\_validation.py:680: DataConversionWarning: A column-vector y was passed when a 1d array was expected. Please change the shape of y to (n_samples,), for example using ravel().\n",
      "  estimator.fit(X_train, y_train, **fit_params)\n",
      "D:\\anaconda3\\envs\\ml_study\\lib\\site-packages\\sklearn\\model_selection\\_validation.py:680: DataConversionWarning: A column-vector y was passed when a 1d array was expected. Please change the shape of y to (n_samples,), for example using ravel().\n",
      "  estimator.fit(X_train, y_train, **fit_params)\n",
      "D:\\anaconda3\\envs\\ml_study\\lib\\site-packages\\sklearn\\model_selection\\_validation.py:680: DataConversionWarning: A column-vector y was passed when a 1d array was expected. Please change the shape of y to (n_samples,), for example using ravel().\n",
      "  estimator.fit(X_train, y_train, **fit_params)\n",
      "D:\\anaconda3\\envs\\ml_study\\lib\\site-packages\\sklearn\\model_selection\\_validation.py:680: DataConversionWarning: A column-vector y was passed when a 1d array was expected. Please change the shape of y to (n_samples,), for example using ravel().\n",
      "  estimator.fit(X_train, y_train, **fit_params)\n",
      "D:\\anaconda3\\envs\\ml_study\\lib\\site-packages\\sklearn\\model_selection\\_validation.py:680: DataConversionWarning: A column-vector y was passed when a 1d array was expected. Please change the shape of y to (n_samples,), for example using ravel().\n",
      "  estimator.fit(X_train, y_train, **fit_params)\n",
      "D:\\anaconda3\\envs\\ml_study\\lib\\site-packages\\sklearn\\model_selection\\_validation.py:680: DataConversionWarning: A column-vector y was passed when a 1d array was expected. Please change the shape of y to (n_samples,), for example using ravel().\n",
      "  estimator.fit(X_train, y_train, **fit_params)\n",
      "D:\\anaconda3\\envs\\ml_study\\lib\\site-packages\\sklearn\\model_selection\\_validation.py:680: DataConversionWarning: A column-vector y was passed when a 1d array was expected. Please change the shape of y to (n_samples,), for example using ravel().\n",
      "  estimator.fit(X_train, y_train, **fit_params)\n"
     ]
    },
    {
     "name": "stdout",
     "output_type": "stream",
     "text": [
      "[CV 3/5] END ...max_features=7, n_estimators=20;, score=0.831 total time=   0.0s\n",
      "[CV 4/5] END ...max_features=7, n_estimators=20;, score=0.775 total time=   0.0s\n",
      "[CV 5/5] END ...max_features=7, n_estimators=20;, score=0.825 total time=   0.0s\n",
      "[CV 1/5] END ...max_features=7, n_estimators=30;, score=0.742 total time=   0.0s\n",
      "[CV 2/5] END ...max_features=7, n_estimators=30;, score=0.803 total time=   0.0s\n",
      "[CV 3/5] END ...max_features=7, n_estimators=30;, score=0.854 total time=   0.0s\n"
     ]
    },
    {
     "name": "stderr",
     "output_type": "stream",
     "text": [
      "D:\\anaconda3\\envs\\ml_study\\lib\\site-packages\\sklearn\\model_selection\\_validation.py:680: DataConversionWarning: A column-vector y was passed when a 1d array was expected. Please change the shape of y to (n_samples,), for example using ravel().\n",
      "  estimator.fit(X_train, y_train, **fit_params)\n",
      "D:\\anaconda3\\envs\\ml_study\\lib\\site-packages\\sklearn\\model_selection\\_validation.py:680: DataConversionWarning: A column-vector y was passed when a 1d array was expected. Please change the shape of y to (n_samples,), for example using ravel().\n",
      "  estimator.fit(X_train, y_train, **fit_params)\n",
      "D:\\anaconda3\\envs\\ml_study\\lib\\site-packages\\sklearn\\model_selection\\_validation.py:680: DataConversionWarning: A column-vector y was passed when a 1d array was expected. Please change the shape of y to (n_samples,), for example using ravel().\n",
      "  estimator.fit(X_train, y_train, **fit_params)\n",
      "D:\\anaconda3\\envs\\ml_study\\lib\\site-packages\\sklearn\\model_selection\\_validation.py:680: DataConversionWarning: A column-vector y was passed when a 1d array was expected. Please change the shape of y to (n_samples,), for example using ravel().\n",
      "  estimator.fit(X_train, y_train, **fit_params)\n",
      "D:\\anaconda3\\envs\\ml_study\\lib\\site-packages\\sklearn\\model_selection\\_validation.py:680: DataConversionWarning: A column-vector y was passed when a 1d array was expected. Please change the shape of y to (n_samples,), for example using ravel().\n",
      "  estimator.fit(X_train, y_train, **fit_params)\n"
     ]
    },
    {
     "name": "stdout",
     "output_type": "stream",
     "text": [
      "[CV 4/5] END ...max_features=7, n_estimators=30;, score=0.775 total time=   0.0s\n",
      "[CV 5/5] END ...max_features=7, n_estimators=30;, score=0.814 total time=   0.0s\n",
      "[CV 1/5] END ...max_features=7, n_estimators=40;, score=0.764 total time=   0.0s\n"
     ]
    },
    {
     "name": "stderr",
     "output_type": "stream",
     "text": [
      "D:\\anaconda3\\envs\\ml_study\\lib\\site-packages\\sklearn\\model_selection\\_validation.py:680: DataConversionWarning: A column-vector y was passed when a 1d array was expected. Please change the shape of y to (n_samples,), for example using ravel().\n",
      "  estimator.fit(X_train, y_train, **fit_params)\n",
      "D:\\anaconda3\\envs\\ml_study\\lib\\site-packages\\sklearn\\model_selection\\_validation.py:680: DataConversionWarning: A column-vector y was passed when a 1d array was expected. Please change the shape of y to (n_samples,), for example using ravel().\n",
      "  estimator.fit(X_train, y_train, **fit_params)\n",
      "D:\\anaconda3\\envs\\ml_study\\lib\\site-packages\\sklearn\\model_selection\\_validation.py:680: DataConversionWarning: A column-vector y was passed when a 1d array was expected. Please change the shape of y to (n_samples,), for example using ravel().\n",
      "  estimator.fit(X_train, y_train, **fit_params)\n",
      "D:\\anaconda3\\envs\\ml_study\\lib\\site-packages\\sklearn\\model_selection\\_validation.py:680: DataConversionWarning: A column-vector y was passed when a 1d array was expected. Please change the shape of y to (n_samples,), for example using ravel().\n",
      "  estimator.fit(X_train, y_train, **fit_params)\n"
     ]
    },
    {
     "name": "stdout",
     "output_type": "stream",
     "text": [
      "[CV 2/5] END ...max_features=7, n_estimators=40;, score=0.787 total time=   0.0s\n",
      "[CV 3/5] END ...max_features=7, n_estimators=40;, score=0.854 total time=   0.0s\n",
      "[CV 4/5] END ...max_features=7, n_estimators=40;, score=0.781 total time=   0.0s\n",
      "[CV 5/5] END ...max_features=7, n_estimators=40;, score=0.819 total time=   0.0s\n"
     ]
    },
    {
     "name": "stderr",
     "output_type": "stream",
     "text": [
      "D:\\anaconda3\\envs\\ml_study\\lib\\site-packages\\sklearn\\model_selection\\_validation.py:680: DataConversionWarning: A column-vector y was passed when a 1d array was expected. Please change the shape of y to (n_samples,), for example using ravel().\n",
      "  estimator.fit(X_train, y_train, **fit_params)\n",
      "D:\\anaconda3\\envs\\ml_study\\lib\\site-packages\\sklearn\\model_selection\\_validation.py:680: DataConversionWarning: A column-vector y was passed when a 1d array was expected. Please change the shape of y to (n_samples,), for example using ravel().\n",
      "  estimator.fit(X_train, y_train, **fit_params)\n",
      "D:\\anaconda3\\envs\\ml_study\\lib\\site-packages\\sklearn\\model_selection\\_validation.py:680: DataConversionWarning: A column-vector y was passed when a 1d array was expected. Please change the shape of y to (n_samples,), for example using ravel().\n",
      "  estimator.fit(X_train, y_train, **fit_params)\n",
      "D:\\anaconda3\\envs\\ml_study\\lib\\site-packages\\sklearn\\model_selection\\_validation.py:680: DataConversionWarning: A column-vector y was passed when a 1d array was expected. Please change the shape of y to (n_samples,), for example using ravel().\n",
      "  estimator.fit(X_train, y_train, **fit_params)\n"
     ]
    },
    {
     "name": "stdout",
     "output_type": "stream",
     "text": [
      "[CV 1/5] END ...max_features=7, n_estimators=50;, score=0.753 total time=   0.0s\n",
      "[CV 2/5] END ...max_features=7, n_estimators=50;, score=0.803 total time=   0.0s\n",
      "[CV 3/5] END ...max_features=7, n_estimators=50;, score=0.843 total time=   0.0s\n"
     ]
    },
    {
     "name": "stderr",
     "output_type": "stream",
     "text": [
      "D:\\anaconda3\\envs\\ml_study\\lib\\site-packages\\sklearn\\model_selection\\_validation.py:680: DataConversionWarning: A column-vector y was passed when a 1d array was expected. Please change the shape of y to (n_samples,), for example using ravel().\n",
      "  estimator.fit(X_train, y_train, **fit_params)\n",
      "D:\\anaconda3\\envs\\ml_study\\lib\\site-packages\\sklearn\\model_selection\\_validation.py:680: DataConversionWarning: A column-vector y was passed when a 1d array was expected. Please change the shape of y to (n_samples,), for example using ravel().\n",
      "  estimator.fit(X_train, y_train, **fit_params)\n",
      "D:\\anaconda3\\envs\\ml_study\\lib\\site-packages\\sklearn\\model_selection\\_validation.py:680: DataConversionWarning: A column-vector y was passed when a 1d array was expected. Please change the shape of y to (n_samples,), for example using ravel().\n",
      "  estimator.fit(X_train, y_train, **fit_params)\n"
     ]
    },
    {
     "name": "stdout",
     "output_type": "stream",
     "text": [
      "[CV 4/5] END ...max_features=7, n_estimators=50;, score=0.787 total time=   0.0s\n",
      "[CV 5/5] END ...max_features=7, n_estimators=50;, score=0.819 total time=   0.0s\n"
     ]
    },
    {
     "name": "stderr",
     "output_type": "stream",
     "text": [
      "D:\\anaconda3\\envs\\ml_study\\lib\\site-packages\\sklearn\\model_selection\\_validation.py:680: DataConversionWarning: A column-vector y was passed when a 1d array was expected. Please change the shape of y to (n_samples,), for example using ravel().\n",
      "  estimator.fit(X_train, y_train, **fit_params)\n",
      "D:\\anaconda3\\envs\\ml_study\\lib\\site-packages\\sklearn\\model_selection\\_validation.py:680: DataConversionWarning: A column-vector y was passed when a 1d array was expected. Please change the shape of y to (n_samples,), for example using ravel().\n",
      "  estimator.fit(X_train, y_train, **fit_params)\n"
     ]
    },
    {
     "name": "stdout",
     "output_type": "stream",
     "text": [
      "[CV 1/5] END ..max_features=7, n_estimators=100;, score=0.753 total time=   0.1s\n",
      "[CV 2/5] END ..max_features=7, n_estimators=100;, score=0.792 total time=   0.1s\n"
     ]
    },
    {
     "name": "stderr",
     "output_type": "stream",
     "text": [
      "D:\\anaconda3\\envs\\ml_study\\lib\\site-packages\\sklearn\\model_selection\\_validation.py:680: DataConversionWarning: A column-vector y was passed when a 1d array was expected. Please change the shape of y to (n_samples,), for example using ravel().\n",
      "  estimator.fit(X_train, y_train, **fit_params)\n",
      "D:\\anaconda3\\envs\\ml_study\\lib\\site-packages\\sklearn\\model_selection\\_validation.py:680: DataConversionWarning: A column-vector y was passed when a 1d array was expected. Please change the shape of y to (n_samples,), for example using ravel().\n",
      "  estimator.fit(X_train, y_train, **fit_params)\n"
     ]
    },
    {
     "name": "stdout",
     "output_type": "stream",
     "text": [
      "[CV 3/5] END ..max_features=7, n_estimators=100;, score=0.843 total time=   0.1s\n",
      "[CV 4/5] END ..max_features=7, n_estimators=100;, score=0.781 total time=   0.1s\n"
     ]
    },
    {
     "name": "stderr",
     "output_type": "stream",
     "text": [
      "D:\\anaconda3\\envs\\ml_study\\lib\\site-packages\\sklearn\\model_selection\\_validation.py:680: DataConversionWarning: A column-vector y was passed when a 1d array was expected. Please change the shape of y to (n_samples,), for example using ravel().\n",
      "  estimator.fit(X_train, y_train, **fit_params)\n",
      "D:\\anaconda3\\envs\\ml_study\\lib\\site-packages\\sklearn\\model_selection\\_validation.py:680: DataConversionWarning: A column-vector y was passed when a 1d array was expected. Please change the shape of y to (n_samples,), for example using ravel().\n",
      "  estimator.fit(X_train, y_train, **fit_params)\n"
     ]
    },
    {
     "name": "stdout",
     "output_type": "stream",
     "text": [
      "[CV 5/5] END ..max_features=7, n_estimators=100;, score=0.831 total time=   0.1s\n"
     ]
    },
    {
     "name": "stderr",
     "output_type": "stream",
     "text": [
      "D:\\anaconda3\\envs\\ml_study\\lib\\site-packages\\sklearn\\model_selection\\_validation.py:680: DataConversionWarning: A column-vector y was passed when a 1d array was expected. Please change the shape of y to (n_samples,), for example using ravel().\n",
      "  estimator.fit(X_train, y_train, **fit_params)\n"
     ]
    },
    {
     "name": "stdout",
     "output_type": "stream",
     "text": [
      "[CV 1/5] END ..max_features=7, n_estimators=150;, score=0.775 total time=   0.1s\n"
     ]
    },
    {
     "name": "stderr",
     "output_type": "stream",
     "text": [
      "D:\\anaconda3\\envs\\ml_study\\lib\\site-packages\\sklearn\\model_selection\\_validation.py:680: DataConversionWarning: A column-vector y was passed when a 1d array was expected. Please change the shape of y to (n_samples,), for example using ravel().\n",
      "  estimator.fit(X_train, y_train, **fit_params)\n"
     ]
    },
    {
     "name": "stdout",
     "output_type": "stream",
     "text": [
      "[CV 2/5] END ..max_features=7, n_estimators=150;, score=0.803 total time=   0.2s\n"
     ]
    },
    {
     "name": "stderr",
     "output_type": "stream",
     "text": [
      "D:\\anaconda3\\envs\\ml_study\\lib\\site-packages\\sklearn\\model_selection\\_validation.py:680: DataConversionWarning: A column-vector y was passed when a 1d array was expected. Please change the shape of y to (n_samples,), for example using ravel().\n",
      "  estimator.fit(X_train, y_train, **fit_params)\n"
     ]
    },
    {
     "name": "stdout",
     "output_type": "stream",
     "text": [
      "[CV 3/5] END ..max_features=7, n_estimators=150;, score=0.848 total time=   0.2s\n"
     ]
    },
    {
     "name": "stderr",
     "output_type": "stream",
     "text": [
      "D:\\anaconda3\\envs\\ml_study\\lib\\site-packages\\sklearn\\model_selection\\_validation.py:680: DataConversionWarning: A column-vector y was passed when a 1d array was expected. Please change the shape of y to (n_samples,), for example using ravel().\n",
      "  estimator.fit(X_train, y_train, **fit_params)\n"
     ]
    },
    {
     "name": "stdout",
     "output_type": "stream",
     "text": [
      "[CV 4/5] END ..max_features=7, n_estimators=150;, score=0.787 total time=   0.2s\n"
     ]
    },
    {
     "name": "stderr",
     "output_type": "stream",
     "text": [
      "D:\\anaconda3\\envs\\ml_study\\lib\\site-packages\\sklearn\\model_selection\\_validation.py:680: DataConversionWarning: A column-vector y was passed when a 1d array was expected. Please change the shape of y to (n_samples,), for example using ravel().\n",
      "  estimator.fit(X_train, y_train, **fit_params)\n"
     ]
    },
    {
     "name": "stdout",
     "output_type": "stream",
     "text": [
      "[CV 5/5] END ..max_features=7, n_estimators=150;, score=0.819 total time=   0.2s\n"
     ]
    },
    {
     "name": "stderr",
     "output_type": "stream",
     "text": [
      "D:\\anaconda3\\envs\\ml_study\\lib\\site-packages\\sklearn\\model_selection\\_validation.py:680: DataConversionWarning: A column-vector y was passed when a 1d array was expected. Please change the shape of y to (n_samples,), for example using ravel().\n",
      "  estimator.fit(X_train, y_train, **fit_params)\n"
     ]
    },
    {
     "name": "stdout",
     "output_type": "stream",
     "text": [
      "[CV 1/5] END ..max_features=7, n_estimators=200;, score=0.781 total time=   0.2s\n"
     ]
    },
    {
     "name": "stderr",
     "output_type": "stream",
     "text": [
      "D:\\anaconda3\\envs\\ml_study\\lib\\site-packages\\sklearn\\model_selection\\_validation.py:680: DataConversionWarning: A column-vector y was passed when a 1d array was expected. Please change the shape of y to (n_samples,), for example using ravel().\n",
      "  estimator.fit(X_train, y_train, **fit_params)\n"
     ]
    },
    {
     "name": "stdout",
     "output_type": "stream",
     "text": [
      "[CV 2/5] END ..max_features=7, n_estimators=200;, score=0.820 total time=   0.3s\n"
     ]
    },
    {
     "name": "stderr",
     "output_type": "stream",
     "text": [
      "D:\\anaconda3\\envs\\ml_study\\lib\\site-packages\\sklearn\\model_selection\\_validation.py:680: DataConversionWarning: A column-vector y was passed when a 1d array was expected. Please change the shape of y to (n_samples,), for example using ravel().\n",
      "  estimator.fit(X_train, y_train, **fit_params)\n"
     ]
    },
    {
     "name": "stdout",
     "output_type": "stream",
     "text": [
      "[CV 3/5] END ..max_features=7, n_estimators=200;, score=0.860 total time=   0.4s\n"
     ]
    },
    {
     "name": "stderr",
     "output_type": "stream",
     "text": [
      "D:\\anaconda3\\envs\\ml_study\\lib\\site-packages\\sklearn\\model_selection\\_validation.py:680: DataConversionWarning: A column-vector y was passed when a 1d array was expected. Please change the shape of y to (n_samples,), for example using ravel().\n",
      "  estimator.fit(X_train, y_train, **fit_params)\n"
     ]
    },
    {
     "name": "stdout",
     "output_type": "stream",
     "text": [
      "[CV 4/5] END ..max_features=7, n_estimators=200;, score=0.781 total time=   0.3s\n"
     ]
    },
    {
     "name": "stderr",
     "output_type": "stream",
     "text": [
      "D:\\anaconda3\\envs\\ml_study\\lib\\site-packages\\sklearn\\model_selection\\_validation.py:680: DataConversionWarning: A column-vector y was passed when a 1d array was expected. Please change the shape of y to (n_samples,), for example using ravel().\n",
      "  estimator.fit(X_train, y_train, **fit_params)\n"
     ]
    },
    {
     "name": "stdout",
     "output_type": "stream",
     "text": [
      "[CV 5/5] END ..max_features=7, n_estimators=200;, score=0.831 total time=   0.3s\n"
     ]
    },
    {
     "name": "stderr",
     "output_type": "stream",
     "text": [
      "D:\\anaconda3\\envs\\ml_study\\lib\\site-packages\\sklearn\\model_selection\\_validation.py:680: DataConversionWarning: A column-vector y was passed when a 1d array was expected. Please change the shape of y to (n_samples,), for example using ravel().\n",
      "  estimator.fit(X_train, y_train, **fit_params)\n"
     ]
    },
    {
     "name": "stdout",
     "output_type": "stream",
     "text": [
      "[CV 1/5] END ..max_features=7, n_estimators=250;, score=0.781 total time=   0.3s\n"
     ]
    },
    {
     "name": "stderr",
     "output_type": "stream",
     "text": [
      "D:\\anaconda3\\envs\\ml_study\\lib\\site-packages\\sklearn\\model_selection\\_validation.py:680: DataConversionWarning: A column-vector y was passed when a 1d array was expected. Please change the shape of y to (n_samples,), for example using ravel().\n",
      "  estimator.fit(X_train, y_train, **fit_params)\n"
     ]
    },
    {
     "name": "stdout",
     "output_type": "stream",
     "text": [
      "[CV 2/5] END ..max_features=7, n_estimators=250;, score=0.809 total time=   0.3s\n"
     ]
    },
    {
     "name": "stderr",
     "output_type": "stream",
     "text": [
      "D:\\anaconda3\\envs\\ml_study\\lib\\site-packages\\sklearn\\model_selection\\_validation.py:680: DataConversionWarning: A column-vector y was passed when a 1d array was expected. Please change the shape of y to (n_samples,), for example using ravel().\n",
      "  estimator.fit(X_train, y_train, **fit_params)\n"
     ]
    },
    {
     "name": "stdout",
     "output_type": "stream",
     "text": [
      "[CV 3/5] END ..max_features=7, n_estimators=250;, score=0.860 total time=   0.3s\n"
     ]
    },
    {
     "name": "stderr",
     "output_type": "stream",
     "text": [
      "D:\\anaconda3\\envs\\ml_study\\lib\\site-packages\\sklearn\\model_selection\\_validation.py:680: DataConversionWarning: A column-vector y was passed when a 1d array was expected. Please change the shape of y to (n_samples,), for example using ravel().\n",
      "  estimator.fit(X_train, y_train, **fit_params)\n"
     ]
    },
    {
     "name": "stdout",
     "output_type": "stream",
     "text": [
      "[CV 4/5] END ..max_features=7, n_estimators=250;, score=0.787 total time=   0.3s\n"
     ]
    },
    {
     "name": "stderr",
     "output_type": "stream",
     "text": [
      "D:\\anaconda3\\envs\\ml_study\\lib\\site-packages\\sklearn\\model_selection\\_validation.py:680: DataConversionWarning: A column-vector y was passed when a 1d array was expected. Please change the shape of y to (n_samples,), for example using ravel().\n",
      "  estimator.fit(X_train, y_train, **fit_params)\n"
     ]
    },
    {
     "name": "stdout",
     "output_type": "stream",
     "text": [
      "[CV 5/5] END ..max_features=7, n_estimators=250;, score=0.819 total time=   0.3s\n"
     ]
    },
    {
     "name": "stderr",
     "output_type": "stream",
     "text": [
      "D:\\anaconda3\\envs\\ml_study\\lib\\site-packages\\sklearn\\model_selection\\_validation.py:680: DataConversionWarning: A column-vector y was passed when a 1d array was expected. Please change the shape of y to (n_samples,), for example using ravel().\n",
      "  estimator.fit(X_train, y_train, **fit_params)\n"
     ]
    },
    {
     "name": "stdout",
     "output_type": "stream",
     "text": [
      "[CV 1/5] END ..max_features=7, n_estimators=300;, score=0.770 total time=   0.4s\n"
     ]
    },
    {
     "name": "stderr",
     "output_type": "stream",
     "text": [
      "D:\\anaconda3\\envs\\ml_study\\lib\\site-packages\\sklearn\\model_selection\\_validation.py:680: DataConversionWarning: A column-vector y was passed when a 1d array was expected. Please change the shape of y to (n_samples,), for example using ravel().\n",
      "  estimator.fit(X_train, y_train, **fit_params)\n"
     ]
    },
    {
     "name": "stdout",
     "output_type": "stream",
     "text": [
      "[CV 2/5] END ..max_features=7, n_estimators=300;, score=0.809 total time=   0.4s\n"
     ]
    },
    {
     "name": "stderr",
     "output_type": "stream",
     "text": [
      "D:\\anaconda3\\envs\\ml_study\\lib\\site-packages\\sklearn\\model_selection\\_validation.py:680: DataConversionWarning: A column-vector y was passed when a 1d array was expected. Please change the shape of y to (n_samples,), for example using ravel().\n",
      "  estimator.fit(X_train, y_train, **fit_params)\n"
     ]
    },
    {
     "name": "stdout",
     "output_type": "stream",
     "text": [
      "[CV 3/5] END ..max_features=7, n_estimators=300;, score=0.843 total time=   0.4s\n"
     ]
    },
    {
     "name": "stderr",
     "output_type": "stream",
     "text": [
      "D:\\anaconda3\\envs\\ml_study\\lib\\site-packages\\sklearn\\model_selection\\_validation.py:680: DataConversionWarning: A column-vector y was passed when a 1d array was expected. Please change the shape of y to (n_samples,), for example using ravel().\n",
      "  estimator.fit(X_train, y_train, **fit_params)\n"
     ]
    },
    {
     "name": "stdout",
     "output_type": "stream",
     "text": [
      "[CV 4/5] END ..max_features=7, n_estimators=300;, score=0.787 total time=   0.4s\n"
     ]
    },
    {
     "name": "stderr",
     "output_type": "stream",
     "text": [
      "D:\\anaconda3\\envs\\ml_study\\lib\\site-packages\\sklearn\\model_selection\\_validation.py:680: DataConversionWarning: A column-vector y was passed when a 1d array was expected. Please change the shape of y to (n_samples,), for example using ravel().\n",
      "  estimator.fit(X_train, y_train, **fit_params)\n",
      "D:\\anaconda3\\envs\\ml_study\\lib\\site-packages\\sklearn\\model_selection\\_validation.py:680: DataConversionWarning: A column-vector y was passed when a 1d array was expected. Please change the shape of y to (n_samples,), for example using ravel().\n",
      "  estimator.fit(X_train, y_train, **fit_params)\n",
      "D:\\anaconda3\\envs\\ml_study\\lib\\site-packages\\sklearn\\model_selection\\_validation.py:680: DataConversionWarning: A column-vector y was passed when a 1d array was expected. Please change the shape of y to (n_samples,), for example using ravel().\n",
      "  estimator.fit(X_train, y_train, **fit_params)\n",
      "D:\\anaconda3\\envs\\ml_study\\lib\\site-packages\\sklearn\\model_selection\\_validation.py:680: DataConversionWarning: A column-vector y was passed when a 1d array was expected. Please change the shape of y to (n_samples,), for example using ravel().\n",
      "  estimator.fit(X_train, y_train, **fit_params)\n",
      "D:\\anaconda3\\envs\\ml_study\\lib\\site-packages\\sklearn\\model_selection\\_validation.py:680: DataConversionWarning: A column-vector y was passed when a 1d array was expected. Please change the shape of y to (n_samples,), for example using ravel().\n",
      "  estimator.fit(X_train, y_train, **fit_params)\n",
      "D:\\anaconda3\\envs\\ml_study\\lib\\site-packages\\sklearn\\model_selection\\_validation.py:680: DataConversionWarning: A column-vector y was passed when a 1d array was expected. Please change the shape of y to (n_samples,), for example using ravel().\n",
      "  estimator.fit(X_train, y_train, **fit_params)\n",
      "D:\\anaconda3\\envs\\ml_study\\lib\\site-packages\\sklearn\\model_selection\\_validation.py:680: DataConversionWarning: A column-vector y was passed when a 1d array was expected. Please change the shape of y to (n_samples,), for example using ravel().\n",
      "  estimator.fit(X_train, y_train, **fit_params)\n",
      "D:\\anaconda3\\envs\\ml_study\\lib\\site-packages\\sklearn\\model_selection\\_validation.py:680: DataConversionWarning: A column-vector y was passed when a 1d array was expected. Please change the shape of y to (n_samples,), for example using ravel().\n",
      "  estimator.fit(X_train, y_train, **fit_params)\n",
      "D:\\anaconda3\\envs\\ml_study\\lib\\site-packages\\sklearn\\model_selection\\_validation.py:680: DataConversionWarning: A column-vector y was passed when a 1d array was expected. Please change the shape of y to (n_samples,), for example using ravel().\n",
      "  estimator.fit(X_train, y_train, **fit_params)\n",
      "D:\\anaconda3\\envs\\ml_study\\lib\\site-packages\\sklearn\\model_selection\\_validation.py:680: DataConversionWarning: A column-vector y was passed when a 1d array was expected. Please change the shape of y to (n_samples,), for example using ravel().\n",
      "  estimator.fit(X_train, y_train, **fit_params)\n",
      "D:\\anaconda3\\envs\\ml_study\\lib\\site-packages\\sklearn\\model_selection\\_validation.py:680: DataConversionWarning: A column-vector y was passed when a 1d array was expected. Please change the shape of y to (n_samples,), for example using ravel().\n",
      "  estimator.fit(X_train, y_train, **fit_params)\n",
      "D:\\anaconda3\\envs\\ml_study\\lib\\site-packages\\sklearn\\model_selection\\_validation.py:680: DataConversionWarning: A column-vector y was passed when a 1d array was expected. Please change the shape of y to (n_samples,), for example using ravel().\n",
      "  estimator.fit(X_train, y_train, **fit_params)\n",
      "D:\\anaconda3\\envs\\ml_study\\lib\\site-packages\\sklearn\\model_selection\\_validation.py:680: DataConversionWarning: A column-vector y was passed when a 1d array was expected. Please change the shape of y to (n_samples,), for example using ravel().\n",
      "  estimator.fit(X_train, y_train, **fit_params)\n",
      "D:\\anaconda3\\envs\\ml_study\\lib\\site-packages\\sklearn\\model_selection\\_validation.py:680: DataConversionWarning: A column-vector y was passed when a 1d array was expected. Please change the shape of y to (n_samples,), for example using ravel().\n",
      "  estimator.fit(X_train, y_train, **fit_params)\n",
      "D:\\anaconda3\\envs\\ml_study\\lib\\site-packages\\sklearn\\model_selection\\_validation.py:680: DataConversionWarning: A column-vector y was passed when a 1d array was expected. Please change the shape of y to (n_samples,), for example using ravel().\n",
      "  estimator.fit(X_train, y_train, **fit_params)\n",
      "D:\\anaconda3\\envs\\ml_study\\lib\\site-packages\\sklearn\\model_selection\\_validation.py:680: DataConversionWarning: A column-vector y was passed when a 1d array was expected. Please change the shape of y to (n_samples,), for example using ravel().\n",
      "  estimator.fit(X_train, y_train, **fit_params)\n",
      "D:\\anaconda3\\envs\\ml_study\\lib\\site-packages\\sklearn\\model_selection\\_validation.py:680: DataConversionWarning: A column-vector y was passed when a 1d array was expected. Please change the shape of y to (n_samples,), for example using ravel().\n",
      "  estimator.fit(X_train, y_train, **fit_params)\n",
      "D:\\anaconda3\\envs\\ml_study\\lib\\site-packages\\sklearn\\model_selection\\_validation.py:680: DataConversionWarning: A column-vector y was passed when a 1d array was expected. Please change the shape of y to (n_samples,), for example using ravel().\n",
      "  estimator.fit(X_train, y_train, **fit_params)\n",
      "D:\\anaconda3\\envs\\ml_study\\lib\\site-packages\\sklearn\\model_selection\\_validation.py:680: DataConversionWarning: A column-vector y was passed when a 1d array was expected. Please change the shape of y to (n_samples,), for example using ravel().\n",
      "  estimator.fit(X_train, y_train, **fit_params)\n",
      "D:\\anaconda3\\envs\\ml_study\\lib\\site-packages\\sklearn\\model_selection\\_validation.py:680: DataConversionWarning: A column-vector y was passed when a 1d array was expected. Please change the shape of y to (n_samples,), for example using ravel().\n",
      "  estimator.fit(X_train, y_train, **fit_params)\n",
      "D:\\anaconda3\\envs\\ml_study\\lib\\site-packages\\sklearn\\model_selection\\_validation.py:680: DataConversionWarning: A column-vector y was passed when a 1d array was expected. Please change the shape of y to (n_samples,), for example using ravel().\n",
      "  estimator.fit(X_train, y_train, **fit_params)\n",
      "D:\\anaconda3\\envs\\ml_study\\lib\\site-packages\\sklearn\\model_selection\\_validation.py:680: DataConversionWarning: A column-vector y was passed when a 1d array was expected. Please change the shape of y to (n_samples,), for example using ravel().\n",
      "  estimator.fit(X_train, y_train, **fit_params)\n",
      "D:\\anaconda3\\envs\\ml_study\\lib\\site-packages\\sklearn\\model_selection\\_validation.py:680: DataConversionWarning: A column-vector y was passed when a 1d array was expected. Please change the shape of y to (n_samples,), for example using ravel().\n",
      "  estimator.fit(X_train, y_train, **fit_params)\n"
     ]
    },
    {
     "name": "stdout",
     "output_type": "stream",
     "text": [
      "[CV 5/5] END ..max_features=7, n_estimators=300;, score=0.825 total time=   0.4s\n",
      "[CV 1/5] END ......max_features=8, n_estimators=5;, score=nan total time=   0.0s\n",
      "[CV 2/5] END ......max_features=8, n_estimators=5;, score=nan total time=   0.0s\n",
      "[CV 3/5] END ......max_features=8, n_estimators=5;, score=nan total time=   0.0s\n",
      "[CV 4/5] END ......max_features=8, n_estimators=5;, score=nan total time=   0.0s\n",
      "[CV 5/5] END ......max_features=8, n_estimators=5;, score=nan total time=   0.0s\n",
      "[CV 1/5] END .....max_features=8, n_estimators=10;, score=nan total time=   0.0s\n",
      "[CV 2/5] END .....max_features=8, n_estimators=10;, score=nan total time=   0.0s\n",
      "[CV 3/5] END .....max_features=8, n_estimators=10;, score=nan total time=   0.0s\n",
      "[CV 4/5] END .....max_features=8, n_estimators=10;, score=nan total time=   0.0s\n",
      "[CV 5/5] END .....max_features=8, n_estimators=10;, score=nan total time=   0.0s\n",
      "[CV 1/5] END .....max_features=8, n_estimators=20;, score=nan total time=   0.0s\n",
      "[CV 2/5] END .....max_features=8, n_estimators=20;, score=nan total time=   0.0s\n",
      "[CV 3/5] END .....max_features=8, n_estimators=20;, score=nan total time=   0.0s\n",
      "[CV 4/5] END .....max_features=8, n_estimators=20;, score=nan total time=   0.0s\n",
      "[CV 5/5] END .....max_features=8, n_estimators=20;, score=nan total time=   0.0s\n",
      "[CV 1/5] END .....max_features=8, n_estimators=30;, score=nan total time=   0.0s\n",
      "[CV 2/5] END .....max_features=8, n_estimators=30;, score=nan total time=   0.0s\n",
      "[CV 3/5] END .....max_features=8, n_estimators=30;, score=nan total time=   0.0s\n",
      "[CV 4/5] END .....max_features=8, n_estimators=30;, score=nan total time=   0.0s\n",
      "[CV 5/5] END .....max_features=8, n_estimators=30;, score=nan total time=   0.0s\n",
      "[CV 1/5] END .....max_features=8, n_estimators=40;, score=nan total time=   0.0s\n",
      "[CV 2/5] END .....max_features=8, n_estimators=40;, score=nan total time=   0.0s\n"
     ]
    },
    {
     "name": "stderr",
     "output_type": "stream",
     "text": [
      "D:\\anaconda3\\envs\\ml_study\\lib\\site-packages\\sklearn\\model_selection\\_validation.py:680: DataConversionWarning: A column-vector y was passed when a 1d array was expected. Please change the shape of y to (n_samples,), for example using ravel().\n",
      "  estimator.fit(X_train, y_train, **fit_params)\n",
      "D:\\anaconda3\\envs\\ml_study\\lib\\site-packages\\sklearn\\model_selection\\_validation.py:680: DataConversionWarning: A column-vector y was passed when a 1d array was expected. Please change the shape of y to (n_samples,), for example using ravel().\n",
      "  estimator.fit(X_train, y_train, **fit_params)\n",
      "D:\\anaconda3\\envs\\ml_study\\lib\\site-packages\\sklearn\\model_selection\\_validation.py:680: DataConversionWarning: A column-vector y was passed when a 1d array was expected. Please change the shape of y to (n_samples,), for example using ravel().\n",
      "  estimator.fit(X_train, y_train, **fit_params)\n",
      "D:\\anaconda3\\envs\\ml_study\\lib\\site-packages\\sklearn\\model_selection\\_validation.py:680: DataConversionWarning: A column-vector y was passed when a 1d array was expected. Please change the shape of y to (n_samples,), for example using ravel().\n",
      "  estimator.fit(X_train, y_train, **fit_params)\n",
      "D:\\anaconda3\\envs\\ml_study\\lib\\site-packages\\sklearn\\model_selection\\_validation.py:680: DataConversionWarning: A column-vector y was passed when a 1d array was expected. Please change the shape of y to (n_samples,), for example using ravel().\n",
      "  estimator.fit(X_train, y_train, **fit_params)\n",
      "D:\\anaconda3\\envs\\ml_study\\lib\\site-packages\\sklearn\\model_selection\\_validation.py:680: DataConversionWarning: A column-vector y was passed when a 1d array was expected. Please change the shape of y to (n_samples,), for example using ravel().\n",
      "  estimator.fit(X_train, y_train, **fit_params)\n",
      "D:\\anaconda3\\envs\\ml_study\\lib\\site-packages\\sklearn\\model_selection\\_validation.py:680: DataConversionWarning: A column-vector y was passed when a 1d array was expected. Please change the shape of y to (n_samples,), for example using ravel().\n",
      "  estimator.fit(X_train, y_train, **fit_params)\n",
      "D:\\anaconda3\\envs\\ml_study\\lib\\site-packages\\sklearn\\model_selection\\_validation.py:680: DataConversionWarning: A column-vector y was passed when a 1d array was expected. Please change the shape of y to (n_samples,), for example using ravel().\n",
      "  estimator.fit(X_train, y_train, **fit_params)\n",
      "D:\\anaconda3\\envs\\ml_study\\lib\\site-packages\\sklearn\\model_selection\\_validation.py:680: DataConversionWarning: A column-vector y was passed when a 1d array was expected. Please change the shape of y to (n_samples,), for example using ravel().\n",
      "  estimator.fit(X_train, y_train, **fit_params)\n"
     ]
    },
    {
     "name": "stdout",
     "output_type": "stream",
     "text": [
      "[CV 3/5] END .....max_features=8, n_estimators=40;, score=nan total time=   0.0s\n",
      "[CV 4/5] END .....max_features=8, n_estimators=40;, score=nan total time=   0.0s\n",
      "[CV 5/5] END .....max_features=8, n_estimators=40;, score=nan total time=   0.0s\n",
      "[CV 1/5] END .....max_features=8, n_estimators=50;, score=nan total time=   0.0s\n",
      "[CV 2/5] END .....max_features=8, n_estimators=50;, score=nan total time=   0.0s\n",
      "[CV 3/5] END .....max_features=8, n_estimators=50;, score=nan total time=   0.0s\n",
      "[CV 4/5] END .....max_features=8, n_estimators=50;, score=nan total time=   0.0s\n",
      "[CV 5/5] END .....max_features=8, n_estimators=50;, score=nan total time=   0.0s\n",
      "[CV 1/5] END ....max_features=8, n_estimators=100;, score=nan total time=   0.0s\n"
     ]
    },
    {
     "name": "stderr",
     "output_type": "stream",
     "text": [
      "D:\\anaconda3\\envs\\ml_study\\lib\\site-packages\\sklearn\\model_selection\\_validation.py:680: DataConversionWarning: A column-vector y was passed when a 1d array was expected. Please change the shape of y to (n_samples,), for example using ravel().\n",
      "  estimator.fit(X_train, y_train, **fit_params)\n",
      "D:\\anaconda3\\envs\\ml_study\\lib\\site-packages\\sklearn\\model_selection\\_validation.py:680: DataConversionWarning: A column-vector y was passed when a 1d array was expected. Please change the shape of y to (n_samples,), for example using ravel().\n",
      "  estimator.fit(X_train, y_train, **fit_params)\n",
      "D:\\anaconda3\\envs\\ml_study\\lib\\site-packages\\sklearn\\model_selection\\_validation.py:680: DataConversionWarning: A column-vector y was passed when a 1d array was expected. Please change the shape of y to (n_samples,), for example using ravel().\n",
      "  estimator.fit(X_train, y_train, **fit_params)\n",
      "D:\\anaconda3\\envs\\ml_study\\lib\\site-packages\\sklearn\\model_selection\\_validation.py:680: DataConversionWarning: A column-vector y was passed when a 1d array was expected. Please change the shape of y to (n_samples,), for example using ravel().\n",
      "  estimator.fit(X_train, y_train, **fit_params)\n",
      "D:\\anaconda3\\envs\\ml_study\\lib\\site-packages\\sklearn\\model_selection\\_validation.py:680: DataConversionWarning: A column-vector y was passed when a 1d array was expected. Please change the shape of y to (n_samples,), for example using ravel().\n",
      "  estimator.fit(X_train, y_train, **fit_params)\n"
     ]
    },
    {
     "name": "stdout",
     "output_type": "stream",
     "text": [
      "[CV 2/5] END ....max_features=8, n_estimators=100;, score=nan total time=   0.0s\n",
      "[CV 3/5] END ....max_features=8, n_estimators=100;, score=nan total time=   0.0s\n",
      "[CV 4/5] END ....max_features=8, n_estimators=100;, score=nan total time=   0.0s\n",
      "[CV 5/5] END ....max_features=8, n_estimators=100;, score=nan total time=   0.0s\n",
      "[CV 1/5] END ....max_features=8, n_estimators=150;, score=nan total time=   0.0s\n"
     ]
    },
    {
     "name": "stderr",
     "output_type": "stream",
     "text": [
      "D:\\anaconda3\\envs\\ml_study\\lib\\site-packages\\sklearn\\model_selection\\_validation.py:680: DataConversionWarning: A column-vector y was passed when a 1d array was expected. Please change the shape of y to (n_samples,), for example using ravel().\n",
      "  estimator.fit(X_train, y_train, **fit_params)\n",
      "D:\\anaconda3\\envs\\ml_study\\lib\\site-packages\\sklearn\\model_selection\\_validation.py:680: DataConversionWarning: A column-vector y was passed when a 1d array was expected. Please change the shape of y to (n_samples,), for example using ravel().\n",
      "  estimator.fit(X_train, y_train, **fit_params)\n",
      "D:\\anaconda3\\envs\\ml_study\\lib\\site-packages\\sklearn\\model_selection\\_validation.py:680: DataConversionWarning: A column-vector y was passed when a 1d array was expected. Please change the shape of y to (n_samples,), for example using ravel().\n",
      "  estimator.fit(X_train, y_train, **fit_params)\n",
      "D:\\anaconda3\\envs\\ml_study\\lib\\site-packages\\sklearn\\model_selection\\_validation.py:680: DataConversionWarning: A column-vector y was passed when a 1d array was expected. Please change the shape of y to (n_samples,), for example using ravel().\n",
      "  estimator.fit(X_train, y_train, **fit_params)\n",
      "D:\\anaconda3\\envs\\ml_study\\lib\\site-packages\\sklearn\\model_selection\\_validation.py:680: DataConversionWarning: A column-vector y was passed when a 1d array was expected. Please change the shape of y to (n_samples,), for example using ravel().\n",
      "  estimator.fit(X_train, y_train, **fit_params)\n"
     ]
    },
    {
     "name": "stdout",
     "output_type": "stream",
     "text": [
      "[CV 2/5] END ....max_features=8, n_estimators=150;, score=nan total time=   0.0s\n",
      "[CV 3/5] END ....max_features=8, n_estimators=150;, score=nan total time=   0.0s\n",
      "[CV 4/5] END ....max_features=8, n_estimators=150;, score=nan total time=   0.0s\n",
      "[CV 5/5] END ....max_features=8, n_estimators=150;, score=nan total time=   0.0s\n",
      "[CV 1/5] END ....max_features=8, n_estimators=200;, score=nan total time=   0.0s\n"
     ]
    },
    {
     "name": "stderr",
     "output_type": "stream",
     "text": [
      "D:\\anaconda3\\envs\\ml_study\\lib\\site-packages\\sklearn\\model_selection\\_validation.py:680: DataConversionWarning: A column-vector y was passed when a 1d array was expected. Please change the shape of y to (n_samples,), for example using ravel().\n",
      "  estimator.fit(X_train, y_train, **fit_params)\n",
      "D:\\anaconda3\\envs\\ml_study\\lib\\site-packages\\sklearn\\model_selection\\_validation.py:680: DataConversionWarning: A column-vector y was passed when a 1d array was expected. Please change the shape of y to (n_samples,), for example using ravel().\n",
      "  estimator.fit(X_train, y_train, **fit_params)\n",
      "D:\\anaconda3\\envs\\ml_study\\lib\\site-packages\\sklearn\\model_selection\\_validation.py:680: DataConversionWarning: A column-vector y was passed when a 1d array was expected. Please change the shape of y to (n_samples,), for example using ravel().\n",
      "  estimator.fit(X_train, y_train, **fit_params)\n",
      "D:\\anaconda3\\envs\\ml_study\\lib\\site-packages\\sklearn\\model_selection\\_validation.py:680: DataConversionWarning: A column-vector y was passed when a 1d array was expected. Please change the shape of y to (n_samples,), for example using ravel().\n",
      "  estimator.fit(X_train, y_train, **fit_params)\n"
     ]
    },
    {
     "name": "stdout",
     "output_type": "stream",
     "text": [
      "[CV 2/5] END ....max_features=8, n_estimators=200;, score=nan total time=   0.0s\n",
      "[CV 3/5] END ....max_features=8, n_estimators=200;, score=nan total time=   0.0s\n",
      "[CV 4/5] END ....max_features=8, n_estimators=200;, score=nan total time=   0.0s\n",
      "[CV 5/5] END ....max_features=8, n_estimators=200;, score=nan total time=   0.0s\n",
      "[CV 1/5] END ....max_features=8, n_estimators=250;, score=nan total time=   0.0s\n",
      "[CV 2/5] END ....max_features=8, n_estimators=250;, score=nan total time=   0.0s\n",
      "[CV 3/5] END ....max_features=8, n_estimators=250;, score=nan total time=   0.0s\n"
     ]
    },
    {
     "name": "stderr",
     "output_type": "stream",
     "text": [
      "D:\\anaconda3\\envs\\ml_study\\lib\\site-packages\\sklearn\\model_selection\\_validation.py:680: DataConversionWarning: A column-vector y was passed when a 1d array was expected. Please change the shape of y to (n_samples,), for example using ravel().\n",
      "  estimator.fit(X_train, y_train, **fit_params)\n",
      "D:\\anaconda3\\envs\\ml_study\\lib\\site-packages\\sklearn\\model_selection\\_validation.py:680: DataConversionWarning: A column-vector y was passed when a 1d array was expected. Please change the shape of y to (n_samples,), for example using ravel().\n",
      "  estimator.fit(X_train, y_train, **fit_params)\n",
      "D:\\anaconda3\\envs\\ml_study\\lib\\site-packages\\sklearn\\model_selection\\_validation.py:680: DataConversionWarning: A column-vector y was passed when a 1d array was expected. Please change the shape of y to (n_samples,), for example using ravel().\n",
      "  estimator.fit(X_train, y_train, **fit_params)\n",
      "D:\\anaconda3\\envs\\ml_study\\lib\\site-packages\\sklearn\\model_selection\\_validation.py:680: DataConversionWarning: A column-vector y was passed when a 1d array was expected. Please change the shape of y to (n_samples,), for example using ravel().\n",
      "  estimator.fit(X_train, y_train, **fit_params)\n"
     ]
    },
    {
     "name": "stdout",
     "output_type": "stream",
     "text": [
      "[CV 4/5] END ....max_features=8, n_estimators=250;, score=nan total time=   0.0s\n",
      "[CV 5/5] END ....max_features=8, n_estimators=250;, score=nan total time=   0.0s\n",
      "[CV 1/5] END ....max_features=8, n_estimators=300;, score=nan total time=   0.0s\n"
     ]
    },
    {
     "name": "stderr",
     "output_type": "stream",
     "text": [
      "D:\\anaconda3\\envs\\ml_study\\lib\\site-packages\\sklearn\\model_selection\\_validation.py:680: DataConversionWarning: A column-vector y was passed when a 1d array was expected. Please change the shape of y to (n_samples,), for example using ravel().\n",
      "  estimator.fit(X_train, y_train, **fit_params)\n",
      "D:\\anaconda3\\envs\\ml_study\\lib\\site-packages\\sklearn\\model_selection\\_validation.py:680: DataConversionWarning: A column-vector y was passed when a 1d array was expected. Please change the shape of y to (n_samples,), for example using ravel().\n",
      "  estimator.fit(X_train, y_train, **fit_params)\n",
      "D:\\anaconda3\\envs\\ml_study\\lib\\site-packages\\sklearn\\model_selection\\_validation.py:680: DataConversionWarning: A column-vector y was passed when a 1d array was expected. Please change the shape of y to (n_samples,), for example using ravel().\n",
      "  estimator.fit(X_train, y_train, **fit_params)\n"
     ]
    },
    {
     "name": "stdout",
     "output_type": "stream",
     "text": [
      "[CV 2/5] END ....max_features=8, n_estimators=300;, score=nan total time=   0.0s\n",
      "[CV 3/5] END ....max_features=8, n_estimators=300;, score=nan total time=   0.0s\n",
      "[CV 4/5] END ....max_features=8, n_estimators=300;, score=nan total time=   0.0s\n"
     ]
    },
    {
     "name": "stderr",
     "output_type": "stream",
     "text": [
      "D:\\anaconda3\\envs\\ml_study\\lib\\site-packages\\sklearn\\model_selection\\_validation.py:680: DataConversionWarning: A column-vector y was passed when a 1d array was expected. Please change the shape of y to (n_samples,), for example using ravel().\n",
      "  estimator.fit(X_train, y_train, **fit_params)\n",
      "D:\\anaconda3\\envs\\ml_study\\lib\\site-packages\\sklearn\\model_selection\\_validation.py:680: DataConversionWarning: A column-vector y was passed when a 1d array was expected. Please change the shape of y to (n_samples,), for example using ravel().\n",
      "  estimator.fit(X_train, y_train, **fit_params)\n",
      "D:\\anaconda3\\envs\\ml_study\\lib\\site-packages\\sklearn\\model_selection\\_validation.py:680: DataConversionWarning: A column-vector y was passed when a 1d array was expected. Please change the shape of y to (n_samples,), for example using ravel().\n",
      "  estimator.fit(X_train, y_train, **fit_params)\n"
     ]
    },
    {
     "name": "stdout",
     "output_type": "stream",
     "text": [
      "[CV 5/5] END ....max_features=8, n_estimators=300;, score=nan total time=   0.0s\n",
      "[CV 1/5] END ......max_features=9, n_estimators=5;, score=nan total time=   0.0s\n",
      "[CV 2/5] END ......max_features=9, n_estimators=5;, score=nan total time=   0.0s\n",
      "[CV 3/5] END ......max_features=9, n_estimators=5;, score=nan total time=   0.0s\n",
      "[CV 4/5] END ......max_features=9, n_estimators=5;, score=nan total time=   0.0s\n",
      "[CV 5/5] END ......max_features=9, n_estimators=5;, score=nan total time=   0.0s\n",
      "[CV 1/5] END .....max_features=9, n_estimators=10;, score=nan total time=   0.0s\n",
      "[CV 2/5] END .....max_features=9, n_estimators=10;, score=nan total time=   0.0s\n",
      "[CV 3/5] END .....max_features=9, n_estimators=10;, score=nan total time=   0.0s\n",
      "[CV 4/5] END .....max_features=9, n_estimators=10;, score=nan total time=   0.0s\n",
      "[CV 5/5] END .....max_features=9, n_estimators=10;, score=nan total time=   0.0s\n",
      "[CV 1/5] END .....max_features=9, n_estimators=20;, score=nan total time=   0.0s\n",
      "[CV 2/5] END .....max_features=9, n_estimators=20;, score=nan total time=   0.0s\n",
      "[CV 3/5] END .....max_features=9, n_estimators=20;, score=nan total time=   0.0s\n",
      "[CV 4/5] END .....max_features=9, n_estimators=20;, score=nan total time=   0.0s\n",
      "[CV 5/5] END .....max_features=9, n_estimators=20;, score=nan total time=   0.0s\n",
      "[CV 1/5] END .....max_features=9, n_estimators=30;, score=nan total time=   0.0s\n",
      "[CV 2/5] END .....max_features=9, n_estimators=30;, score=nan total time=   0.0s\n",
      "[CV 3/5] END .....max_features=9, n_estimators=30;, score=nan total time=   0.0s\n",
      "[CV 4/5] END .....max_features=9, n_estimators=30;, score=nan total time=   0.0s\n",
      "[CV 5/5] END .....max_features=9, n_estimators=30;, score=nan total time=   0.0s\n",
      "[CV 1/5] END .....max_features=9, n_estimators=40;, score=nan total time=   0.0s\n",
      "[CV 2/5] END .....max_features=9, n_estimators=40;, score=nan total time=   0.0s\n",
      "[CV 3/5] END .....max_features=9, n_estimators=40;, score=nan total time=   0.0s\n",
      "[CV 4/5] END .....max_features=9, n_estimators=40;, score=nan total time=   0.0s\n"
     ]
    },
    {
     "name": "stderr",
     "output_type": "stream",
     "text": [
      "D:\\anaconda3\\envs\\ml_study\\lib\\site-packages\\sklearn\\model_selection\\_validation.py:680: DataConversionWarning: A column-vector y was passed when a 1d array was expected. Please change the shape of y to (n_samples,), for example using ravel().\n",
      "  estimator.fit(X_train, y_train, **fit_params)\n",
      "D:\\anaconda3\\envs\\ml_study\\lib\\site-packages\\sklearn\\model_selection\\_validation.py:680: DataConversionWarning: A column-vector y was passed when a 1d array was expected. Please change the shape of y to (n_samples,), for example using ravel().\n",
      "  estimator.fit(X_train, y_train, **fit_params)\n",
      "D:\\anaconda3\\envs\\ml_study\\lib\\site-packages\\sklearn\\model_selection\\_validation.py:680: DataConversionWarning: A column-vector y was passed when a 1d array was expected. Please change the shape of y to (n_samples,), for example using ravel().\n",
      "  estimator.fit(X_train, y_train, **fit_params)\n",
      "D:\\anaconda3\\envs\\ml_study\\lib\\site-packages\\sklearn\\model_selection\\_validation.py:680: DataConversionWarning: A column-vector y was passed when a 1d array was expected. Please change the shape of y to (n_samples,), for example using ravel().\n",
      "  estimator.fit(X_train, y_train, **fit_params)\n",
      "D:\\anaconda3\\envs\\ml_study\\lib\\site-packages\\sklearn\\model_selection\\_validation.py:680: DataConversionWarning: A column-vector y was passed when a 1d array was expected. Please change the shape of y to (n_samples,), for example using ravel().\n",
      "  estimator.fit(X_train, y_train, **fit_params)\n",
      "D:\\anaconda3\\envs\\ml_study\\lib\\site-packages\\sklearn\\model_selection\\_validation.py:680: DataConversionWarning: A column-vector y was passed when a 1d array was expected. Please change the shape of y to (n_samples,), for example using ravel().\n",
      "  estimator.fit(X_train, y_train, **fit_params)\n",
      "D:\\anaconda3\\envs\\ml_study\\lib\\site-packages\\sklearn\\model_selection\\_validation.py:680: DataConversionWarning: A column-vector y was passed when a 1d array was expected. Please change the shape of y to (n_samples,), for example using ravel().\n",
      "  estimator.fit(X_train, y_train, **fit_params)\n",
      "D:\\anaconda3\\envs\\ml_study\\lib\\site-packages\\sklearn\\model_selection\\_validation.py:680: DataConversionWarning: A column-vector y was passed when a 1d array was expected. Please change the shape of y to (n_samples,), for example using ravel().\n",
      "  estimator.fit(X_train, y_train, **fit_params)\n",
      "D:\\anaconda3\\envs\\ml_study\\lib\\site-packages\\sklearn\\model_selection\\_validation.py:680: DataConversionWarning: A column-vector y was passed when a 1d array was expected. Please change the shape of y to (n_samples,), for example using ravel().\n",
      "  estimator.fit(X_train, y_train, **fit_params)\n",
      "D:\\anaconda3\\envs\\ml_study\\lib\\site-packages\\sklearn\\model_selection\\_validation.py:680: DataConversionWarning: A column-vector y was passed when a 1d array was expected. Please change the shape of y to (n_samples,), for example using ravel().\n",
      "  estimator.fit(X_train, y_train, **fit_params)\n",
      "D:\\anaconda3\\envs\\ml_study\\lib\\site-packages\\sklearn\\model_selection\\_validation.py:680: DataConversionWarning: A column-vector y was passed when a 1d array was expected. Please change the shape of y to (n_samples,), for example using ravel().\n",
      "  estimator.fit(X_train, y_train, **fit_params)\n",
      "D:\\anaconda3\\envs\\ml_study\\lib\\site-packages\\sklearn\\model_selection\\_validation.py:680: DataConversionWarning: A column-vector y was passed when a 1d array was expected. Please change the shape of y to (n_samples,), for example using ravel().\n",
      "  estimator.fit(X_train, y_train, **fit_params)\n",
      "D:\\anaconda3\\envs\\ml_study\\lib\\site-packages\\sklearn\\model_selection\\_validation.py:680: DataConversionWarning: A column-vector y was passed when a 1d array was expected. Please change the shape of y to (n_samples,), for example using ravel().\n",
      "  estimator.fit(X_train, y_train, **fit_params)\n",
      "D:\\anaconda3\\envs\\ml_study\\lib\\site-packages\\sklearn\\model_selection\\_validation.py:680: DataConversionWarning: A column-vector y was passed when a 1d array was expected. Please change the shape of y to (n_samples,), for example using ravel().\n",
      "  estimator.fit(X_train, y_train, **fit_params)\n",
      "D:\\anaconda3\\envs\\ml_study\\lib\\site-packages\\sklearn\\model_selection\\_validation.py:680: DataConversionWarning: A column-vector y was passed when a 1d array was expected. Please change the shape of y to (n_samples,), for example using ravel().\n",
      "  estimator.fit(X_train, y_train, **fit_params)\n",
      "D:\\anaconda3\\envs\\ml_study\\lib\\site-packages\\sklearn\\model_selection\\_validation.py:680: DataConversionWarning: A column-vector y was passed when a 1d array was expected. Please change the shape of y to (n_samples,), for example using ravel().\n",
      "  estimator.fit(X_train, y_train, **fit_params)\n",
      "D:\\anaconda3\\envs\\ml_study\\lib\\site-packages\\sklearn\\model_selection\\_validation.py:680: DataConversionWarning: A column-vector y was passed when a 1d array was expected. Please change the shape of y to (n_samples,), for example using ravel().\n",
      "  estimator.fit(X_train, y_train, **fit_params)\n",
      "D:\\anaconda3\\envs\\ml_study\\lib\\site-packages\\sklearn\\model_selection\\_validation.py:680: DataConversionWarning: A column-vector y was passed when a 1d array was expected. Please change the shape of y to (n_samples,), for example using ravel().\n",
      "  estimator.fit(X_train, y_train, **fit_params)\n",
      "D:\\anaconda3\\envs\\ml_study\\lib\\site-packages\\sklearn\\model_selection\\_validation.py:680: DataConversionWarning: A column-vector y was passed when a 1d array was expected. Please change the shape of y to (n_samples,), for example using ravel().\n",
      "  estimator.fit(X_train, y_train, **fit_params)\n",
      "D:\\anaconda3\\envs\\ml_study\\lib\\site-packages\\sklearn\\model_selection\\_validation.py:680: DataConversionWarning: A column-vector y was passed when a 1d array was expected. Please change the shape of y to (n_samples,), for example using ravel().\n",
      "  estimator.fit(X_train, y_train, **fit_params)\n",
      "D:\\anaconda3\\envs\\ml_study\\lib\\site-packages\\sklearn\\model_selection\\_validation.py:680: DataConversionWarning: A column-vector y was passed when a 1d array was expected. Please change the shape of y to (n_samples,), for example using ravel().\n",
      "  estimator.fit(X_train, y_train, **fit_params)\n",
      "D:\\anaconda3\\envs\\ml_study\\lib\\site-packages\\sklearn\\model_selection\\_validation.py:680: DataConversionWarning: A column-vector y was passed when a 1d array was expected. Please change the shape of y to (n_samples,), for example using ravel().\n",
      "  estimator.fit(X_train, y_train, **fit_params)\n",
      "D:\\anaconda3\\envs\\ml_study\\lib\\site-packages\\sklearn\\model_selection\\_validation.py:680: DataConversionWarning: A column-vector y was passed when a 1d array was expected. Please change the shape of y to (n_samples,), for example using ravel().\n",
      "  estimator.fit(X_train, y_train, **fit_params)\n",
      "D:\\anaconda3\\envs\\ml_study\\lib\\site-packages\\sklearn\\model_selection\\_validation.py:680: DataConversionWarning: A column-vector y was passed when a 1d array was expected. Please change the shape of y to (n_samples,), for example using ravel().\n",
      "  estimator.fit(X_train, y_train, **fit_params)\n",
      "D:\\anaconda3\\envs\\ml_study\\lib\\site-packages\\sklearn\\model_selection\\_validation.py:680: DataConversionWarning: A column-vector y was passed when a 1d array was expected. Please change the shape of y to (n_samples,), for example using ravel().\n",
      "  estimator.fit(X_train, y_train, **fit_params)\n"
     ]
    },
    {
     "name": "stdout",
     "output_type": "stream",
     "text": [
      "[CV 5/5] END .....max_features=9, n_estimators=40;, score=nan total time=   0.0s\n",
      "[CV 1/5] END .....max_features=9, n_estimators=50;, score=nan total time=   0.0s\n",
      "[CV 2/5] END .....max_features=9, n_estimators=50;, score=nan total time=   0.0s\n",
      "[CV 3/5] END .....max_features=9, n_estimators=50;, score=nan total time=   0.0s\n",
      "[CV 4/5] END .....max_features=9, n_estimators=50;, score=nan total time=   0.0s\n",
      "[CV 5/5] END .....max_features=9, n_estimators=50;, score=nan total time=   0.0s\n",
      "[CV 1/5] END ....max_features=9, n_estimators=100;, score=nan total time=   0.0s\n",
      "[CV 2/5] END ....max_features=9, n_estimators=100;, score=nan total time=   0.0s\n",
      "[CV 3/5] END ....max_features=9, n_estimators=100;, score=nan total time=   0.0s\n",
      "[CV 4/5] END ....max_features=9, n_estimators=100;, score=nan total time=   0.0s\n"
     ]
    },
    {
     "name": "stderr",
     "output_type": "stream",
     "text": [
      "D:\\anaconda3\\envs\\ml_study\\lib\\site-packages\\sklearn\\model_selection\\_validation.py:680: DataConversionWarning: A column-vector y was passed when a 1d array was expected. Please change the shape of y to (n_samples,), for example using ravel().\n",
      "  estimator.fit(X_train, y_train, **fit_params)\n",
      "D:\\anaconda3\\envs\\ml_study\\lib\\site-packages\\sklearn\\model_selection\\_validation.py:680: DataConversionWarning: A column-vector y was passed when a 1d array was expected. Please change the shape of y to (n_samples,), for example using ravel().\n",
      "  estimator.fit(X_train, y_train, **fit_params)\n",
      "D:\\anaconda3\\envs\\ml_study\\lib\\site-packages\\sklearn\\model_selection\\_validation.py:680: DataConversionWarning: A column-vector y was passed when a 1d array was expected. Please change the shape of y to (n_samples,), for example using ravel().\n",
      "  estimator.fit(X_train, y_train, **fit_params)\n",
      "D:\\anaconda3\\envs\\ml_study\\lib\\site-packages\\sklearn\\model_selection\\_validation.py:680: DataConversionWarning: A column-vector y was passed when a 1d array was expected. Please change the shape of y to (n_samples,), for example using ravel().\n",
      "  estimator.fit(X_train, y_train, **fit_params)\n",
      "D:\\anaconda3\\envs\\ml_study\\lib\\site-packages\\sklearn\\model_selection\\_validation.py:680: DataConversionWarning: A column-vector y was passed when a 1d array was expected. Please change the shape of y to (n_samples,), for example using ravel().\n",
      "  estimator.fit(X_train, y_train, **fit_params)\n",
      "D:\\anaconda3\\envs\\ml_study\\lib\\site-packages\\sklearn\\model_selection\\_validation.py:680: DataConversionWarning: A column-vector y was passed when a 1d array was expected. Please change the shape of y to (n_samples,), for example using ravel().\n",
      "  estimator.fit(X_train, y_train, **fit_params)\n",
      "D:\\anaconda3\\envs\\ml_study\\lib\\site-packages\\sklearn\\model_selection\\_validation.py:680: DataConversionWarning: A column-vector y was passed when a 1d array was expected. Please change the shape of y to (n_samples,), for example using ravel().\n",
      "  estimator.fit(X_train, y_train, **fit_params)\n",
      "D:\\anaconda3\\envs\\ml_study\\lib\\site-packages\\sklearn\\model_selection\\_validation.py:680: DataConversionWarning: A column-vector y was passed when a 1d array was expected. Please change the shape of y to (n_samples,), for example using ravel().\n",
      "  estimator.fit(X_train, y_train, **fit_params)\n",
      "D:\\anaconda3\\envs\\ml_study\\lib\\site-packages\\sklearn\\model_selection\\_validation.py:680: DataConversionWarning: A column-vector y was passed when a 1d array was expected. Please change the shape of y to (n_samples,), for example using ravel().\n",
      "  estimator.fit(X_train, y_train, **fit_params)\n"
     ]
    },
    {
     "name": "stdout",
     "output_type": "stream",
     "text": [
      "[CV 5/5] END ....max_features=9, n_estimators=100;, score=nan total time=   0.0s\n",
      "[CV 1/5] END ....max_features=9, n_estimators=150;, score=nan total time=   0.0s\n",
      "[CV 2/5] END ....max_features=9, n_estimators=150;, score=nan total time=   0.0s\n",
      "[CV 3/5] END ....max_features=9, n_estimators=150;, score=nan total time=   0.0s\n",
      "[CV 4/5] END ....max_features=9, n_estimators=150;, score=nan total time=   0.0s\n",
      "[CV 5/5] END ....max_features=9, n_estimators=150;, score=nan total time=   0.0s\n"
     ]
    },
    {
     "name": "stderr",
     "output_type": "stream",
     "text": [
      "D:\\anaconda3\\envs\\ml_study\\lib\\site-packages\\sklearn\\model_selection\\_validation.py:680: DataConversionWarning: A column-vector y was passed when a 1d array was expected. Please change the shape of y to (n_samples,), for example using ravel().\n",
      "  estimator.fit(X_train, y_train, **fit_params)\n",
      "D:\\anaconda3\\envs\\ml_study\\lib\\site-packages\\sklearn\\model_selection\\_validation.py:680: DataConversionWarning: A column-vector y was passed when a 1d array was expected. Please change the shape of y to (n_samples,), for example using ravel().\n",
      "  estimator.fit(X_train, y_train, **fit_params)\n",
      "D:\\anaconda3\\envs\\ml_study\\lib\\site-packages\\sklearn\\model_selection\\_validation.py:680: DataConversionWarning: A column-vector y was passed when a 1d array was expected. Please change the shape of y to (n_samples,), for example using ravel().\n",
      "  estimator.fit(X_train, y_train, **fit_params)\n",
      "D:\\anaconda3\\envs\\ml_study\\lib\\site-packages\\sklearn\\model_selection\\_validation.py:680: DataConversionWarning: A column-vector y was passed when a 1d array was expected. Please change the shape of y to (n_samples,), for example using ravel().\n",
      "  estimator.fit(X_train, y_train, **fit_params)\n",
      "D:\\anaconda3\\envs\\ml_study\\lib\\site-packages\\sklearn\\model_selection\\_validation.py:680: DataConversionWarning: A column-vector y was passed when a 1d array was expected. Please change the shape of y to (n_samples,), for example using ravel().\n",
      "  estimator.fit(X_train, y_train, **fit_params)\n",
      "D:\\anaconda3\\envs\\ml_study\\lib\\site-packages\\sklearn\\model_selection\\_validation.py:680: DataConversionWarning: A column-vector y was passed when a 1d array was expected. Please change the shape of y to (n_samples,), for example using ravel().\n",
      "  estimator.fit(X_train, y_train, **fit_params)\n",
      "D:\\anaconda3\\envs\\ml_study\\lib\\site-packages\\sklearn\\model_selection\\_validation.py:680: DataConversionWarning: A column-vector y was passed when a 1d array was expected. Please change the shape of y to (n_samples,), for example using ravel().\n",
      "  estimator.fit(X_train, y_train, **fit_params)\n",
      "D:\\anaconda3\\envs\\ml_study\\lib\\site-packages\\sklearn\\model_selection\\_validation.py:680: DataConversionWarning: A column-vector y was passed when a 1d array was expected. Please change the shape of y to (n_samples,), for example using ravel().\n",
      "  estimator.fit(X_train, y_train, **fit_params)\n",
      "D:\\anaconda3\\envs\\ml_study\\lib\\site-packages\\sklearn\\model_selection\\_validation.py:680: DataConversionWarning: A column-vector y was passed when a 1d array was expected. Please change the shape of y to (n_samples,), for example using ravel().\n",
      "  estimator.fit(X_train, y_train, **fit_params)\n",
      "D:\\anaconda3\\envs\\ml_study\\lib\\site-packages\\sklearn\\model_selection\\_validation.py:680: DataConversionWarning: A column-vector y was passed when a 1d array was expected. Please change the shape of y to (n_samples,), for example using ravel().\n",
      "  estimator.fit(X_train, y_train, **fit_params)\n"
     ]
    },
    {
     "name": "stdout",
     "output_type": "stream",
     "text": [
      "[CV 1/5] END ....max_features=9, n_estimators=200;, score=nan total time=   0.0s\n",
      "[CV 2/5] END ....max_features=9, n_estimators=200;, score=nan total time=   0.0s\n",
      "[CV 3/5] END ....max_features=9, n_estimators=200;, score=nan total time=   0.0s\n",
      "[CV 4/5] END ....max_features=9, n_estimators=200;, score=nan total time=   0.0s\n",
      "[CV 5/5] END ....max_features=9, n_estimators=200;, score=nan total time=   0.0s\n"
     ]
    },
    {
     "name": "stderr",
     "output_type": "stream",
     "text": [
      "D:\\anaconda3\\envs\\ml_study\\lib\\site-packages\\sklearn\\model_selection\\_validation.py:680: DataConversionWarning: A column-vector y was passed when a 1d array was expected. Please change the shape of y to (n_samples,), for example using ravel().\n",
      "  estimator.fit(X_train, y_train, **fit_params)\n",
      "D:\\anaconda3\\envs\\ml_study\\lib\\site-packages\\sklearn\\model_selection\\_validation.py:680: DataConversionWarning: A column-vector y was passed when a 1d array was expected. Please change the shape of y to (n_samples,), for example using ravel().\n",
      "  estimator.fit(X_train, y_train, **fit_params)\n",
      "D:\\anaconda3\\envs\\ml_study\\lib\\site-packages\\sklearn\\model_selection\\_validation.py:680: DataConversionWarning: A column-vector y was passed when a 1d array was expected. Please change the shape of y to (n_samples,), for example using ravel().\n",
      "  estimator.fit(X_train, y_train, **fit_params)\n"
     ]
    },
    {
     "name": "stdout",
     "output_type": "stream",
     "text": [
      "[CV 1/5] END ....max_features=9, n_estimators=250;, score=nan total time=   0.0s\n",
      "[CV 2/5] END ....max_features=9, n_estimators=250;, score=nan total time=   0.0s\n",
      "[CV 3/5] END ....max_features=9, n_estimators=250;, score=nan total time=   0.0s\n",
      "[CV 4/5] END ....max_features=9, n_estimators=250;, score=nan total time=   0.0s\n"
     ]
    },
    {
     "name": "stderr",
     "output_type": "stream",
     "text": [
      "D:\\anaconda3\\envs\\ml_study\\lib\\site-packages\\sklearn\\model_selection\\_validation.py:680: DataConversionWarning: A column-vector y was passed when a 1d array was expected. Please change the shape of y to (n_samples,), for example using ravel().\n",
      "  estimator.fit(X_train, y_train, **fit_params)\n",
      "D:\\anaconda3\\envs\\ml_study\\lib\\site-packages\\sklearn\\model_selection\\_validation.py:680: DataConversionWarning: A column-vector y was passed when a 1d array was expected. Please change the shape of y to (n_samples,), for example using ravel().\n",
      "  estimator.fit(X_train, y_train, **fit_params)\n",
      "D:\\anaconda3\\envs\\ml_study\\lib\\site-packages\\sklearn\\model_selection\\_validation.py:680: DataConversionWarning: A column-vector y was passed when a 1d array was expected. Please change the shape of y to (n_samples,), for example using ravel().\n",
      "  estimator.fit(X_train, y_train, **fit_params)\n"
     ]
    },
    {
     "name": "stdout",
     "output_type": "stream",
     "text": [
      "[CV 5/5] END ....max_features=9, n_estimators=250;, score=nan total time=   0.0s\n",
      "[CV 1/5] END ....max_features=9, n_estimators=300;, score=nan total time=   0.0s\n",
      "[CV 2/5] END ....max_features=9, n_estimators=300;, score=nan total time=   0.0s\n"
     ]
    },
    {
     "name": "stderr",
     "output_type": "stream",
     "text": [
      "D:\\anaconda3\\envs\\ml_study\\lib\\site-packages\\sklearn\\model_selection\\_validation.py:680: DataConversionWarning: A column-vector y was passed when a 1d array was expected. Please change the shape of y to (n_samples,), for example using ravel().\n",
      "  estimator.fit(X_train, y_train, **fit_params)\n",
      "D:\\anaconda3\\envs\\ml_study\\lib\\site-packages\\sklearn\\model_selection\\_validation.py:680: DataConversionWarning: A column-vector y was passed when a 1d array was expected. Please change the shape of y to (n_samples,), for example using ravel().\n",
      "  estimator.fit(X_train, y_train, **fit_params)\n",
      "D:\\anaconda3\\envs\\ml_study\\lib\\site-packages\\sklearn\\model_selection\\_validation.py:680: DataConversionWarning: A column-vector y was passed when a 1d array was expected. Please change the shape of y to (n_samples,), for example using ravel().\n",
      "  estimator.fit(X_train, y_train, **fit_params)\n"
     ]
    },
    {
     "name": "stdout",
     "output_type": "stream",
     "text": [
      "[CV 3/5] END ....max_features=9, n_estimators=300;, score=nan total time=   0.0s\n",
      "[CV 4/5] END ....max_features=9, n_estimators=300;, score=nan total time=   0.0s\n",
      "[CV 5/5] END ....max_features=9, n_estimators=300;, score=nan total time=   0.0s\n",
      "[CV 1/5] END .....max_features=10, n_estimators=5;, score=nan total time=   0.0s\n",
      "[CV 2/5] END .....max_features=10, n_estimators=5;, score=nan total time=   0.0s\n",
      "[CV 3/5] END .....max_features=10, n_estimators=5;, score=nan total time=   0.0s\n"
     ]
    },
    {
     "name": "stderr",
     "output_type": "stream",
     "text": [
      "D:\\anaconda3\\envs\\ml_study\\lib\\site-packages\\sklearn\\model_selection\\_validation.py:680: DataConversionWarning: A column-vector y was passed when a 1d array was expected. Please change the shape of y to (n_samples,), for example using ravel().\n",
      "  estimator.fit(X_train, y_train, **fit_params)\n",
      "D:\\anaconda3\\envs\\ml_study\\lib\\site-packages\\sklearn\\model_selection\\_validation.py:680: DataConversionWarning: A column-vector y was passed when a 1d array was expected. Please change the shape of y to (n_samples,), for example using ravel().\n",
      "  estimator.fit(X_train, y_train, **fit_params)\n",
      "D:\\anaconda3\\envs\\ml_study\\lib\\site-packages\\sklearn\\model_selection\\_validation.py:680: DataConversionWarning: A column-vector y was passed when a 1d array was expected. Please change the shape of y to (n_samples,), for example using ravel().\n",
      "  estimator.fit(X_train, y_train, **fit_params)\n",
      "D:\\anaconda3\\envs\\ml_study\\lib\\site-packages\\sklearn\\model_selection\\_validation.py:680: DataConversionWarning: A column-vector y was passed when a 1d array was expected. Please change the shape of y to (n_samples,), for example using ravel().\n",
      "  estimator.fit(X_train, y_train, **fit_params)\n",
      "D:\\anaconda3\\envs\\ml_study\\lib\\site-packages\\sklearn\\model_selection\\_validation.py:680: DataConversionWarning: A column-vector y was passed when a 1d array was expected. Please change the shape of y to (n_samples,), for example using ravel().\n",
      "  estimator.fit(X_train, y_train, **fit_params)\n",
      "D:\\anaconda3\\envs\\ml_study\\lib\\site-packages\\sklearn\\model_selection\\_validation.py:680: DataConversionWarning: A column-vector y was passed when a 1d array was expected. Please change the shape of y to (n_samples,), for example using ravel().\n",
      "  estimator.fit(X_train, y_train, **fit_params)\n"
     ]
    },
    {
     "name": "stdout",
     "output_type": "stream",
     "text": [
      "[CV 4/5] END .....max_features=10, n_estimators=5;, score=nan total time=   0.0s\n",
      "[CV 5/5] END .....max_features=10, n_estimators=5;, score=nan total time=   0.0s\n",
      "[CV 1/5] END ....max_features=10, n_estimators=10;, score=nan total time=   0.0s\n",
      "[CV 2/5] END ....max_features=10, n_estimators=10;, score=nan total time=   0.0s\n",
      "[CV 3/5] END ....max_features=10, n_estimators=10;, score=nan total time=   0.0s\n",
      "[CV 4/5] END ....max_features=10, n_estimators=10;, score=nan total time=   0.0s\n",
      "[CV 5/5] END ....max_features=10, n_estimators=10;, score=nan total time=   0.0s\n",
      "[CV 1/5] END ....max_features=10, n_estimators=20;, score=nan total time=   0.0s\n",
      "[CV 2/5] END ....max_features=10, n_estimators=20;, score=nan total time=   0.0s\n",
      "[CV 3/5] END ....max_features=10, n_estimators=20;, score=nan total time=   0.0s\n",
      "[CV 4/5] END ....max_features=10, n_estimators=20;, score=nan total time=   0.0s\n",
      "[CV 5/5] END ....max_features=10, n_estimators=20;, score=nan total time=   0.0s\n",
      "[CV 1/5] END ....max_features=10, n_estimators=30;, score=nan total time=   0.0s\n",
      "[CV 2/5] END ....max_features=10, n_estimators=30;, score=nan total time=   0.0s\n",
      "[CV 3/5] END ....max_features=10, n_estimators=30;, score=nan total time=   0.0s\n",
      "[CV 4/5] END ....max_features=10, n_estimators=30;, score=nan total time=   0.0s\n",
      "[CV 5/5] END ....max_features=10, n_estimators=30;, score=nan total time=   0.0s\n",
      "[CV 1/5] END ....max_features=10, n_estimators=40;, score=nan total time=   0.0s\n",
      "[CV 2/5] END ....max_features=10, n_estimators=40;, score=nan total time=   0.0s\n",
      "[CV 3/5] END ....max_features=10, n_estimators=40;, score=nan total time=   0.0s\n",
      "[CV 4/5] END ....max_features=10, n_estimators=40;, score=nan total time=   0.0s\n",
      "[CV 5/5] END ....max_features=10, n_estimators=40;, score=nan total time=   0.0s\n"
     ]
    },
    {
     "name": "stderr",
     "output_type": "stream",
     "text": [
      "D:\\anaconda3\\envs\\ml_study\\lib\\site-packages\\sklearn\\model_selection\\_validation.py:680: DataConversionWarning: A column-vector y was passed when a 1d array was expected. Please change the shape of y to (n_samples,), for example using ravel().\n",
      "  estimator.fit(X_train, y_train, **fit_params)\n",
      "D:\\anaconda3\\envs\\ml_study\\lib\\site-packages\\sklearn\\model_selection\\_validation.py:680: DataConversionWarning: A column-vector y was passed when a 1d array was expected. Please change the shape of y to (n_samples,), for example using ravel().\n",
      "  estimator.fit(X_train, y_train, **fit_params)\n",
      "D:\\anaconda3\\envs\\ml_study\\lib\\site-packages\\sklearn\\model_selection\\_validation.py:680: DataConversionWarning: A column-vector y was passed when a 1d array was expected. Please change the shape of y to (n_samples,), for example using ravel().\n",
      "  estimator.fit(X_train, y_train, **fit_params)\n",
      "D:\\anaconda3\\envs\\ml_study\\lib\\site-packages\\sklearn\\model_selection\\_validation.py:680: DataConversionWarning: A column-vector y was passed when a 1d array was expected. Please change the shape of y to (n_samples,), for example using ravel().\n",
      "  estimator.fit(X_train, y_train, **fit_params)\n",
      "D:\\anaconda3\\envs\\ml_study\\lib\\site-packages\\sklearn\\model_selection\\_validation.py:680: DataConversionWarning: A column-vector y was passed when a 1d array was expected. Please change the shape of y to (n_samples,), for example using ravel().\n",
      "  estimator.fit(X_train, y_train, **fit_params)\n",
      "D:\\anaconda3\\envs\\ml_study\\lib\\site-packages\\sklearn\\model_selection\\_validation.py:680: DataConversionWarning: A column-vector y was passed when a 1d array was expected. Please change the shape of y to (n_samples,), for example using ravel().\n",
      "  estimator.fit(X_train, y_train, **fit_params)\n",
      "D:\\anaconda3\\envs\\ml_study\\lib\\site-packages\\sklearn\\model_selection\\_validation.py:680: DataConversionWarning: A column-vector y was passed when a 1d array was expected. Please change the shape of y to (n_samples,), for example using ravel().\n",
      "  estimator.fit(X_train, y_train, **fit_params)\n",
      "D:\\anaconda3\\envs\\ml_study\\lib\\site-packages\\sklearn\\model_selection\\_validation.py:680: DataConversionWarning: A column-vector y was passed when a 1d array was expected. Please change the shape of y to (n_samples,), for example using ravel().\n",
      "  estimator.fit(X_train, y_train, **fit_params)\n",
      "D:\\anaconda3\\envs\\ml_study\\lib\\site-packages\\sklearn\\model_selection\\_validation.py:680: DataConversionWarning: A column-vector y was passed when a 1d array was expected. Please change the shape of y to (n_samples,), for example using ravel().\n",
      "  estimator.fit(X_train, y_train, **fit_params)\n",
      "D:\\anaconda3\\envs\\ml_study\\lib\\site-packages\\sklearn\\model_selection\\_validation.py:680: DataConversionWarning: A column-vector y was passed when a 1d array was expected. Please change the shape of y to (n_samples,), for example using ravel().\n",
      "  estimator.fit(X_train, y_train, **fit_params)\n",
      "D:\\anaconda3\\envs\\ml_study\\lib\\site-packages\\sklearn\\model_selection\\_validation.py:680: DataConversionWarning: A column-vector y was passed when a 1d array was expected. Please change the shape of y to (n_samples,), for example using ravel().\n",
      "  estimator.fit(X_train, y_train, **fit_params)\n",
      "D:\\anaconda3\\envs\\ml_study\\lib\\site-packages\\sklearn\\model_selection\\_validation.py:680: DataConversionWarning: A column-vector y was passed when a 1d array was expected. Please change the shape of y to (n_samples,), for example using ravel().\n",
      "  estimator.fit(X_train, y_train, **fit_params)\n",
      "D:\\anaconda3\\envs\\ml_study\\lib\\site-packages\\sklearn\\model_selection\\_validation.py:680: DataConversionWarning: A column-vector y was passed when a 1d array was expected. Please change the shape of y to (n_samples,), for example using ravel().\n",
      "  estimator.fit(X_train, y_train, **fit_params)\n",
      "D:\\anaconda3\\envs\\ml_study\\lib\\site-packages\\sklearn\\model_selection\\_validation.py:680: DataConversionWarning: A column-vector y was passed when a 1d array was expected. Please change the shape of y to (n_samples,), for example using ravel().\n",
      "  estimator.fit(X_train, y_train, **fit_params)\n",
      "D:\\anaconda3\\envs\\ml_study\\lib\\site-packages\\sklearn\\model_selection\\_validation.py:680: DataConversionWarning: A column-vector y was passed when a 1d array was expected. Please change the shape of y to (n_samples,), for example using ravel().\n",
      "  estimator.fit(X_train, y_train, **fit_params)\n",
      "D:\\anaconda3\\envs\\ml_study\\lib\\site-packages\\sklearn\\model_selection\\_validation.py:680: DataConversionWarning: A column-vector y was passed when a 1d array was expected. Please change the shape of y to (n_samples,), for example using ravel().\n",
      "  estimator.fit(X_train, y_train, **fit_params)\n",
      "D:\\anaconda3\\envs\\ml_study\\lib\\site-packages\\sklearn\\model_selection\\_validation.py:680: DataConversionWarning: A column-vector y was passed when a 1d array was expected. Please change the shape of y to (n_samples,), for example using ravel().\n",
      "  estimator.fit(X_train, y_train, **fit_params)\n",
      "D:\\anaconda3\\envs\\ml_study\\lib\\site-packages\\sklearn\\model_selection\\_validation.py:680: DataConversionWarning: A column-vector y was passed when a 1d array was expected. Please change the shape of y to (n_samples,), for example using ravel().\n",
      "  estimator.fit(X_train, y_train, **fit_params)\n",
      "D:\\anaconda3\\envs\\ml_study\\lib\\site-packages\\sklearn\\model_selection\\_validation.py:680: DataConversionWarning: A column-vector y was passed when a 1d array was expected. Please change the shape of y to (n_samples,), for example using ravel().\n",
      "  estimator.fit(X_train, y_train, **fit_params)\n",
      "D:\\anaconda3\\envs\\ml_study\\lib\\site-packages\\sklearn\\model_selection\\_validation.py:680: DataConversionWarning: A column-vector y was passed when a 1d array was expected. Please change the shape of y to (n_samples,), for example using ravel().\n",
      "  estimator.fit(X_train, y_train, **fit_params)\n",
      "D:\\anaconda3\\envs\\ml_study\\lib\\site-packages\\sklearn\\model_selection\\_validation.py:680: DataConversionWarning: A column-vector y was passed when a 1d array was expected. Please change the shape of y to (n_samples,), for example using ravel().\n",
      "  estimator.fit(X_train, y_train, **fit_params)\n",
      "D:\\anaconda3\\envs\\ml_study\\lib\\site-packages\\sklearn\\model_selection\\_validation.py:680: DataConversionWarning: A column-vector y was passed when a 1d array was expected. Please change the shape of y to (n_samples,), for example using ravel().\n",
      "  estimator.fit(X_train, y_train, **fit_params)\n",
      "D:\\anaconda3\\envs\\ml_study\\lib\\site-packages\\sklearn\\model_selection\\_validation.py:680: DataConversionWarning: A column-vector y was passed when a 1d array was expected. Please change the shape of y to (n_samples,), for example using ravel().\n",
      "  estimator.fit(X_train, y_train, **fit_params)\n",
      "D:\\anaconda3\\envs\\ml_study\\lib\\site-packages\\sklearn\\model_selection\\_validation.py:680: DataConversionWarning: A column-vector y was passed when a 1d array was expected. Please change the shape of y to (n_samples,), for example using ravel().\n",
      "  estimator.fit(X_train, y_train, **fit_params)\n",
      "D:\\anaconda3\\envs\\ml_study\\lib\\site-packages\\sklearn\\model_selection\\_validation.py:680: DataConversionWarning: A column-vector y was passed when a 1d array was expected. Please change the shape of y to (n_samples,), for example using ravel().\n",
      "  estimator.fit(X_train, y_train, **fit_params)\n",
      "D:\\anaconda3\\envs\\ml_study\\lib\\site-packages\\sklearn\\model_selection\\_validation.py:680: DataConversionWarning: A column-vector y was passed when a 1d array was expected. Please change the shape of y to (n_samples,), for example using ravel().\n",
      "  estimator.fit(X_train, y_train, **fit_params)\n",
      "D:\\anaconda3\\envs\\ml_study\\lib\\site-packages\\sklearn\\model_selection\\_validation.py:680: DataConversionWarning: A column-vector y was passed when a 1d array was expected. Please change the shape of y to (n_samples,), for example using ravel().\n",
      "  estimator.fit(X_train, y_train, **fit_params)\n",
      "D:\\anaconda3\\envs\\ml_study\\lib\\site-packages\\sklearn\\model_selection\\_validation.py:680: DataConversionWarning: A column-vector y was passed when a 1d array was expected. Please change the shape of y to (n_samples,), for example using ravel().\n",
      "  estimator.fit(X_train, y_train, **fit_params)\n",
      "D:\\anaconda3\\envs\\ml_study\\lib\\site-packages\\sklearn\\model_selection\\_validation.py:680: DataConversionWarning: A column-vector y was passed when a 1d array was expected. Please change the shape of y to (n_samples,), for example using ravel().\n",
      "  estimator.fit(X_train, y_train, **fit_params)\n",
      "D:\\anaconda3\\envs\\ml_study\\lib\\site-packages\\sklearn\\model_selection\\_validation.py:680: DataConversionWarning: A column-vector y was passed when a 1d array was expected. Please change the shape of y to (n_samples,), for example using ravel().\n",
      "  estimator.fit(X_train, y_train, **fit_params)\n"
     ]
    },
    {
     "name": "stdout",
     "output_type": "stream",
     "text": [
      "[CV 1/5] END ....max_features=10, n_estimators=50;, score=nan total time=   0.0s\n",
      "[CV 2/5] END ....max_features=10, n_estimators=50;, score=nan total time=   0.0s\n",
      "[CV 3/5] END ....max_features=10, n_estimators=50;, score=nan total time=   0.0s\n",
      "[CV 4/5] END ....max_features=10, n_estimators=50;, score=nan total time=   0.0s\n",
      "[CV 5/5] END ....max_features=10, n_estimators=50;, score=nan total time=   0.0s\n",
      "[CV 1/5] END ...max_features=10, n_estimators=100;, score=nan total time=   0.0s\n",
      "[CV 2/5] END ...max_features=10, n_estimators=100;, score=nan total time=   0.0s\n",
      "[CV 3/5] END ...max_features=10, n_estimators=100;, score=nan total time=   0.0s\n",
      "[CV 4/5] END ...max_features=10, n_estimators=100;, score=nan total time=   0.0s\n",
      "[CV 5/5] END ...max_features=10, n_estimators=100;, score=nan total time=   0.0s\n",
      "[CV 1/5] END ...max_features=10, n_estimators=150;, score=nan total time=   0.0s\n",
      "[CV 2/5] END ...max_features=10, n_estimators=150;, score=nan total time=   0.0s\n",
      "[CV 3/5] END ...max_features=10, n_estimators=150;, score=nan total time=   0.0s\n",
      "[CV 4/5] END ...max_features=10, n_estimators=150;, score=nan total time=   0.0s\n"
     ]
    },
    {
     "name": "stderr",
     "output_type": "stream",
     "text": [
      "D:\\anaconda3\\envs\\ml_study\\lib\\site-packages\\sklearn\\model_selection\\_validation.py:680: DataConversionWarning: A column-vector y was passed when a 1d array was expected. Please change the shape of y to (n_samples,), for example using ravel().\n",
      "  estimator.fit(X_train, y_train, **fit_params)\n",
      "D:\\anaconda3\\envs\\ml_study\\lib\\site-packages\\sklearn\\model_selection\\_validation.py:680: DataConversionWarning: A column-vector y was passed when a 1d array was expected. Please change the shape of y to (n_samples,), for example using ravel().\n",
      "  estimator.fit(X_train, y_train, **fit_params)\n",
      "D:\\anaconda3\\envs\\ml_study\\lib\\site-packages\\sklearn\\model_selection\\_validation.py:680: DataConversionWarning: A column-vector y was passed when a 1d array was expected. Please change the shape of y to (n_samples,), for example using ravel().\n",
      "  estimator.fit(X_train, y_train, **fit_params)\n",
      "D:\\anaconda3\\envs\\ml_study\\lib\\site-packages\\sklearn\\model_selection\\_validation.py:680: DataConversionWarning: A column-vector y was passed when a 1d array was expected. Please change the shape of y to (n_samples,), for example using ravel().\n",
      "  estimator.fit(X_train, y_train, **fit_params)\n",
      "D:\\anaconda3\\envs\\ml_study\\lib\\site-packages\\sklearn\\model_selection\\_validation.py:680: DataConversionWarning: A column-vector y was passed when a 1d array was expected. Please change the shape of y to (n_samples,), for example using ravel().\n",
      "  estimator.fit(X_train, y_train, **fit_params)\n",
      "D:\\anaconda3\\envs\\ml_study\\lib\\site-packages\\sklearn\\model_selection\\_validation.py:680: DataConversionWarning: A column-vector y was passed when a 1d array was expected. Please change the shape of y to (n_samples,), for example using ravel().\n",
      "  estimator.fit(X_train, y_train, **fit_params)\n"
     ]
    },
    {
     "name": "stdout",
     "output_type": "stream",
     "text": [
      "[CV 5/5] END ...max_features=10, n_estimators=150;, score=nan total time=   0.0s\n",
      "[CV 1/5] END ...max_features=10, n_estimators=200;, score=nan total time=   0.0s\n",
      "[CV 2/5] END ...max_features=10, n_estimators=200;, score=nan total time=   0.0s\n",
      "[CV 3/5] END ...max_features=10, n_estimators=200;, score=nan total time=   0.0s\n"
     ]
    },
    {
     "name": "stderr",
     "output_type": "stream",
     "text": [
      "D:\\anaconda3\\envs\\ml_study\\lib\\site-packages\\sklearn\\model_selection\\_validation.py:680: DataConversionWarning: A column-vector y was passed when a 1d array was expected. Please change the shape of y to (n_samples,), for example using ravel().\n",
      "  estimator.fit(X_train, y_train, **fit_params)\n",
      "D:\\anaconda3\\envs\\ml_study\\lib\\site-packages\\sklearn\\model_selection\\_validation.py:680: DataConversionWarning: A column-vector y was passed when a 1d array was expected. Please change the shape of y to (n_samples,), for example using ravel().\n",
      "  estimator.fit(X_train, y_train, **fit_params)\n",
      "D:\\anaconda3\\envs\\ml_study\\lib\\site-packages\\sklearn\\model_selection\\_validation.py:680: DataConversionWarning: A column-vector y was passed when a 1d array was expected. Please change the shape of y to (n_samples,), for example using ravel().\n",
      "  estimator.fit(X_train, y_train, **fit_params)\n",
      "D:\\anaconda3\\envs\\ml_study\\lib\\site-packages\\sklearn\\model_selection\\_validation.py:680: DataConversionWarning: A column-vector y was passed when a 1d array was expected. Please change the shape of y to (n_samples,), for example using ravel().\n",
      "  estimator.fit(X_train, y_train, **fit_params)\n"
     ]
    },
    {
     "name": "stdout",
     "output_type": "stream",
     "text": [
      "[CV 4/5] END ...max_features=10, n_estimators=200;, score=nan total time=   0.0s\n",
      "[CV 5/5] END ...max_features=10, n_estimators=200;, score=nan total time=   0.0s\n",
      "[CV 1/5] END ...max_features=10, n_estimators=250;, score=nan total time=   0.0s\n"
     ]
    },
    {
     "name": "stderr",
     "output_type": "stream",
     "text": [
      "D:\\anaconda3\\envs\\ml_study\\lib\\site-packages\\sklearn\\model_selection\\_validation.py:680: DataConversionWarning: A column-vector y was passed when a 1d array was expected. Please change the shape of y to (n_samples,), for example using ravel().\n",
      "  estimator.fit(X_train, y_train, **fit_params)\n",
      "D:\\anaconda3\\envs\\ml_study\\lib\\site-packages\\sklearn\\model_selection\\_validation.py:680: DataConversionWarning: A column-vector y was passed when a 1d array was expected. Please change the shape of y to (n_samples,), for example using ravel().\n",
      "  estimator.fit(X_train, y_train, **fit_params)\n",
      "D:\\anaconda3\\envs\\ml_study\\lib\\site-packages\\sklearn\\model_selection\\_validation.py:680: DataConversionWarning: A column-vector y was passed when a 1d array was expected. Please change the shape of y to (n_samples,), for example using ravel().\n",
      "  estimator.fit(X_train, y_train, **fit_params)\n"
     ]
    },
    {
     "name": "stdout",
     "output_type": "stream",
     "text": [
      "[CV 2/5] END ...max_features=10, n_estimators=250;, score=nan total time=   0.0s\n",
      "[CV 3/5] END ...max_features=10, n_estimators=250;, score=nan total time=   0.0s\n",
      "[CV 4/5] END ...max_features=10, n_estimators=250;, score=nan total time=   0.0s\n"
     ]
    },
    {
     "name": "stderr",
     "output_type": "stream",
     "text": [
      "D:\\anaconda3\\envs\\ml_study\\lib\\site-packages\\sklearn\\model_selection\\_validation.py:680: DataConversionWarning: A column-vector y was passed when a 1d array was expected. Please change the shape of y to (n_samples,), for example using ravel().\n",
      "  estimator.fit(X_train, y_train, **fit_params)\n",
      "D:\\anaconda3\\envs\\ml_study\\lib\\site-packages\\sklearn\\model_selection\\_validation.py:680: DataConversionWarning: A column-vector y was passed when a 1d array was expected. Please change the shape of y to (n_samples,), for example using ravel().\n",
      "  estimator.fit(X_train, y_train, **fit_params)\n",
      "D:\\anaconda3\\envs\\ml_study\\lib\\site-packages\\sklearn\\model_selection\\_validation.py:680: DataConversionWarning: A column-vector y was passed when a 1d array was expected. Please change the shape of y to (n_samples,), for example using ravel().\n",
      "  estimator.fit(X_train, y_train, **fit_params)\n"
     ]
    },
    {
     "name": "stdout",
     "output_type": "stream",
     "text": [
      "[CV 5/5] END ...max_features=10, n_estimators=250;, score=nan total time=   0.0s\n",
      "[CV 1/5] END ...max_features=10, n_estimators=300;, score=nan total time=   0.0s\n",
      "[CV 2/5] END ...max_features=10, n_estimators=300;, score=nan total time=   0.0s"
     ]
    },
    {
     "name": "stderr",
     "output_type": "stream",
     "text": [
      "D:\\anaconda3\\envs\\ml_study\\lib\\site-packages\\sklearn\\model_selection\\_validation.py:680: DataConversionWarning: A column-vector y was passed when a 1d array was expected. Please change the shape of y to (n_samples,), for example using ravel().\n",
      "  estimator.fit(X_train, y_train, **fit_params)\n",
      "D:\\anaconda3\\envs\\ml_study\\lib\\site-packages\\sklearn\\model_selection\\_validation.py:680: DataConversionWarning: A column-vector y was passed when a 1d array was expected. Please change the shape of y to (n_samples,), for example using ravel().\n",
      "  estimator.fit(X_train, y_train, **fit_params)\n",
      "D:\\anaconda3\\envs\\ml_study\\lib\\site-packages\\sklearn\\model_selection\\_validation.py:680: DataConversionWarning: A column-vector y was passed when a 1d array was expected. Please change the shape of y to (n_samples,), for example using ravel().\n",
      "  estimator.fit(X_train, y_train, **fit_params)\n"
     ]
    },
    {
     "name": "stdout",
     "output_type": "stream",
     "text": [
      "\n",
      "[CV 3/5] END ...max_features=10, n_estimators=300;, score=nan total time=   0.0s\n",
      "[CV 4/5] END ...max_features=10, n_estimators=300;, score=nan total time=   0.0s\n"
     ]
    },
    {
     "name": "stderr",
     "output_type": "stream",
     "text": [
      "D:\\anaconda3\\envs\\ml_study\\lib\\site-packages\\sklearn\\model_selection\\_validation.py:680: DataConversionWarning: A column-vector y was passed when a 1d array was expected. Please change the shape of y to (n_samples,), for example using ravel().\n",
      "  estimator.fit(X_train, y_train, **fit_params)\n",
      "D:\\anaconda3\\envs\\ml_study\\lib\\site-packages\\sklearn\\model_selection\\_validation.py:680: DataConversionWarning: A column-vector y was passed when a 1d array was expected. Please change the shape of y to (n_samples,), for example using ravel().\n",
      "  estimator.fit(X_train, y_train, **fit_params)\n",
      "D:\\anaconda3\\envs\\ml_study\\lib\\site-packages\\sklearn\\model_selection\\_validation.py:372: FitFailedWarning: \n",
      "165 fits failed out of a total of 440.\n",
      "The score on these train-test partitions for these parameters will be set to nan.\n",
      "If these failures are not expected, you can try to debug them by setting error_score='raise'.\n",
      "\n",
      "Below are more details about the failures:\n",
      "--------------------------------------------------------------------------------\n",
      "165 fits failed with the following error:\n",
      "Traceback (most recent call last):\n",
      "  File \"D:\\anaconda3\\envs\\ml_study\\lib\\site-packages\\sklearn\\model_selection\\_validation.py\", line 680, in _fit_and_score\n",
      "    estimator.fit(X_train, y_train, **fit_params)\n",
      "  File \"D:\\anaconda3\\envs\\ml_study\\lib\\site-packages\\sklearn\\ensemble\\_forest.py\", line 467, in fit\n",
      "    for i, t in enumerate(trees)\n",
      "  File \"D:\\anaconda3\\envs\\ml_study\\lib\\site-packages\\joblib\\parallel.py\", line 1043, in __call__\n",
      "    if self.dispatch_one_batch(iterator):\n",
      "  File \"D:\\anaconda3\\envs\\ml_study\\lib\\site-packages\\joblib\\parallel.py\", line 861, in dispatch_one_batch\n",
      "    self._dispatch(tasks)\n",
      "  File \"D:\\anaconda3\\envs\\ml_study\\lib\\site-packages\\joblib\\parallel.py\", line 779, in _dispatch\n",
      "    job = self._backend.apply_async(batch, callback=cb)\n",
      "  File \"D:\\anaconda3\\envs\\ml_study\\lib\\site-packages\\joblib\\_parallel_backends.py\", line 208, in apply_async\n",
      "    result = ImmediateResult(func)\n",
      "  File \"D:\\anaconda3\\envs\\ml_study\\lib\\site-packages\\joblib\\_parallel_backends.py\", line 572, in __init__\n",
      "    self.results = batch()\n",
      "  File \"D:\\anaconda3\\envs\\ml_study\\lib\\site-packages\\joblib\\parallel.py\", line 263, in __call__\n",
      "    for func, args, kwargs in self.items]\n",
      "  File \"D:\\anaconda3\\envs\\ml_study\\lib\\site-packages\\joblib\\parallel.py\", line 263, in <listcomp>\n",
      "    for func, args, kwargs in self.items]\n",
      "  File \"D:\\anaconda3\\envs\\ml_study\\lib\\site-packages\\sklearn\\utils\\fixes.py\", line 216, in __call__\n",
      "    return self.function(*args, **kwargs)\n",
      "  File \"D:\\anaconda3\\envs\\ml_study\\lib\\site-packages\\sklearn\\ensemble\\_forest.py\", line 185, in _parallel_build_trees\n",
      "    tree.fit(X, y, sample_weight=curr_sample_weight, check_input=False)\n",
      "  File \"D:\\anaconda3\\envs\\ml_study\\lib\\site-packages\\sklearn\\tree\\_classes.py\", line 942, in fit\n",
      "    X_idx_sorted=X_idx_sorted,\n",
      "  File \"D:\\anaconda3\\envs\\ml_study\\lib\\site-packages\\sklearn\\tree\\_classes.py\", line 308, in fit\n",
      "    raise ValueError(\"max_features must be in (0, n_features]\")\n",
      "ValueError: max_features must be in (0, n_features]\n",
      "\n",
      "  warnings.warn(some_fits_failed_message, FitFailedWarning)\n",
      "D:\\anaconda3\\envs\\ml_study\\lib\\site-packages\\sklearn\\model_selection\\_search.py:972: UserWarning: One or more of the test scores are non-finite: [0.79981591 0.8144163  0.803174   0.80653209 0.81217546 0.8144163\n",
      " 0.80766838 0.81216276 0.81667619 0.81442265 0.81668254 0.7998286\n",
      " 0.80765568 0.80993462 0.80766203 0.81216276 0.814429   0.81217546\n",
      " 0.80992192 0.81329271 0.80655748 0.81218181 0.79867327 0.79977147\n",
      " 0.80429125 0.80880467 0.80543389 0.80205675 0.81103917 0.80880467\n",
      " 0.80655113 0.81216911 0.80878563 0.79417254 0.79978417 0.80429759\n",
      " 0.80431664 0.79529613 0.81442265 0.8042849  0.80542119 0.81217546\n",
      " 0.80877928 0.80654479 0.79191265 0.8133054  0.80092681 0.79754333\n",
      " 0.80092046 0.80092046 0.79980956 0.80653844 0.8144163  0.81103282\n",
      " 0.80654479        nan        nan        nan        nan        nan\n",
      "        nan        nan        nan        nan        nan        nan\n",
      "        nan        nan        nan        nan        nan        nan\n",
      "        nan        nan        nan        nan        nan        nan\n",
      "        nan        nan        nan        nan        nan        nan\n",
      "        nan        nan        nan        nan]\n",
      "  category=UserWarning,\n",
      "D:\\anaconda3\\envs\\ml_study\\lib\\site-packages\\sklearn\\model_selection\\_search.py:926: DataConversionWarning: A column-vector y was passed when a 1d array was expected. Please change the shape of y to (n_samples,), for example using ravel().\n",
      "  self.best_estimator_.fit(X, y, **fit_params)\n"
     ]
    },
    {
     "name": "stdout",
     "output_type": "stream",
     "text": [
      "[CV 5/5] END ...max_features=10, n_estimators=300;, score=nan total time=   0.0s\n"
     ]
    },
    {
     "data": {
      "text/plain": [
       "GridSearchCV(cv=5, estimator=RandomForestClassifier(),\n",
       "             param_grid={'max_features': [3, 4, 5, 6, 7, 8, 9, 10],\n",
       "                         'n_estimators': [5, 10, 20, 30, 40, 50, 100, 150, 200,\n",
       "                                          250, 300]},\n",
       "             verbose=3)"
      ]
     },
     "execution_count": 617,
     "metadata": {},
     "output_type": "execute_result"
    }
   ],
   "source": [
    "from sklearn.ensemble import RandomForestClassifier\n",
    "from sklearn.model_selection import GridSearchCV\n",
    "\n",
    "grid_params ={\n",
    "    'n_estimators':[5, 10, 20, 30, 40, 50, 100, 150, 200, 250, 300],\n",
    "    'max_features':[3,4,5,6,7,8,9,10]\n",
    "}\n",
    "\n",
    "rndf_clf=RandomForestClassifier()\n",
    "grid_search = GridSearchCV(rndf_clf, grid_params, cv=5, verbose=3)\n",
    "grid_search.fit(X_train.values, y_train.values)"
   ]
  },
  {
   "cell_type": "code",
   "execution_count": 618,
   "id": "643a9e8c-b730-4f51-b530-79516c72f238",
   "metadata": {},
   "outputs": [
    {
     "data": {
      "text/plain": [
       "0.8166825366596839"
      ]
     },
     "execution_count": 618,
     "metadata": {},
     "output_type": "execute_result"
    }
   ],
   "source": [
    "grid_search.best_score_"
   ]
  },
  {
   "cell_type": "code",
   "execution_count": 619,
   "id": "9806f7d0-e60e-49d5-8abb-971ae97b694c",
   "metadata": {},
   "outputs": [
    {
     "data": {
      "text/plain": [
       "{'max_features': 3, 'n_estimators': 300}"
      ]
     },
     "execution_count": 619,
     "metadata": {},
     "output_type": "execute_result"
    }
   ],
   "source": [
    "grid_search.best_params_"
   ]
  },
  {
   "cell_type": "code",
   "execution_count": 620,
   "id": "1142b58c-2919-4e5b-b315-2c58f22d7ecf",
   "metadata": {},
   "outputs": [
    {
     "data": {
      "text/html": [
       "<div>\n",
       "<style scoped>\n",
       "    .dataframe tbody tr th:only-of-type {\n",
       "        vertical-align: middle;\n",
       "    }\n",
       "\n",
       "    .dataframe tbody tr th {\n",
       "        vertical-align: top;\n",
       "    }\n",
       "\n",
       "    .dataframe thead th {\n",
       "        text-align: right;\n",
       "    }\n",
       "</style>\n",
       "<table border=\"1\" class=\"dataframe\">\n",
       "  <thead>\n",
       "    <tr style=\"text-align: right;\">\n",
       "      <th></th>\n",
       "      <th>Survived</th>\n",
       "      <th>Age</th>\n",
       "      <th>Fare</th>\n",
       "      <th>female</th>\n",
       "      <th>male</th>\n",
       "      <th>1</th>\n",
       "      <th>2</th>\n",
       "      <th>3</th>\n",
       "    </tr>\n",
       "  </thead>\n",
       "  <tbody>\n",
       "    <tr>\n",
       "      <th>0</th>\n",
       "      <td>0</td>\n",
       "      <td>0.265823</td>\n",
       "      <td>0.014151</td>\n",
       "      <td>0</td>\n",
       "      <td>1</td>\n",
       "      <td>0</td>\n",
       "      <td>0</td>\n",
       "      <td>1</td>\n",
       "    </tr>\n",
       "    <tr>\n",
       "      <th>1</th>\n",
       "      <td>1</td>\n",
       "      <td>0.468354</td>\n",
       "      <td>0.139136</td>\n",
       "      <td>1</td>\n",
       "      <td>0</td>\n",
       "      <td>1</td>\n",
       "      <td>0</td>\n",
       "      <td>0</td>\n",
       "    </tr>\n",
       "    <tr>\n",
       "      <th>2</th>\n",
       "      <td>1</td>\n",
       "      <td>0.316456</td>\n",
       "      <td>0.015469</td>\n",
       "      <td>1</td>\n",
       "      <td>0</td>\n",
       "      <td>0</td>\n",
       "      <td>0</td>\n",
       "      <td>1</td>\n",
       "    </tr>\n",
       "    <tr>\n",
       "      <th>3</th>\n",
       "      <td>1</td>\n",
       "      <td>0.430380</td>\n",
       "      <td>0.103644</td>\n",
       "      <td>1</td>\n",
       "      <td>0</td>\n",
       "      <td>1</td>\n",
       "      <td>0</td>\n",
       "      <td>0</td>\n",
       "    </tr>\n",
       "    <tr>\n",
       "      <th>4</th>\n",
       "      <td>0</td>\n",
       "      <td>0.430380</td>\n",
       "      <td>0.015713</td>\n",
       "      <td>0</td>\n",
       "      <td>1</td>\n",
       "      <td>0</td>\n",
       "      <td>0</td>\n",
       "      <td>1</td>\n",
       "    </tr>\n",
       "    <tr>\n",
       "      <th>...</th>\n",
       "      <td>...</td>\n",
       "      <td>...</td>\n",
       "      <td>...</td>\n",
       "      <td>...</td>\n",
       "      <td>...</td>\n",
       "      <td>...</td>\n",
       "      <td>...</td>\n",
       "      <td>...</td>\n",
       "    </tr>\n",
       "    <tr>\n",
       "      <th>886</th>\n",
       "      <td>0</td>\n",
       "      <td>0.329114</td>\n",
       "      <td>0.025374</td>\n",
       "      <td>0</td>\n",
       "      <td>1</td>\n",
       "      <td>0</td>\n",
       "      <td>1</td>\n",
       "      <td>0</td>\n",
       "    </tr>\n",
       "    <tr>\n",
       "      <th>887</th>\n",
       "      <td>1</td>\n",
       "      <td>0.227848</td>\n",
       "      <td>0.058556</td>\n",
       "      <td>1</td>\n",
       "      <td>0</td>\n",
       "      <td>1</td>\n",
       "      <td>0</td>\n",
       "      <td>0</td>\n",
       "    </tr>\n",
       "    <tr>\n",
       "      <th>888</th>\n",
       "      <td>0</td>\n",
       "      <td>0.341772</td>\n",
       "      <td>0.045771</td>\n",
       "      <td>1</td>\n",
       "      <td>0</td>\n",
       "      <td>0</td>\n",
       "      <td>0</td>\n",
       "      <td>1</td>\n",
       "    </tr>\n",
       "    <tr>\n",
       "      <th>889</th>\n",
       "      <td>1</td>\n",
       "      <td>0.316456</td>\n",
       "      <td>0.058556</td>\n",
       "      <td>0</td>\n",
       "      <td>1</td>\n",
       "      <td>1</td>\n",
       "      <td>0</td>\n",
       "      <td>0</td>\n",
       "    </tr>\n",
       "    <tr>\n",
       "      <th>890</th>\n",
       "      <td>0</td>\n",
       "      <td>0.392405</td>\n",
       "      <td>0.015127</td>\n",
       "      <td>0</td>\n",
       "      <td>1</td>\n",
       "      <td>0</td>\n",
       "      <td>0</td>\n",
       "      <td>1</td>\n",
       "    </tr>\n",
       "  </tbody>\n",
       "</table>\n",
       "<p>889 rows × 8 columns</p>\n",
       "</div>"
      ],
      "text/plain": [
       "     Survived       Age      Fare  female  male  1  2  3\n",
       "0           0  0.265823  0.014151       0     1  0  0  1\n",
       "1           1  0.468354  0.139136       1     0  1  0  0\n",
       "2           1  0.316456  0.015469       1     0  0  0  1\n",
       "3           1  0.430380  0.103644       1     0  1  0  0\n",
       "4           0  0.430380  0.015713       0     1  0  0  1\n",
       "..        ...       ...       ...     ...   ... .. .. ..\n",
       "886         0  0.329114  0.025374       0     1  0  1  0\n",
       "887         1  0.227848  0.058556       1     0  1  0  0\n",
       "888         0  0.341772  0.045771       1     0  0  0  1\n",
       "889         1  0.316456  0.058556       0     1  1  0  0\n",
       "890         0  0.392405  0.015127       0     1  0  0  1\n",
       "\n",
       "[889 rows x 8 columns]"
      ]
     },
     "execution_count": 620,
     "metadata": {},
     "output_type": "execute_result"
    }
   ],
   "source": [
    "from sklearn.preprocessing import MinMaxScaler\n",
    "\n",
    "train_data_last_scaled = train_data_last.copy()\n",
    "fare_data = train_data_last_scaled['Fare'].values.reshape(-1, 1)\n",
    "scaler_fare = MinMaxScaler()\n",
    "fare_trans = scaler_fare.fit_transform(fare_data)\n",
    "train_data_last_scaled['Fare'] = fare_trans\n",
    "\n",
    "age_data = train_data_last_scaled['Age'].values.reshape(-1, 1)\n",
    "scaler_age = MinMaxScaler()\n",
    "age_trans = scaler_age.fit_transform(age_data)\n",
    "train_data_last_scaled['Age'] = age_trans\n",
    "\n",
    "train_data_last_scaled"
   ]
  },
  {
   "cell_type": "code",
   "execution_count": 621,
   "id": "73724ced-fdb2-4813-a0ab-821e9351a9f4",
   "metadata": {
    "scrolled": true,
    "tags": []
   },
   "outputs": [
    {
     "name": "stdout",
     "output_type": "stream",
     "text": [
      "Fitting 5 folds for each of 88 candidates, totalling 440 fits\n",
      "[CV 1/5] END ....max_features=3, n_estimators=5;, score=0.747 total time=   0.0s\n",
      "[CV 2/5] END ....max_features=3, n_estimators=5;, score=0.809 total time=   0.0s\n",
      "[CV 3/5] END ....max_features=3, n_estimators=5;, score=0.843 total time=   0.0s\n",
      "[CV 4/5] END ....max_features=3, n_estimators=5;, score=0.798 total time=   0.0s\n",
      "[CV 5/5] END ....max_features=3, n_estimators=5;, score=0.819 total time=   0.0s\n",
      "[CV 1/5] END ...max_features=3, n_estimators=10;, score=0.753 total time=   0.0s\n",
      "[CV 2/5] END ...max_features=3, n_estimators=10;, score=0.770 total time=   0.0s\n",
      "[CV 3/5] END ...max_features=3, n_estimators=10;, score=0.860 total time=   0.0s\n",
      "[CV 4/5] END ...max_features=3, n_estimators=10;, score=0.815 total time=   0.0s\n",
      "[CV 5/5] END ...max_features=3, n_estimators=10;, score=0.825 total time=   0.0s\n",
      "[CV 1/5] END ...max_features=3, n_estimators=20;, score=0.787 total time=   0.0s\n"
     ]
    },
    {
     "name": "stderr",
     "output_type": "stream",
     "text": [
      "D:\\anaconda3\\envs\\ml_study\\lib\\site-packages\\sklearn\\model_selection\\_validation.py:680: DataConversionWarning: A column-vector y was passed when a 1d array was expected. Please change the shape of y to (n_samples,), for example using ravel().\n",
      "  estimator.fit(X_train, y_train, **fit_params)\n",
      "D:\\anaconda3\\envs\\ml_study\\lib\\site-packages\\sklearn\\model_selection\\_validation.py:680: DataConversionWarning: A column-vector y was passed when a 1d array was expected. Please change the shape of y to (n_samples,), for example using ravel().\n",
      "  estimator.fit(X_train, y_train, **fit_params)\n",
      "D:\\anaconda3\\envs\\ml_study\\lib\\site-packages\\sklearn\\model_selection\\_validation.py:680: DataConversionWarning: A column-vector y was passed when a 1d array was expected. Please change the shape of y to (n_samples,), for example using ravel().\n",
      "  estimator.fit(X_train, y_train, **fit_params)\n",
      "D:\\anaconda3\\envs\\ml_study\\lib\\site-packages\\sklearn\\model_selection\\_validation.py:680: DataConversionWarning: A column-vector y was passed when a 1d array was expected. Please change the shape of y to (n_samples,), for example using ravel().\n",
      "  estimator.fit(X_train, y_train, **fit_params)\n",
      "D:\\anaconda3\\envs\\ml_study\\lib\\site-packages\\sklearn\\model_selection\\_validation.py:680: DataConversionWarning: A column-vector y was passed when a 1d array was expected. Please change the shape of y to (n_samples,), for example using ravel().\n",
      "  estimator.fit(X_train, y_train, **fit_params)\n",
      "D:\\anaconda3\\envs\\ml_study\\lib\\site-packages\\sklearn\\model_selection\\_validation.py:680: DataConversionWarning: A column-vector y was passed when a 1d array was expected. Please change the shape of y to (n_samples,), for example using ravel().\n",
      "  estimator.fit(X_train, y_train, **fit_params)\n",
      "D:\\anaconda3\\envs\\ml_study\\lib\\site-packages\\sklearn\\model_selection\\_validation.py:680: DataConversionWarning: A column-vector y was passed when a 1d array was expected. Please change the shape of y to (n_samples,), for example using ravel().\n",
      "  estimator.fit(X_train, y_train, **fit_params)\n",
      "D:\\anaconda3\\envs\\ml_study\\lib\\site-packages\\sklearn\\model_selection\\_validation.py:680: DataConversionWarning: A column-vector y was passed when a 1d array was expected. Please change the shape of y to (n_samples,), for example using ravel().\n",
      "  estimator.fit(X_train, y_train, **fit_params)\n",
      "D:\\anaconda3\\envs\\ml_study\\lib\\site-packages\\sklearn\\model_selection\\_validation.py:680: DataConversionWarning: A column-vector y was passed when a 1d array was expected. Please change the shape of y to (n_samples,), for example using ravel().\n",
      "  estimator.fit(X_train, y_train, **fit_params)\n",
      "D:\\anaconda3\\envs\\ml_study\\lib\\site-packages\\sklearn\\model_selection\\_validation.py:680: DataConversionWarning: A column-vector y was passed when a 1d array was expected. Please change the shape of y to (n_samples,), for example using ravel().\n",
      "  estimator.fit(X_train, y_train, **fit_params)\n",
      "D:\\anaconda3\\envs\\ml_study\\lib\\site-packages\\sklearn\\model_selection\\_validation.py:680: DataConversionWarning: A column-vector y was passed when a 1d array was expected. Please change the shape of y to (n_samples,), for example using ravel().\n",
      "  estimator.fit(X_train, y_train, **fit_params)\n"
     ]
    },
    {
     "name": "stdout",
     "output_type": "stream",
     "text": [
      "[CV 2/5] END ...max_features=3, n_estimators=20;, score=0.815 total time=   0.0s\n",
      "[CV 3/5] END ...max_features=3, n_estimators=20;, score=0.837 total time=   0.0s\n",
      "[CV 4/5] END ...max_features=3, n_estimators=20;, score=0.803 total time=   0.0s\n",
      "[CV 5/5] END ...max_features=3, n_estimators=20;, score=0.819 total time=   0.0s\n",
      "[CV 1/5] END ...max_features=3, n_estimators=30;, score=0.753 total time=   0.0s\n",
      "[CV 2/5] END ...max_features=3, n_estimators=30;, score=0.803 total time=   0.0s\n"
     ]
    },
    {
     "name": "stderr",
     "output_type": "stream",
     "text": [
      "D:\\anaconda3\\envs\\ml_study\\lib\\site-packages\\sklearn\\model_selection\\_validation.py:680: DataConversionWarning: A column-vector y was passed when a 1d array was expected. Please change the shape of y to (n_samples,), for example using ravel().\n",
      "  estimator.fit(X_train, y_train, **fit_params)\n",
      "D:\\anaconda3\\envs\\ml_study\\lib\\site-packages\\sklearn\\model_selection\\_validation.py:680: DataConversionWarning: A column-vector y was passed when a 1d array was expected. Please change the shape of y to (n_samples,), for example using ravel().\n",
      "  estimator.fit(X_train, y_train, **fit_params)\n",
      "D:\\anaconda3\\envs\\ml_study\\lib\\site-packages\\sklearn\\model_selection\\_validation.py:680: DataConversionWarning: A column-vector y was passed when a 1d array was expected. Please change the shape of y to (n_samples,), for example using ravel().\n",
      "  estimator.fit(X_train, y_train, **fit_params)\n",
      "D:\\anaconda3\\envs\\ml_study\\lib\\site-packages\\sklearn\\model_selection\\_validation.py:680: DataConversionWarning: A column-vector y was passed when a 1d array was expected. Please change the shape of y to (n_samples,), for example using ravel().\n",
      "  estimator.fit(X_train, y_train, **fit_params)\n",
      "D:\\anaconda3\\envs\\ml_study\\lib\\site-packages\\sklearn\\model_selection\\_validation.py:680: DataConversionWarning: A column-vector y was passed when a 1d array was expected. Please change the shape of y to (n_samples,), for example using ravel().\n",
      "  estimator.fit(X_train, y_train, **fit_params)\n",
      "D:\\anaconda3\\envs\\ml_study\\lib\\site-packages\\sklearn\\model_selection\\_validation.py:680: DataConversionWarning: A column-vector y was passed when a 1d array was expected. Please change the shape of y to (n_samples,), for example using ravel().\n",
      "  estimator.fit(X_train, y_train, **fit_params)\n"
     ]
    },
    {
     "name": "stdout",
     "output_type": "stream",
     "text": [
      "[CV 3/5] END ...max_features=3, n_estimators=30;, score=0.843 total time=   0.0s\n",
      "[CV 4/5] END ...max_features=3, n_estimators=30;, score=0.787 total time=   0.0s\n",
      "[CV 5/5] END ...max_features=3, n_estimators=30;, score=0.825 total time=   0.0s\n",
      "[CV 1/5] END ...max_features=3, n_estimators=40;, score=0.787 total time=   0.0s\n"
     ]
    },
    {
     "name": "stderr",
     "output_type": "stream",
     "text": [
      "D:\\anaconda3\\envs\\ml_study\\lib\\site-packages\\sklearn\\model_selection\\_validation.py:680: DataConversionWarning: A column-vector y was passed when a 1d array was expected. Please change the shape of y to (n_samples,), for example using ravel().\n",
      "  estimator.fit(X_train, y_train, **fit_params)\n",
      "D:\\anaconda3\\envs\\ml_study\\lib\\site-packages\\sklearn\\model_selection\\_validation.py:680: DataConversionWarning: A column-vector y was passed when a 1d array was expected. Please change the shape of y to (n_samples,), for example using ravel().\n",
      "  estimator.fit(X_train, y_train, **fit_params)\n",
      "D:\\anaconda3\\envs\\ml_study\\lib\\site-packages\\sklearn\\model_selection\\_validation.py:680: DataConversionWarning: A column-vector y was passed when a 1d array was expected. Please change the shape of y to (n_samples,), for example using ravel().\n",
      "  estimator.fit(X_train, y_train, **fit_params)\n",
      "D:\\anaconda3\\envs\\ml_study\\lib\\site-packages\\sklearn\\model_selection\\_validation.py:680: DataConversionWarning: A column-vector y was passed when a 1d array was expected. Please change the shape of y to (n_samples,), for example using ravel().\n",
      "  estimator.fit(X_train, y_train, **fit_params)\n",
      "D:\\anaconda3\\envs\\ml_study\\lib\\site-packages\\sklearn\\model_selection\\_validation.py:680: DataConversionWarning: A column-vector y was passed when a 1d array was expected. Please change the shape of y to (n_samples,), for example using ravel().\n",
      "  estimator.fit(X_train, y_train, **fit_params)\n"
     ]
    },
    {
     "name": "stdout",
     "output_type": "stream",
     "text": [
      "[CV 2/5] END ...max_features=3, n_estimators=40;, score=0.803 total time=   0.0s\n",
      "[CV 3/5] END ...max_features=3, n_estimators=40;, score=0.843 total time=   0.0s\n"
     ]
    },
    {
     "name": "stderr",
     "output_type": "stream",
     "text": [
      "D:\\anaconda3\\envs\\ml_study\\lib\\site-packages\\sklearn\\model_selection\\_validation.py:680: DataConversionWarning: A column-vector y was passed when a 1d array was expected. Please change the shape of y to (n_samples,), for example using ravel().\n",
      "  estimator.fit(X_train, y_train, **fit_params)\n",
      "D:\\anaconda3\\envs\\ml_study\\lib\\site-packages\\sklearn\\model_selection\\_validation.py:680: DataConversionWarning: A column-vector y was passed when a 1d array was expected. Please change the shape of y to (n_samples,), for example using ravel().\n",
      "  estimator.fit(X_train, y_train, **fit_params)\n"
     ]
    },
    {
     "name": "stdout",
     "output_type": "stream",
     "text": [
      "[CV 4/5] END ...max_features=3, n_estimators=40;, score=0.792 total time=   0.0s\n",
      "[CV 5/5] END ...max_features=3, n_estimators=40;, score=0.842 total time=   0.0s\n",
      "[CV 1/5] END ...max_features=3, n_estimators=50;, score=0.775 total time=   0.0s\n"
     ]
    },
    {
     "name": "stderr",
     "output_type": "stream",
     "text": [
      "D:\\anaconda3\\envs\\ml_study\\lib\\site-packages\\sklearn\\model_selection\\_validation.py:680: DataConversionWarning: A column-vector y was passed when a 1d array was expected. Please change the shape of y to (n_samples,), for example using ravel().\n",
      "  estimator.fit(X_train, y_train, **fit_params)\n",
      "D:\\anaconda3\\envs\\ml_study\\lib\\site-packages\\sklearn\\model_selection\\_validation.py:680: DataConversionWarning: A column-vector y was passed when a 1d array was expected. Please change the shape of y to (n_samples,), for example using ravel().\n",
      "  estimator.fit(X_train, y_train, **fit_params)\n",
      "D:\\anaconda3\\envs\\ml_study\\lib\\site-packages\\sklearn\\model_selection\\_validation.py:680: DataConversionWarning: A column-vector y was passed when a 1d array was expected. Please change the shape of y to (n_samples,), for example using ravel().\n",
      "  estimator.fit(X_train, y_train, **fit_params)\n"
     ]
    },
    {
     "name": "stdout",
     "output_type": "stream",
     "text": [
      "[CV 2/5] END ...max_features=3, n_estimators=50;, score=0.792 total time=   0.0s\n",
      "[CV 3/5] END ...max_features=3, n_estimators=50;, score=0.843 total time=   0.0s\n",
      "[CV 4/5] END ...max_features=3, n_estimators=50;, score=0.792 total time=   0.0s\n"
     ]
    },
    {
     "name": "stderr",
     "output_type": "stream",
     "text": [
      "D:\\anaconda3\\envs\\ml_study\\lib\\site-packages\\sklearn\\model_selection\\_validation.py:680: DataConversionWarning: A column-vector y was passed when a 1d array was expected. Please change the shape of y to (n_samples,), for example using ravel().\n",
      "  estimator.fit(X_train, y_train, **fit_params)\n",
      "D:\\anaconda3\\envs\\ml_study\\lib\\site-packages\\sklearn\\model_selection\\_validation.py:680: DataConversionWarning: A column-vector y was passed when a 1d array was expected. Please change the shape of y to (n_samples,), for example using ravel().\n",
      "  estimator.fit(X_train, y_train, **fit_params)\n",
      "D:\\anaconda3\\envs\\ml_study\\lib\\site-packages\\sklearn\\model_selection\\_validation.py:680: DataConversionWarning: A column-vector y was passed when a 1d array was expected. Please change the shape of y to (n_samples,), for example using ravel().\n",
      "  estimator.fit(X_train, y_train, **fit_params)\n",
      "D:\\anaconda3\\envs\\ml_study\\lib\\site-packages\\sklearn\\model_selection\\_validation.py:680: DataConversionWarning: A column-vector y was passed when a 1d array was expected. Please change the shape of y to (n_samples,), for example using ravel().\n",
      "  estimator.fit(X_train, y_train, **fit_params)\n"
     ]
    },
    {
     "name": "stdout",
     "output_type": "stream",
     "text": [
      "[CV 5/5] END ...max_features=3, n_estimators=50;, score=0.842 total time=   0.0s\n",
      "[CV 1/5] END ..max_features=3, n_estimators=100;, score=0.775 total time=   0.1s\n"
     ]
    },
    {
     "name": "stderr",
     "output_type": "stream",
     "text": [
      "D:\\anaconda3\\envs\\ml_study\\lib\\site-packages\\sklearn\\model_selection\\_validation.py:680: DataConversionWarning: A column-vector y was passed when a 1d array was expected. Please change the shape of y to (n_samples,), for example using ravel().\n",
      "  estimator.fit(X_train, y_train, **fit_params)\n"
     ]
    },
    {
     "name": "stdout",
     "output_type": "stream",
     "text": [
      "[CV 2/5] END ..max_features=3, n_estimators=100;, score=0.809 total time=   0.1s\n",
      "[CV 3/5] END ..max_features=3, n_estimators=100;, score=0.837 total time=   0.1s\n"
     ]
    },
    {
     "name": "stderr",
     "output_type": "stream",
     "text": [
      "D:\\anaconda3\\envs\\ml_study\\lib\\site-packages\\sklearn\\model_selection\\_validation.py:680: DataConversionWarning: A column-vector y was passed when a 1d array was expected. Please change the shape of y to (n_samples,), for example using ravel().\n",
      "  estimator.fit(X_train, y_train, **fit_params)\n",
      "D:\\anaconda3\\envs\\ml_study\\lib\\site-packages\\sklearn\\model_selection\\_validation.py:680: DataConversionWarning: A column-vector y was passed when a 1d array was expected. Please change the shape of y to (n_samples,), for example using ravel().\n",
      "  estimator.fit(X_train, y_train, **fit_params)\n"
     ]
    },
    {
     "name": "stdout",
     "output_type": "stream",
     "text": [
      "[CV 4/5] END ..max_features=3, n_estimators=100;, score=0.798 total time=   0.1s\n"
     ]
    },
    {
     "name": "stderr",
     "output_type": "stream",
     "text": [
      "D:\\anaconda3\\envs\\ml_study\\lib\\site-packages\\sklearn\\model_selection\\_validation.py:680: DataConversionWarning: A column-vector y was passed when a 1d array was expected. Please change the shape of y to (n_samples,), for example using ravel().\n",
      "  estimator.fit(X_train, y_train, **fit_params)\n"
     ]
    },
    {
     "name": "stdout",
     "output_type": "stream",
     "text": [
      "[CV 5/5] END ..max_features=3, n_estimators=100;, score=0.842 total time=   0.2s\n"
     ]
    },
    {
     "name": "stderr",
     "output_type": "stream",
     "text": [
      "D:\\anaconda3\\envs\\ml_study\\lib\\site-packages\\sklearn\\model_selection\\_validation.py:680: DataConversionWarning: A column-vector y was passed when a 1d array was expected. Please change the shape of y to (n_samples,), for example using ravel().\n",
      "  estimator.fit(X_train, y_train, **fit_params)\n"
     ]
    },
    {
     "name": "stdout",
     "output_type": "stream",
     "text": [
      "[CV 1/5] END ..max_features=3, n_estimators=150;, score=0.781 total time=   0.1s\n"
     ]
    },
    {
     "name": "stderr",
     "output_type": "stream",
     "text": [
      "D:\\anaconda3\\envs\\ml_study\\lib\\site-packages\\sklearn\\model_selection\\_validation.py:680: DataConversionWarning: A column-vector y was passed when a 1d array was expected. Please change the shape of y to (n_samples,), for example using ravel().\n",
      "  estimator.fit(X_train, y_train, **fit_params)\n"
     ]
    },
    {
     "name": "stdout",
     "output_type": "stream",
     "text": [
      "[CV 2/5] END ..max_features=3, n_estimators=150;, score=0.809 total time=   0.1s\n"
     ]
    },
    {
     "name": "stderr",
     "output_type": "stream",
     "text": [
      "D:\\anaconda3\\envs\\ml_study\\lib\\site-packages\\sklearn\\model_selection\\_validation.py:680: DataConversionWarning: A column-vector y was passed when a 1d array was expected. Please change the shape of y to (n_samples,), for example using ravel().\n",
      "  estimator.fit(X_train, y_train, **fit_params)\n"
     ]
    },
    {
     "name": "stdout",
     "output_type": "stream",
     "text": [
      "[CV 3/5] END ..max_features=3, n_estimators=150;, score=0.843 total time=   0.2s\n"
     ]
    },
    {
     "name": "stderr",
     "output_type": "stream",
     "text": [
      "D:\\anaconda3\\envs\\ml_study\\lib\\site-packages\\sklearn\\model_selection\\_validation.py:680: DataConversionWarning: A column-vector y was passed when a 1d array was expected. Please change the shape of y to (n_samples,), for example using ravel().\n",
      "  estimator.fit(X_train, y_train, **fit_params)\n"
     ]
    },
    {
     "name": "stdout",
     "output_type": "stream",
     "text": [
      "[CV 4/5] END ..max_features=3, n_estimators=150;, score=0.781 total time=   0.2s\n"
     ]
    },
    {
     "name": "stderr",
     "output_type": "stream",
     "text": [
      "D:\\anaconda3\\envs\\ml_study\\lib\\site-packages\\sklearn\\model_selection\\_validation.py:680: DataConversionWarning: A column-vector y was passed when a 1d array was expected. Please change the shape of y to (n_samples,), for example using ravel().\n",
      "  estimator.fit(X_train, y_train, **fit_params)\n"
     ]
    },
    {
     "name": "stdout",
     "output_type": "stream",
     "text": [
      "[CV 5/5] END ..max_features=3, n_estimators=150;, score=0.836 total time=   0.2s\n"
     ]
    },
    {
     "name": "stderr",
     "output_type": "stream",
     "text": [
      "D:\\anaconda3\\envs\\ml_study\\lib\\site-packages\\sklearn\\model_selection\\_validation.py:680: DataConversionWarning: A column-vector y was passed when a 1d array was expected. Please change the shape of y to (n_samples,), for example using ravel().\n",
      "  estimator.fit(X_train, y_train, **fit_params)\n"
     ]
    },
    {
     "name": "stdout",
     "output_type": "stream",
     "text": [
      "[CV 1/5] END ..max_features=3, n_estimators=200;, score=0.775 total time=   0.2s\n"
     ]
    },
    {
     "name": "stderr",
     "output_type": "stream",
     "text": [
      "D:\\anaconda3\\envs\\ml_study\\lib\\site-packages\\sklearn\\model_selection\\_validation.py:680: DataConversionWarning: A column-vector y was passed when a 1d array was expected. Please change the shape of y to (n_samples,), for example using ravel().\n",
      "  estimator.fit(X_train, y_train, **fit_params)\n"
     ]
    },
    {
     "name": "stdout",
     "output_type": "stream",
     "text": [
      "[CV 2/5] END ..max_features=3, n_estimators=200;, score=0.809 total time=   0.3s\n"
     ]
    },
    {
     "name": "stderr",
     "output_type": "stream",
     "text": [
      "D:\\anaconda3\\envs\\ml_study\\lib\\site-packages\\sklearn\\model_selection\\_validation.py:680: DataConversionWarning: A column-vector y was passed when a 1d array was expected. Please change the shape of y to (n_samples,), for example using ravel().\n",
      "  estimator.fit(X_train, y_train, **fit_params)\n"
     ]
    },
    {
     "name": "stdout",
     "output_type": "stream",
     "text": [
      "[CV 3/5] END ..max_features=3, n_estimators=200;, score=0.837 total time=   0.2s\n"
     ]
    },
    {
     "name": "stderr",
     "output_type": "stream",
     "text": [
      "D:\\anaconda3\\envs\\ml_study\\lib\\site-packages\\sklearn\\model_selection\\_validation.py:680: DataConversionWarning: A column-vector y was passed when a 1d array was expected. Please change the shape of y to (n_samples,), for example using ravel().\n",
      "  estimator.fit(X_train, y_train, **fit_params)\n"
     ]
    },
    {
     "name": "stdout",
     "output_type": "stream",
     "text": [
      "[CV 4/5] END ..max_features=3, n_estimators=200;, score=0.787 total time=   0.2s\n"
     ]
    },
    {
     "name": "stderr",
     "output_type": "stream",
     "text": [
      "D:\\anaconda3\\envs\\ml_study\\lib\\site-packages\\sklearn\\model_selection\\_validation.py:680: DataConversionWarning: A column-vector y was passed when a 1d array was expected. Please change the shape of y to (n_samples,), for example using ravel().\n",
      "  estimator.fit(X_train, y_train, **fit_params)\n"
     ]
    },
    {
     "name": "stdout",
     "output_type": "stream",
     "text": [
      "[CV 5/5] END ..max_features=3, n_estimators=200;, score=0.831 total time=   0.2s\n"
     ]
    },
    {
     "name": "stderr",
     "output_type": "stream",
     "text": [
      "D:\\anaconda3\\envs\\ml_study\\lib\\site-packages\\sklearn\\model_selection\\_validation.py:680: DataConversionWarning: A column-vector y was passed when a 1d array was expected. Please change the shape of y to (n_samples,), for example using ravel().\n",
      "  estimator.fit(X_train, y_train, **fit_params)\n"
     ]
    },
    {
     "name": "stdout",
     "output_type": "stream",
     "text": [
      "[CV 1/5] END ..max_features=3, n_estimators=250;, score=0.775 total time=   0.3s\n"
     ]
    },
    {
     "name": "stderr",
     "output_type": "stream",
     "text": [
      "D:\\anaconda3\\envs\\ml_study\\lib\\site-packages\\sklearn\\model_selection\\_validation.py:680: DataConversionWarning: A column-vector y was passed when a 1d array was expected. Please change the shape of y to (n_samples,), for example using ravel().\n",
      "  estimator.fit(X_train, y_train, **fit_params)\n"
     ]
    },
    {
     "name": "stdout",
     "output_type": "stream",
     "text": [
      "[CV 2/5] END ..max_features=3, n_estimators=250;, score=0.803 total time=   0.3s\n"
     ]
    },
    {
     "name": "stderr",
     "output_type": "stream",
     "text": [
      "D:\\anaconda3\\envs\\ml_study\\lib\\site-packages\\sklearn\\model_selection\\_validation.py:680: DataConversionWarning: A column-vector y was passed when a 1d array was expected. Please change the shape of y to (n_samples,), for example using ravel().\n",
      "  estimator.fit(X_train, y_train, **fit_params)\n"
     ]
    },
    {
     "name": "stdout",
     "output_type": "stream",
     "text": [
      "[CV 3/5] END ..max_features=3, n_estimators=250;, score=0.848 total time=   0.3s\n"
     ]
    },
    {
     "name": "stderr",
     "output_type": "stream",
     "text": [
      "D:\\anaconda3\\envs\\ml_study\\lib\\site-packages\\sklearn\\model_selection\\_validation.py:680: DataConversionWarning: A column-vector y was passed when a 1d array was expected. Please change the shape of y to (n_samples,), for example using ravel().\n",
      "  estimator.fit(X_train, y_train, **fit_params)\n"
     ]
    },
    {
     "name": "stdout",
     "output_type": "stream",
     "text": [
      "[CV 4/5] END ..max_features=3, n_estimators=250;, score=0.798 total time=   0.3s\n"
     ]
    },
    {
     "name": "stderr",
     "output_type": "stream",
     "text": [
      "D:\\anaconda3\\envs\\ml_study\\lib\\site-packages\\sklearn\\model_selection\\_validation.py:680: DataConversionWarning: A column-vector y was passed when a 1d array was expected. Please change the shape of y to (n_samples,), for example using ravel().\n",
      "  estimator.fit(X_train, y_train, **fit_params)\n"
     ]
    },
    {
     "name": "stdout",
     "output_type": "stream",
     "text": [
      "[CV 5/5] END ..max_features=3, n_estimators=250;, score=0.836 total time=   0.4s\n"
     ]
    },
    {
     "name": "stderr",
     "output_type": "stream",
     "text": [
      "D:\\anaconda3\\envs\\ml_study\\lib\\site-packages\\sklearn\\model_selection\\_validation.py:680: DataConversionWarning: A column-vector y was passed when a 1d array was expected. Please change the shape of y to (n_samples,), for example using ravel().\n",
      "  estimator.fit(X_train, y_train, **fit_params)\n"
     ]
    },
    {
     "name": "stdout",
     "output_type": "stream",
     "text": [
      "[CV 1/5] END ..max_features=3, n_estimators=300;, score=0.792 total time=   0.5s\n"
     ]
    },
    {
     "name": "stderr",
     "output_type": "stream",
     "text": [
      "D:\\anaconda3\\envs\\ml_study\\lib\\site-packages\\sklearn\\model_selection\\_validation.py:680: DataConversionWarning: A column-vector y was passed when a 1d array was expected. Please change the shape of y to (n_samples,), for example using ravel().\n",
      "  estimator.fit(X_train, y_train, **fit_params)\n"
     ]
    },
    {
     "name": "stdout",
     "output_type": "stream",
     "text": [
      "[CV 2/5] END ..max_features=3, n_estimators=300;, score=0.798 total time=   0.4s\n"
     ]
    },
    {
     "name": "stderr",
     "output_type": "stream",
     "text": [
      "D:\\anaconda3\\envs\\ml_study\\lib\\site-packages\\sklearn\\model_selection\\_validation.py:680: DataConversionWarning: A column-vector y was passed when a 1d array was expected. Please change the shape of y to (n_samples,), for example using ravel().\n",
      "  estimator.fit(X_train, y_train, **fit_params)\n"
     ]
    },
    {
     "name": "stdout",
     "output_type": "stream",
     "text": [
      "[CV 3/5] END ..max_features=3, n_estimators=300;, score=0.848 total time=   0.3s\n"
     ]
    },
    {
     "name": "stderr",
     "output_type": "stream",
     "text": [
      "D:\\anaconda3\\envs\\ml_study\\lib\\site-packages\\sklearn\\model_selection\\_validation.py:680: DataConversionWarning: A column-vector y was passed when a 1d array was expected. Please change the shape of y to (n_samples,), for example using ravel().\n",
      "  estimator.fit(X_train, y_train, **fit_params)\n"
     ]
    },
    {
     "name": "stdout",
     "output_type": "stream",
     "text": [
      "[CV 4/5] END ..max_features=3, n_estimators=300;, score=0.792 total time=   0.4s\n"
     ]
    },
    {
     "name": "stderr",
     "output_type": "stream",
     "text": [
      "D:\\anaconda3\\envs\\ml_study\\lib\\site-packages\\sklearn\\model_selection\\_validation.py:680: DataConversionWarning: A column-vector y was passed when a 1d array was expected. Please change the shape of y to (n_samples,), for example using ravel().\n",
      "  estimator.fit(X_train, y_train, **fit_params)\n"
     ]
    },
    {
     "name": "stdout",
     "output_type": "stream",
     "text": [
      "[CV 5/5] END ..max_features=3, n_estimators=300;, score=0.836 total time=   0.4s\n",
      "[CV 1/5] END ....max_features=4, n_estimators=5;, score=0.747 total time=   0.0s\n",
      "[CV 2/5] END ....max_features=4, n_estimators=5;, score=0.787 total time=   0.0s\n",
      "[CV 3/5] END ....max_features=4, n_estimators=5;, score=0.826 total time=   0.0s\n",
      "[CV 4/5] END ....max_features=4, n_estimators=5;, score=0.775 total time=   0.0s\n",
      "[CV 5/5] END ....max_features=4, n_estimators=5;, score=0.842 total time=   0.0s\n",
      "[CV 1/5] END ...max_features=4, n_estimators=10;, score=0.781 total time=   0.0s\n",
      "[CV 2/5] END ...max_features=4, n_estimators=10;, score=0.787 total time=   0.0s\n",
      "[CV 3/5] END ...max_features=4, n_estimators=10;, score=0.831 total time=   0.0s\n",
      "[CV 4/5] END ...max_features=4, n_estimators=10;, score=0.815 total time=   0.0s\n",
      "[CV 5/5] END ...max_features=4, n_estimators=10;, score=0.819 total time=   0.0s\n",
      "[CV 1/5] END ...max_features=4, n_estimators=20;, score=0.764 total time=   0.0s\n"
     ]
    },
    {
     "name": "stderr",
     "output_type": "stream",
     "text": [
      "D:\\anaconda3\\envs\\ml_study\\lib\\site-packages\\sklearn\\model_selection\\_validation.py:680: DataConversionWarning: A column-vector y was passed when a 1d array was expected. Please change the shape of y to (n_samples,), for example using ravel().\n",
      "  estimator.fit(X_train, y_train, **fit_params)\n",
      "D:\\anaconda3\\envs\\ml_study\\lib\\site-packages\\sklearn\\model_selection\\_validation.py:680: DataConversionWarning: A column-vector y was passed when a 1d array was expected. Please change the shape of y to (n_samples,), for example using ravel().\n",
      "  estimator.fit(X_train, y_train, **fit_params)\n",
      "D:\\anaconda3\\envs\\ml_study\\lib\\site-packages\\sklearn\\model_selection\\_validation.py:680: DataConversionWarning: A column-vector y was passed when a 1d array was expected. Please change the shape of y to (n_samples,), for example using ravel().\n",
      "  estimator.fit(X_train, y_train, **fit_params)\n",
      "D:\\anaconda3\\envs\\ml_study\\lib\\site-packages\\sklearn\\model_selection\\_validation.py:680: DataConversionWarning: A column-vector y was passed when a 1d array was expected. Please change the shape of y to (n_samples,), for example using ravel().\n",
      "  estimator.fit(X_train, y_train, **fit_params)\n",
      "D:\\anaconda3\\envs\\ml_study\\lib\\site-packages\\sklearn\\model_selection\\_validation.py:680: DataConversionWarning: A column-vector y was passed when a 1d array was expected. Please change the shape of y to (n_samples,), for example using ravel().\n",
      "  estimator.fit(X_train, y_train, **fit_params)\n",
      "D:\\anaconda3\\envs\\ml_study\\lib\\site-packages\\sklearn\\model_selection\\_validation.py:680: DataConversionWarning: A column-vector y was passed when a 1d array was expected. Please change the shape of y to (n_samples,), for example using ravel().\n",
      "  estimator.fit(X_train, y_train, **fit_params)\n",
      "D:\\anaconda3\\envs\\ml_study\\lib\\site-packages\\sklearn\\model_selection\\_validation.py:680: DataConversionWarning: A column-vector y was passed when a 1d array was expected. Please change the shape of y to (n_samples,), for example using ravel().\n",
      "  estimator.fit(X_train, y_train, **fit_params)\n",
      "D:\\anaconda3\\envs\\ml_study\\lib\\site-packages\\sklearn\\model_selection\\_validation.py:680: DataConversionWarning: A column-vector y was passed when a 1d array was expected. Please change the shape of y to (n_samples,), for example using ravel().\n",
      "  estimator.fit(X_train, y_train, **fit_params)\n",
      "D:\\anaconda3\\envs\\ml_study\\lib\\site-packages\\sklearn\\model_selection\\_validation.py:680: DataConversionWarning: A column-vector y was passed when a 1d array was expected. Please change the shape of y to (n_samples,), for example using ravel().\n",
      "  estimator.fit(X_train, y_train, **fit_params)\n",
      "D:\\anaconda3\\envs\\ml_study\\lib\\site-packages\\sklearn\\model_selection\\_validation.py:680: DataConversionWarning: A column-vector y was passed when a 1d array was expected. Please change the shape of y to (n_samples,), for example using ravel().\n",
      "  estimator.fit(X_train, y_train, **fit_params)\n",
      "D:\\anaconda3\\envs\\ml_study\\lib\\site-packages\\sklearn\\model_selection\\_validation.py:680: DataConversionWarning: A column-vector y was passed when a 1d array was expected. Please change the shape of y to (n_samples,), for example using ravel().\n",
      "  estimator.fit(X_train, y_train, **fit_params)\n",
      "D:\\anaconda3\\envs\\ml_study\\lib\\site-packages\\sklearn\\model_selection\\_validation.py:680: DataConversionWarning: A column-vector y was passed when a 1d array was expected. Please change the shape of y to (n_samples,), for example using ravel().\n",
      "  estimator.fit(X_train, y_train, **fit_params)\n",
      "D:\\anaconda3\\envs\\ml_study\\lib\\site-packages\\sklearn\\model_selection\\_validation.py:680: DataConversionWarning: A column-vector y was passed when a 1d array was expected. Please change the shape of y to (n_samples,), for example using ravel().\n",
      "  estimator.fit(X_train, y_train, **fit_params)\n",
      "D:\\anaconda3\\envs\\ml_study\\lib\\site-packages\\sklearn\\model_selection\\_validation.py:680: DataConversionWarning: A column-vector y was passed when a 1d array was expected. Please change the shape of y to (n_samples,), for example using ravel().\n",
      "  estimator.fit(X_train, y_train, **fit_params)\n",
      "D:\\anaconda3\\envs\\ml_study\\lib\\site-packages\\sklearn\\model_selection\\_validation.py:680: DataConversionWarning: A column-vector y was passed when a 1d array was expected. Please change the shape of y to (n_samples,), for example using ravel().\n",
      "  estimator.fit(X_train, y_train, **fit_params)\n",
      "D:\\anaconda3\\envs\\ml_study\\lib\\site-packages\\sklearn\\model_selection\\_validation.py:680: DataConversionWarning: A column-vector y was passed when a 1d array was expected. Please change the shape of y to (n_samples,), for example using ravel().\n",
      "  estimator.fit(X_train, y_train, **fit_params)\n",
      "D:\\anaconda3\\envs\\ml_study\\lib\\site-packages\\sklearn\\model_selection\\_validation.py:680: DataConversionWarning: A column-vector y was passed when a 1d array was expected. Please change the shape of y to (n_samples,), for example using ravel().\n",
      "  estimator.fit(X_train, y_train, **fit_params)\n"
     ]
    },
    {
     "name": "stdout",
     "output_type": "stream",
     "text": [
      "[CV 2/5] END ...max_features=4, n_estimators=20;, score=0.798 total time=   0.0s\n",
      "[CV 3/5] END ...max_features=4, n_estimators=20;, score=0.843 total time=   0.0s\n",
      "[CV 4/5] END ...max_features=4, n_estimators=20;, score=0.798 total time=   0.0s\n",
      "[CV 5/5] END ...max_features=4, n_estimators=20;, score=0.836 total time=   0.0s\n",
      "[CV 1/5] END ...max_features=4, n_estimators=30;, score=0.792 total time=   0.0s\n",
      "[CV 2/5] END ...max_features=4, n_estimators=30;, score=0.803 total time=   0.0s\n",
      "[CV 3/5] END ...max_features=4, n_estimators=30;, score=0.837 total time=   0.0s\n",
      "[CV 4/5] END ...max_features=4, n_estimators=30;, score=0.798 total time=   0.0s\n",
      "[CV 5/5] END ...max_features=4, n_estimators=30;, score=0.842 total time=   0.0s\n"
     ]
    },
    {
     "name": "stderr",
     "output_type": "stream",
     "text": [
      "D:\\anaconda3\\envs\\ml_study\\lib\\site-packages\\sklearn\\model_selection\\_validation.py:680: DataConversionWarning: A column-vector y was passed when a 1d array was expected. Please change the shape of y to (n_samples,), for example using ravel().\n",
      "  estimator.fit(X_train, y_train, **fit_params)\n",
      "D:\\anaconda3\\envs\\ml_study\\lib\\site-packages\\sklearn\\model_selection\\_validation.py:680: DataConversionWarning: A column-vector y was passed when a 1d array was expected. Please change the shape of y to (n_samples,), for example using ravel().\n",
      "  estimator.fit(X_train, y_train, **fit_params)\n",
      "D:\\anaconda3\\envs\\ml_study\\lib\\site-packages\\sklearn\\model_selection\\_validation.py:680: DataConversionWarning: A column-vector y was passed when a 1d array was expected. Please change the shape of y to (n_samples,), for example using ravel().\n",
      "  estimator.fit(X_train, y_train, **fit_params)\n",
      "D:\\anaconda3\\envs\\ml_study\\lib\\site-packages\\sklearn\\model_selection\\_validation.py:680: DataConversionWarning: A column-vector y was passed when a 1d array was expected. Please change the shape of y to (n_samples,), for example using ravel().\n",
      "  estimator.fit(X_train, y_train, **fit_params)\n"
     ]
    },
    {
     "name": "stdout",
     "output_type": "stream",
     "text": [
      "[CV 1/5] END ...max_features=4, n_estimators=40;, score=0.775 total time=   0.0s\n",
      "[CV 2/5] END ...max_features=4, n_estimators=40;, score=0.803 total time=   0.0s\n",
      "[CV 3/5] END ...max_features=4, n_estimators=40;, score=0.826 total time=   0.0s\n"
     ]
    },
    {
     "name": "stderr",
     "output_type": "stream",
     "text": [
      "D:\\anaconda3\\envs\\ml_study\\lib\\site-packages\\sklearn\\model_selection\\_validation.py:680: DataConversionWarning: A column-vector y was passed when a 1d array was expected. Please change the shape of y to (n_samples,), for example using ravel().\n",
      "  estimator.fit(X_train, y_train, **fit_params)\n",
      "D:\\anaconda3\\envs\\ml_study\\lib\\site-packages\\sklearn\\model_selection\\_validation.py:680: DataConversionWarning: A column-vector y was passed when a 1d array was expected. Please change the shape of y to (n_samples,), for example using ravel().\n",
      "  estimator.fit(X_train, y_train, **fit_params)\n",
      "D:\\anaconda3\\envs\\ml_study\\lib\\site-packages\\sklearn\\model_selection\\_validation.py:680: DataConversionWarning: A column-vector y was passed when a 1d array was expected. Please change the shape of y to (n_samples,), for example using ravel().\n",
      "  estimator.fit(X_train, y_train, **fit_params)\n"
     ]
    },
    {
     "name": "stdout",
     "output_type": "stream",
     "text": [
      "[CV 4/5] END ...max_features=4, n_estimators=40;, score=0.781 total time=   0.0s\n",
      "[CV 5/5] END ...max_features=4, n_estimators=40;, score=0.864 total time=   0.0s\n",
      "[CV 1/5] END ...max_features=4, n_estimators=50;, score=0.758 total time=   0.0s\n"
     ]
    },
    {
     "name": "stderr",
     "output_type": "stream",
     "text": [
      "D:\\anaconda3\\envs\\ml_study\\lib\\site-packages\\sklearn\\model_selection\\_validation.py:680: DataConversionWarning: A column-vector y was passed when a 1d array was expected. Please change the shape of y to (n_samples,), for example using ravel().\n",
      "  estimator.fit(X_train, y_train, **fit_params)\n",
      "D:\\anaconda3\\envs\\ml_study\\lib\\site-packages\\sklearn\\model_selection\\_validation.py:680: DataConversionWarning: A column-vector y was passed when a 1d array was expected. Please change the shape of y to (n_samples,), for example using ravel().\n",
      "  estimator.fit(X_train, y_train, **fit_params)\n",
      "D:\\anaconda3\\envs\\ml_study\\lib\\site-packages\\sklearn\\model_selection\\_validation.py:680: DataConversionWarning: A column-vector y was passed when a 1d array was expected. Please change the shape of y to (n_samples,), for example using ravel().\n",
      "  estimator.fit(X_train, y_train, **fit_params)\n"
     ]
    },
    {
     "name": "stdout",
     "output_type": "stream",
     "text": [
      "[CV 2/5] END ...max_features=4, n_estimators=50;, score=0.787 total time=   0.0s\n",
      "[CV 3/5] END ...max_features=4, n_estimators=50;, score=0.837 total time=   0.0s\n",
      "[CV 4/5] END ...max_features=4, n_estimators=50;, score=0.787 total time=   0.0s\n"
     ]
    },
    {
     "name": "stderr",
     "output_type": "stream",
     "text": [
      "D:\\anaconda3\\envs\\ml_study\\lib\\site-packages\\sklearn\\model_selection\\_validation.py:680: DataConversionWarning: A column-vector y was passed when a 1d array was expected. Please change the shape of y to (n_samples,), for example using ravel().\n",
      "  estimator.fit(X_train, y_train, **fit_params)\n",
      "D:\\anaconda3\\envs\\ml_study\\lib\\site-packages\\sklearn\\model_selection\\_validation.py:680: DataConversionWarning: A column-vector y was passed when a 1d array was expected. Please change the shape of y to (n_samples,), for example using ravel().\n",
      "  estimator.fit(X_train, y_train, **fit_params)\n",
      "D:\\anaconda3\\envs\\ml_study\\lib\\site-packages\\sklearn\\model_selection\\_validation.py:680: DataConversionWarning: A column-vector y was passed when a 1d array was expected. Please change the shape of y to (n_samples,), for example using ravel().\n",
      "  estimator.fit(X_train, y_train, **fit_params)\n"
     ]
    },
    {
     "name": "stdout",
     "output_type": "stream",
     "text": [
      "[CV 5/5] END ...max_features=4, n_estimators=50;, score=0.842 total time=   0.0s\n",
      "[CV 1/5] END ..max_features=4, n_estimators=100;, score=0.775 total time=   0.1s\n"
     ]
    },
    {
     "name": "stderr",
     "output_type": "stream",
     "text": [
      "D:\\anaconda3\\envs\\ml_study\\lib\\site-packages\\sklearn\\model_selection\\_validation.py:680: DataConversionWarning: A column-vector y was passed when a 1d array was expected. Please change the shape of y to (n_samples,), for example using ravel().\n",
      "  estimator.fit(X_train, y_train, **fit_params)\n",
      "D:\\anaconda3\\envs\\ml_study\\lib\\site-packages\\sklearn\\model_selection\\_validation.py:680: DataConversionWarning: A column-vector y was passed when a 1d array was expected. Please change the shape of y to (n_samples,), for example using ravel().\n",
      "  estimator.fit(X_train, y_train, **fit_params)\n"
     ]
    },
    {
     "name": "stdout",
     "output_type": "stream",
     "text": [
      "[CV 2/5] END ..max_features=4, n_estimators=100;, score=0.809 total time=   0.1s\n",
      "[CV 3/5] END ..max_features=4, n_estimators=100;, score=0.837 total time=   0.0s\n"
     ]
    },
    {
     "name": "stderr",
     "output_type": "stream",
     "text": [
      "D:\\anaconda3\\envs\\ml_study\\lib\\site-packages\\sklearn\\model_selection\\_validation.py:680: DataConversionWarning: A column-vector y was passed when a 1d array was expected. Please change the shape of y to (n_samples,), for example using ravel().\n",
      "  estimator.fit(X_train, y_train, **fit_params)\n",
      "D:\\anaconda3\\envs\\ml_study\\lib\\site-packages\\sklearn\\model_selection\\_validation.py:680: DataConversionWarning: A column-vector y was passed when a 1d array was expected. Please change the shape of y to (n_samples,), for example using ravel().\n",
      "  estimator.fit(X_train, y_train, **fit_params)\n"
     ]
    },
    {
     "name": "stdout",
     "output_type": "stream",
     "text": [
      "[CV 4/5] END ..max_features=4, n_estimators=100;, score=0.792 total time=   0.0s\n",
      "[CV 5/5] END ..max_features=4, n_estimators=100;, score=0.847 total time=   0.1s\n"
     ]
    },
    {
     "name": "stderr",
     "output_type": "stream",
     "text": [
      "D:\\anaconda3\\envs\\ml_study\\lib\\site-packages\\sklearn\\model_selection\\_validation.py:680: DataConversionWarning: A column-vector y was passed when a 1d array was expected. Please change the shape of y to (n_samples,), for example using ravel().\n",
      "  estimator.fit(X_train, y_train, **fit_params)\n",
      "D:\\anaconda3\\envs\\ml_study\\lib\\site-packages\\sklearn\\model_selection\\_validation.py:680: DataConversionWarning: A column-vector y was passed when a 1d array was expected. Please change the shape of y to (n_samples,), for example using ravel().\n",
      "  estimator.fit(X_train, y_train, **fit_params)\n"
     ]
    },
    {
     "name": "stdout",
     "output_type": "stream",
     "text": [
      "[CV 1/5] END ..max_features=4, n_estimators=150;, score=0.775 total time=   0.1s\n"
     ]
    },
    {
     "name": "stderr",
     "output_type": "stream",
     "text": [
      "D:\\anaconda3\\envs\\ml_study\\lib\\site-packages\\sklearn\\model_selection\\_validation.py:680: DataConversionWarning: A column-vector y was passed when a 1d array was expected. Please change the shape of y to (n_samples,), for example using ravel().\n",
      "  estimator.fit(X_train, y_train, **fit_params)\n"
     ]
    },
    {
     "name": "stdout",
     "output_type": "stream",
     "text": [
      "[CV 2/5] END ..max_features=4, n_estimators=150;, score=0.803 total time=   0.1s\n"
     ]
    },
    {
     "name": "stderr",
     "output_type": "stream",
     "text": [
      "D:\\anaconda3\\envs\\ml_study\\lib\\site-packages\\sklearn\\model_selection\\_validation.py:680: DataConversionWarning: A column-vector y was passed when a 1d array was expected. Please change the shape of y to (n_samples,), for example using ravel().\n",
      "  estimator.fit(X_train, y_train, **fit_params)\n"
     ]
    },
    {
     "name": "stdout",
     "output_type": "stream",
     "text": [
      "[CV 3/5] END ..max_features=4, n_estimators=150;, score=0.848 total time=   0.1s\n"
     ]
    },
    {
     "name": "stderr",
     "output_type": "stream",
     "text": [
      "D:\\anaconda3\\envs\\ml_study\\lib\\site-packages\\sklearn\\model_selection\\_validation.py:680: DataConversionWarning: A column-vector y was passed when a 1d array was expected. Please change the shape of y to (n_samples,), for example using ravel().\n",
      "  estimator.fit(X_train, y_train, **fit_params)\n"
     ]
    },
    {
     "name": "stdout",
     "output_type": "stream",
     "text": [
      "[CV 4/5] END ..max_features=4, n_estimators=150;, score=0.787 total time=   0.1s\n"
     ]
    },
    {
     "name": "stderr",
     "output_type": "stream",
     "text": [
      "D:\\anaconda3\\envs\\ml_study\\lib\\site-packages\\sklearn\\model_selection\\_validation.py:680: DataConversionWarning: A column-vector y was passed when a 1d array was expected. Please change the shape of y to (n_samples,), for example using ravel().\n",
      "  estimator.fit(X_train, y_train, **fit_params)\n"
     ]
    },
    {
     "name": "stdout",
     "output_type": "stream",
     "text": [
      "[CV 5/5] END ..max_features=4, n_estimators=150;, score=0.819 total time=   0.1s\n"
     ]
    },
    {
     "name": "stderr",
     "output_type": "stream",
     "text": [
      "D:\\anaconda3\\envs\\ml_study\\lib\\site-packages\\sklearn\\model_selection\\_validation.py:680: DataConversionWarning: A column-vector y was passed when a 1d array was expected. Please change the shape of y to (n_samples,), for example using ravel().\n",
      "  estimator.fit(X_train, y_train, **fit_params)\n"
     ]
    },
    {
     "name": "stdout",
     "output_type": "stream",
     "text": [
      "[CV 1/5] END ..max_features=4, n_estimators=200;, score=0.775 total time=   0.2s\n"
     ]
    },
    {
     "name": "stderr",
     "output_type": "stream",
     "text": [
      "D:\\anaconda3\\envs\\ml_study\\lib\\site-packages\\sklearn\\model_selection\\_validation.py:680: DataConversionWarning: A column-vector y was passed when a 1d array was expected. Please change the shape of y to (n_samples,), for example using ravel().\n",
      "  estimator.fit(X_train, y_train, **fit_params)\n"
     ]
    },
    {
     "name": "stdout",
     "output_type": "stream",
     "text": [
      "[CV 2/5] END ..max_features=4, n_estimators=200;, score=0.798 total time=   0.2s\n"
     ]
    },
    {
     "name": "stderr",
     "output_type": "stream",
     "text": [
      "D:\\anaconda3\\envs\\ml_study\\lib\\site-packages\\sklearn\\model_selection\\_validation.py:680: DataConversionWarning: A column-vector y was passed when a 1d array was expected. Please change the shape of y to (n_samples,), for example using ravel().\n",
      "  estimator.fit(X_train, y_train, **fit_params)\n"
     ]
    },
    {
     "name": "stdout",
     "output_type": "stream",
     "text": [
      "[CV 3/5] END ..max_features=4, n_estimators=200;, score=0.837 total time=   0.2s\n"
     ]
    },
    {
     "name": "stderr",
     "output_type": "stream",
     "text": [
      "D:\\anaconda3\\envs\\ml_study\\lib\\site-packages\\sklearn\\model_selection\\_validation.py:680: DataConversionWarning: A column-vector y was passed when a 1d array was expected. Please change the shape of y to (n_samples,), for example using ravel().\n",
      "  estimator.fit(X_train, y_train, **fit_params)\n"
     ]
    },
    {
     "name": "stdout",
     "output_type": "stream",
     "text": [
      "[CV 4/5] END ..max_features=4, n_estimators=200;, score=0.792 total time=   0.2s\n"
     ]
    },
    {
     "name": "stderr",
     "output_type": "stream",
     "text": [
      "D:\\anaconda3\\envs\\ml_study\\lib\\site-packages\\sklearn\\model_selection\\_validation.py:680: DataConversionWarning: A column-vector y was passed when a 1d array was expected. Please change the shape of y to (n_samples,), for example using ravel().\n",
      "  estimator.fit(X_train, y_train, **fit_params)\n"
     ]
    },
    {
     "name": "stdout",
     "output_type": "stream",
     "text": [
      "[CV 5/5] END ..max_features=4, n_estimators=200;, score=0.836 total time=   0.2s\n"
     ]
    },
    {
     "name": "stderr",
     "output_type": "stream",
     "text": [
      "D:\\anaconda3\\envs\\ml_study\\lib\\site-packages\\sklearn\\model_selection\\_validation.py:680: DataConversionWarning: A column-vector y was passed when a 1d array was expected. Please change the shape of y to (n_samples,), for example using ravel().\n",
      "  estimator.fit(X_train, y_train, **fit_params)\n"
     ]
    },
    {
     "name": "stdout",
     "output_type": "stream",
     "text": [
      "[CV 1/5] END ..max_features=4, n_estimators=250;, score=0.781 total time=   0.3s\n"
     ]
    },
    {
     "name": "stderr",
     "output_type": "stream",
     "text": [
      "D:\\anaconda3\\envs\\ml_study\\lib\\site-packages\\sklearn\\model_selection\\_validation.py:680: DataConversionWarning: A column-vector y was passed when a 1d array was expected. Please change the shape of y to (n_samples,), for example using ravel().\n",
      "  estimator.fit(X_train, y_train, **fit_params)\n"
     ]
    },
    {
     "name": "stdout",
     "output_type": "stream",
     "text": [
      "[CV 2/5] END ..max_features=4, n_estimators=250;, score=0.798 total time=   0.3s\n"
     ]
    },
    {
     "name": "stderr",
     "output_type": "stream",
     "text": [
      "D:\\anaconda3\\envs\\ml_study\\lib\\site-packages\\sklearn\\model_selection\\_validation.py:680: DataConversionWarning: A column-vector y was passed when a 1d array was expected. Please change the shape of y to (n_samples,), for example using ravel().\n",
      "  estimator.fit(X_train, y_train, **fit_params)\n"
     ]
    },
    {
     "name": "stdout",
     "output_type": "stream",
     "text": [
      "[CV 3/5] END ..max_features=4, n_estimators=250;, score=0.837 total time=   0.3s\n"
     ]
    },
    {
     "name": "stderr",
     "output_type": "stream",
     "text": [
      "D:\\anaconda3\\envs\\ml_study\\lib\\site-packages\\sklearn\\model_selection\\_validation.py:680: DataConversionWarning: A column-vector y was passed when a 1d array was expected. Please change the shape of y to (n_samples,), for example using ravel().\n",
      "  estimator.fit(X_train, y_train, **fit_params)\n"
     ]
    },
    {
     "name": "stdout",
     "output_type": "stream",
     "text": [
      "[CV 4/5] END ..max_features=4, n_estimators=250;, score=0.787 total time=   0.4s\n"
     ]
    },
    {
     "name": "stderr",
     "output_type": "stream",
     "text": [
      "D:\\anaconda3\\envs\\ml_study\\lib\\site-packages\\sklearn\\model_selection\\_validation.py:680: DataConversionWarning: A column-vector y was passed when a 1d array was expected. Please change the shape of y to (n_samples,), for example using ravel().\n",
      "  estimator.fit(X_train, y_train, **fit_params)\n"
     ]
    },
    {
     "name": "stdout",
     "output_type": "stream",
     "text": [
      "[CV 5/5] END ..max_features=4, n_estimators=250;, score=0.836 total time=   0.3s\n"
     ]
    },
    {
     "name": "stderr",
     "output_type": "stream",
     "text": [
      "D:\\anaconda3\\envs\\ml_study\\lib\\site-packages\\sklearn\\model_selection\\_validation.py:680: DataConversionWarning: A column-vector y was passed when a 1d array was expected. Please change the shape of y to (n_samples,), for example using ravel().\n",
      "  estimator.fit(X_train, y_train, **fit_params)\n"
     ]
    },
    {
     "name": "stdout",
     "output_type": "stream",
     "text": [
      "[CV 1/5] END ..max_features=4, n_estimators=300;, score=0.781 total time=   0.4s\n"
     ]
    },
    {
     "name": "stderr",
     "output_type": "stream",
     "text": [
      "D:\\anaconda3\\envs\\ml_study\\lib\\site-packages\\sklearn\\model_selection\\_validation.py:680: DataConversionWarning: A column-vector y was passed when a 1d array was expected. Please change the shape of y to (n_samples,), for example using ravel().\n",
      "  estimator.fit(X_train, y_train, **fit_params)\n"
     ]
    },
    {
     "name": "stdout",
     "output_type": "stream",
     "text": [
      "[CV 2/5] END ..max_features=4, n_estimators=300;, score=0.803 total time=   0.3s\n"
     ]
    },
    {
     "name": "stderr",
     "output_type": "stream",
     "text": [
      "D:\\anaconda3\\envs\\ml_study\\lib\\site-packages\\sklearn\\model_selection\\_validation.py:680: DataConversionWarning: A column-vector y was passed when a 1d array was expected. Please change the shape of y to (n_samples,), for example using ravel().\n",
      "  estimator.fit(X_train, y_train, **fit_params)\n"
     ]
    },
    {
     "name": "stdout",
     "output_type": "stream",
     "text": [
      "[CV 3/5] END ..max_features=4, n_estimators=300;, score=0.848 total time=   0.4s\n"
     ]
    },
    {
     "name": "stderr",
     "output_type": "stream",
     "text": [
      "D:\\anaconda3\\envs\\ml_study\\lib\\site-packages\\sklearn\\model_selection\\_validation.py:680: DataConversionWarning: A column-vector y was passed when a 1d array was expected. Please change the shape of y to (n_samples,), for example using ravel().\n",
      "  estimator.fit(X_train, y_train, **fit_params)\n"
     ]
    },
    {
     "name": "stdout",
     "output_type": "stream",
     "text": [
      "[CV 4/5] END ..max_features=4, n_estimators=300;, score=0.787 total time=   0.5s\n"
     ]
    },
    {
     "name": "stderr",
     "output_type": "stream",
     "text": [
      "D:\\anaconda3\\envs\\ml_study\\lib\\site-packages\\sklearn\\model_selection\\_validation.py:680: DataConversionWarning: A column-vector y was passed when a 1d array was expected. Please change the shape of y to (n_samples,), for example using ravel().\n",
      "  estimator.fit(X_train, y_train, **fit_params)\n"
     ]
    },
    {
     "name": "stdout",
     "output_type": "stream",
     "text": [
      "[CV 5/5] END ..max_features=4, n_estimators=300;, score=0.831 total time=   0.4s\n",
      "[CV 1/5] END ....max_features=5, n_estimators=5;, score=0.725 total time=   0.0s\n",
      "[CV 2/5] END ....max_features=5, n_estimators=5;, score=0.775 total time=   0.0s\n",
      "[CV 3/5] END ....max_features=5, n_estimators=5;, score=0.831 total time=   0.0s\n",
      "[CV 4/5] END ....max_features=5, n_estimators=5;, score=0.820 total time=   0.0s\n",
      "[CV 5/5] END ....max_features=5, n_estimators=5;, score=0.825 total time=   0.0s\n",
      "[CV 1/5] END ...max_features=5, n_estimators=10;, score=0.792 total time=   0.0s\n",
      "[CV 2/5] END ...max_features=5, n_estimators=10;, score=0.809 total time=   0.0s\n",
      "[CV 3/5] END ...max_features=5, n_estimators=10;, score=0.843 total time=   0.0s\n",
      "[CV 4/5] END ...max_features=5, n_estimators=10;, score=0.781 total time=   0.0s\n",
      "[CV 5/5] END ...max_features=5, n_estimators=10;, score=0.831 total time=   0.0s\n",
      "[CV 1/5] END ...max_features=5, n_estimators=20;, score=0.753 total time=   0.0s\n",
      "[CV 2/5] END ...max_features=5, n_estimators=20;, score=0.792 total time=   0.0s\n"
     ]
    },
    {
     "name": "stderr",
     "output_type": "stream",
     "text": [
      "D:\\anaconda3\\envs\\ml_study\\lib\\site-packages\\sklearn\\model_selection\\_validation.py:680: DataConversionWarning: A column-vector y was passed when a 1d array was expected. Please change the shape of y to (n_samples,), for example using ravel().\n",
      "  estimator.fit(X_train, y_train, **fit_params)\n",
      "D:\\anaconda3\\envs\\ml_study\\lib\\site-packages\\sklearn\\model_selection\\_validation.py:680: DataConversionWarning: A column-vector y was passed when a 1d array was expected. Please change the shape of y to (n_samples,), for example using ravel().\n",
      "  estimator.fit(X_train, y_train, **fit_params)\n",
      "D:\\anaconda3\\envs\\ml_study\\lib\\site-packages\\sklearn\\model_selection\\_validation.py:680: DataConversionWarning: A column-vector y was passed when a 1d array was expected. Please change the shape of y to (n_samples,), for example using ravel().\n",
      "  estimator.fit(X_train, y_train, **fit_params)\n",
      "D:\\anaconda3\\envs\\ml_study\\lib\\site-packages\\sklearn\\model_selection\\_validation.py:680: DataConversionWarning: A column-vector y was passed when a 1d array was expected. Please change the shape of y to (n_samples,), for example using ravel().\n",
      "  estimator.fit(X_train, y_train, **fit_params)\n",
      "D:\\anaconda3\\envs\\ml_study\\lib\\site-packages\\sklearn\\model_selection\\_validation.py:680: DataConversionWarning: A column-vector y was passed when a 1d array was expected. Please change the shape of y to (n_samples,), for example using ravel().\n",
      "  estimator.fit(X_train, y_train, **fit_params)\n",
      "D:\\anaconda3\\envs\\ml_study\\lib\\site-packages\\sklearn\\model_selection\\_validation.py:680: DataConversionWarning: A column-vector y was passed when a 1d array was expected. Please change the shape of y to (n_samples,), for example using ravel().\n",
      "  estimator.fit(X_train, y_train, **fit_params)\n",
      "D:\\anaconda3\\envs\\ml_study\\lib\\site-packages\\sklearn\\model_selection\\_validation.py:680: DataConversionWarning: A column-vector y was passed when a 1d array was expected. Please change the shape of y to (n_samples,), for example using ravel().\n",
      "  estimator.fit(X_train, y_train, **fit_params)\n",
      "D:\\anaconda3\\envs\\ml_study\\lib\\site-packages\\sklearn\\model_selection\\_validation.py:680: DataConversionWarning: A column-vector y was passed when a 1d array was expected. Please change the shape of y to (n_samples,), for example using ravel().\n",
      "  estimator.fit(X_train, y_train, **fit_params)\n",
      "D:\\anaconda3\\envs\\ml_study\\lib\\site-packages\\sklearn\\model_selection\\_validation.py:680: DataConversionWarning: A column-vector y was passed when a 1d array was expected. Please change the shape of y to (n_samples,), for example using ravel().\n",
      "  estimator.fit(X_train, y_train, **fit_params)\n",
      "D:\\anaconda3\\envs\\ml_study\\lib\\site-packages\\sklearn\\model_selection\\_validation.py:680: DataConversionWarning: A column-vector y was passed when a 1d array was expected. Please change the shape of y to (n_samples,), for example using ravel().\n",
      "  estimator.fit(X_train, y_train, **fit_params)\n",
      "D:\\anaconda3\\envs\\ml_study\\lib\\site-packages\\sklearn\\model_selection\\_validation.py:680: DataConversionWarning: A column-vector y was passed when a 1d array was expected. Please change the shape of y to (n_samples,), for example using ravel().\n",
      "  estimator.fit(X_train, y_train, **fit_params)\n",
      "D:\\anaconda3\\envs\\ml_study\\lib\\site-packages\\sklearn\\model_selection\\_validation.py:680: DataConversionWarning: A column-vector y was passed when a 1d array was expected. Please change the shape of y to (n_samples,), for example using ravel().\n",
      "  estimator.fit(X_train, y_train, **fit_params)\n",
      "D:\\anaconda3\\envs\\ml_study\\lib\\site-packages\\sklearn\\model_selection\\_validation.py:680: DataConversionWarning: A column-vector y was passed when a 1d array was expected. Please change the shape of y to (n_samples,), for example using ravel().\n",
      "  estimator.fit(X_train, y_train, **fit_params)\n"
     ]
    },
    {
     "name": "stdout",
     "output_type": "stream",
     "text": [
      "[CV 3/5] END ...max_features=5, n_estimators=20;, score=0.837 total time=   0.0s\n",
      "[CV 4/5] END ...max_features=5, n_estimators=20;, score=0.792 total time=   0.0s\n",
      "[CV 5/5] END ...max_features=5, n_estimators=20;, score=0.836 total time=   0.0s\n",
      "[CV 1/5] END ...max_features=5, n_estimators=30;, score=0.758 total time=   0.0s\n",
      "[CV 2/5] END ...max_features=5, n_estimators=30;, score=0.792 total time=   0.0s\n",
      "[CV 3/5] END ...max_features=5, n_estimators=30;, score=0.831 total time=   0.0s\n"
     ]
    },
    {
     "name": "stderr",
     "output_type": "stream",
     "text": [
      "D:\\anaconda3\\envs\\ml_study\\lib\\site-packages\\sklearn\\model_selection\\_validation.py:680: DataConversionWarning: A column-vector y was passed when a 1d array was expected. Please change the shape of y to (n_samples,), for example using ravel().\n",
      "  estimator.fit(X_train, y_train, **fit_params)\n",
      "D:\\anaconda3\\envs\\ml_study\\lib\\site-packages\\sklearn\\model_selection\\_validation.py:680: DataConversionWarning: A column-vector y was passed when a 1d array was expected. Please change the shape of y to (n_samples,), for example using ravel().\n",
      "  estimator.fit(X_train, y_train, **fit_params)\n",
      "D:\\anaconda3\\envs\\ml_study\\lib\\site-packages\\sklearn\\model_selection\\_validation.py:680: DataConversionWarning: A column-vector y was passed when a 1d array was expected. Please change the shape of y to (n_samples,), for example using ravel().\n",
      "  estimator.fit(X_train, y_train, **fit_params)\n",
      "D:\\anaconda3\\envs\\ml_study\\lib\\site-packages\\sklearn\\model_selection\\_validation.py:680: DataConversionWarning: A column-vector y was passed when a 1d array was expected. Please change the shape of y to (n_samples,), for example using ravel().\n",
      "  estimator.fit(X_train, y_train, **fit_params)\n",
      "D:\\anaconda3\\envs\\ml_study\\lib\\site-packages\\sklearn\\model_selection\\_validation.py:680: DataConversionWarning: A column-vector y was passed when a 1d array was expected. Please change the shape of y to (n_samples,), for example using ravel().\n",
      "  estimator.fit(X_train, y_train, **fit_params)\n",
      "D:\\anaconda3\\envs\\ml_study\\lib\\site-packages\\sklearn\\model_selection\\_validation.py:680: DataConversionWarning: A column-vector y was passed when a 1d array was expected. Please change the shape of y to (n_samples,), for example using ravel().\n",
      "  estimator.fit(X_train, y_train, **fit_params)\n"
     ]
    },
    {
     "name": "stdout",
     "output_type": "stream",
     "text": [
      "[CV 4/5] END ...max_features=5, n_estimators=30;, score=0.798 total time=   0.0s\n",
      "[CV 5/5] END ...max_features=5, n_estimators=30;, score=0.825 total time=   0.0s\n"
     ]
    },
    {
     "name": "stderr",
     "output_type": "stream",
     "text": [
      "D:\\anaconda3\\envs\\ml_study\\lib\\site-packages\\sklearn\\model_selection\\_validation.py:680: DataConversionWarning: A column-vector y was passed when a 1d array was expected. Please change the shape of y to (n_samples,), for example using ravel().\n",
      "  estimator.fit(X_train, y_train, **fit_params)\n",
      "D:\\anaconda3\\envs\\ml_study\\lib\\site-packages\\sklearn\\model_selection\\_validation.py:680: DataConversionWarning: A column-vector y was passed when a 1d array was expected. Please change the shape of y to (n_samples,), for example using ravel().\n",
      "  estimator.fit(X_train, y_train, **fit_params)\n"
     ]
    },
    {
     "name": "stdout",
     "output_type": "stream",
     "text": [
      "[CV 1/5] END ...max_features=5, n_estimators=40;, score=0.758 total time=   0.0s\n",
      "[CV 2/5] END ...max_features=5, n_estimators=40;, score=0.787 total time=   0.0s\n",
      "[CV 3/5] END ...max_features=5, n_estimators=40;, score=0.848 total time=   0.0s\n"
     ]
    },
    {
     "name": "stderr",
     "output_type": "stream",
     "text": [
      "D:\\anaconda3\\envs\\ml_study\\lib\\site-packages\\sklearn\\model_selection\\_validation.py:680: DataConversionWarning: A column-vector y was passed when a 1d array was expected. Please change the shape of y to (n_samples,), for example using ravel().\n",
      "  estimator.fit(X_train, y_train, **fit_params)\n",
      "D:\\anaconda3\\envs\\ml_study\\lib\\site-packages\\sklearn\\model_selection\\_validation.py:680: DataConversionWarning: A column-vector y was passed when a 1d array was expected. Please change the shape of y to (n_samples,), for example using ravel().\n",
      "  estimator.fit(X_train, y_train, **fit_params)\n",
      "D:\\anaconda3\\envs\\ml_study\\lib\\site-packages\\sklearn\\model_selection\\_validation.py:680: DataConversionWarning: A column-vector y was passed when a 1d array was expected. Please change the shape of y to (n_samples,), for example using ravel().\n",
      "  estimator.fit(X_train, y_train, **fit_params)\n"
     ]
    },
    {
     "name": "stdout",
     "output_type": "stream",
     "text": [
      "[CV 4/5] END ...max_features=5, n_estimators=40;, score=0.787 total time=   0.0s\n",
      "[CV 5/5] END ...max_features=5, n_estimators=40;, score=0.814 total time=   0.0s\n",
      "[CV 1/5] END ...max_features=5, n_estimators=50;, score=0.764 total time=   0.0s\n"
     ]
    },
    {
     "name": "stderr",
     "output_type": "stream",
     "text": [
      "D:\\anaconda3\\envs\\ml_study\\lib\\site-packages\\sklearn\\model_selection\\_validation.py:680: DataConversionWarning: A column-vector y was passed when a 1d array was expected. Please change the shape of y to (n_samples,), for example using ravel().\n",
      "  estimator.fit(X_train, y_train, **fit_params)\n",
      "D:\\anaconda3\\envs\\ml_study\\lib\\site-packages\\sklearn\\model_selection\\_validation.py:680: DataConversionWarning: A column-vector y was passed when a 1d array was expected. Please change the shape of y to (n_samples,), for example using ravel().\n",
      "  estimator.fit(X_train, y_train, **fit_params)\n",
      "D:\\anaconda3\\envs\\ml_study\\lib\\site-packages\\sklearn\\model_selection\\_validation.py:680: DataConversionWarning: A column-vector y was passed when a 1d array was expected. Please change the shape of y to (n_samples,), for example using ravel().\n",
      "  estimator.fit(X_train, y_train, **fit_params)\n"
     ]
    },
    {
     "name": "stdout",
     "output_type": "stream",
     "text": [
      "[CV 2/5] END ...max_features=5, n_estimators=50;, score=0.803 total time=   0.0s\n",
      "[CV 3/5] END ...max_features=5, n_estimators=50;, score=0.848 total time=   0.0s\n"
     ]
    },
    {
     "name": "stderr",
     "output_type": "stream",
     "text": [
      "D:\\anaconda3\\envs\\ml_study\\lib\\site-packages\\sklearn\\model_selection\\_validation.py:680: DataConversionWarning: A column-vector y was passed when a 1d array was expected. Please change the shape of y to (n_samples,), for example using ravel().\n",
      "  estimator.fit(X_train, y_train, **fit_params)\n",
      "D:\\anaconda3\\envs\\ml_study\\lib\\site-packages\\sklearn\\model_selection\\_validation.py:680: DataConversionWarning: A column-vector y was passed when a 1d array was expected. Please change the shape of y to (n_samples,), for example using ravel().\n",
      "  estimator.fit(X_train, y_train, **fit_params)\n"
     ]
    },
    {
     "name": "stdout",
     "output_type": "stream",
     "text": [
      "[CV 4/5] END ...max_features=5, n_estimators=50;, score=0.787 total time=   0.0s\n",
      "[CV 5/5] END ...max_features=5, n_estimators=50;, score=0.847 total time=   0.0s\n"
     ]
    },
    {
     "name": "stderr",
     "output_type": "stream",
     "text": [
      "D:\\anaconda3\\envs\\ml_study\\lib\\site-packages\\sklearn\\model_selection\\_validation.py:680: DataConversionWarning: A column-vector y was passed when a 1d array was expected. Please change the shape of y to (n_samples,), for example using ravel().\n",
      "  estimator.fit(X_train, y_train, **fit_params)\n",
      "D:\\anaconda3\\envs\\ml_study\\lib\\site-packages\\sklearn\\model_selection\\_validation.py:680: DataConversionWarning: A column-vector y was passed when a 1d array was expected. Please change the shape of y to (n_samples,), for example using ravel().\n",
      "  estimator.fit(X_train, y_train, **fit_params)\n"
     ]
    },
    {
     "name": "stdout",
     "output_type": "stream",
     "text": [
      "[CV 1/5] END ..max_features=5, n_estimators=100;, score=0.764 total time=   0.1s\n",
      "[CV 2/5] END ..max_features=5, n_estimators=100;, score=0.815 total time=   0.1s\n"
     ]
    },
    {
     "name": "stderr",
     "output_type": "stream",
     "text": [
      "D:\\anaconda3\\envs\\ml_study\\lib\\site-packages\\sklearn\\model_selection\\_validation.py:680: DataConversionWarning: A column-vector y was passed when a 1d array was expected. Please change the shape of y to (n_samples,), for example using ravel().\n",
      "  estimator.fit(X_train, y_train, **fit_params)\n",
      "D:\\anaconda3\\envs\\ml_study\\lib\\site-packages\\sklearn\\model_selection\\_validation.py:680: DataConversionWarning: A column-vector y was passed when a 1d array was expected. Please change the shape of y to (n_samples,), for example using ravel().\n",
      "  estimator.fit(X_train, y_train, **fit_params)\n"
     ]
    },
    {
     "name": "stdout",
     "output_type": "stream",
     "text": [
      "[CV 3/5] END ..max_features=5, n_estimators=100;, score=0.848 total time=   0.1s\n",
      "[CV 4/5] END ..max_features=5, n_estimators=100;, score=0.798 total time=   0.1s\n"
     ]
    },
    {
     "name": "stderr",
     "output_type": "stream",
     "text": [
      "D:\\anaconda3\\envs\\ml_study\\lib\\site-packages\\sklearn\\model_selection\\_validation.py:680: DataConversionWarning: A column-vector y was passed when a 1d array was expected. Please change the shape of y to (n_samples,), for example using ravel().\n",
      "  estimator.fit(X_train, y_train, **fit_params)\n",
      "D:\\anaconda3\\envs\\ml_study\\lib\\site-packages\\sklearn\\model_selection\\_validation.py:680: DataConversionWarning: A column-vector y was passed when a 1d array was expected. Please change the shape of y to (n_samples,), for example using ravel().\n",
      "  estimator.fit(X_train, y_train, **fit_params)\n"
     ]
    },
    {
     "name": "stdout",
     "output_type": "stream",
     "text": [
      "[CV 5/5] END ..max_features=5, n_estimators=100;, score=0.831 total time=   0.1s\n"
     ]
    },
    {
     "name": "stderr",
     "output_type": "stream",
     "text": [
      "D:\\anaconda3\\envs\\ml_study\\lib\\site-packages\\sklearn\\model_selection\\_validation.py:680: DataConversionWarning: A column-vector y was passed when a 1d array was expected. Please change the shape of y to (n_samples,), for example using ravel().\n",
      "  estimator.fit(X_train, y_train, **fit_params)\n"
     ]
    },
    {
     "name": "stdout",
     "output_type": "stream",
     "text": [
      "[CV 1/5] END ..max_features=5, n_estimators=150;, score=0.770 total time=   0.1s\n"
     ]
    },
    {
     "name": "stderr",
     "output_type": "stream",
     "text": [
      "D:\\anaconda3\\envs\\ml_study\\lib\\site-packages\\sklearn\\model_selection\\_validation.py:680: DataConversionWarning: A column-vector y was passed when a 1d array was expected. Please change the shape of y to (n_samples,), for example using ravel().\n",
      "  estimator.fit(X_train, y_train, **fit_params)\n"
     ]
    },
    {
     "name": "stdout",
     "output_type": "stream",
     "text": [
      "[CV 2/5] END ..max_features=5, n_estimators=150;, score=0.809 total time=   0.1s\n"
     ]
    },
    {
     "name": "stderr",
     "output_type": "stream",
     "text": [
      "D:\\anaconda3\\envs\\ml_study\\lib\\site-packages\\sklearn\\model_selection\\_validation.py:680: DataConversionWarning: A column-vector y was passed when a 1d array was expected. Please change the shape of y to (n_samples,), for example using ravel().\n",
      "  estimator.fit(X_train, y_train, **fit_params)\n"
     ]
    },
    {
     "name": "stdout",
     "output_type": "stream",
     "text": [
      "[CV 3/5] END ..max_features=5, n_estimators=150;, score=0.843 total time=   0.1s\n"
     ]
    },
    {
     "name": "stderr",
     "output_type": "stream",
     "text": [
      "D:\\anaconda3\\envs\\ml_study\\lib\\site-packages\\sklearn\\model_selection\\_validation.py:680: DataConversionWarning: A column-vector y was passed when a 1d array was expected. Please change the shape of y to (n_samples,), for example using ravel().\n",
      "  estimator.fit(X_train, y_train, **fit_params)\n"
     ]
    },
    {
     "name": "stdout",
     "output_type": "stream",
     "text": [
      "[CV 4/5] END ..max_features=5, n_estimators=150;, score=0.787 total time=   0.2s\n"
     ]
    },
    {
     "name": "stderr",
     "output_type": "stream",
     "text": [
      "D:\\anaconda3\\envs\\ml_study\\lib\\site-packages\\sklearn\\model_selection\\_validation.py:680: DataConversionWarning: A column-vector y was passed when a 1d array was expected. Please change the shape of y to (n_samples,), for example using ravel().\n",
      "  estimator.fit(X_train, y_train, **fit_params)\n"
     ]
    },
    {
     "name": "stdout",
     "output_type": "stream",
     "text": [
      "[CV 5/5] END ..max_features=5, n_estimators=150;, score=0.831 total time=   0.1s\n"
     ]
    },
    {
     "name": "stderr",
     "output_type": "stream",
     "text": [
      "D:\\anaconda3\\envs\\ml_study\\lib\\site-packages\\sklearn\\model_selection\\_validation.py:680: DataConversionWarning: A column-vector y was passed when a 1d array was expected. Please change the shape of y to (n_samples,), for example using ravel().\n",
      "  estimator.fit(X_train, y_train, **fit_params)\n"
     ]
    },
    {
     "name": "stdout",
     "output_type": "stream",
     "text": [
      "[CV 1/5] END ..max_features=5, n_estimators=200;, score=0.758 total time=   0.2s\n"
     ]
    },
    {
     "name": "stderr",
     "output_type": "stream",
     "text": [
      "D:\\anaconda3\\envs\\ml_study\\lib\\site-packages\\sklearn\\model_selection\\_validation.py:680: DataConversionWarning: A column-vector y was passed when a 1d array was expected. Please change the shape of y to (n_samples,), for example using ravel().\n",
      "  estimator.fit(X_train, y_train, **fit_params)\n"
     ]
    },
    {
     "name": "stdout",
     "output_type": "stream",
     "text": [
      "[CV 2/5] END ..max_features=5, n_estimators=200;, score=0.809 total time=   0.2s\n"
     ]
    },
    {
     "name": "stderr",
     "output_type": "stream",
     "text": [
      "D:\\anaconda3\\envs\\ml_study\\lib\\site-packages\\sklearn\\model_selection\\_validation.py:680: DataConversionWarning: A column-vector y was passed when a 1d array was expected. Please change the shape of y to (n_samples,), for example using ravel().\n",
      "  estimator.fit(X_train, y_train, **fit_params)\n"
     ]
    },
    {
     "name": "stdout",
     "output_type": "stream",
     "text": [
      "[CV 3/5] END ..max_features=5, n_estimators=200;, score=0.848 total time=   0.2s\n"
     ]
    },
    {
     "name": "stderr",
     "output_type": "stream",
     "text": [
      "D:\\anaconda3\\envs\\ml_study\\lib\\site-packages\\sklearn\\model_selection\\_validation.py:680: DataConversionWarning: A column-vector y was passed when a 1d array was expected. Please change the shape of y to (n_samples,), for example using ravel().\n",
      "  estimator.fit(X_train, y_train, **fit_params)\n"
     ]
    },
    {
     "name": "stdout",
     "output_type": "stream",
     "text": [
      "[CV 4/5] END ..max_features=5, n_estimators=200;, score=0.781 total time=   0.2s\n"
     ]
    },
    {
     "name": "stderr",
     "output_type": "stream",
     "text": [
      "D:\\anaconda3\\envs\\ml_study\\lib\\site-packages\\sklearn\\model_selection\\_validation.py:680: DataConversionWarning: A column-vector y was passed when a 1d array was expected. Please change the shape of y to (n_samples,), for example using ravel().\n",
      "  estimator.fit(X_train, y_train, **fit_params)\n"
     ]
    },
    {
     "name": "stdout",
     "output_type": "stream",
     "text": [
      "[CV 5/5] END ..max_features=5, n_estimators=200;, score=0.831 total time=   0.3s\n"
     ]
    },
    {
     "name": "stderr",
     "output_type": "stream",
     "text": [
      "D:\\anaconda3\\envs\\ml_study\\lib\\site-packages\\sklearn\\model_selection\\_validation.py:680: DataConversionWarning: A column-vector y was passed when a 1d array was expected. Please change the shape of y to (n_samples,), for example using ravel().\n",
      "  estimator.fit(X_train, y_train, **fit_params)\n"
     ]
    },
    {
     "name": "stdout",
     "output_type": "stream",
     "text": [
      "[CV 1/5] END ..max_features=5, n_estimators=250;, score=0.764 total time=   0.4s\n"
     ]
    },
    {
     "name": "stderr",
     "output_type": "stream",
     "text": [
      "D:\\anaconda3\\envs\\ml_study\\lib\\site-packages\\sklearn\\model_selection\\_validation.py:680: DataConversionWarning: A column-vector y was passed when a 1d array was expected. Please change the shape of y to (n_samples,), for example using ravel().\n",
      "  estimator.fit(X_train, y_train, **fit_params)\n"
     ]
    },
    {
     "name": "stdout",
     "output_type": "stream",
     "text": [
      "[CV 2/5] END ..max_features=5, n_estimators=250;, score=0.803 total time=   0.3s\n"
     ]
    },
    {
     "name": "stderr",
     "output_type": "stream",
     "text": [
      "D:\\anaconda3\\envs\\ml_study\\lib\\site-packages\\sklearn\\model_selection\\_validation.py:680: DataConversionWarning: A column-vector y was passed when a 1d array was expected. Please change the shape of y to (n_samples,), for example using ravel().\n",
      "  estimator.fit(X_train, y_train, **fit_params)\n"
     ]
    },
    {
     "name": "stdout",
     "output_type": "stream",
     "text": [
      "[CV 3/5] END ..max_features=5, n_estimators=250;, score=0.843 total time=   0.3s\n"
     ]
    },
    {
     "name": "stderr",
     "output_type": "stream",
     "text": [
      "D:\\anaconda3\\envs\\ml_study\\lib\\site-packages\\sklearn\\model_selection\\_validation.py:680: DataConversionWarning: A column-vector y was passed when a 1d array was expected. Please change the shape of y to (n_samples,), for example using ravel().\n",
      "  estimator.fit(X_train, y_train, **fit_params)\n"
     ]
    },
    {
     "name": "stdout",
     "output_type": "stream",
     "text": [
      "[CV 4/5] END ..max_features=5, n_estimators=250;, score=0.792 total time=   0.3s\n"
     ]
    },
    {
     "name": "stderr",
     "output_type": "stream",
     "text": [
      "D:\\anaconda3\\envs\\ml_study\\lib\\site-packages\\sklearn\\model_selection\\_validation.py:680: DataConversionWarning: A column-vector y was passed when a 1d array was expected. Please change the shape of y to (n_samples,), for example using ravel().\n",
      "  estimator.fit(X_train, y_train, **fit_params)\n"
     ]
    },
    {
     "name": "stdout",
     "output_type": "stream",
     "text": [
      "[CV 5/5] END ..max_features=5, n_estimators=250;, score=0.831 total time=   0.3s\n"
     ]
    },
    {
     "name": "stderr",
     "output_type": "stream",
     "text": [
      "D:\\anaconda3\\envs\\ml_study\\lib\\site-packages\\sklearn\\model_selection\\_validation.py:680: DataConversionWarning: A column-vector y was passed when a 1d array was expected. Please change the shape of y to (n_samples,), for example using ravel().\n",
      "  estimator.fit(X_train, y_train, **fit_params)\n"
     ]
    },
    {
     "name": "stdout",
     "output_type": "stream",
     "text": [
      "[CV 1/5] END ..max_features=5, n_estimators=300;, score=0.775 total time=   0.3s\n"
     ]
    },
    {
     "name": "stderr",
     "output_type": "stream",
     "text": [
      "D:\\anaconda3\\envs\\ml_study\\lib\\site-packages\\sklearn\\model_selection\\_validation.py:680: DataConversionWarning: A column-vector y was passed when a 1d array was expected. Please change the shape of y to (n_samples,), for example using ravel().\n",
      "  estimator.fit(X_train, y_train, **fit_params)\n"
     ]
    },
    {
     "name": "stdout",
     "output_type": "stream",
     "text": [
      "[CV 2/5] END ..max_features=5, n_estimators=300;, score=0.803 total time=   0.3s\n"
     ]
    },
    {
     "name": "stderr",
     "output_type": "stream",
     "text": [
      "D:\\anaconda3\\envs\\ml_study\\lib\\site-packages\\sklearn\\model_selection\\_validation.py:680: DataConversionWarning: A column-vector y was passed when a 1d array was expected. Please change the shape of y to (n_samples,), for example using ravel().\n",
      "  estimator.fit(X_train, y_train, **fit_params)\n"
     ]
    },
    {
     "name": "stdout",
     "output_type": "stream",
     "text": [
      "[CV 3/5] END ..max_features=5, n_estimators=300;, score=0.837 total time=   0.4s\n"
     ]
    },
    {
     "name": "stderr",
     "output_type": "stream",
     "text": [
      "D:\\anaconda3\\envs\\ml_study\\lib\\site-packages\\sklearn\\model_selection\\_validation.py:680: DataConversionWarning: A column-vector y was passed when a 1d array was expected. Please change the shape of y to (n_samples,), for example using ravel().\n",
      "  estimator.fit(X_train, y_train, **fit_params)\n"
     ]
    },
    {
     "name": "stdout",
     "output_type": "stream",
     "text": [
      "[CV 4/5] END ..max_features=5, n_estimators=300;, score=0.787 total time=   0.4s\n"
     ]
    },
    {
     "name": "stderr",
     "output_type": "stream",
     "text": [
      "D:\\anaconda3\\envs\\ml_study\\lib\\site-packages\\sklearn\\model_selection\\_validation.py:680: DataConversionWarning: A column-vector y was passed when a 1d array was expected. Please change the shape of y to (n_samples,), for example using ravel().\n",
      "  estimator.fit(X_train, y_train, **fit_params)\n"
     ]
    },
    {
     "name": "stdout",
     "output_type": "stream",
     "text": [
      "[CV 5/5] END ..max_features=5, n_estimators=300;, score=0.836 total time=   0.4s\n",
      "[CV 1/5] END ....max_features=6, n_estimators=5;, score=0.758 total time=   0.0s\n",
      "[CV 2/5] END ....max_features=6, n_estimators=5;, score=0.753 total time=   0.0s\n",
      "[CV 3/5] END ....max_features=6, n_estimators=5;, score=0.820 total time=   0.0s\n",
      "[CV 4/5] END ....max_features=6, n_estimators=5;, score=0.758 total time=   0.0s\n",
      "[CV 5/5] END ....max_features=6, n_estimators=5;, score=0.836 total time=   0.0s\n",
      "[CV 1/5] END ...max_features=6, n_estimators=10;, score=0.764 total time=   0.0s\n",
      "[CV 2/5] END ...max_features=6, n_estimators=10;, score=0.815 total time=   0.0s\n",
      "[CV 3/5] END ...max_features=6, n_estimators=10;, score=0.854 total time=   0.0s\n",
      "[CV 4/5] END ...max_features=6, n_estimators=10;, score=0.775 total time=   0.0s\n",
      "[CV 5/5] END ...max_features=6, n_estimators=10;, score=0.808 total time=   0.0s\n",
      "[CV 1/5] END ...max_features=6, n_estimators=20;, score=0.736 total time=   0.0s\n",
      "[CV 2/5] END ...max_features=6, n_estimators=20;, score=0.815 total time=   0.0s\n"
     ]
    },
    {
     "name": "stderr",
     "output_type": "stream",
     "text": [
      "D:\\anaconda3\\envs\\ml_study\\lib\\site-packages\\sklearn\\model_selection\\_validation.py:680: DataConversionWarning: A column-vector y was passed when a 1d array was expected. Please change the shape of y to (n_samples,), for example using ravel().\n",
      "  estimator.fit(X_train, y_train, **fit_params)\n",
      "D:\\anaconda3\\envs\\ml_study\\lib\\site-packages\\sklearn\\model_selection\\_validation.py:680: DataConversionWarning: A column-vector y was passed when a 1d array was expected. Please change the shape of y to (n_samples,), for example using ravel().\n",
      "  estimator.fit(X_train, y_train, **fit_params)\n",
      "D:\\anaconda3\\envs\\ml_study\\lib\\site-packages\\sklearn\\model_selection\\_validation.py:680: DataConversionWarning: A column-vector y was passed when a 1d array was expected. Please change the shape of y to (n_samples,), for example using ravel().\n",
      "  estimator.fit(X_train, y_train, **fit_params)\n",
      "D:\\anaconda3\\envs\\ml_study\\lib\\site-packages\\sklearn\\model_selection\\_validation.py:680: DataConversionWarning: A column-vector y was passed when a 1d array was expected. Please change the shape of y to (n_samples,), for example using ravel().\n",
      "  estimator.fit(X_train, y_train, **fit_params)\n",
      "D:\\anaconda3\\envs\\ml_study\\lib\\site-packages\\sklearn\\model_selection\\_validation.py:680: DataConversionWarning: A column-vector y was passed when a 1d array was expected. Please change the shape of y to (n_samples,), for example using ravel().\n",
      "  estimator.fit(X_train, y_train, **fit_params)\n",
      "D:\\anaconda3\\envs\\ml_study\\lib\\site-packages\\sklearn\\model_selection\\_validation.py:680: DataConversionWarning: A column-vector y was passed when a 1d array was expected. Please change the shape of y to (n_samples,), for example using ravel().\n",
      "  estimator.fit(X_train, y_train, **fit_params)\n",
      "D:\\anaconda3\\envs\\ml_study\\lib\\site-packages\\sklearn\\model_selection\\_validation.py:680: DataConversionWarning: A column-vector y was passed when a 1d array was expected. Please change the shape of y to (n_samples,), for example using ravel().\n",
      "  estimator.fit(X_train, y_train, **fit_params)\n",
      "D:\\anaconda3\\envs\\ml_study\\lib\\site-packages\\sklearn\\model_selection\\_validation.py:680: DataConversionWarning: A column-vector y was passed when a 1d array was expected. Please change the shape of y to (n_samples,), for example using ravel().\n",
      "  estimator.fit(X_train, y_train, **fit_params)\n",
      "D:\\anaconda3\\envs\\ml_study\\lib\\site-packages\\sklearn\\model_selection\\_validation.py:680: DataConversionWarning: A column-vector y was passed when a 1d array was expected. Please change the shape of y to (n_samples,), for example using ravel().\n",
      "  estimator.fit(X_train, y_train, **fit_params)\n",
      "D:\\anaconda3\\envs\\ml_study\\lib\\site-packages\\sklearn\\model_selection\\_validation.py:680: DataConversionWarning: A column-vector y was passed when a 1d array was expected. Please change the shape of y to (n_samples,), for example using ravel().\n",
      "  estimator.fit(X_train, y_train, **fit_params)\n",
      "D:\\anaconda3\\envs\\ml_study\\lib\\site-packages\\sklearn\\model_selection\\_validation.py:680: DataConversionWarning: A column-vector y was passed when a 1d array was expected. Please change the shape of y to (n_samples,), for example using ravel().\n",
      "  estimator.fit(X_train, y_train, **fit_params)\n",
      "D:\\anaconda3\\envs\\ml_study\\lib\\site-packages\\sklearn\\model_selection\\_validation.py:680: DataConversionWarning: A column-vector y was passed when a 1d array was expected. Please change the shape of y to (n_samples,), for example using ravel().\n",
      "  estimator.fit(X_train, y_train, **fit_params)\n"
     ]
    },
    {
     "name": "stdout",
     "output_type": "stream",
     "text": [
      "[CV 3/5] END ...max_features=6, n_estimators=20;, score=0.831 total time=   0.0s\n",
      "[CV 4/5] END ...max_features=6, n_estimators=20;, score=0.787 total time=   0.0s\n",
      "[CV 5/5] END ...max_features=6, n_estimators=20;, score=0.831 total time=   0.0s\n",
      "[CV 1/5] END ...max_features=6, n_estimators=30;, score=0.753 total time=   0.0s\n",
      "[CV 2/5] END ...max_features=6, n_estimators=30;, score=0.803 total time=   0.0s\n",
      "[CV 3/5] END ...max_features=6, n_estimators=30;, score=0.837 total time=   0.0s\n"
     ]
    },
    {
     "name": "stderr",
     "output_type": "stream",
     "text": [
      "D:\\anaconda3\\envs\\ml_study\\lib\\site-packages\\sklearn\\model_selection\\_validation.py:680: DataConversionWarning: A column-vector y was passed when a 1d array was expected. Please change the shape of y to (n_samples,), for example using ravel().\n",
      "  estimator.fit(X_train, y_train, **fit_params)\n",
      "D:\\anaconda3\\envs\\ml_study\\lib\\site-packages\\sklearn\\model_selection\\_validation.py:680: DataConversionWarning: A column-vector y was passed when a 1d array was expected. Please change the shape of y to (n_samples,), for example using ravel().\n",
      "  estimator.fit(X_train, y_train, **fit_params)\n",
      "D:\\anaconda3\\envs\\ml_study\\lib\\site-packages\\sklearn\\model_selection\\_validation.py:680: DataConversionWarning: A column-vector y was passed when a 1d array was expected. Please change the shape of y to (n_samples,), for example using ravel().\n",
      "  estimator.fit(X_train, y_train, **fit_params)\n",
      "D:\\anaconda3\\envs\\ml_study\\lib\\site-packages\\sklearn\\model_selection\\_validation.py:680: DataConversionWarning: A column-vector y was passed when a 1d array was expected. Please change the shape of y to (n_samples,), for example using ravel().\n",
      "  estimator.fit(X_train, y_train, **fit_params)\n",
      "D:\\anaconda3\\envs\\ml_study\\lib\\site-packages\\sklearn\\model_selection\\_validation.py:680: DataConversionWarning: A column-vector y was passed when a 1d array was expected. Please change the shape of y to (n_samples,), for example using ravel().\n",
      "  estimator.fit(X_train, y_train, **fit_params)\n",
      "D:\\anaconda3\\envs\\ml_study\\lib\\site-packages\\sklearn\\model_selection\\_validation.py:680: DataConversionWarning: A column-vector y was passed when a 1d array was expected. Please change the shape of y to (n_samples,), for example using ravel().\n",
      "  estimator.fit(X_train, y_train, **fit_params)\n",
      "D:\\anaconda3\\envs\\ml_study\\lib\\site-packages\\sklearn\\model_selection\\_validation.py:680: DataConversionWarning: A column-vector y was passed when a 1d array was expected. Please change the shape of y to (n_samples,), for example using ravel().\n",
      "  estimator.fit(X_train, y_train, **fit_params)\n"
     ]
    },
    {
     "name": "stdout",
     "output_type": "stream",
     "text": [
      "[CV 4/5] END ...max_features=6, n_estimators=30;, score=0.787 total time=   0.0s\n",
      "[CV 5/5] END ...max_features=6, n_estimators=30;, score=0.836 total time=   0.0s\n",
      "[CV 1/5] END ...max_features=6, n_estimators=40;, score=0.775 total time=   0.0s\n",
      "[CV 2/5] END ...max_features=6, n_estimators=40;, score=0.820 total time=   0.0s\n"
     ]
    },
    {
     "name": "stderr",
     "output_type": "stream",
     "text": [
      "D:\\anaconda3\\envs\\ml_study\\lib\\site-packages\\sklearn\\model_selection\\_validation.py:680: DataConversionWarning: A column-vector y was passed when a 1d array was expected. Please change the shape of y to (n_samples,), for example using ravel().\n",
      "  estimator.fit(X_train, y_train, **fit_params)\n",
      "D:\\anaconda3\\envs\\ml_study\\lib\\site-packages\\sklearn\\model_selection\\_validation.py:680: DataConversionWarning: A column-vector y was passed when a 1d array was expected. Please change the shape of y to (n_samples,), for example using ravel().\n",
      "  estimator.fit(X_train, y_train, **fit_params)\n",
      "D:\\anaconda3\\envs\\ml_study\\lib\\site-packages\\sklearn\\model_selection\\_validation.py:680: DataConversionWarning: A column-vector y was passed when a 1d array was expected. Please change the shape of y to (n_samples,), for example using ravel().\n",
      "  estimator.fit(X_train, y_train, **fit_params)\n",
      "D:\\anaconda3\\envs\\ml_study\\lib\\site-packages\\sklearn\\model_selection\\_validation.py:680: DataConversionWarning: A column-vector y was passed when a 1d array was expected. Please change the shape of y to (n_samples,), for example using ravel().\n",
      "  estimator.fit(X_train, y_train, **fit_params)\n"
     ]
    },
    {
     "name": "stdout",
     "output_type": "stream",
     "text": [
      "[CV 3/5] END ...max_features=6, n_estimators=40;, score=0.865 total time=   0.0s\n",
      "[CV 4/5] END ...max_features=6, n_estimators=40;, score=0.787 total time=   0.0s\n",
      "[CV 5/5] END ...max_features=6, n_estimators=40;, score=0.842 total time=   0.0s\n"
     ]
    },
    {
     "name": "stderr",
     "output_type": "stream",
     "text": [
      "D:\\anaconda3\\envs\\ml_study\\lib\\site-packages\\sklearn\\model_selection\\_validation.py:680: DataConversionWarning: A column-vector y was passed when a 1d array was expected. Please change the shape of y to (n_samples,), for example using ravel().\n",
      "  estimator.fit(X_train, y_train, **fit_params)\n",
      "D:\\anaconda3\\envs\\ml_study\\lib\\site-packages\\sklearn\\model_selection\\_validation.py:680: DataConversionWarning: A column-vector y was passed when a 1d array was expected. Please change the shape of y to (n_samples,), for example using ravel().\n",
      "  estimator.fit(X_train, y_train, **fit_params)\n",
      "D:\\anaconda3\\envs\\ml_study\\lib\\site-packages\\sklearn\\model_selection\\_validation.py:680: DataConversionWarning: A column-vector y was passed when a 1d array was expected. Please change the shape of y to (n_samples,), for example using ravel().\n",
      "  estimator.fit(X_train, y_train, **fit_params)\n"
     ]
    },
    {
     "name": "stdout",
     "output_type": "stream",
     "text": [
      "[CV 1/5] END ...max_features=6, n_estimators=50;, score=0.775 total time=   0.0s\n",
      "[CV 2/5] END ...max_features=6, n_estimators=50;, score=0.803 total time=   0.0s\n",
      "[CV 3/5] END ...max_features=6, n_estimators=50;, score=0.854 total time=   0.0s\n"
     ]
    },
    {
     "name": "stderr",
     "output_type": "stream",
     "text": [
      "D:\\anaconda3\\envs\\ml_study\\lib\\site-packages\\sklearn\\model_selection\\_validation.py:680: DataConversionWarning: A column-vector y was passed when a 1d array was expected. Please change the shape of y to (n_samples,), for example using ravel().\n",
      "  estimator.fit(X_train, y_train, **fit_params)\n",
      "D:\\anaconda3\\envs\\ml_study\\lib\\site-packages\\sklearn\\model_selection\\_validation.py:680: DataConversionWarning: A column-vector y was passed when a 1d array was expected. Please change the shape of y to (n_samples,), for example using ravel().\n",
      "  estimator.fit(X_train, y_train, **fit_params)\n",
      "D:\\anaconda3\\envs\\ml_study\\lib\\site-packages\\sklearn\\model_selection\\_validation.py:680: DataConversionWarning: A column-vector y was passed when a 1d array was expected. Please change the shape of y to (n_samples,), for example using ravel().\n",
      "  estimator.fit(X_train, y_train, **fit_params)\n"
     ]
    },
    {
     "name": "stdout",
     "output_type": "stream",
     "text": [
      "[CV 4/5] END ...max_features=6, n_estimators=50;, score=0.792 total time=   0.0s\n",
      "[CV 5/5] END ...max_features=6, n_estimators=50;, score=0.847 total time=   0.0s\n"
     ]
    },
    {
     "name": "stderr",
     "output_type": "stream",
     "text": [
      "D:\\anaconda3\\envs\\ml_study\\lib\\site-packages\\sklearn\\model_selection\\_validation.py:680: DataConversionWarning: A column-vector y was passed when a 1d array was expected. Please change the shape of y to (n_samples,), for example using ravel().\n",
      "  estimator.fit(X_train, y_train, **fit_params)\n",
      "D:\\anaconda3\\envs\\ml_study\\lib\\site-packages\\sklearn\\model_selection\\_validation.py:680: DataConversionWarning: A column-vector y was passed when a 1d array was expected. Please change the shape of y to (n_samples,), for example using ravel().\n",
      "  estimator.fit(X_train, y_train, **fit_params)\n"
     ]
    },
    {
     "name": "stdout",
     "output_type": "stream",
     "text": [
      "[CV 1/5] END ..max_features=6, n_estimators=100;, score=0.753 total time=   0.1s\n",
      "[CV 2/5] END ..max_features=6, n_estimators=100;, score=0.809 total time=   0.1s"
     ]
    },
    {
     "name": "stderr",
     "output_type": "stream",
     "text": [
      "D:\\anaconda3\\envs\\ml_study\\lib\\site-packages\\sklearn\\model_selection\\_validation.py:680: DataConversionWarning: A column-vector y was passed when a 1d array was expected. Please change the shape of y to (n_samples,), for example using ravel().\n",
      "  estimator.fit(X_train, y_train, **fit_params)\n"
     ]
    },
    {
     "name": "stdout",
     "output_type": "stream",
     "text": [
      "\n",
      "[CV 3/5] END ..max_features=6, n_estimators=100;, score=0.843 total time=   0.1s\n"
     ]
    },
    {
     "name": "stderr",
     "output_type": "stream",
     "text": [
      "D:\\anaconda3\\envs\\ml_study\\lib\\site-packages\\sklearn\\model_selection\\_validation.py:680: DataConversionWarning: A column-vector y was passed when a 1d array was expected. Please change the shape of y to (n_samples,), for example using ravel().\n",
      "  estimator.fit(X_train, y_train, **fit_params)\n",
      "D:\\anaconda3\\envs\\ml_study\\lib\\site-packages\\sklearn\\model_selection\\_validation.py:680: DataConversionWarning: A column-vector y was passed when a 1d array was expected. Please change the shape of y to (n_samples,), for example using ravel().\n",
      "  estimator.fit(X_train, y_train, **fit_params)\n"
     ]
    },
    {
     "name": "stdout",
     "output_type": "stream",
     "text": [
      "[CV 4/5] END ..max_features=6, n_estimators=100;, score=0.781 total time=   0.1s\n",
      "[CV 5/5] END ..max_features=6, n_estimators=100;, score=0.825 total time=   0.1s\n"
     ]
    },
    {
     "name": "stderr",
     "output_type": "stream",
     "text": [
      "D:\\anaconda3\\envs\\ml_study\\lib\\site-packages\\sklearn\\model_selection\\_validation.py:680: DataConversionWarning: A column-vector y was passed when a 1d array was expected. Please change the shape of y to (n_samples,), for example using ravel().\n",
      "  estimator.fit(X_train, y_train, **fit_params)\n",
      "D:\\anaconda3\\envs\\ml_study\\lib\\site-packages\\sklearn\\model_selection\\_validation.py:680: DataConversionWarning: A column-vector y was passed when a 1d array was expected. Please change the shape of y to (n_samples,), for example using ravel().\n",
      "  estimator.fit(X_train, y_train, **fit_params)\n"
     ]
    },
    {
     "name": "stdout",
     "output_type": "stream",
     "text": [
      "[CV 1/5] END ..max_features=6, n_estimators=150;, score=0.764 total time=   0.1s\n"
     ]
    },
    {
     "name": "stderr",
     "output_type": "stream",
     "text": [
      "D:\\anaconda3\\envs\\ml_study\\lib\\site-packages\\sklearn\\model_selection\\_validation.py:680: DataConversionWarning: A column-vector y was passed when a 1d array was expected. Please change the shape of y to (n_samples,), for example using ravel().\n",
      "  estimator.fit(X_train, y_train, **fit_params)\n"
     ]
    },
    {
     "name": "stdout",
     "output_type": "stream",
     "text": [
      "[CV 2/5] END ..max_features=6, n_estimators=150;, score=0.798 total time=   0.1s\n"
     ]
    },
    {
     "name": "stderr",
     "output_type": "stream",
     "text": [
      "D:\\anaconda3\\envs\\ml_study\\lib\\site-packages\\sklearn\\model_selection\\_validation.py:680: DataConversionWarning: A column-vector y was passed when a 1d array was expected. Please change the shape of y to (n_samples,), for example using ravel().\n",
      "  estimator.fit(X_train, y_train, **fit_params)\n"
     ]
    },
    {
     "name": "stdout",
     "output_type": "stream",
     "text": [
      "[CV 3/5] END ..max_features=6, n_estimators=150;, score=0.843 total time=   0.2s\n"
     ]
    },
    {
     "name": "stderr",
     "output_type": "stream",
     "text": [
      "D:\\anaconda3\\envs\\ml_study\\lib\\site-packages\\sklearn\\model_selection\\_validation.py:680: DataConversionWarning: A column-vector y was passed when a 1d array was expected. Please change the shape of y to (n_samples,), for example using ravel().\n",
      "  estimator.fit(X_train, y_train, **fit_params)\n"
     ]
    },
    {
     "name": "stdout",
     "output_type": "stream",
     "text": [
      "[CV 4/5] END ..max_features=6, n_estimators=150;, score=0.787 total time=   0.1s\n"
     ]
    },
    {
     "name": "stderr",
     "output_type": "stream",
     "text": [
      "D:\\anaconda3\\envs\\ml_study\\lib\\site-packages\\sklearn\\model_selection\\_validation.py:680: DataConversionWarning: A column-vector y was passed when a 1d array was expected. Please change the shape of y to (n_samples,), for example using ravel().\n",
      "  estimator.fit(X_train, y_train, **fit_params)\n"
     ]
    },
    {
     "name": "stdout",
     "output_type": "stream",
     "text": [
      "[CV 5/5] END ..max_features=6, n_estimators=150;, score=0.831 total time=   0.1s\n"
     ]
    },
    {
     "name": "stderr",
     "output_type": "stream",
     "text": [
      "D:\\anaconda3\\envs\\ml_study\\lib\\site-packages\\sklearn\\model_selection\\_validation.py:680: DataConversionWarning: A column-vector y was passed when a 1d array was expected. Please change the shape of y to (n_samples,), for example using ravel().\n",
      "  estimator.fit(X_train, y_train, **fit_params)\n"
     ]
    },
    {
     "name": "stdout",
     "output_type": "stream",
     "text": [
      "[CV 1/5] END ..max_features=6, n_estimators=200;, score=0.775 total time=   0.2s\n"
     ]
    },
    {
     "name": "stderr",
     "output_type": "stream",
     "text": [
      "D:\\anaconda3\\envs\\ml_study\\lib\\site-packages\\sklearn\\model_selection\\_validation.py:680: DataConversionWarning: A column-vector y was passed when a 1d array was expected. Please change the shape of y to (n_samples,), for example using ravel().\n",
      "  estimator.fit(X_train, y_train, **fit_params)\n"
     ]
    },
    {
     "name": "stdout",
     "output_type": "stream",
     "text": [
      "[CV 2/5] END ..max_features=6, n_estimators=200;, score=0.815 total time=   0.2s\n"
     ]
    },
    {
     "name": "stderr",
     "output_type": "stream",
     "text": [
      "D:\\anaconda3\\envs\\ml_study\\lib\\site-packages\\sklearn\\model_selection\\_validation.py:680: DataConversionWarning: A column-vector y was passed when a 1d array was expected. Please change the shape of y to (n_samples,), for example using ravel().\n",
      "  estimator.fit(X_train, y_train, **fit_params)\n"
     ]
    },
    {
     "name": "stdout",
     "output_type": "stream",
     "text": [
      "[CV 3/5] END ..max_features=6, n_estimators=200;, score=0.843 total time=   0.3s\n"
     ]
    },
    {
     "name": "stderr",
     "output_type": "stream",
     "text": [
      "D:\\anaconda3\\envs\\ml_study\\lib\\site-packages\\sklearn\\model_selection\\_validation.py:680: DataConversionWarning: A column-vector y was passed when a 1d array was expected. Please change the shape of y to (n_samples,), for example using ravel().\n",
      "  estimator.fit(X_train, y_train, **fit_params)\n"
     ]
    },
    {
     "name": "stdout",
     "output_type": "stream",
     "text": [
      "[CV 4/5] END ..max_features=6, n_estimators=200;, score=0.781 total time=   0.2s\n"
     ]
    },
    {
     "name": "stderr",
     "output_type": "stream",
     "text": [
      "D:\\anaconda3\\envs\\ml_study\\lib\\site-packages\\sklearn\\model_selection\\_validation.py:680: DataConversionWarning: A column-vector y was passed when a 1d array was expected. Please change the shape of y to (n_samples,), for example using ravel().\n",
      "  estimator.fit(X_train, y_train, **fit_params)\n"
     ]
    },
    {
     "name": "stdout",
     "output_type": "stream",
     "text": [
      "[CV 5/5] END ..max_features=6, n_estimators=200;, score=0.836 total time=   0.2s\n"
     ]
    },
    {
     "name": "stderr",
     "output_type": "stream",
     "text": [
      "D:\\anaconda3\\envs\\ml_study\\lib\\site-packages\\sklearn\\model_selection\\_validation.py:680: DataConversionWarning: A column-vector y was passed when a 1d array was expected. Please change the shape of y to (n_samples,), for example using ravel().\n",
      "  estimator.fit(X_train, y_train, **fit_params)\n"
     ]
    },
    {
     "name": "stdout",
     "output_type": "stream",
     "text": [
      "[CV 1/5] END ..max_features=6, n_estimators=250;, score=0.770 total time=   0.3s\n"
     ]
    },
    {
     "name": "stderr",
     "output_type": "stream",
     "text": [
      "D:\\anaconda3\\envs\\ml_study\\lib\\site-packages\\sklearn\\model_selection\\_validation.py:680: DataConversionWarning: A column-vector y was passed when a 1d array was expected. Please change the shape of y to (n_samples,), for example using ravel().\n",
      "  estimator.fit(X_train, y_train, **fit_params)\n"
     ]
    },
    {
     "name": "stdout",
     "output_type": "stream",
     "text": [
      "[CV 2/5] END ..max_features=6, n_estimators=250;, score=0.809 total time=   0.5s\n"
     ]
    },
    {
     "name": "stderr",
     "output_type": "stream",
     "text": [
      "D:\\anaconda3\\envs\\ml_study\\lib\\site-packages\\sklearn\\model_selection\\_validation.py:680: DataConversionWarning: A column-vector y was passed when a 1d array was expected. Please change the shape of y to (n_samples,), for example using ravel().\n",
      "  estimator.fit(X_train, y_train, **fit_params)\n"
     ]
    },
    {
     "name": "stdout",
     "output_type": "stream",
     "text": [
      "[CV 3/5] END ..max_features=6, n_estimators=250;, score=0.854 total time=   0.3s\n"
     ]
    },
    {
     "name": "stderr",
     "output_type": "stream",
     "text": [
      "D:\\anaconda3\\envs\\ml_study\\lib\\site-packages\\sklearn\\model_selection\\_validation.py:680: DataConversionWarning: A column-vector y was passed when a 1d array was expected. Please change the shape of y to (n_samples,), for example using ravel().\n",
      "  estimator.fit(X_train, y_train, **fit_params)\n"
     ]
    },
    {
     "name": "stdout",
     "output_type": "stream",
     "text": [
      "[CV 4/5] END ..max_features=6, n_estimators=250;, score=0.792 total time=   0.3s\n"
     ]
    },
    {
     "name": "stderr",
     "output_type": "stream",
     "text": [
      "D:\\anaconda3\\envs\\ml_study\\lib\\site-packages\\sklearn\\model_selection\\_validation.py:680: DataConversionWarning: A column-vector y was passed when a 1d array was expected. Please change the shape of y to (n_samples,), for example using ravel().\n",
      "  estimator.fit(X_train, y_train, **fit_params)\n"
     ]
    },
    {
     "name": "stdout",
     "output_type": "stream",
     "text": [
      "[CV 5/5] END ..max_features=6, n_estimators=250;, score=0.842 total time=   0.3s\n"
     ]
    },
    {
     "name": "stderr",
     "output_type": "stream",
     "text": [
      "D:\\anaconda3\\envs\\ml_study\\lib\\site-packages\\sklearn\\model_selection\\_validation.py:680: DataConversionWarning: A column-vector y was passed when a 1d array was expected. Please change the shape of y to (n_samples,), for example using ravel().\n",
      "  estimator.fit(X_train, y_train, **fit_params)\n"
     ]
    },
    {
     "name": "stdout",
     "output_type": "stream",
     "text": [
      "[CV 1/5] END ..max_features=6, n_estimators=300;, score=0.758 total time=   0.4s\n"
     ]
    },
    {
     "name": "stderr",
     "output_type": "stream",
     "text": [
      "D:\\anaconda3\\envs\\ml_study\\lib\\site-packages\\sklearn\\model_selection\\_validation.py:680: DataConversionWarning: A column-vector y was passed when a 1d array was expected. Please change the shape of y to (n_samples,), for example using ravel().\n",
      "  estimator.fit(X_train, y_train, **fit_params)\n"
     ]
    },
    {
     "name": "stdout",
     "output_type": "stream",
     "text": [
      "[CV 2/5] END ..max_features=6, n_estimators=300;, score=0.803 total time=   0.4s\n"
     ]
    },
    {
     "name": "stderr",
     "output_type": "stream",
     "text": [
      "D:\\anaconda3\\envs\\ml_study\\lib\\site-packages\\sklearn\\model_selection\\_validation.py:680: DataConversionWarning: A column-vector y was passed when a 1d array was expected. Please change the shape of y to (n_samples,), for example using ravel().\n",
      "  estimator.fit(X_train, y_train, **fit_params)\n"
     ]
    },
    {
     "name": "stdout",
     "output_type": "stream",
     "text": [
      "[CV 3/5] END ..max_features=6, n_estimators=300;, score=0.860 total time=   0.4s\n"
     ]
    },
    {
     "name": "stderr",
     "output_type": "stream",
     "text": [
      "D:\\anaconda3\\envs\\ml_study\\lib\\site-packages\\sklearn\\model_selection\\_validation.py:680: DataConversionWarning: A column-vector y was passed when a 1d array was expected. Please change the shape of y to (n_samples,), for example using ravel().\n",
      "  estimator.fit(X_train, y_train, **fit_params)\n"
     ]
    },
    {
     "name": "stdout",
     "output_type": "stream",
     "text": [
      "[CV 4/5] END ..max_features=6, n_estimators=300;, score=0.781 total time=   0.4s\n"
     ]
    },
    {
     "name": "stderr",
     "output_type": "stream",
     "text": [
      "D:\\anaconda3\\envs\\ml_study\\lib\\site-packages\\sklearn\\model_selection\\_validation.py:680: DataConversionWarning: A column-vector y was passed when a 1d array was expected. Please change the shape of y to (n_samples,), for example using ravel().\n",
      "  estimator.fit(X_train, y_train, **fit_params)\n"
     ]
    },
    {
     "name": "stdout",
     "output_type": "stream",
     "text": [
      "[CV 5/5] END ..max_features=6, n_estimators=300;, score=0.831 total time=   0.4s\n",
      "[CV 1/5] END ....max_features=7, n_estimators=5;, score=0.713 total time=   0.0s\n",
      "[CV 2/5] END ....max_features=7, n_estimators=5;, score=0.781 total time=   0.0s\n",
      "[CV 3/5] END ....max_features=7, n_estimators=5;, score=0.848 total time=   0.0s\n",
      "[CV 4/5] END ....max_features=7, n_estimators=5;, score=0.753 total time=   0.0s\n",
      "[CV 5/5] END ....max_features=7, n_estimators=5;, score=0.859 total time=   0.0s\n",
      "[CV 1/5] END ...max_features=7, n_estimators=10;, score=0.758 total time=   0.0s\n",
      "[CV 2/5] END ...max_features=7, n_estimators=10;, score=0.798 total time=   0.0s\n",
      "[CV 3/5] END ...max_features=7, n_estimators=10;, score=0.854 total time=   0.0s\n",
      "[CV 4/5] END ...max_features=7, n_estimators=10;, score=0.775 total time=   0.0s\n",
      "[CV 5/5] END ...max_features=7, n_estimators=10;, score=0.825 total time=   0.0s\n",
      "[CV 1/5] END ...max_features=7, n_estimators=20;, score=0.770 total time=   0.0s\n"
     ]
    },
    {
     "name": "stderr",
     "output_type": "stream",
     "text": [
      "D:\\anaconda3\\envs\\ml_study\\lib\\site-packages\\sklearn\\model_selection\\_validation.py:680: DataConversionWarning: A column-vector y was passed when a 1d array was expected. Please change the shape of y to (n_samples,), for example using ravel().\n",
      "  estimator.fit(X_train, y_train, **fit_params)\n",
      "D:\\anaconda3\\envs\\ml_study\\lib\\site-packages\\sklearn\\model_selection\\_validation.py:680: DataConversionWarning: A column-vector y was passed when a 1d array was expected. Please change the shape of y to (n_samples,), for example using ravel().\n",
      "  estimator.fit(X_train, y_train, **fit_params)\n",
      "D:\\anaconda3\\envs\\ml_study\\lib\\site-packages\\sklearn\\model_selection\\_validation.py:680: DataConversionWarning: A column-vector y was passed when a 1d array was expected. Please change the shape of y to (n_samples,), for example using ravel().\n",
      "  estimator.fit(X_train, y_train, **fit_params)\n",
      "D:\\anaconda3\\envs\\ml_study\\lib\\site-packages\\sklearn\\model_selection\\_validation.py:680: DataConversionWarning: A column-vector y was passed when a 1d array was expected. Please change the shape of y to (n_samples,), for example using ravel().\n",
      "  estimator.fit(X_train, y_train, **fit_params)\n",
      "D:\\anaconda3\\envs\\ml_study\\lib\\site-packages\\sklearn\\model_selection\\_validation.py:680: DataConversionWarning: A column-vector y was passed when a 1d array was expected. Please change the shape of y to (n_samples,), for example using ravel().\n",
      "  estimator.fit(X_train, y_train, **fit_params)\n",
      "D:\\anaconda3\\envs\\ml_study\\lib\\site-packages\\sklearn\\model_selection\\_validation.py:680: DataConversionWarning: A column-vector y was passed when a 1d array was expected. Please change the shape of y to (n_samples,), for example using ravel().\n",
      "  estimator.fit(X_train, y_train, **fit_params)\n",
      "D:\\anaconda3\\envs\\ml_study\\lib\\site-packages\\sklearn\\model_selection\\_validation.py:680: DataConversionWarning: A column-vector y was passed when a 1d array was expected. Please change the shape of y to (n_samples,), for example using ravel().\n",
      "  estimator.fit(X_train, y_train, **fit_params)\n",
      "D:\\anaconda3\\envs\\ml_study\\lib\\site-packages\\sklearn\\model_selection\\_validation.py:680: DataConversionWarning: A column-vector y was passed when a 1d array was expected. Please change the shape of y to (n_samples,), for example using ravel().\n",
      "  estimator.fit(X_train, y_train, **fit_params)\n",
      "D:\\anaconda3\\envs\\ml_study\\lib\\site-packages\\sklearn\\model_selection\\_validation.py:680: DataConversionWarning: A column-vector y was passed when a 1d array was expected. Please change the shape of y to (n_samples,), for example using ravel().\n",
      "  estimator.fit(X_train, y_train, **fit_params)\n",
      "D:\\anaconda3\\envs\\ml_study\\lib\\site-packages\\sklearn\\model_selection\\_validation.py:680: DataConversionWarning: A column-vector y was passed when a 1d array was expected. Please change the shape of y to (n_samples,), for example using ravel().\n",
      "  estimator.fit(X_train, y_train, **fit_params)\n",
      "D:\\anaconda3\\envs\\ml_study\\lib\\site-packages\\sklearn\\model_selection\\_validation.py:680: DataConversionWarning: A column-vector y was passed when a 1d array was expected. Please change the shape of y to (n_samples,), for example using ravel().\n",
      "  estimator.fit(X_train, y_train, **fit_params)\n",
      "D:\\anaconda3\\envs\\ml_study\\lib\\site-packages\\sklearn\\model_selection\\_validation.py:680: DataConversionWarning: A column-vector y was passed when a 1d array was expected. Please change the shape of y to (n_samples,), for example using ravel().\n",
      "  estimator.fit(X_train, y_train, **fit_params)\n"
     ]
    },
    {
     "name": "stdout",
     "output_type": "stream",
     "text": [
      "[CV 2/5] END ...max_features=7, n_estimators=20;, score=0.798 total time=   0.0s\n",
      "[CV 3/5] END ...max_features=7, n_estimators=20;, score=0.843 total time=   0.0s\n",
      "[CV 4/5] END ...max_features=7, n_estimators=20;, score=0.770 total time=   0.0s\n",
      "[CV 5/5] END ...max_features=7, n_estimators=20;, score=0.808 total time=   0.0s\n",
      "[CV 1/5] END ...max_features=7, n_estimators=30;, score=0.758 total time=   0.0s\n",
      "[CV 2/5] END ...max_features=7, n_estimators=30;, score=0.787 total time=   0.0s\n"
     ]
    },
    {
     "name": "stderr",
     "output_type": "stream",
     "text": [
      "D:\\anaconda3\\envs\\ml_study\\lib\\site-packages\\sklearn\\model_selection\\_validation.py:680: DataConversionWarning: A column-vector y was passed when a 1d array was expected. Please change the shape of y to (n_samples,), for example using ravel().\n",
      "  estimator.fit(X_train, y_train, **fit_params)\n",
      "D:\\anaconda3\\envs\\ml_study\\lib\\site-packages\\sklearn\\model_selection\\_validation.py:680: DataConversionWarning: A column-vector y was passed when a 1d array was expected. Please change the shape of y to (n_samples,), for example using ravel().\n",
      "  estimator.fit(X_train, y_train, **fit_params)\n",
      "D:\\anaconda3\\envs\\ml_study\\lib\\site-packages\\sklearn\\model_selection\\_validation.py:680: DataConversionWarning: A column-vector y was passed when a 1d array was expected. Please change the shape of y to (n_samples,), for example using ravel().\n",
      "  estimator.fit(X_train, y_train, **fit_params)\n",
      "D:\\anaconda3\\envs\\ml_study\\lib\\site-packages\\sklearn\\model_selection\\_validation.py:680: DataConversionWarning: A column-vector y was passed when a 1d array was expected. Please change the shape of y to (n_samples,), for example using ravel().\n",
      "  estimator.fit(X_train, y_train, **fit_params)\n",
      "D:\\anaconda3\\envs\\ml_study\\lib\\site-packages\\sklearn\\model_selection\\_validation.py:680: DataConversionWarning: A column-vector y was passed when a 1d array was expected. Please change the shape of y to (n_samples,), for example using ravel().\n",
      "  estimator.fit(X_train, y_train, **fit_params)\n",
      "D:\\anaconda3\\envs\\ml_study\\lib\\site-packages\\sklearn\\model_selection\\_validation.py:680: DataConversionWarning: A column-vector y was passed when a 1d array was expected. Please change the shape of y to (n_samples,), for example using ravel().\n",
      "  estimator.fit(X_train, y_train, **fit_params)\n",
      "D:\\anaconda3\\envs\\ml_study\\lib\\site-packages\\sklearn\\model_selection\\_validation.py:680: DataConversionWarning: A column-vector y was passed when a 1d array was expected. Please change the shape of y to (n_samples,), for example using ravel().\n",
      "  estimator.fit(X_train, y_train, **fit_params)\n",
      "D:\\anaconda3\\envs\\ml_study\\lib\\site-packages\\sklearn\\model_selection\\_validation.py:680: DataConversionWarning: A column-vector y was passed when a 1d array was expected. Please change the shape of y to (n_samples,), for example using ravel().\n",
      "  estimator.fit(X_train, y_train, **fit_params)\n",
      "D:\\anaconda3\\envs\\ml_study\\lib\\site-packages\\sklearn\\model_selection\\_validation.py:680: DataConversionWarning: A column-vector y was passed when a 1d array was expected. Please change the shape of y to (n_samples,), for example using ravel().\n",
      "  estimator.fit(X_train, y_train, **fit_params)\n"
     ]
    },
    {
     "name": "stdout",
     "output_type": "stream",
     "text": [
      "[CV 3/5] END ...max_features=7, n_estimators=30;, score=0.848 total time=   0.0s\n",
      "[CV 4/5] END ...max_features=7, n_estimators=30;, score=0.792 total time=   0.0s\n",
      "[CV 5/5] END ...max_features=7, n_estimators=30;, score=0.831 total time=   0.0s\n",
      "[CV 1/5] END ...max_features=7, n_estimators=40;, score=0.764 total time=   0.0s\n"
     ]
    },
    {
     "name": "stderr",
     "output_type": "stream",
     "text": [
      "D:\\anaconda3\\envs\\ml_study\\lib\\site-packages\\sklearn\\model_selection\\_validation.py:680: DataConversionWarning: A column-vector y was passed when a 1d array was expected. Please change the shape of y to (n_samples,), for example using ravel().\n",
      "  estimator.fit(X_train, y_train, **fit_params)\n",
      "D:\\anaconda3\\envs\\ml_study\\lib\\site-packages\\sklearn\\model_selection\\_validation.py:680: DataConversionWarning: A column-vector y was passed when a 1d array was expected. Please change the shape of y to (n_samples,), for example using ravel().\n",
      "  estimator.fit(X_train, y_train, **fit_params)\n",
      "D:\\anaconda3\\envs\\ml_study\\lib\\site-packages\\sklearn\\model_selection\\_validation.py:680: DataConversionWarning: A column-vector y was passed when a 1d array was expected. Please change the shape of y to (n_samples,), for example using ravel().\n",
      "  estimator.fit(X_train, y_train, **fit_params)\n"
     ]
    },
    {
     "name": "stdout",
     "output_type": "stream",
     "text": [
      "[CV 2/5] END ...max_features=7, n_estimators=40;, score=0.798 total time=   0.0s\n",
      "[CV 3/5] END ...max_features=7, n_estimators=40;, score=0.843 total time=   0.0s\n",
      "[CV 4/5] END ...max_features=7, n_estimators=40;, score=0.770 total time=   0.0s\n"
     ]
    },
    {
     "name": "stderr",
     "output_type": "stream",
     "text": [
      "D:\\anaconda3\\envs\\ml_study\\lib\\site-packages\\sklearn\\model_selection\\_validation.py:680: DataConversionWarning: A column-vector y was passed when a 1d array was expected. Please change the shape of y to (n_samples,), for example using ravel().\n",
      "  estimator.fit(X_train, y_train, **fit_params)\n",
      "D:\\anaconda3\\envs\\ml_study\\lib\\site-packages\\sklearn\\model_selection\\_validation.py:680: DataConversionWarning: A column-vector y was passed when a 1d array was expected. Please change the shape of y to (n_samples,), for example using ravel().\n",
      "  estimator.fit(X_train, y_train, **fit_params)\n",
      "D:\\anaconda3\\envs\\ml_study\\lib\\site-packages\\sklearn\\model_selection\\_validation.py:680: DataConversionWarning: A column-vector y was passed when a 1d array was expected. Please change the shape of y to (n_samples,), for example using ravel().\n",
      "  estimator.fit(X_train, y_train, **fit_params)\n"
     ]
    },
    {
     "name": "stdout",
     "output_type": "stream",
     "text": [
      "[CV 5/5] END ...max_features=7, n_estimators=40;, score=0.814 total time=   0.0s\n",
      "[CV 1/5] END ...max_features=7, n_estimators=50;, score=0.787 total time=   0.0s\n",
      "[CV 2/5] END ...max_features=7, n_estimators=50;, score=0.787 total time=   0.0s\n"
     ]
    },
    {
     "name": "stderr",
     "output_type": "stream",
     "text": [
      "D:\\anaconda3\\envs\\ml_study\\lib\\site-packages\\sklearn\\model_selection\\_validation.py:680: DataConversionWarning: A column-vector y was passed when a 1d array was expected. Please change the shape of y to (n_samples,), for example using ravel().\n",
      "  estimator.fit(X_train, y_train, **fit_params)\n",
      "D:\\anaconda3\\envs\\ml_study\\lib\\site-packages\\sklearn\\model_selection\\_validation.py:680: DataConversionWarning: A column-vector y was passed when a 1d array was expected. Please change the shape of y to (n_samples,), for example using ravel().\n",
      "  estimator.fit(X_train, y_train, **fit_params)\n",
      "D:\\anaconda3\\envs\\ml_study\\lib\\site-packages\\sklearn\\model_selection\\_validation.py:680: DataConversionWarning: A column-vector y was passed when a 1d array was expected. Please change the shape of y to (n_samples,), for example using ravel().\n",
      "  estimator.fit(X_train, y_train, **fit_params)\n"
     ]
    },
    {
     "name": "stdout",
     "output_type": "stream",
     "text": [
      "[CV 3/5] END ...max_features=7, n_estimators=50;, score=0.837 total time=   0.0s\n",
      "[CV 4/5] END ...max_features=7, n_estimators=50;, score=0.792 total time=   0.0s\n",
      "[CV 5/5] END ...max_features=7, n_estimators=50;, score=0.825 total time=   0.0s\n"
     ]
    },
    {
     "name": "stderr",
     "output_type": "stream",
     "text": [
      "D:\\anaconda3\\envs\\ml_study\\lib\\site-packages\\sklearn\\model_selection\\_validation.py:680: DataConversionWarning: A column-vector y was passed when a 1d array was expected. Please change the shape of y to (n_samples,), for example using ravel().\n",
      "  estimator.fit(X_train, y_train, **fit_params)\n",
      "D:\\anaconda3\\envs\\ml_study\\lib\\site-packages\\sklearn\\model_selection\\_validation.py:680: DataConversionWarning: A column-vector y was passed when a 1d array was expected. Please change the shape of y to (n_samples,), for example using ravel().\n",
      "  estimator.fit(X_train, y_train, **fit_params)\n"
     ]
    },
    {
     "name": "stdout",
     "output_type": "stream",
     "text": [
      "[CV 1/5] END ..max_features=7, n_estimators=100;, score=0.753 total time=   0.1s\n",
      "[CV 2/5] END ..max_features=7, n_estimators=100;, score=0.792 total time=   0.1s\n"
     ]
    },
    {
     "name": "stderr",
     "output_type": "stream",
     "text": [
      "D:\\anaconda3\\envs\\ml_study\\lib\\site-packages\\sklearn\\model_selection\\_validation.py:680: DataConversionWarning: A column-vector y was passed when a 1d array was expected. Please change the shape of y to (n_samples,), for example using ravel().\n",
      "  estimator.fit(X_train, y_train, **fit_params)\n",
      "D:\\anaconda3\\envs\\ml_study\\lib\\site-packages\\sklearn\\model_selection\\_validation.py:680: DataConversionWarning: A column-vector y was passed when a 1d array was expected. Please change the shape of y to (n_samples,), for example using ravel().\n",
      "  estimator.fit(X_train, y_train, **fit_params)\n"
     ]
    },
    {
     "name": "stdout",
     "output_type": "stream",
     "text": [
      "[CV 3/5] END ..max_features=7, n_estimators=100;, score=0.854 total time=   0.1s\n",
      "[CV 4/5] END ..max_features=7, n_estimators=100;, score=0.781 total time=   0.1s\n"
     ]
    },
    {
     "name": "stderr",
     "output_type": "stream",
     "text": [
      "D:\\anaconda3\\envs\\ml_study\\lib\\site-packages\\sklearn\\model_selection\\_validation.py:680: DataConversionWarning: A column-vector y was passed when a 1d array was expected. Please change the shape of y to (n_samples,), for example using ravel().\n",
      "  estimator.fit(X_train, y_train, **fit_params)\n",
      "D:\\anaconda3\\envs\\ml_study\\lib\\site-packages\\sklearn\\model_selection\\_validation.py:680: DataConversionWarning: A column-vector y was passed when a 1d array was expected. Please change the shape of y to (n_samples,), for example using ravel().\n",
      "  estimator.fit(X_train, y_train, **fit_params)\n"
     ]
    },
    {
     "name": "stdout",
     "output_type": "stream",
     "text": [
      "[CV 5/5] END ..max_features=7, n_estimators=100;, score=0.819 total time=   0.1s\n",
      "[CV 1/5] END ..max_features=7, n_estimators=150;, score=0.770 total time=   0.2s\n"
     ]
    },
    {
     "name": "stderr",
     "output_type": "stream",
     "text": [
      "D:\\anaconda3\\envs\\ml_study\\lib\\site-packages\\sklearn\\model_selection\\_validation.py:680: DataConversionWarning: A column-vector y was passed when a 1d array was expected. Please change the shape of y to (n_samples,), for example using ravel().\n",
      "  estimator.fit(X_train, y_train, **fit_params)\n"
     ]
    },
    {
     "name": "stdout",
     "output_type": "stream",
     "text": [
      "[CV 2/5] END ..max_features=7, n_estimators=150;, score=0.792 total time=   0.1s\n"
     ]
    },
    {
     "name": "stderr",
     "output_type": "stream",
     "text": [
      "D:\\anaconda3\\envs\\ml_study\\lib\\site-packages\\sklearn\\model_selection\\_validation.py:680: DataConversionWarning: A column-vector y was passed when a 1d array was expected. Please change the shape of y to (n_samples,), for example using ravel().\n",
      "  estimator.fit(X_train, y_train, **fit_params)\n"
     ]
    },
    {
     "name": "stdout",
     "output_type": "stream",
     "text": [
      "[CV 3/5] END ..max_features=7, n_estimators=150;, score=0.854 total time=   0.1s\n"
     ]
    },
    {
     "name": "stderr",
     "output_type": "stream",
     "text": [
      "D:\\anaconda3\\envs\\ml_study\\lib\\site-packages\\sklearn\\model_selection\\_validation.py:680: DataConversionWarning: A column-vector y was passed when a 1d array was expected. Please change the shape of y to (n_samples,), for example using ravel().\n",
      "  estimator.fit(X_train, y_train, **fit_params)\n"
     ]
    },
    {
     "name": "stdout",
     "output_type": "stream",
     "text": [
      "[CV 4/5] END ..max_features=7, n_estimators=150;, score=0.775 total time=   0.1s\n"
     ]
    },
    {
     "name": "stderr",
     "output_type": "stream",
     "text": [
      "D:\\anaconda3\\envs\\ml_study\\lib\\site-packages\\sklearn\\model_selection\\_validation.py:680: DataConversionWarning: A column-vector y was passed when a 1d array was expected. Please change the shape of y to (n_samples,), for example using ravel().\n",
      "  estimator.fit(X_train, y_train, **fit_params)\n"
     ]
    },
    {
     "name": "stdout",
     "output_type": "stream",
     "text": [
      "[CV 5/5] END ..max_features=7, n_estimators=150;, score=0.825 total time=   0.2s\n"
     ]
    },
    {
     "name": "stderr",
     "output_type": "stream",
     "text": [
      "D:\\anaconda3\\envs\\ml_study\\lib\\site-packages\\sklearn\\model_selection\\_validation.py:680: DataConversionWarning: A column-vector y was passed when a 1d array was expected. Please change the shape of y to (n_samples,), for example using ravel().\n",
      "  estimator.fit(X_train, y_train, **fit_params)\n"
     ]
    },
    {
     "name": "stdout",
     "output_type": "stream",
     "text": [
      "[CV 1/5] END ..max_features=7, n_estimators=200;, score=0.764 total time=   0.2s\n"
     ]
    },
    {
     "name": "stderr",
     "output_type": "stream",
     "text": [
      "D:\\anaconda3\\envs\\ml_study\\lib\\site-packages\\sklearn\\model_selection\\_validation.py:680: DataConversionWarning: A column-vector y was passed when a 1d array was expected. Please change the shape of y to (n_samples,), for example using ravel().\n",
      "  estimator.fit(X_train, y_train, **fit_params)\n"
     ]
    },
    {
     "name": "stdout",
     "output_type": "stream",
     "text": [
      "[CV 2/5] END ..max_features=7, n_estimators=200;, score=0.809 total time=   0.2s\n"
     ]
    },
    {
     "name": "stderr",
     "output_type": "stream",
     "text": [
      "D:\\anaconda3\\envs\\ml_study\\lib\\site-packages\\sklearn\\model_selection\\_validation.py:680: DataConversionWarning: A column-vector y was passed when a 1d array was expected. Please change the shape of y to (n_samples,), for example using ravel().\n",
      "  estimator.fit(X_train, y_train, **fit_params)\n"
     ]
    },
    {
     "name": "stdout",
     "output_type": "stream",
     "text": [
      "[CV 3/5] END ..max_features=7, n_estimators=200;, score=0.865 total time=   0.2s\n"
     ]
    },
    {
     "name": "stderr",
     "output_type": "stream",
     "text": [
      "D:\\anaconda3\\envs\\ml_study\\lib\\site-packages\\sklearn\\model_selection\\_validation.py:680: DataConversionWarning: A column-vector y was passed when a 1d array was expected. Please change the shape of y to (n_samples,), for example using ravel().\n",
      "  estimator.fit(X_train, y_train, **fit_params)\n"
     ]
    },
    {
     "name": "stdout",
     "output_type": "stream",
     "text": [
      "[CV 4/5] END ..max_features=7, n_estimators=200;, score=0.781 total time=   0.2s\n"
     ]
    },
    {
     "name": "stderr",
     "output_type": "stream",
     "text": [
      "D:\\anaconda3\\envs\\ml_study\\lib\\site-packages\\sklearn\\model_selection\\_validation.py:680: DataConversionWarning: A column-vector y was passed when a 1d array was expected. Please change the shape of y to (n_samples,), for example using ravel().\n",
      "  estimator.fit(X_train, y_train, **fit_params)\n"
     ]
    },
    {
     "name": "stdout",
     "output_type": "stream",
     "text": [
      "[CV 5/5] END ..max_features=7, n_estimators=200;, score=0.831 total time=   0.2s\n"
     ]
    },
    {
     "name": "stderr",
     "output_type": "stream",
     "text": [
      "D:\\anaconda3\\envs\\ml_study\\lib\\site-packages\\sklearn\\model_selection\\_validation.py:680: DataConversionWarning: A column-vector y was passed when a 1d array was expected. Please change the shape of y to (n_samples,), for example using ravel().\n",
      "  estimator.fit(X_train, y_train, **fit_params)\n"
     ]
    },
    {
     "name": "stdout",
     "output_type": "stream",
     "text": [
      "[CV 1/5] END ..max_features=7, n_estimators=250;, score=0.775 total time=   0.3s\n"
     ]
    },
    {
     "name": "stderr",
     "output_type": "stream",
     "text": [
      "D:\\anaconda3\\envs\\ml_study\\lib\\site-packages\\sklearn\\model_selection\\_validation.py:680: DataConversionWarning: A column-vector y was passed when a 1d array was expected. Please change the shape of y to (n_samples,), for example using ravel().\n",
      "  estimator.fit(X_train, y_train, **fit_params)\n"
     ]
    },
    {
     "name": "stdout",
     "output_type": "stream",
     "text": [
      "[CV 2/5] END ..max_features=7, n_estimators=250;, score=0.809 total time=   0.3s\n"
     ]
    },
    {
     "name": "stderr",
     "output_type": "stream",
     "text": [
      "D:\\anaconda3\\envs\\ml_study\\lib\\site-packages\\sklearn\\model_selection\\_validation.py:680: DataConversionWarning: A column-vector y was passed when a 1d array was expected. Please change the shape of y to (n_samples,), for example using ravel().\n",
      "  estimator.fit(X_train, y_train, **fit_params)\n"
     ]
    },
    {
     "name": "stdout",
     "output_type": "stream",
     "text": [
      "[CV 3/5] END ..max_features=7, n_estimators=250;, score=0.848 total time=   0.3s\n"
     ]
    },
    {
     "name": "stderr",
     "output_type": "stream",
     "text": [
      "D:\\anaconda3\\envs\\ml_study\\lib\\site-packages\\sklearn\\model_selection\\_validation.py:680: DataConversionWarning: A column-vector y was passed when a 1d array was expected. Please change the shape of y to (n_samples,), for example using ravel().\n",
      "  estimator.fit(X_train, y_train, **fit_params)\n"
     ]
    },
    {
     "name": "stdout",
     "output_type": "stream",
     "text": [
      "[CV 4/5] END ..max_features=7, n_estimators=250;, score=0.781 total time=   0.3s\n"
     ]
    },
    {
     "name": "stderr",
     "output_type": "stream",
     "text": [
      "D:\\anaconda3\\envs\\ml_study\\lib\\site-packages\\sklearn\\model_selection\\_validation.py:680: DataConversionWarning: A column-vector y was passed when a 1d array was expected. Please change the shape of y to (n_samples,), for example using ravel().\n",
      "  estimator.fit(X_train, y_train, **fit_params)\n"
     ]
    },
    {
     "name": "stdout",
     "output_type": "stream",
     "text": [
      "[CV 5/5] END ..max_features=7, n_estimators=250;, score=0.831 total time=   0.3s\n"
     ]
    },
    {
     "name": "stderr",
     "output_type": "stream",
     "text": [
      "D:\\anaconda3\\envs\\ml_study\\lib\\site-packages\\sklearn\\model_selection\\_validation.py:680: DataConversionWarning: A column-vector y was passed when a 1d array was expected. Please change the shape of y to (n_samples,), for example using ravel().\n",
      "  estimator.fit(X_train, y_train, **fit_params)\n"
     ]
    },
    {
     "name": "stdout",
     "output_type": "stream",
     "text": [
      "[CV 1/5] END ..max_features=7, n_estimators=300;, score=0.764 total time=   0.4s\n"
     ]
    },
    {
     "name": "stderr",
     "output_type": "stream",
     "text": [
      "D:\\anaconda3\\envs\\ml_study\\lib\\site-packages\\sklearn\\model_selection\\_validation.py:680: DataConversionWarning: A column-vector y was passed when a 1d array was expected. Please change the shape of y to (n_samples,), for example using ravel().\n",
      "  estimator.fit(X_train, y_train, **fit_params)\n"
     ]
    },
    {
     "name": "stdout",
     "output_type": "stream",
     "text": [
      "[CV 2/5] END ..max_features=7, n_estimators=300;, score=0.809 total time=   0.4s\n"
     ]
    },
    {
     "name": "stderr",
     "output_type": "stream",
     "text": [
      "D:\\anaconda3\\envs\\ml_study\\lib\\site-packages\\sklearn\\model_selection\\_validation.py:680: DataConversionWarning: A column-vector y was passed when a 1d array was expected. Please change the shape of y to (n_samples,), for example using ravel().\n",
      "  estimator.fit(X_train, y_train, **fit_params)\n"
     ]
    },
    {
     "name": "stdout",
     "output_type": "stream",
     "text": [
      "[CV 3/5] END ..max_features=7, n_estimators=300;, score=0.843 total time=   0.4s\n"
     ]
    },
    {
     "name": "stderr",
     "output_type": "stream",
     "text": [
      "D:\\anaconda3\\envs\\ml_study\\lib\\site-packages\\sklearn\\model_selection\\_validation.py:680: DataConversionWarning: A column-vector y was passed when a 1d array was expected. Please change the shape of y to (n_samples,), for example using ravel().\n",
      "  estimator.fit(X_train, y_train, **fit_params)\n"
     ]
    },
    {
     "name": "stdout",
     "output_type": "stream",
     "text": [
      "[CV 4/5] END ..max_features=7, n_estimators=300;, score=0.781 total time=   0.4s\n"
     ]
    },
    {
     "name": "stderr",
     "output_type": "stream",
     "text": [
      "D:\\anaconda3\\envs\\ml_study\\lib\\site-packages\\sklearn\\model_selection\\_validation.py:680: DataConversionWarning: A column-vector y was passed when a 1d array was expected. Please change the shape of y to (n_samples,), for example using ravel().\n",
      "  estimator.fit(X_train, y_train, **fit_params)\n"
     ]
    },
    {
     "name": "stdout",
     "output_type": "stream",
     "text": [
      "[CV 5/5] END ..max_features=7, n_estimators=300;, score=0.825 total time=   0.4s\n",
      "[CV 1/5] END ......max_features=8, n_estimators=5;, score=nan total time=   0.0s\n",
      "[CV 2/5] END ......max_features=8, n_estimators=5;, score=nan total time=   0.0s\n",
      "[CV 3/5] END ......max_features=8, n_estimators=5;, score=nan total time=   0.0s\n",
      "[CV 4/5] END ......max_features=8, n_estimators=5;, score=nan total time=   0.0s\n",
      "[CV 5/5] END ......max_features=8, n_estimators=5;, score=nan total time=   0.0s\n",
      "[CV 1/5] END .....max_features=8, n_estimators=10;, score=nan total time=   0.0s\n",
      "[CV 2/5] END .....max_features=8, n_estimators=10;, score=nan total time=   0.0s\n",
      "[CV 3/5] END .....max_features=8, n_estimators=10;, score=nan total time=   0.0s\n",
      "[CV 4/5] END .....max_features=8, n_estimators=10;, score=nan total time=   0.0s\n",
      "[CV 5/5] END .....max_features=8, n_estimators=10;, score=nan total time=   0.0s\n",
      "[CV 1/5] END .....max_features=8, n_estimators=20;, score=nan total time=   0.0s\n",
      "[CV 2/5] END .....max_features=8, n_estimators=20;, score=nan total time=   0.0s\n",
      "[CV 3/5] END .....max_features=8, n_estimators=20;, score=nan total time=   0.0s\n",
      "[CV 4/5] END .....max_features=8, n_estimators=20;, score=nan total time=   0.0s\n",
      "[CV 5/5] END .....max_features=8, n_estimators=20;, score=nan total time=   0.0s\n",
      "[CV 1/5] END .....max_features=8, n_estimators=30;, score=nan total time=   0.0s\n",
      "[CV 2/5] END .....max_features=8, n_estimators=30;, score=nan total time=   0.0s\n",
      "[CV 3/5] END .....max_features=8, n_estimators=30;, score=nan total time=   0.0s\n",
      "[CV 4/5] END .....max_features=8, n_estimators=30;, score=nan total time=   0.0s\n",
      "[CV 5/5] END .....max_features=8, n_estimators=30;, score=nan total time=   0.0s\n",
      "[CV 1/5] END .....max_features=8, n_estimators=40;, score=nan total time=   0.0s\n"
     ]
    },
    {
     "name": "stderr",
     "output_type": "stream",
     "text": [
      "D:\\anaconda3\\envs\\ml_study\\lib\\site-packages\\sklearn\\model_selection\\_validation.py:680: DataConversionWarning: A column-vector y was passed when a 1d array was expected. Please change the shape of y to (n_samples,), for example using ravel().\n",
      "  estimator.fit(X_train, y_train, **fit_params)\n",
      "D:\\anaconda3\\envs\\ml_study\\lib\\site-packages\\sklearn\\model_selection\\_validation.py:680: DataConversionWarning: A column-vector y was passed when a 1d array was expected. Please change the shape of y to (n_samples,), for example using ravel().\n",
      "  estimator.fit(X_train, y_train, **fit_params)\n",
      "D:\\anaconda3\\envs\\ml_study\\lib\\site-packages\\sklearn\\model_selection\\_validation.py:680: DataConversionWarning: A column-vector y was passed when a 1d array was expected. Please change the shape of y to (n_samples,), for example using ravel().\n",
      "  estimator.fit(X_train, y_train, **fit_params)\n",
      "D:\\anaconda3\\envs\\ml_study\\lib\\site-packages\\sklearn\\model_selection\\_validation.py:680: DataConversionWarning: A column-vector y was passed when a 1d array was expected. Please change the shape of y to (n_samples,), for example using ravel().\n",
      "  estimator.fit(X_train, y_train, **fit_params)\n",
      "D:\\anaconda3\\envs\\ml_study\\lib\\site-packages\\sklearn\\model_selection\\_validation.py:680: DataConversionWarning: A column-vector y was passed when a 1d array was expected. Please change the shape of y to (n_samples,), for example using ravel().\n",
      "  estimator.fit(X_train, y_train, **fit_params)\n",
      "D:\\anaconda3\\envs\\ml_study\\lib\\site-packages\\sklearn\\model_selection\\_validation.py:680: DataConversionWarning: A column-vector y was passed when a 1d array was expected. Please change the shape of y to (n_samples,), for example using ravel().\n",
      "  estimator.fit(X_train, y_train, **fit_params)\n",
      "D:\\anaconda3\\envs\\ml_study\\lib\\site-packages\\sklearn\\model_selection\\_validation.py:680: DataConversionWarning: A column-vector y was passed when a 1d array was expected. Please change the shape of y to (n_samples,), for example using ravel().\n",
      "  estimator.fit(X_train, y_train, **fit_params)\n",
      "D:\\anaconda3\\envs\\ml_study\\lib\\site-packages\\sklearn\\model_selection\\_validation.py:680: DataConversionWarning: A column-vector y was passed when a 1d array was expected. Please change the shape of y to (n_samples,), for example using ravel().\n",
      "  estimator.fit(X_train, y_train, **fit_params)\n",
      "D:\\anaconda3\\envs\\ml_study\\lib\\site-packages\\sklearn\\model_selection\\_validation.py:680: DataConversionWarning: A column-vector y was passed when a 1d array was expected. Please change the shape of y to (n_samples,), for example using ravel().\n",
      "  estimator.fit(X_train, y_train, **fit_params)\n",
      "D:\\anaconda3\\envs\\ml_study\\lib\\site-packages\\sklearn\\model_selection\\_validation.py:680: DataConversionWarning: A column-vector y was passed when a 1d array was expected. Please change the shape of y to (n_samples,), for example using ravel().\n",
      "  estimator.fit(X_train, y_train, **fit_params)\n",
      "D:\\anaconda3\\envs\\ml_study\\lib\\site-packages\\sklearn\\model_selection\\_validation.py:680: DataConversionWarning: A column-vector y was passed when a 1d array was expected. Please change the shape of y to (n_samples,), for example using ravel().\n",
      "  estimator.fit(X_train, y_train, **fit_params)\n",
      "D:\\anaconda3\\envs\\ml_study\\lib\\site-packages\\sklearn\\model_selection\\_validation.py:680: DataConversionWarning: A column-vector y was passed when a 1d array was expected. Please change the shape of y to (n_samples,), for example using ravel().\n",
      "  estimator.fit(X_train, y_train, **fit_params)\n",
      "D:\\anaconda3\\envs\\ml_study\\lib\\site-packages\\sklearn\\model_selection\\_validation.py:680: DataConversionWarning: A column-vector y was passed when a 1d array was expected. Please change the shape of y to (n_samples,), for example using ravel().\n",
      "  estimator.fit(X_train, y_train, **fit_params)\n",
      "D:\\anaconda3\\envs\\ml_study\\lib\\site-packages\\sklearn\\model_selection\\_validation.py:680: DataConversionWarning: A column-vector y was passed when a 1d array was expected. Please change the shape of y to (n_samples,), for example using ravel().\n",
      "  estimator.fit(X_train, y_train, **fit_params)\n",
      "D:\\anaconda3\\envs\\ml_study\\lib\\site-packages\\sklearn\\model_selection\\_validation.py:680: DataConversionWarning: A column-vector y was passed when a 1d array was expected. Please change the shape of y to (n_samples,), for example using ravel().\n",
      "  estimator.fit(X_train, y_train, **fit_params)\n",
      "D:\\anaconda3\\envs\\ml_study\\lib\\site-packages\\sklearn\\model_selection\\_validation.py:680: DataConversionWarning: A column-vector y was passed when a 1d array was expected. Please change the shape of y to (n_samples,), for example using ravel().\n",
      "  estimator.fit(X_train, y_train, **fit_params)\n",
      "D:\\anaconda3\\envs\\ml_study\\lib\\site-packages\\sklearn\\model_selection\\_validation.py:680: DataConversionWarning: A column-vector y was passed when a 1d array was expected. Please change the shape of y to (n_samples,), for example using ravel().\n",
      "  estimator.fit(X_train, y_train, **fit_params)\n",
      "D:\\anaconda3\\envs\\ml_study\\lib\\site-packages\\sklearn\\model_selection\\_validation.py:680: DataConversionWarning: A column-vector y was passed when a 1d array was expected. Please change the shape of y to (n_samples,), for example using ravel().\n",
      "  estimator.fit(X_train, y_train, **fit_params)\n",
      "D:\\anaconda3\\envs\\ml_study\\lib\\site-packages\\sklearn\\model_selection\\_validation.py:680: DataConversionWarning: A column-vector y was passed when a 1d array was expected. Please change the shape of y to (n_samples,), for example using ravel().\n",
      "  estimator.fit(X_train, y_train, **fit_params)\n",
      "D:\\anaconda3\\envs\\ml_study\\lib\\site-packages\\sklearn\\model_selection\\_validation.py:680: DataConversionWarning: A column-vector y was passed when a 1d array was expected. Please change the shape of y to (n_samples,), for example using ravel().\n",
      "  estimator.fit(X_train, y_train, **fit_params)\n",
      "D:\\anaconda3\\envs\\ml_study\\lib\\site-packages\\sklearn\\model_selection\\_validation.py:680: DataConversionWarning: A column-vector y was passed when a 1d array was expected. Please change the shape of y to (n_samples,), for example using ravel().\n",
      "  estimator.fit(X_train, y_train, **fit_params)\n",
      "D:\\anaconda3\\envs\\ml_study\\lib\\site-packages\\sklearn\\model_selection\\_validation.py:680: DataConversionWarning: A column-vector y was passed when a 1d array was expected. Please change the shape of y to (n_samples,), for example using ravel().\n",
      "  estimator.fit(X_train, y_train, **fit_params)\n"
     ]
    },
    {
     "name": "stdout",
     "output_type": "stream",
     "text": [
      "[CV 2/5] END .....max_features=8, n_estimators=40;, score=nan total time=   0.0s\n",
      "[CV 3/5] END .....max_features=8, n_estimators=40;, score=nan total time=   0.0s\n",
      "[CV 4/5] END .....max_features=8, n_estimators=40;, score=nan total time=   0.0s\n",
      "[CV 5/5] END .....max_features=8, n_estimators=40;, score=nan total time=   0.0s\n",
      "[CV 1/5] END .....max_features=8, n_estimators=50;, score=nan total time=   0.0s\n",
      "[CV 2/5] END .....max_features=8, n_estimators=50;, score=nan total time=   0.0s\n",
      "[CV 3/5] END .....max_features=8, n_estimators=50;, score=nan total time=   0.0s\n",
      "[CV 4/5] END .....max_features=8, n_estimators=50;, score=nan total time=   0.0s\n",
      "[CV 5/5] END .....max_features=8, n_estimators=50;, score=nan total time=   0.0s\n",
      "[CV 1/5] END ....max_features=8, n_estimators=100;, score=nan total time=   0.0s\n"
     ]
    },
    {
     "name": "stderr",
     "output_type": "stream",
     "text": [
      "D:\\anaconda3\\envs\\ml_study\\lib\\site-packages\\sklearn\\model_selection\\_validation.py:680: DataConversionWarning: A column-vector y was passed when a 1d array was expected. Please change the shape of y to (n_samples,), for example using ravel().\n",
      "  estimator.fit(X_train, y_train, **fit_params)\n",
      "D:\\anaconda3\\envs\\ml_study\\lib\\site-packages\\sklearn\\model_selection\\_validation.py:680: DataConversionWarning: A column-vector y was passed when a 1d array was expected. Please change the shape of y to (n_samples,), for example using ravel().\n",
      "  estimator.fit(X_train, y_train, **fit_params)\n",
      "D:\\anaconda3\\envs\\ml_study\\lib\\site-packages\\sklearn\\model_selection\\_validation.py:680: DataConversionWarning: A column-vector y was passed when a 1d array was expected. Please change the shape of y to (n_samples,), for example using ravel().\n",
      "  estimator.fit(X_train, y_train, **fit_params)\n",
      "D:\\anaconda3\\envs\\ml_study\\lib\\site-packages\\sklearn\\model_selection\\_validation.py:680: DataConversionWarning: A column-vector y was passed when a 1d array was expected. Please change the shape of y to (n_samples,), for example using ravel().\n",
      "  estimator.fit(X_train, y_train, **fit_params)\n",
      "D:\\anaconda3\\envs\\ml_study\\lib\\site-packages\\sklearn\\model_selection\\_validation.py:680: DataConversionWarning: A column-vector y was passed when a 1d array was expected. Please change the shape of y to (n_samples,), for example using ravel().\n",
      "  estimator.fit(X_train, y_train, **fit_params)\n",
      "D:\\anaconda3\\envs\\ml_study\\lib\\site-packages\\sklearn\\model_selection\\_validation.py:680: DataConversionWarning: A column-vector y was passed when a 1d array was expected. Please change the shape of y to (n_samples,), for example using ravel().\n",
      "  estimator.fit(X_train, y_train, **fit_params)\n",
      "D:\\anaconda3\\envs\\ml_study\\lib\\site-packages\\sklearn\\model_selection\\_validation.py:680: DataConversionWarning: A column-vector y was passed when a 1d array was expected. Please change the shape of y to (n_samples,), for example using ravel().\n",
      "  estimator.fit(X_train, y_train, **fit_params)\n",
      "D:\\anaconda3\\envs\\ml_study\\lib\\site-packages\\sklearn\\model_selection\\_validation.py:680: DataConversionWarning: A column-vector y was passed when a 1d array was expected. Please change the shape of y to (n_samples,), for example using ravel().\n",
      "  estimator.fit(X_train, y_train, **fit_params)\n",
      "D:\\anaconda3\\envs\\ml_study\\lib\\site-packages\\sklearn\\model_selection\\_validation.py:680: DataConversionWarning: A column-vector y was passed when a 1d array was expected. Please change the shape of y to (n_samples,), for example using ravel().\n",
      "  estimator.fit(X_train, y_train, **fit_params)\n",
      "D:\\anaconda3\\envs\\ml_study\\lib\\site-packages\\sklearn\\model_selection\\_validation.py:680: DataConversionWarning: A column-vector y was passed when a 1d array was expected. Please change the shape of y to (n_samples,), for example using ravel().\n",
      "  estimator.fit(X_train, y_train, **fit_params)\n"
     ]
    },
    {
     "name": "stdout",
     "output_type": "stream",
     "text": [
      "[CV 2/5] END ....max_features=8, n_estimators=100;, score=nan total time=   0.0s\n",
      "[CV 3/5] END ....max_features=8, n_estimators=100;, score=nan total time=   0.0s\n",
      "[CV 4/5] END ....max_features=8, n_estimators=100;, score=nan total time=   0.0s\n",
      "[CV 5/5] END ....max_features=8, n_estimators=100;, score=nan total time=   0.0s\n",
      "[CV 1/5] END ....max_features=8, n_estimators=150;, score=nan total time=   0.0s\n",
      "[CV 2/5] END ....max_features=8, n_estimators=150;, score=nan total time=   0.0s\n"
     ]
    },
    {
     "name": "stderr",
     "output_type": "stream",
     "text": [
      "D:\\anaconda3\\envs\\ml_study\\lib\\site-packages\\sklearn\\model_selection\\_validation.py:680: DataConversionWarning: A column-vector y was passed when a 1d array was expected. Please change the shape of y to (n_samples,), for example using ravel().\n",
      "  estimator.fit(X_train, y_train, **fit_params)\n",
      "D:\\anaconda3\\envs\\ml_study\\lib\\site-packages\\sklearn\\model_selection\\_validation.py:680: DataConversionWarning: A column-vector y was passed when a 1d array was expected. Please change the shape of y to (n_samples,), for example using ravel().\n",
      "  estimator.fit(X_train, y_train, **fit_params)\n",
      "D:\\anaconda3\\envs\\ml_study\\lib\\site-packages\\sklearn\\model_selection\\_validation.py:680: DataConversionWarning: A column-vector y was passed when a 1d array was expected. Please change the shape of y to (n_samples,), for example using ravel().\n",
      "  estimator.fit(X_train, y_train, **fit_params)\n",
      "D:\\anaconda3\\envs\\ml_study\\lib\\site-packages\\sklearn\\model_selection\\_validation.py:680: DataConversionWarning: A column-vector y was passed when a 1d array was expected. Please change the shape of y to (n_samples,), for example using ravel().\n",
      "  estimator.fit(X_train, y_train, **fit_params)\n",
      "D:\\anaconda3\\envs\\ml_study\\lib\\site-packages\\sklearn\\model_selection\\_validation.py:680: DataConversionWarning: A column-vector y was passed when a 1d array was expected. Please change the shape of y to (n_samples,), for example using ravel().\n",
      "  estimator.fit(X_train, y_train, **fit_params)\n"
     ]
    },
    {
     "name": "stdout",
     "output_type": "stream",
     "text": [
      "[CV 3/5] END ....max_features=8, n_estimators=150;, score=nan total time=   0.0s\n",
      "[CV 4/5] END ....max_features=8, n_estimators=150;, score=nan total time=   0.0s\n",
      "[CV 5/5] END ....max_features=8, n_estimators=150;, score=nan total time=   0.0s\n"
     ]
    },
    {
     "name": "stderr",
     "output_type": "stream",
     "text": [
      "D:\\anaconda3\\envs\\ml_study\\lib\\site-packages\\sklearn\\model_selection\\_validation.py:680: DataConversionWarning: A column-vector y was passed when a 1d array was expected. Please change the shape of y to (n_samples,), for example using ravel().\n",
      "  estimator.fit(X_train, y_train, **fit_params)\n",
      "D:\\anaconda3\\envs\\ml_study\\lib\\site-packages\\sklearn\\model_selection\\_validation.py:680: DataConversionWarning: A column-vector y was passed when a 1d array was expected. Please change the shape of y to (n_samples,), for example using ravel().\n",
      "  estimator.fit(X_train, y_train, **fit_params)\n",
      "D:\\anaconda3\\envs\\ml_study\\lib\\site-packages\\sklearn\\model_selection\\_validation.py:680: DataConversionWarning: A column-vector y was passed when a 1d array was expected. Please change the shape of y to (n_samples,), for example using ravel().\n",
      "  estimator.fit(X_train, y_train, **fit_params)\n",
      "D:\\anaconda3\\envs\\ml_study\\lib\\site-packages\\sklearn\\model_selection\\_validation.py:680: DataConversionWarning: A column-vector y was passed when a 1d array was expected. Please change the shape of y to (n_samples,), for example using ravel().\n",
      "  estimator.fit(X_train, y_train, **fit_params)\n"
     ]
    },
    {
     "name": "stdout",
     "output_type": "stream",
     "text": [
      "[CV 1/5] END ....max_features=8, n_estimators=200;, score=nan total time=   0.0s\n",
      "[CV 2/5] END ....max_features=8, n_estimators=200;, score=nan total time=   0.0s\n",
      "[CV 3/5] END ....max_features=8, n_estimators=200;, score=nan total time=   0.0s\n"
     ]
    },
    {
     "name": "stderr",
     "output_type": "stream",
     "text": [
      "D:\\anaconda3\\envs\\ml_study\\lib\\site-packages\\sklearn\\model_selection\\_validation.py:680: DataConversionWarning: A column-vector y was passed when a 1d array was expected. Please change the shape of y to (n_samples,), for example using ravel().\n",
      "  estimator.fit(X_train, y_train, **fit_params)\n",
      "D:\\anaconda3\\envs\\ml_study\\lib\\site-packages\\sklearn\\model_selection\\_validation.py:680: DataConversionWarning: A column-vector y was passed when a 1d array was expected. Please change the shape of y to (n_samples,), for example using ravel().\n",
      "  estimator.fit(X_train, y_train, **fit_params)\n",
      "D:\\anaconda3\\envs\\ml_study\\lib\\site-packages\\sklearn\\model_selection\\_validation.py:680: DataConversionWarning: A column-vector y was passed when a 1d array was expected. Please change the shape of y to (n_samples,), for example using ravel().\n",
      "  estimator.fit(X_train, y_train, **fit_params)\n"
     ]
    },
    {
     "name": "stdout",
     "output_type": "stream",
     "text": [
      "[CV 4/5] END ....max_features=8, n_estimators=200;, score=nan total time=   0.0s\n",
      "[CV 5/5] END ....max_features=8, n_estimators=200;, score=nan total time=   0.0s\n",
      "[CV 1/5] END ....max_features=8, n_estimators=250;, score=nan total time=   0.0s\n"
     ]
    },
    {
     "name": "stderr",
     "output_type": "stream",
     "text": [
      "D:\\anaconda3\\envs\\ml_study\\lib\\site-packages\\sklearn\\model_selection\\_validation.py:680: DataConversionWarning: A column-vector y was passed when a 1d array was expected. Please change the shape of y to (n_samples,), for example using ravel().\n",
      "  estimator.fit(X_train, y_train, **fit_params)\n",
      "D:\\anaconda3\\envs\\ml_study\\lib\\site-packages\\sklearn\\model_selection\\_validation.py:680: DataConversionWarning: A column-vector y was passed when a 1d array was expected. Please change the shape of y to (n_samples,), for example using ravel().\n",
      "  estimator.fit(X_train, y_train, **fit_params)\n",
      "D:\\anaconda3\\envs\\ml_study\\lib\\site-packages\\sklearn\\model_selection\\_validation.py:680: DataConversionWarning: A column-vector y was passed when a 1d array was expected. Please change the shape of y to (n_samples,), for example using ravel().\n",
      "  estimator.fit(X_train, y_train, **fit_params)\n"
     ]
    },
    {
     "name": "stdout",
     "output_type": "stream",
     "text": [
      "[CV 2/5] END ....max_features=8, n_estimators=250;, score=nan total time=   0.0s\n",
      "[CV 3/5] END ....max_features=8, n_estimators=250;, score=nan total time=   0.0s\n",
      "[CV 4/5] END ....max_features=8, n_estimators=250;, score=nan total time=   0.0s\n"
     ]
    },
    {
     "name": "stderr",
     "output_type": "stream",
     "text": [
      "D:\\anaconda3\\envs\\ml_study\\lib\\site-packages\\sklearn\\model_selection\\_validation.py:680: DataConversionWarning: A column-vector y was passed when a 1d array was expected. Please change the shape of y to (n_samples,), for example using ravel().\n",
      "  estimator.fit(X_train, y_train, **fit_params)\n",
      "D:\\anaconda3\\envs\\ml_study\\lib\\site-packages\\sklearn\\model_selection\\_validation.py:680: DataConversionWarning: A column-vector y was passed when a 1d array was expected. Please change the shape of y to (n_samples,), for example using ravel().\n",
      "  estimator.fit(X_train, y_train, **fit_params)\n",
      "D:\\anaconda3\\envs\\ml_study\\lib\\site-packages\\sklearn\\model_selection\\_validation.py:680: DataConversionWarning: A column-vector y was passed when a 1d array was expected. Please change the shape of y to (n_samples,), for example using ravel().\n",
      "  estimator.fit(X_train, y_train, **fit_params)\n",
      "D:\\anaconda3\\envs\\ml_study\\lib\\site-packages\\sklearn\\model_selection\\_validation.py:680: DataConversionWarning: A column-vector y was passed when a 1d array was expected. Please change the shape of y to (n_samples,), for example using ravel().\n",
      "  estimator.fit(X_train, y_train, **fit_params)\n"
     ]
    },
    {
     "name": "stdout",
     "output_type": "stream",
     "text": [
      "[CV 5/5] END ....max_features=8, n_estimators=250;, score=nan total time=   0.0s\n",
      "[CV 1/5] END ....max_features=8, n_estimators=300;, score=nan total time=   0.0s\n"
     ]
    },
    {
     "name": "stderr",
     "output_type": "stream",
     "text": [
      "D:\\anaconda3\\envs\\ml_study\\lib\\site-packages\\sklearn\\model_selection\\_validation.py:680: DataConversionWarning: A column-vector y was passed when a 1d array was expected. Please change the shape of y to (n_samples,), for example using ravel().\n",
      "  estimator.fit(X_train, y_train, **fit_params)\n",
      "D:\\anaconda3\\envs\\ml_study\\lib\\site-packages\\sklearn\\model_selection\\_validation.py:680: DataConversionWarning: A column-vector y was passed when a 1d array was expected. Please change the shape of y to (n_samples,), for example using ravel().\n",
      "  estimator.fit(X_train, y_train, **fit_params)\n"
     ]
    },
    {
     "name": "stdout",
     "output_type": "stream",
     "text": [
      "[CV 2/5] END ....max_features=8, n_estimators=300;, score=nan total time=   0.0s\n",
      "[CV 3/5] END ....max_features=8, n_estimators=300;, score=nan total time=   0.0s\n",
      "[CV 4/5] END ....max_features=8, n_estimators=300;, score=nan total time=   0.0s\n"
     ]
    },
    {
     "name": "stderr",
     "output_type": "stream",
     "text": [
      "D:\\anaconda3\\envs\\ml_study\\lib\\site-packages\\sklearn\\model_selection\\_validation.py:680: DataConversionWarning: A column-vector y was passed when a 1d array was expected. Please change the shape of y to (n_samples,), for example using ravel().\n",
      "  estimator.fit(X_train, y_train, **fit_params)\n",
      "D:\\anaconda3\\envs\\ml_study\\lib\\site-packages\\sklearn\\model_selection\\_validation.py:680: DataConversionWarning: A column-vector y was passed when a 1d array was expected. Please change the shape of y to (n_samples,), for example using ravel().\n",
      "  estimator.fit(X_train, y_train, **fit_params)\n"
     ]
    },
    {
     "name": "stdout",
     "output_type": "stream",
     "text": [
      "[CV 5/5] END ....max_features=8, n_estimators=300;, score=nan total time=   0.0s\n",
      "[CV 1/5] END ......max_features=9, n_estimators=5;, score=nan total time=   0.0s\n",
      "[CV 2/5] END ......max_features=9, n_estimators=5;, score=nan total time=   0.0s\n",
      "[CV 3/5] END ......max_features=9, n_estimators=5;, score=nan total time=   0.0s\n",
      "[CV 4/5] END ......max_features=9, n_estimators=5;, score=nan total time=   0.0s\n",
      "[CV 5/5] END ......max_features=9, n_estimators=5;, score=nan total time=   0.0s\n",
      "[CV 1/5] END .....max_features=9, n_estimators=10;, score=nan total time=   0.0s\n",
      "[CV 2/5] END .....max_features=9, n_estimators=10;, score=nan total time=   0.0s\n",
      "[CV 3/5] END .....max_features=9, n_estimators=10;, score=nan total time=   0.0s\n",
      "[CV 4/5] END .....max_features=9, n_estimators=10;, score=nan total time=   0.0s\n",
      "[CV 5/5] END .....max_features=9, n_estimators=10;, score=nan total time=   0.0s\n",
      "[CV 1/5] END .....max_features=9, n_estimators=20;, score=nan total time=   0.0s\n",
      "[CV 2/5] END .....max_features=9, n_estimators=20;, score=nan total time=   0.0s\n",
      "[CV 3/5] END .....max_features=9, n_estimators=20;, score=nan total time=   0.0s\n",
      "[CV 4/5] END .....max_features=9, n_estimators=20;, score=nan total time=   0.0s\n",
      "[CV 5/5] END .....max_features=9, n_estimators=20;, score=nan total time=   0.0s\n",
      "[CV 1/5] END .....max_features=9, n_estimators=30;, score=nan total time=   0.0s\n",
      "[CV 2/5] END .....max_features=9, n_estimators=30;, score=nan total time=   0.0s\n",
      "[CV 3/5] END .....max_features=9, n_estimators=30;, score=nan total time=   0.0s\n",
      "[CV 4/5] END .....max_features=9, n_estimators=30;, score=nan total time=   0.0s\n",
      "[CV 5/5] END .....max_features=9, n_estimators=30;, score=nan total time=   0.0s\n",
      "[CV 1/5] END .....max_features=9, n_estimators=40;, score=nan total time=   0.0s\n",
      "[CV 2/5] END .....max_features=9, n_estimators=40;, score=nan total time=   0.0s\n"
     ]
    },
    {
     "name": "stderr",
     "output_type": "stream",
     "text": [
      "D:\\anaconda3\\envs\\ml_study\\lib\\site-packages\\sklearn\\model_selection\\_validation.py:680: DataConversionWarning: A column-vector y was passed when a 1d array was expected. Please change the shape of y to (n_samples,), for example using ravel().\n",
      "  estimator.fit(X_train, y_train, **fit_params)\n",
      "D:\\anaconda3\\envs\\ml_study\\lib\\site-packages\\sklearn\\model_selection\\_validation.py:680: DataConversionWarning: A column-vector y was passed when a 1d array was expected. Please change the shape of y to (n_samples,), for example using ravel().\n",
      "  estimator.fit(X_train, y_train, **fit_params)\n",
      "D:\\anaconda3\\envs\\ml_study\\lib\\site-packages\\sklearn\\model_selection\\_validation.py:680: DataConversionWarning: A column-vector y was passed when a 1d array was expected. Please change the shape of y to (n_samples,), for example using ravel().\n",
      "  estimator.fit(X_train, y_train, **fit_params)\n",
      "D:\\anaconda3\\envs\\ml_study\\lib\\site-packages\\sklearn\\model_selection\\_validation.py:680: DataConversionWarning: A column-vector y was passed when a 1d array was expected. Please change the shape of y to (n_samples,), for example using ravel().\n",
      "  estimator.fit(X_train, y_train, **fit_params)\n",
      "D:\\anaconda3\\envs\\ml_study\\lib\\site-packages\\sklearn\\model_selection\\_validation.py:680: DataConversionWarning: A column-vector y was passed when a 1d array was expected. Please change the shape of y to (n_samples,), for example using ravel().\n",
      "  estimator.fit(X_train, y_train, **fit_params)\n",
      "D:\\anaconda3\\envs\\ml_study\\lib\\site-packages\\sklearn\\model_selection\\_validation.py:680: DataConversionWarning: A column-vector y was passed when a 1d array was expected. Please change the shape of y to (n_samples,), for example using ravel().\n",
      "  estimator.fit(X_train, y_train, **fit_params)\n",
      "D:\\anaconda3\\envs\\ml_study\\lib\\site-packages\\sklearn\\model_selection\\_validation.py:680: DataConversionWarning: A column-vector y was passed when a 1d array was expected. Please change the shape of y to (n_samples,), for example using ravel().\n",
      "  estimator.fit(X_train, y_train, **fit_params)\n",
      "D:\\anaconda3\\envs\\ml_study\\lib\\site-packages\\sklearn\\model_selection\\_validation.py:680: DataConversionWarning: A column-vector y was passed when a 1d array was expected. Please change the shape of y to (n_samples,), for example using ravel().\n",
      "  estimator.fit(X_train, y_train, **fit_params)\n",
      "D:\\anaconda3\\envs\\ml_study\\lib\\site-packages\\sklearn\\model_selection\\_validation.py:680: DataConversionWarning: A column-vector y was passed when a 1d array was expected. Please change the shape of y to (n_samples,), for example using ravel().\n",
      "  estimator.fit(X_train, y_train, **fit_params)\n",
      "D:\\anaconda3\\envs\\ml_study\\lib\\site-packages\\sklearn\\model_selection\\_validation.py:680: DataConversionWarning: A column-vector y was passed when a 1d array was expected. Please change the shape of y to (n_samples,), for example using ravel().\n",
      "  estimator.fit(X_train, y_train, **fit_params)\n",
      "D:\\anaconda3\\envs\\ml_study\\lib\\site-packages\\sklearn\\model_selection\\_validation.py:680: DataConversionWarning: A column-vector y was passed when a 1d array was expected. Please change the shape of y to (n_samples,), for example using ravel().\n",
      "  estimator.fit(X_train, y_train, **fit_params)\n",
      "D:\\anaconda3\\envs\\ml_study\\lib\\site-packages\\sklearn\\model_selection\\_validation.py:680: DataConversionWarning: A column-vector y was passed when a 1d array was expected. Please change the shape of y to (n_samples,), for example using ravel().\n",
      "  estimator.fit(X_train, y_train, **fit_params)\n",
      "D:\\anaconda3\\envs\\ml_study\\lib\\site-packages\\sklearn\\model_selection\\_validation.py:680: DataConversionWarning: A column-vector y was passed when a 1d array was expected. Please change the shape of y to (n_samples,), for example using ravel().\n",
      "  estimator.fit(X_train, y_train, **fit_params)\n",
      "D:\\anaconda3\\envs\\ml_study\\lib\\site-packages\\sklearn\\model_selection\\_validation.py:680: DataConversionWarning: A column-vector y was passed when a 1d array was expected. Please change the shape of y to (n_samples,), for example using ravel().\n",
      "  estimator.fit(X_train, y_train, **fit_params)\n",
      "D:\\anaconda3\\envs\\ml_study\\lib\\site-packages\\sklearn\\model_selection\\_validation.py:680: DataConversionWarning: A column-vector y was passed when a 1d array was expected. Please change the shape of y to (n_samples,), for example using ravel().\n",
      "  estimator.fit(X_train, y_train, **fit_params)\n",
      "D:\\anaconda3\\envs\\ml_study\\lib\\site-packages\\sklearn\\model_selection\\_validation.py:680: DataConversionWarning: A column-vector y was passed when a 1d array was expected. Please change the shape of y to (n_samples,), for example using ravel().\n",
      "  estimator.fit(X_train, y_train, **fit_params)\n",
      "D:\\anaconda3\\envs\\ml_study\\lib\\site-packages\\sklearn\\model_selection\\_validation.py:680: DataConversionWarning: A column-vector y was passed when a 1d array was expected. Please change the shape of y to (n_samples,), for example using ravel().\n",
      "  estimator.fit(X_train, y_train, **fit_params)\n",
      "D:\\anaconda3\\envs\\ml_study\\lib\\site-packages\\sklearn\\model_selection\\_validation.py:680: DataConversionWarning: A column-vector y was passed when a 1d array was expected. Please change the shape of y to (n_samples,), for example using ravel().\n",
      "  estimator.fit(X_train, y_train, **fit_params)\n",
      "D:\\anaconda3\\envs\\ml_study\\lib\\site-packages\\sklearn\\model_selection\\_validation.py:680: DataConversionWarning: A column-vector y was passed when a 1d array was expected. Please change the shape of y to (n_samples,), for example using ravel().\n",
      "  estimator.fit(X_train, y_train, **fit_params)\n",
      "D:\\anaconda3\\envs\\ml_study\\lib\\site-packages\\sklearn\\model_selection\\_validation.py:680: DataConversionWarning: A column-vector y was passed when a 1d array was expected. Please change the shape of y to (n_samples,), for example using ravel().\n",
      "  estimator.fit(X_train, y_train, **fit_params)\n",
      "D:\\anaconda3\\envs\\ml_study\\lib\\site-packages\\sklearn\\model_selection\\_validation.py:680: DataConversionWarning: A column-vector y was passed when a 1d array was expected. Please change the shape of y to (n_samples,), for example using ravel().\n",
      "  estimator.fit(X_train, y_train, **fit_params)\n",
      "D:\\anaconda3\\envs\\ml_study\\lib\\site-packages\\sklearn\\model_selection\\_validation.py:680: DataConversionWarning: A column-vector y was passed when a 1d array was expected. Please change the shape of y to (n_samples,), for example using ravel().\n",
      "  estimator.fit(X_train, y_train, **fit_params)\n"
     ]
    },
    {
     "name": "stdout",
     "output_type": "stream",
     "text": [
      "[CV 3/5] END .....max_features=9, n_estimators=40;, score=nan total time=   0.0s\n",
      "[CV 4/5] END .....max_features=9, n_estimators=40;, score=nan total time=   0.0s\n",
      "[CV 5/5] END .....max_features=9, n_estimators=40;, score=nan total time=   0.0s\n",
      "[CV 1/5] END .....max_features=9, n_estimators=50;, score=nan total time=   0.0s\n",
      "[CV 2/5] END .....max_features=9, n_estimators=50;, score=nan total time=   0.0s\n",
      "[CV 3/5] END .....max_features=9, n_estimators=50;, score=nan total time=   0.0s\n",
      "[CV 4/5] END .....max_features=9, n_estimators=50;, score=nan total time=   0.0s\n",
      "[CV 5/5] END .....max_features=9, n_estimators=50;, score=nan total time=   0.0s\n",
      "[CV 1/5] END ....max_features=9, n_estimators=100;, score=nan total time=   0.0s\n",
      "[CV 2/5] END ....max_features=9, n_estimators=100;, score=nan total time=   0.0s\n"
     ]
    },
    {
     "name": "stderr",
     "output_type": "stream",
     "text": [
      "D:\\anaconda3\\envs\\ml_study\\lib\\site-packages\\sklearn\\model_selection\\_validation.py:680: DataConversionWarning: A column-vector y was passed when a 1d array was expected. Please change the shape of y to (n_samples,), for example using ravel().\n",
      "  estimator.fit(X_train, y_train, **fit_params)\n",
      "D:\\anaconda3\\envs\\ml_study\\lib\\site-packages\\sklearn\\model_selection\\_validation.py:680: DataConversionWarning: A column-vector y was passed when a 1d array was expected. Please change the shape of y to (n_samples,), for example using ravel().\n",
      "  estimator.fit(X_train, y_train, **fit_params)\n",
      "D:\\anaconda3\\envs\\ml_study\\lib\\site-packages\\sklearn\\model_selection\\_validation.py:680: DataConversionWarning: A column-vector y was passed when a 1d array was expected. Please change the shape of y to (n_samples,), for example using ravel().\n",
      "  estimator.fit(X_train, y_train, **fit_params)\n",
      "D:\\anaconda3\\envs\\ml_study\\lib\\site-packages\\sklearn\\model_selection\\_validation.py:680: DataConversionWarning: A column-vector y was passed when a 1d array was expected. Please change the shape of y to (n_samples,), for example using ravel().\n",
      "  estimator.fit(X_train, y_train, **fit_params)\n",
      "D:\\anaconda3\\envs\\ml_study\\lib\\site-packages\\sklearn\\model_selection\\_validation.py:680: DataConversionWarning: A column-vector y was passed when a 1d array was expected. Please change the shape of y to (n_samples,), for example using ravel().\n",
      "  estimator.fit(X_train, y_train, **fit_params)\n",
      "D:\\anaconda3\\envs\\ml_study\\lib\\site-packages\\sklearn\\model_selection\\_validation.py:680: DataConversionWarning: A column-vector y was passed when a 1d array was expected. Please change the shape of y to (n_samples,), for example using ravel().\n",
      "  estimator.fit(X_train, y_train, **fit_params)\n",
      "D:\\anaconda3\\envs\\ml_study\\lib\\site-packages\\sklearn\\model_selection\\_validation.py:680: DataConversionWarning: A column-vector y was passed when a 1d array was expected. Please change the shape of y to (n_samples,), for example using ravel().\n",
      "  estimator.fit(X_train, y_train, **fit_params)\n",
      "D:\\anaconda3\\envs\\ml_study\\lib\\site-packages\\sklearn\\model_selection\\_validation.py:680: DataConversionWarning: A column-vector y was passed when a 1d array was expected. Please change the shape of y to (n_samples,), for example using ravel().\n",
      "  estimator.fit(X_train, y_train, **fit_params)\n",
      "D:\\anaconda3\\envs\\ml_study\\lib\\site-packages\\sklearn\\model_selection\\_validation.py:680: DataConversionWarning: A column-vector y was passed when a 1d array was expected. Please change the shape of y to (n_samples,), for example using ravel().\n",
      "  estimator.fit(X_train, y_train, **fit_params)\n",
      "D:\\anaconda3\\envs\\ml_study\\lib\\site-packages\\sklearn\\model_selection\\_validation.py:680: DataConversionWarning: A column-vector y was passed when a 1d array was expected. Please change the shape of y to (n_samples,), for example using ravel().\n",
      "  estimator.fit(X_train, y_train, **fit_params)\n",
      "D:\\anaconda3\\envs\\ml_study\\lib\\site-packages\\sklearn\\model_selection\\_validation.py:680: DataConversionWarning: A column-vector y was passed when a 1d array was expected. Please change the shape of y to (n_samples,), for example using ravel().\n",
      "  estimator.fit(X_train, y_train, **fit_params)\n",
      "D:\\anaconda3\\envs\\ml_study\\lib\\site-packages\\sklearn\\model_selection\\_validation.py:680: DataConversionWarning: A column-vector y was passed when a 1d array was expected. Please change the shape of y to (n_samples,), for example using ravel().\n",
      "  estimator.fit(X_train, y_train, **fit_params)\n",
      "D:\\anaconda3\\envs\\ml_study\\lib\\site-packages\\sklearn\\model_selection\\_validation.py:680: DataConversionWarning: A column-vector y was passed when a 1d array was expected. Please change the shape of y to (n_samples,), for example using ravel().\n",
      "  estimator.fit(X_train, y_train, **fit_params)\n",
      "D:\\anaconda3\\envs\\ml_study\\lib\\site-packages\\sklearn\\model_selection\\_validation.py:680: DataConversionWarning: A column-vector y was passed when a 1d array was expected. Please change the shape of y to (n_samples,), for example using ravel().\n",
      "  estimator.fit(X_train, y_train, **fit_params)\n",
      "D:\\anaconda3\\envs\\ml_study\\lib\\site-packages\\sklearn\\model_selection\\_validation.py:680: DataConversionWarning: A column-vector y was passed when a 1d array was expected. Please change the shape of y to (n_samples,), for example using ravel().\n",
      "  estimator.fit(X_train, y_train, **fit_params)\n"
     ]
    },
    {
     "name": "stdout",
     "output_type": "stream",
     "text": [
      "[CV 3/5] END ....max_features=9, n_estimators=100;, score=nan total time=   0.0s\n",
      "[CV 4/5] END ....max_features=9, n_estimators=100;, score=nan total time=   0.0s\n",
      "[CV 5/5] END ....max_features=9, n_estimators=100;, score=nan total time=   0.0s\n",
      "[CV 1/5] END ....max_features=9, n_estimators=150;, score=nan total time=   0.0s\n",
      "[CV 2/5] END ....max_features=9, n_estimators=150;, score=nan total time=   0.0s\n"
     ]
    },
    {
     "name": "stderr",
     "output_type": "stream",
     "text": [
      "D:\\anaconda3\\envs\\ml_study\\lib\\site-packages\\sklearn\\model_selection\\_validation.py:680: DataConversionWarning: A column-vector y was passed when a 1d array was expected. Please change the shape of y to (n_samples,), for example using ravel().\n",
      "  estimator.fit(X_train, y_train, **fit_params)\n",
      "D:\\anaconda3\\envs\\ml_study\\lib\\site-packages\\sklearn\\model_selection\\_validation.py:680: DataConversionWarning: A column-vector y was passed when a 1d array was expected. Please change the shape of y to (n_samples,), for example using ravel().\n",
      "  estimator.fit(X_train, y_train, **fit_params)\n",
      "D:\\anaconda3\\envs\\ml_study\\lib\\site-packages\\sklearn\\model_selection\\_validation.py:680: DataConversionWarning: A column-vector y was passed when a 1d array was expected. Please change the shape of y to (n_samples,), for example using ravel().\n",
      "  estimator.fit(X_train, y_train, **fit_params)\n",
      "D:\\anaconda3\\envs\\ml_study\\lib\\site-packages\\sklearn\\model_selection\\_validation.py:680: DataConversionWarning: A column-vector y was passed when a 1d array was expected. Please change the shape of y to (n_samples,), for example using ravel().\n",
      "  estimator.fit(X_train, y_train, **fit_params)\n"
     ]
    },
    {
     "name": "stdout",
     "output_type": "stream",
     "text": [
      "[CV 3/5] END ....max_features=9, n_estimators=150;, score=nan total time=   0.0s\n",
      "[CV 4/5] END ....max_features=9, n_estimators=150;, score=nan total time=   0.0s\n",
      "[CV 5/5] END ....max_features=9, n_estimators=150;, score=nan total time=   0.0s\n",
      "[CV 1/5] END ....max_features=9, n_estimators=200;, score=nan total time=   0.0s\n"
     ]
    },
    {
     "name": "stderr",
     "output_type": "stream",
     "text": [
      "D:\\anaconda3\\envs\\ml_study\\lib\\site-packages\\sklearn\\model_selection\\_validation.py:680: DataConversionWarning: A column-vector y was passed when a 1d array was expected. Please change the shape of y to (n_samples,), for example using ravel().\n",
      "  estimator.fit(X_train, y_train, **fit_params)\n",
      "D:\\anaconda3\\envs\\ml_study\\lib\\site-packages\\sklearn\\model_selection\\_validation.py:680: DataConversionWarning: A column-vector y was passed when a 1d array was expected. Please change the shape of y to (n_samples,), for example using ravel().\n",
      "  estimator.fit(X_train, y_train, **fit_params)\n",
      "D:\\anaconda3\\envs\\ml_study\\lib\\site-packages\\sklearn\\model_selection\\_validation.py:680: DataConversionWarning: A column-vector y was passed when a 1d array was expected. Please change the shape of y to (n_samples,), for example using ravel().\n",
      "  estimator.fit(X_train, y_train, **fit_params)\n"
     ]
    },
    {
     "name": "stdout",
     "output_type": "stream",
     "text": [
      "[CV 2/5] END ....max_features=9, n_estimators=200;, score=nan total time=   0.0s\n",
      "[CV 3/5] END ....max_features=9, n_estimators=200;, score=nan total time=   0.0s\n",
      "[CV 4/5] END ....max_features=9, n_estimators=200;, score=nan total time=   0.0s\n",
      "[CV 5/5] END ....max_features=9, n_estimators=200;, score=nan total time=   0.0s\n"
     ]
    },
    {
     "name": "stderr",
     "output_type": "stream",
     "text": [
      "D:\\anaconda3\\envs\\ml_study\\lib\\site-packages\\sklearn\\model_selection\\_validation.py:680: DataConversionWarning: A column-vector y was passed when a 1d array was expected. Please change the shape of y to (n_samples,), for example using ravel().\n",
      "  estimator.fit(X_train, y_train, **fit_params)\n",
      "D:\\anaconda3\\envs\\ml_study\\lib\\site-packages\\sklearn\\model_selection\\_validation.py:680: DataConversionWarning: A column-vector y was passed when a 1d array was expected. Please change the shape of y to (n_samples,), for example using ravel().\n",
      "  estimator.fit(X_train, y_train, **fit_params)\n",
      "D:\\anaconda3\\envs\\ml_study\\lib\\site-packages\\sklearn\\model_selection\\_validation.py:680: DataConversionWarning: A column-vector y was passed when a 1d array was expected. Please change the shape of y to (n_samples,), for example using ravel().\n",
      "  estimator.fit(X_train, y_train, **fit_params)\n"
     ]
    },
    {
     "name": "stdout",
     "output_type": "stream",
     "text": [
      "[CV 1/5] END ....max_features=9, n_estimators=250;, score=nan total time=   0.0s\n",
      "[CV 2/5] END ....max_features=9, n_estimators=250;, score=nan total time=   0.0s\n",
      "[CV 3/5] END ....max_features=9, n_estimators=250;, score=nan total time=   0.0s\n"
     ]
    },
    {
     "name": "stderr",
     "output_type": "stream",
     "text": [
      "D:\\anaconda3\\envs\\ml_study\\lib\\site-packages\\sklearn\\model_selection\\_validation.py:680: DataConversionWarning: A column-vector y was passed when a 1d array was expected. Please change the shape of y to (n_samples,), for example using ravel().\n",
      "  estimator.fit(X_train, y_train, **fit_params)\n",
      "D:\\anaconda3\\envs\\ml_study\\lib\\site-packages\\sklearn\\model_selection\\_validation.py:680: DataConversionWarning: A column-vector y was passed when a 1d array was expected. Please change the shape of y to (n_samples,), for example using ravel().\n",
      "  estimator.fit(X_train, y_train, **fit_params)\n",
      "D:\\anaconda3\\envs\\ml_study\\lib\\site-packages\\sklearn\\model_selection\\_validation.py:680: DataConversionWarning: A column-vector y was passed when a 1d array was expected. Please change the shape of y to (n_samples,), for example using ravel().\n",
      "  estimator.fit(X_train, y_train, **fit_params)\n"
     ]
    },
    {
     "name": "stdout",
     "output_type": "stream",
     "text": [
      "[CV 4/5] END ....max_features=9, n_estimators=250;, score=nan total time=   0.0s\n",
      "[CV 5/5] END ....max_features=9, n_estimators=250;, score=nan total time=   0.0s\n",
      "[CV 1/5] END ....max_features=9, n_estimators=300;, score=nan total time=   0.0s\n"
     ]
    },
    {
     "name": "stderr",
     "output_type": "stream",
     "text": [
      "D:\\anaconda3\\envs\\ml_study\\lib\\site-packages\\sklearn\\model_selection\\_validation.py:680: DataConversionWarning: A column-vector y was passed when a 1d array was expected. Please change the shape of y to (n_samples,), for example using ravel().\n",
      "  estimator.fit(X_train, y_train, **fit_params)\n",
      "D:\\anaconda3\\envs\\ml_study\\lib\\site-packages\\sklearn\\model_selection\\_validation.py:680: DataConversionWarning: A column-vector y was passed when a 1d array was expected. Please change the shape of y to (n_samples,), for example using ravel().\n",
      "  estimator.fit(X_train, y_train, **fit_params)\n"
     ]
    },
    {
     "name": "stdout",
     "output_type": "stream",
     "text": [
      "[CV 2/5] END ....max_features=9, n_estimators=300;, score=nan total time=   0.0s\n",
      "[CV 3/5] END ....max_features=9, n_estimators=300;, score=nan total time=   0.1s\n"
     ]
    },
    {
     "name": "stderr",
     "output_type": "stream",
     "text": [
      "D:\\anaconda3\\envs\\ml_study\\lib\\site-packages\\sklearn\\model_selection\\_validation.py:680: DataConversionWarning: A column-vector y was passed when a 1d array was expected. Please change the shape of y to (n_samples,), for example using ravel().\n",
      "  estimator.fit(X_train, y_train, **fit_params)\n",
      "D:\\anaconda3\\envs\\ml_study\\lib\\site-packages\\sklearn\\model_selection\\_validation.py:680: DataConversionWarning: A column-vector y was passed when a 1d array was expected. Please change the shape of y to (n_samples,), for example using ravel().\n",
      "  estimator.fit(X_train, y_train, **fit_params)\n"
     ]
    },
    {
     "name": "stdout",
     "output_type": "stream",
     "text": [
      "[CV 4/5] END ....max_features=9, n_estimators=300;, score=nan total time=   0.0s\n",
      "[CV 5/5] END ....max_features=9, n_estimators=300;, score=nan total time=   0.0s\n",
      "[CV 1/5] END .....max_features=10, n_estimators=5;, score=nan total time=   0.0s\n",
      "[CV 2/5] END .....max_features=10, n_estimators=5;, score=nan total time=   0.0s\n",
      "[CV 3/5] END .....max_features=10, n_estimators=5;, score=nan total time=   0.0s\n",
      "[CV 4/5] END .....max_features=10, n_estimators=5;, score=nan total time=   0.0s\n",
      "[CV 5/5] END .....max_features=10, n_estimators=5;, score=nan total time=   0.0s\n",
      "[CV 1/5] END ....max_features=10, n_estimators=10;, score=nan total time=   0.0s\n",
      "[CV 2/5] END ....max_features=10, n_estimators=10;, score=nan total time=   0.0s\n",
      "[CV 3/5] END ....max_features=10, n_estimators=10;, score=nan total time=   0.0s\n",
      "[CV 4/5] END ....max_features=10, n_estimators=10;, score=nan total time=   0.0s\n",
      "[CV 5/5] END ....max_features=10, n_estimators=10;, score=nan total time=   0.0s\n",
      "[CV 1/5] END ....max_features=10, n_estimators=20;, score=nan total time=   0.0s\n",
      "[CV 2/5] END ....max_features=10, n_estimators=20;, score=nan total time=   0.0s\n",
      "[CV 3/5] END ....max_features=10, n_estimators=20;, score=nan total time=   0.0s\n"
     ]
    },
    {
     "name": "stderr",
     "output_type": "stream",
     "text": [
      "D:\\anaconda3\\envs\\ml_study\\lib\\site-packages\\sklearn\\model_selection\\_validation.py:680: DataConversionWarning: A column-vector y was passed when a 1d array was expected. Please change the shape of y to (n_samples,), for example using ravel().\n",
      "  estimator.fit(X_train, y_train, **fit_params)\n",
      "D:\\anaconda3\\envs\\ml_study\\lib\\site-packages\\sklearn\\model_selection\\_validation.py:680: DataConversionWarning: A column-vector y was passed when a 1d array was expected. Please change the shape of y to (n_samples,), for example using ravel().\n",
      "  estimator.fit(X_train, y_train, **fit_params)\n",
      "D:\\anaconda3\\envs\\ml_study\\lib\\site-packages\\sklearn\\model_selection\\_validation.py:680: DataConversionWarning: A column-vector y was passed when a 1d array was expected. Please change the shape of y to (n_samples,), for example using ravel().\n",
      "  estimator.fit(X_train, y_train, **fit_params)\n",
      "D:\\anaconda3\\envs\\ml_study\\lib\\site-packages\\sklearn\\model_selection\\_validation.py:680: DataConversionWarning: A column-vector y was passed when a 1d array was expected. Please change the shape of y to (n_samples,), for example using ravel().\n",
      "  estimator.fit(X_train, y_train, **fit_params)\n",
      "D:\\anaconda3\\envs\\ml_study\\lib\\site-packages\\sklearn\\model_selection\\_validation.py:680: DataConversionWarning: A column-vector y was passed when a 1d array was expected. Please change the shape of y to (n_samples,), for example using ravel().\n",
      "  estimator.fit(X_train, y_train, **fit_params)\n",
      "D:\\anaconda3\\envs\\ml_study\\lib\\site-packages\\sklearn\\model_selection\\_validation.py:680: DataConversionWarning: A column-vector y was passed when a 1d array was expected. Please change the shape of y to (n_samples,), for example using ravel().\n",
      "  estimator.fit(X_train, y_train, **fit_params)\n",
      "D:\\anaconda3\\envs\\ml_study\\lib\\site-packages\\sklearn\\model_selection\\_validation.py:680: DataConversionWarning: A column-vector y was passed when a 1d array was expected. Please change the shape of y to (n_samples,), for example using ravel().\n",
      "  estimator.fit(X_train, y_train, **fit_params)\n",
      "D:\\anaconda3\\envs\\ml_study\\lib\\site-packages\\sklearn\\model_selection\\_validation.py:680: DataConversionWarning: A column-vector y was passed when a 1d array was expected. Please change the shape of y to (n_samples,), for example using ravel().\n",
      "  estimator.fit(X_train, y_train, **fit_params)\n",
      "D:\\anaconda3\\envs\\ml_study\\lib\\site-packages\\sklearn\\model_selection\\_validation.py:680: DataConversionWarning: A column-vector y was passed when a 1d array was expected. Please change the shape of y to (n_samples,), for example using ravel().\n",
      "  estimator.fit(X_train, y_train, **fit_params)\n",
      "D:\\anaconda3\\envs\\ml_study\\lib\\site-packages\\sklearn\\model_selection\\_validation.py:680: DataConversionWarning: A column-vector y was passed when a 1d array was expected. Please change the shape of y to (n_samples,), for example using ravel().\n",
      "  estimator.fit(X_train, y_train, **fit_params)\n",
      "D:\\anaconda3\\envs\\ml_study\\lib\\site-packages\\sklearn\\model_selection\\_validation.py:680: DataConversionWarning: A column-vector y was passed when a 1d array was expected. Please change the shape of y to (n_samples,), for example using ravel().\n",
      "  estimator.fit(X_train, y_train, **fit_params)\n",
      "D:\\anaconda3\\envs\\ml_study\\lib\\site-packages\\sklearn\\model_selection\\_validation.py:680: DataConversionWarning: A column-vector y was passed when a 1d array was expected. Please change the shape of y to (n_samples,), for example using ravel().\n",
      "  estimator.fit(X_train, y_train, **fit_params)\n",
      "D:\\anaconda3\\envs\\ml_study\\lib\\site-packages\\sklearn\\model_selection\\_validation.py:680: DataConversionWarning: A column-vector y was passed when a 1d array was expected. Please change the shape of y to (n_samples,), for example using ravel().\n",
      "  estimator.fit(X_train, y_train, **fit_params)\n",
      "D:\\anaconda3\\envs\\ml_study\\lib\\site-packages\\sklearn\\model_selection\\_validation.py:680: DataConversionWarning: A column-vector y was passed when a 1d array was expected. Please change the shape of y to (n_samples,), for example using ravel().\n",
      "  estimator.fit(X_train, y_train, **fit_params)\n",
      "D:\\anaconda3\\envs\\ml_study\\lib\\site-packages\\sklearn\\model_selection\\_validation.py:680: DataConversionWarning: A column-vector y was passed when a 1d array was expected. Please change the shape of y to (n_samples,), for example using ravel().\n",
      "  estimator.fit(X_train, y_train, **fit_params)\n",
      "D:\\anaconda3\\envs\\ml_study\\lib\\site-packages\\sklearn\\model_selection\\_validation.py:680: DataConversionWarning: A column-vector y was passed when a 1d array was expected. Please change the shape of y to (n_samples,), for example using ravel().\n",
      "  estimator.fit(X_train, y_train, **fit_params)\n",
      "D:\\anaconda3\\envs\\ml_study\\lib\\site-packages\\sklearn\\model_selection\\_validation.py:680: DataConversionWarning: A column-vector y was passed when a 1d array was expected. Please change the shape of y to (n_samples,), for example using ravel().\n",
      "  estimator.fit(X_train, y_train, **fit_params)\n",
      "D:\\anaconda3\\envs\\ml_study\\lib\\site-packages\\sklearn\\model_selection\\_validation.py:680: DataConversionWarning: A column-vector y was passed when a 1d array was expected. Please change the shape of y to (n_samples,), for example using ravel().\n",
      "  estimator.fit(X_train, y_train, **fit_params)\n",
      "D:\\anaconda3\\envs\\ml_study\\lib\\site-packages\\sklearn\\model_selection\\_validation.py:680: DataConversionWarning: A column-vector y was passed when a 1d array was expected. Please change the shape of y to (n_samples,), for example using ravel().\n",
      "  estimator.fit(X_train, y_train, **fit_params)\n",
      "D:\\anaconda3\\envs\\ml_study\\lib\\site-packages\\sklearn\\model_selection\\_validation.py:680: DataConversionWarning: A column-vector y was passed when a 1d array was expected. Please change the shape of y to (n_samples,), for example using ravel().\n",
      "  estimator.fit(X_train, y_train, **fit_params)\n",
      "D:\\anaconda3\\envs\\ml_study\\lib\\site-packages\\sklearn\\model_selection\\_validation.py:680: DataConversionWarning: A column-vector y was passed when a 1d array was expected. Please change the shape of y to (n_samples,), for example using ravel().\n",
      "  estimator.fit(X_train, y_train, **fit_params)\n",
      "D:\\anaconda3\\envs\\ml_study\\lib\\site-packages\\sklearn\\model_selection\\_validation.py:680: DataConversionWarning: A column-vector y was passed when a 1d array was expected. Please change the shape of y to (n_samples,), for example using ravel().\n",
      "  estimator.fit(X_train, y_train, **fit_params)\n",
      "D:\\anaconda3\\envs\\ml_study\\lib\\site-packages\\sklearn\\model_selection\\_validation.py:680: DataConversionWarning: A column-vector y was passed when a 1d array was expected. Please change the shape of y to (n_samples,), for example using ravel().\n",
      "  estimator.fit(X_train, y_train, **fit_params)\n",
      "D:\\anaconda3\\envs\\ml_study\\lib\\site-packages\\sklearn\\model_selection\\_validation.py:680: DataConversionWarning: A column-vector y was passed when a 1d array was expected. Please change the shape of y to (n_samples,), for example using ravel().\n",
      "  estimator.fit(X_train, y_train, **fit_params)\n",
      "D:\\anaconda3\\envs\\ml_study\\lib\\site-packages\\sklearn\\model_selection\\_validation.py:680: DataConversionWarning: A column-vector y was passed when a 1d array was expected. Please change the shape of y to (n_samples,), for example using ravel().\n",
      "  estimator.fit(X_train, y_train, **fit_params)\n",
      "D:\\anaconda3\\envs\\ml_study\\lib\\site-packages\\sklearn\\model_selection\\_validation.py:680: DataConversionWarning: A column-vector y was passed when a 1d array was expected. Please change the shape of y to (n_samples,), for example using ravel().\n",
      "  estimator.fit(X_train, y_train, **fit_params)\n",
      "D:\\anaconda3\\envs\\ml_study\\lib\\site-packages\\sklearn\\model_selection\\_validation.py:680: DataConversionWarning: A column-vector y was passed when a 1d array was expected. Please change the shape of y to (n_samples,), for example using ravel().\n",
      "  estimator.fit(X_train, y_train, **fit_params)\n",
      "D:\\anaconda3\\envs\\ml_study\\lib\\site-packages\\sklearn\\model_selection\\_validation.py:680: DataConversionWarning: A column-vector y was passed when a 1d array was expected. Please change the shape of y to (n_samples,), for example using ravel().\n",
      "  estimator.fit(X_train, y_train, **fit_params)\n"
     ]
    },
    {
     "name": "stdout",
     "output_type": "stream",
     "text": [
      "[CV 4/5] END ....max_features=10, n_estimators=20;, score=nan total time=   0.0s\n",
      "[CV 5/5] END ....max_features=10, n_estimators=20;, score=nan total time=   0.0s\n",
      "[CV 1/5] END ....max_features=10, n_estimators=30;, score=nan total time=   0.0s\n",
      "[CV 2/5] END ....max_features=10, n_estimators=30;, score=nan total time=   0.0s\n",
      "[CV 3/5] END ....max_features=10, n_estimators=30;, score=nan total time=   0.0s\n",
      "[CV 4/5] END ....max_features=10, n_estimators=30;, score=nan total time=   0.0s\n",
      "[CV 5/5] END ....max_features=10, n_estimators=30;, score=nan total time=   0.0s\n",
      "[CV 1/5] END ....max_features=10, n_estimators=40;, score=nan total time=   0.0s\n",
      "[CV 2/5] END ....max_features=10, n_estimators=40;, score=nan total time=   0.0s\n",
      "[CV 3/5] END ....max_features=10, n_estimators=40;, score=nan total time=   0.0s\n",
      "[CV 4/5] END ....max_features=10, n_estimators=40;, score=nan total time=   0.0s\n",
      "[CV 5/5] END ....max_features=10, n_estimators=40;, score=nan total time=   0.0s\n",
      "[CV 1/5] END ....max_features=10, n_estimators=50;, score=nan total time=   0.0s\n",
      "[CV 2/5] END ....max_features=10, n_estimators=50;, score=nan total time=   0.0s\n"
     ]
    },
    {
     "name": "stderr",
     "output_type": "stream",
     "text": [
      "D:\\anaconda3\\envs\\ml_study\\lib\\site-packages\\sklearn\\model_selection\\_validation.py:680: DataConversionWarning: A column-vector y was passed when a 1d array was expected. Please change the shape of y to (n_samples,), for example using ravel().\n",
      "  estimator.fit(X_train, y_train, **fit_params)\n",
      "D:\\anaconda3\\envs\\ml_study\\lib\\site-packages\\sklearn\\model_selection\\_validation.py:680: DataConversionWarning: A column-vector y was passed when a 1d array was expected. Please change the shape of y to (n_samples,), for example using ravel().\n",
      "  estimator.fit(X_train, y_train, **fit_params)\n",
      "D:\\anaconda3\\envs\\ml_study\\lib\\site-packages\\sklearn\\model_selection\\_validation.py:680: DataConversionWarning: A column-vector y was passed when a 1d array was expected. Please change the shape of y to (n_samples,), for example using ravel().\n",
      "  estimator.fit(X_train, y_train, **fit_params)\n",
      "D:\\anaconda3\\envs\\ml_study\\lib\\site-packages\\sklearn\\model_selection\\_validation.py:680: DataConversionWarning: A column-vector y was passed when a 1d array was expected. Please change the shape of y to (n_samples,), for example using ravel().\n",
      "  estimator.fit(X_train, y_train, **fit_params)\n",
      "D:\\anaconda3\\envs\\ml_study\\lib\\site-packages\\sklearn\\model_selection\\_validation.py:680: DataConversionWarning: A column-vector y was passed when a 1d array was expected. Please change the shape of y to (n_samples,), for example using ravel().\n",
      "  estimator.fit(X_train, y_train, **fit_params)\n",
      "D:\\anaconda3\\envs\\ml_study\\lib\\site-packages\\sklearn\\model_selection\\_validation.py:680: DataConversionWarning: A column-vector y was passed when a 1d array was expected. Please change the shape of y to (n_samples,), for example using ravel().\n",
      "  estimator.fit(X_train, y_train, **fit_params)\n",
      "D:\\anaconda3\\envs\\ml_study\\lib\\site-packages\\sklearn\\model_selection\\_validation.py:680: DataConversionWarning: A column-vector y was passed when a 1d array was expected. Please change the shape of y to (n_samples,), for example using ravel().\n",
      "  estimator.fit(X_train, y_train, **fit_params)\n"
     ]
    },
    {
     "name": "stdout",
     "output_type": "stream",
     "text": [
      "[CV 3/5] END ....max_features=10, n_estimators=50;, score=nan total time=   0.0s\n",
      "[CV 4/5] END ....max_features=10, n_estimators=50;, score=nan total time=   0.0s\n",
      "[CV 5/5] END ....max_features=10, n_estimators=50;, score=nan total time=   0.0s\n",
      "[CV 1/5] END ...max_features=10, n_estimators=100;, score=nan total time=   0.0s\n",
      "[CV 2/5] END ...max_features=10, n_estimators=100;, score=nan total time=   0.0s\n",
      "[CV 3/5] END ...max_features=10, n_estimators=100;, score=nan total time=   0.0s\n",
      "[CV 4/5] END ...max_features=10, n_estimators=100;, score=nan total time=   0.0s\n"
     ]
    },
    {
     "name": "stderr",
     "output_type": "stream",
     "text": [
      "D:\\anaconda3\\envs\\ml_study\\lib\\site-packages\\sklearn\\model_selection\\_validation.py:680: DataConversionWarning: A column-vector y was passed when a 1d array was expected. Please change the shape of y to (n_samples,), for example using ravel().\n",
      "  estimator.fit(X_train, y_train, **fit_params)\n",
      "D:\\anaconda3\\envs\\ml_study\\lib\\site-packages\\sklearn\\model_selection\\_validation.py:680: DataConversionWarning: A column-vector y was passed when a 1d array was expected. Please change the shape of y to (n_samples,), for example using ravel().\n",
      "  estimator.fit(X_train, y_train, **fit_params)\n",
      "D:\\anaconda3\\envs\\ml_study\\lib\\site-packages\\sklearn\\model_selection\\_validation.py:680: DataConversionWarning: A column-vector y was passed when a 1d array was expected. Please change the shape of y to (n_samples,), for example using ravel().\n",
      "  estimator.fit(X_train, y_train, **fit_params)\n",
      "D:\\anaconda3\\envs\\ml_study\\lib\\site-packages\\sklearn\\model_selection\\_validation.py:680: DataConversionWarning: A column-vector y was passed when a 1d array was expected. Please change the shape of y to (n_samples,), for example using ravel().\n",
      "  estimator.fit(X_train, y_train, **fit_params)\n",
      "D:\\anaconda3\\envs\\ml_study\\lib\\site-packages\\sklearn\\model_selection\\_validation.py:680: DataConversionWarning: A column-vector y was passed when a 1d array was expected. Please change the shape of y to (n_samples,), for example using ravel().\n",
      "  estimator.fit(X_train, y_train, **fit_params)\n"
     ]
    },
    {
     "name": "stdout",
     "output_type": "stream",
     "text": [
      "[CV 5/5] END ...max_features=10, n_estimators=100;, score=nan total time=   0.0s\n",
      "[CV 1/5] END ...max_features=10, n_estimators=150;, score=nan total time=   0.0s\n",
      "[CV 2/5] END ...max_features=10, n_estimators=150;, score=nan total time=   0.0s\n",
      "[CV 3/5] END ...max_features=10, n_estimators=150;, score=nan total time=   0.0s\n",
      "[CV 4/5] END ...max_features=10, n_estimators=150;, score=nan total time=   0.0s\n"
     ]
    },
    {
     "name": "stderr",
     "output_type": "stream",
     "text": [
      "D:\\anaconda3\\envs\\ml_study\\lib\\site-packages\\sklearn\\model_selection\\_validation.py:680: DataConversionWarning: A column-vector y was passed when a 1d array was expected. Please change the shape of y to (n_samples,), for example using ravel().\n",
      "  estimator.fit(X_train, y_train, **fit_params)\n",
      "D:\\anaconda3\\envs\\ml_study\\lib\\site-packages\\sklearn\\model_selection\\_validation.py:680: DataConversionWarning: A column-vector y was passed when a 1d array was expected. Please change the shape of y to (n_samples,), for example using ravel().\n",
      "  estimator.fit(X_train, y_train, **fit_params)\n",
      "D:\\anaconda3\\envs\\ml_study\\lib\\site-packages\\sklearn\\model_selection\\_validation.py:680: DataConversionWarning: A column-vector y was passed when a 1d array was expected. Please change the shape of y to (n_samples,), for example using ravel().\n",
      "  estimator.fit(X_train, y_train, **fit_params)\n"
     ]
    },
    {
     "name": "stdout",
     "output_type": "stream",
     "text": [
      "[CV 5/5] END ...max_features=10, n_estimators=150;, score=nan total time=   0.0s\n",
      "[CV 1/5] END ...max_features=10, n_estimators=200;, score=nan total time=   0.0s\n",
      "[CV 2/5] END ...max_features=10, n_estimators=200;, score=nan total time=   0.0s\n",
      "[CV 3/5] END ...max_features=10, n_estimators=200;, score=nan total time=   0.0s\n"
     ]
    },
    {
     "name": "stderr",
     "output_type": "stream",
     "text": [
      "D:\\anaconda3\\envs\\ml_study\\lib\\site-packages\\sklearn\\model_selection\\_validation.py:680: DataConversionWarning: A column-vector y was passed when a 1d array was expected. Please change the shape of y to (n_samples,), for example using ravel().\n",
      "  estimator.fit(X_train, y_train, **fit_params)\n",
      "D:\\anaconda3\\envs\\ml_study\\lib\\site-packages\\sklearn\\model_selection\\_validation.py:680: DataConversionWarning: A column-vector y was passed when a 1d array was expected. Please change the shape of y to (n_samples,), for example using ravel().\n",
      "  estimator.fit(X_train, y_train, **fit_params)\n",
      "D:\\anaconda3\\envs\\ml_study\\lib\\site-packages\\sklearn\\model_selection\\_validation.py:680: DataConversionWarning: A column-vector y was passed when a 1d array was expected. Please change the shape of y to (n_samples,), for example using ravel().\n",
      "  estimator.fit(X_train, y_train, **fit_params)\n"
     ]
    },
    {
     "name": "stdout",
     "output_type": "stream",
     "text": [
      "[CV 4/5] END ...max_features=10, n_estimators=200;, score=nan total time=   0.0s\n",
      "[CV 5/5] END ...max_features=10, n_estimators=200;, score=nan total time=   0.0s\n",
      "[CV 1/5] END ...max_features=10, n_estimators=250;, score=nan total time=   0.0s\n"
     ]
    },
    {
     "name": "stderr",
     "output_type": "stream",
     "text": [
      "D:\\anaconda3\\envs\\ml_study\\lib\\site-packages\\sklearn\\model_selection\\_validation.py:680: DataConversionWarning: A column-vector y was passed when a 1d array was expected. Please change the shape of y to (n_samples,), for example using ravel().\n",
      "  estimator.fit(X_train, y_train, **fit_params)\n",
      "D:\\anaconda3\\envs\\ml_study\\lib\\site-packages\\sklearn\\model_selection\\_validation.py:680: DataConversionWarning: A column-vector y was passed when a 1d array was expected. Please change the shape of y to (n_samples,), for example using ravel().\n",
      "  estimator.fit(X_train, y_train, **fit_params)\n",
      "D:\\anaconda3\\envs\\ml_study\\lib\\site-packages\\sklearn\\model_selection\\_validation.py:680: DataConversionWarning: A column-vector y was passed when a 1d array was expected. Please change the shape of y to (n_samples,), for example using ravel().\n",
      "  estimator.fit(X_train, y_train, **fit_params)\n"
     ]
    },
    {
     "name": "stdout",
     "output_type": "stream",
     "text": [
      "[CV 2/5] END ...max_features=10, n_estimators=250;, score=nan total time=   0.0s\n",
      "[CV 3/5] END ...max_features=10, n_estimators=250;, score=nan total time=   0.0s\n",
      "[CV 4/5] END ...max_features=10, n_estimators=250;, score=nan total time=   0.0s\n",
      "[CV 5/5] END ...max_features=10, n_estimators=250;, score=nan total time=   0.0s\n"
     ]
    },
    {
     "name": "stderr",
     "output_type": "stream",
     "text": [
      "D:\\anaconda3\\envs\\ml_study\\lib\\site-packages\\sklearn\\model_selection\\_validation.py:680: DataConversionWarning: A column-vector y was passed when a 1d array was expected. Please change the shape of y to (n_samples,), for example using ravel().\n",
      "  estimator.fit(X_train, y_train, **fit_params)\n",
      "D:\\anaconda3\\envs\\ml_study\\lib\\site-packages\\sklearn\\model_selection\\_validation.py:680: DataConversionWarning: A column-vector y was passed when a 1d array was expected. Please change the shape of y to (n_samples,), for example using ravel().\n",
      "  estimator.fit(X_train, y_train, **fit_params)\n",
      "D:\\anaconda3\\envs\\ml_study\\lib\\site-packages\\sklearn\\model_selection\\_validation.py:680: DataConversionWarning: A column-vector y was passed when a 1d array was expected. Please change the shape of y to (n_samples,), for example using ravel().\n",
      "  estimator.fit(X_train, y_train, **fit_params)\n"
     ]
    },
    {
     "name": "stdout",
     "output_type": "stream",
     "text": [
      "[CV 1/5] END ...max_features=10, n_estimators=300;, score=nan total time=   0.0s\n",
      "[CV 2/5] END ...max_features=10, n_estimators=300;, score=nan total time=   0.0s\n",
      "[CV 3/5] END ...max_features=10, n_estimators=300;, score=nan total time=   0.0s\n"
     ]
    },
    {
     "name": "stderr",
     "output_type": "stream",
     "text": [
      "D:\\anaconda3\\envs\\ml_study\\lib\\site-packages\\sklearn\\model_selection\\_validation.py:680: DataConversionWarning: A column-vector y was passed when a 1d array was expected. Please change the shape of y to (n_samples,), for example using ravel().\n",
      "  estimator.fit(X_train, y_train, **fit_params)\n",
      "D:\\anaconda3\\envs\\ml_study\\lib\\site-packages\\sklearn\\model_selection\\_validation.py:680: DataConversionWarning: A column-vector y was passed when a 1d array was expected. Please change the shape of y to (n_samples,), for example using ravel().\n",
      "  estimator.fit(X_train, y_train, **fit_params)\n",
      "D:\\anaconda3\\envs\\ml_study\\lib\\site-packages\\sklearn\\model_selection\\_validation.py:680: DataConversionWarning: A column-vector y was passed when a 1d array was expected. Please change the shape of y to (n_samples,), for example using ravel().\n",
      "  estimator.fit(X_train, y_train, **fit_params)\n"
     ]
    },
    {
     "name": "stdout",
     "output_type": "stream",
     "text": [
      "[CV 4/5] END ...max_features=10, n_estimators=300;, score=nan total time=   0.0s\n",
      "[CV 5/5] END ...max_features=10, n_estimators=300;, score=nan total time=   0.0s\n"
     ]
    },
    {
     "name": "stderr",
     "output_type": "stream",
     "text": [
      "D:\\anaconda3\\envs\\ml_study\\lib\\site-packages\\sklearn\\model_selection\\_validation.py:680: DataConversionWarning: A column-vector y was passed when a 1d array was expected. Please change the shape of y to (n_samples,), for example using ravel().\n",
      "  estimator.fit(X_train, y_train, **fit_params)\n",
      "D:\\anaconda3\\envs\\ml_study\\lib\\site-packages\\sklearn\\model_selection\\_validation.py:372: FitFailedWarning: \n",
      "165 fits failed out of a total of 440.\n",
      "The score on these train-test partitions for these parameters will be set to nan.\n",
      "If these failures are not expected, you can try to debug them by setting error_score='raise'.\n",
      "\n",
      "Below are more details about the failures:\n",
      "--------------------------------------------------------------------------------\n",
      "165 fits failed with the following error:\n",
      "Traceback (most recent call last):\n",
      "  File \"D:\\anaconda3\\envs\\ml_study\\lib\\site-packages\\sklearn\\model_selection\\_validation.py\", line 680, in _fit_and_score\n",
      "    estimator.fit(X_train, y_train, **fit_params)\n",
      "  File \"D:\\anaconda3\\envs\\ml_study\\lib\\site-packages\\sklearn\\ensemble\\_forest.py\", line 467, in fit\n",
      "    for i, t in enumerate(trees)\n",
      "  File \"D:\\anaconda3\\envs\\ml_study\\lib\\site-packages\\joblib\\parallel.py\", line 1043, in __call__\n",
      "    if self.dispatch_one_batch(iterator):\n",
      "  File \"D:\\anaconda3\\envs\\ml_study\\lib\\site-packages\\joblib\\parallel.py\", line 861, in dispatch_one_batch\n",
      "    self._dispatch(tasks)\n",
      "  File \"D:\\anaconda3\\envs\\ml_study\\lib\\site-packages\\joblib\\parallel.py\", line 779, in _dispatch\n",
      "    job = self._backend.apply_async(batch, callback=cb)\n",
      "  File \"D:\\anaconda3\\envs\\ml_study\\lib\\site-packages\\joblib\\_parallel_backends.py\", line 208, in apply_async\n",
      "    result = ImmediateResult(func)\n",
      "  File \"D:\\anaconda3\\envs\\ml_study\\lib\\site-packages\\joblib\\_parallel_backends.py\", line 572, in __init__\n",
      "    self.results = batch()\n",
      "  File \"D:\\anaconda3\\envs\\ml_study\\lib\\site-packages\\joblib\\parallel.py\", line 263, in __call__\n",
      "    for func, args, kwargs in self.items]\n",
      "  File \"D:\\anaconda3\\envs\\ml_study\\lib\\site-packages\\joblib\\parallel.py\", line 263, in <listcomp>\n",
      "    for func, args, kwargs in self.items]\n",
      "  File \"D:\\anaconda3\\envs\\ml_study\\lib\\site-packages\\sklearn\\utils\\fixes.py\", line 216, in __call__\n",
      "    return self.function(*args, **kwargs)\n",
      "  File \"D:\\anaconda3\\envs\\ml_study\\lib\\site-packages\\sklearn\\ensemble\\_forest.py\", line 185, in _parallel_build_trees\n",
      "    tree.fit(X, y, sample_weight=curr_sample_weight, check_input=False)\n",
      "  File \"D:\\anaconda3\\envs\\ml_study\\lib\\site-packages\\sklearn\\tree\\_classes.py\", line 942, in fit\n",
      "    X_idx_sorted=X_idx_sorted,\n",
      "  File \"D:\\anaconda3\\envs\\ml_study\\lib\\site-packages\\sklearn\\tree\\_classes.py\", line 308, in fit\n",
      "    raise ValueError(\"max_features must be in (0, n_features]\")\n",
      "ValueError: max_features must be in (0, n_features]\n",
      "\n",
      "  warnings.warn(some_fits_failed_message, FitFailedWarning)\n",
      "D:\\anaconda3\\envs\\ml_study\\lib\\site-packages\\sklearn\\model_selection\\_search.py:972: UserWarning: One or more of the test scores are non-finite: [0.80316765 0.80429759 0.81215641 0.8020504  0.8133054  0.80881102\n",
      " 0.81218181 0.80992827 0.80767473 0.81217546 0.81329905 0.79532787\n",
      " 0.80653844 0.80768108 0.814429   0.80996001 0.80206945 0.81218815\n",
      " 0.80653844 0.80768108 0.80768108 0.80992192 0.79530883 0.81104552\n",
      " 0.8020631  0.80092681 0.79866692 0.80994096 0.81104552 0.80767473\n",
      " 0.80542754 0.80655113 0.80768108 0.78520917 0.80315495 0.79980956\n",
      " 0.80318669 0.81779978 0.81443535 0.8020504  0.80430394 0.80992827\n",
      " 0.8133054  0.80655113 0.79085254 0.8020504  0.79753698 0.80318035\n",
      " 0.79754333 0.80542119 0.79979686 0.803174   0.80992192 0.80879832\n",
      " 0.80429759        nan        nan        nan        nan        nan\n",
      "        nan        nan        nan        nan        nan        nan\n",
      "        nan        nan        nan        nan        nan        nan\n",
      "        nan        nan        nan        nan        nan        nan\n",
      "        nan        nan        nan        nan        nan        nan\n",
      "        nan        nan        nan        nan]\n",
      "  category=UserWarning,\n",
      "D:\\anaconda3\\envs\\ml_study\\lib\\site-packages\\sklearn\\model_selection\\_search.py:926: DataConversionWarning: A column-vector y was passed when a 1d array was expected. Please change the shape of y to (n_samples,), for example using ravel().\n",
      "  self.best_estimator_.fit(X, y, **fit_params)\n"
     ]
    },
    {
     "data": {
      "text/plain": [
       "GridSearchCV(cv=5, estimator=RandomForestClassifier(),\n",
       "             param_grid={'max_features': [3, 4, 5, 6, 7, 8, 9, 10],\n",
       "                         'n_estimators': [5, 10, 20, 30, 40, 50, 100, 150, 200,\n",
       "                                          250, 300]},\n",
       "             verbose=3)"
      ]
     },
     "execution_count": 621,
     "metadata": {},
     "output_type": "execute_result"
    }
   ],
   "source": [
    "X_train_scaled = train_data_last_scaled.drop('Survived', axis=1)\n",
    "y_train_scaled = train_data_last_scaled[['Survived']]\n",
    "\n",
    "rndf_clf2=RandomForestClassifier()\n",
    "grid_search2 = GridSearchCV(rndf_clf, grid_params, cv=5, verbose=3)\n",
    "grid_search2.fit(X_train_scaled.values, y_train_scaled.values)"
   ]
  },
  {
   "cell_type": "code",
   "execution_count": 622,
   "id": "7f64bdc9-fd6b-4eeb-88bb-34815338cd0e",
   "metadata": {},
   "outputs": [
    {
     "data": {
      "text/plain": [
       "0.8177997841680951"
      ]
     },
     "execution_count": 622,
     "metadata": {},
     "output_type": "execute_result"
    }
   ],
   "source": [
    "grid_search2.best_score_"
   ]
  },
  {
   "cell_type": "code",
   "execution_count": 623,
   "id": "eb55bc7c-5775-44f9-aa1b-75400074830e",
   "metadata": {},
   "outputs": [
    {
     "data": {
      "text/plain": [
       "{'max_features': 6, 'n_estimators': 40}"
      ]
     },
     "execution_count": 623,
     "metadata": {},
     "output_type": "execute_result"
    }
   ],
   "source": [
    "grid_search2.best_params_"
   ]
  },
  {
   "cell_type": "markdown",
   "id": "531c6b60-6a3f-4a53-a359-e5908f719680",
   "metadata": {},
   "source": [
    "결과\n",
    "* scaled 한거랑 안한거랑 비슷함 Age도 one hot 한거랑 안한거랑 비슷함.."
   ]
  },
  {
   "cell_type": "code",
   "execution_count": 624,
   "id": "adfeec6c-e537-4844-8650-d4812db81409",
   "metadata": {
    "scrolled": true,
    "tags": []
   },
   "outputs": [
    {
     "name": "stderr",
     "output_type": "stream",
     "text": [
      "D:\\anaconda3\\envs\\ml_study\\lib\\site-packages\\sklearn\\utils\\validation.py:1692: FutureWarning: Feature names only support names that are all strings. Got feature names with dtypes: ['int', 'str']. An error will be raised in 1.2.\n",
      "  FutureWarning,\n",
      "D:\\anaconda3\\envs\\ml_study\\lib\\site-packages\\sklearn\\model_selection\\_validation.py:680: DataConversionWarning: A column-vector y was passed when a 1d array was expected. Please change the shape of y to (n_samples,), for example using ravel().\n",
      "  estimator.fit(X_train, y_train, **fit_params)\n",
      "D:\\anaconda3\\envs\\ml_study\\lib\\site-packages\\sklearn\\utils\\validation.py:1692: FutureWarning: Feature names only support names that are all strings. Got feature names with dtypes: ['int', 'str']. An error will be raised in 1.2.\n",
      "  FutureWarning,\n",
      "D:\\anaconda3\\envs\\ml_study\\lib\\site-packages\\sklearn\\utils\\validation.py:1692: FutureWarning: Feature names only support names that are all strings. Got feature names with dtypes: ['int', 'str']. An error will be raised in 1.2.\n",
      "  FutureWarning,\n",
      "D:\\anaconda3\\envs\\ml_study\\lib\\site-packages\\sklearn\\model_selection\\_validation.py:680: DataConversionWarning: A column-vector y was passed when a 1d array was expected. Please change the shape of y to (n_samples,), for example using ravel().\n",
      "  estimator.fit(X_train, y_train, **fit_params)\n",
      "D:\\anaconda3\\envs\\ml_study\\lib\\site-packages\\sklearn\\utils\\validation.py:1692: FutureWarning: Feature names only support names that are all strings. Got feature names with dtypes: ['int', 'str']. An error will be raised in 1.2.\n",
      "  FutureWarning,\n",
      "D:\\anaconda3\\envs\\ml_study\\lib\\site-packages\\sklearn\\utils\\validation.py:1692: FutureWarning: Feature names only support names that are all strings. Got feature names with dtypes: ['int', 'str']. An error will be raised in 1.2.\n",
      "  FutureWarning,\n",
      "D:\\anaconda3\\envs\\ml_study\\lib\\site-packages\\sklearn\\model_selection\\_validation.py:680: DataConversionWarning: A column-vector y was passed when a 1d array was expected. Please change the shape of y to (n_samples,), for example using ravel().\n",
      "  estimator.fit(X_train, y_train, **fit_params)\n",
      "D:\\anaconda3\\envs\\ml_study\\lib\\site-packages\\sklearn\\utils\\validation.py:1692: FutureWarning: Feature names only support names that are all strings. Got feature names with dtypes: ['int', 'str']. An error will be raised in 1.2.\n",
      "  FutureWarning,\n",
      "D:\\anaconda3\\envs\\ml_study\\lib\\site-packages\\sklearn\\utils\\validation.py:1692: FutureWarning: Feature names only support names that are all strings. Got feature names with dtypes: ['int', 'str']. An error will be raised in 1.2.\n",
      "  FutureWarning,\n",
      "D:\\anaconda3\\envs\\ml_study\\lib\\site-packages\\sklearn\\model_selection\\_validation.py:680: DataConversionWarning: A column-vector y was passed when a 1d array was expected. Please change the shape of y to (n_samples,), for example using ravel().\n",
      "  estimator.fit(X_train, y_train, **fit_params)\n",
      "D:\\anaconda3\\envs\\ml_study\\lib\\site-packages\\sklearn\\utils\\validation.py:1692: FutureWarning: Feature names only support names that are all strings. Got feature names with dtypes: ['int', 'str']. An error will be raised in 1.2.\n",
      "  FutureWarning,\n",
      "D:\\anaconda3\\envs\\ml_study\\lib\\site-packages\\sklearn\\utils\\validation.py:1692: FutureWarning: Feature names only support names that are all strings. Got feature names with dtypes: ['int', 'str']. An error will be raised in 1.2.\n",
      "  FutureWarning,\n",
      "D:\\anaconda3\\envs\\ml_study\\lib\\site-packages\\sklearn\\model_selection\\_validation.py:680: DataConversionWarning: A column-vector y was passed when a 1d array was expected. Please change the shape of y to (n_samples,), for example using ravel().\n",
      "  estimator.fit(X_train, y_train, **fit_params)\n",
      "D:\\anaconda3\\envs\\ml_study\\lib\\site-packages\\sklearn\\utils\\validation.py:1692: FutureWarning: Feature names only support names that are all strings. Got feature names with dtypes: ['int', 'str']. An error will be raised in 1.2.\n",
      "  FutureWarning,\n",
      "D:\\anaconda3\\envs\\ml_study\\lib\\site-packages\\sklearn\\utils\\validation.py:1692: FutureWarning: Feature names only support names that are all strings. Got feature names with dtypes: ['int', 'str']. An error will be raised in 1.2.\n",
      "  FutureWarning,\n",
      "D:\\anaconda3\\envs\\ml_study\\lib\\site-packages\\sklearn\\model_selection\\_validation.py:680: DataConversionWarning: A column-vector y was passed when a 1d array was expected. Please change the shape of y to (n_samples,), for example using ravel().\n",
      "  estimator.fit(X_train, y_train, **fit_params)\n",
      "D:\\anaconda3\\envs\\ml_study\\lib\\site-packages\\sklearn\\utils\\validation.py:1692: FutureWarning: Feature names only support names that are all strings. Got feature names with dtypes: ['int', 'str']. An error will be raised in 1.2.\n",
      "  FutureWarning,\n",
      "D:\\anaconda3\\envs\\ml_study\\lib\\site-packages\\sklearn\\utils\\validation.py:1692: FutureWarning: Feature names only support names that are all strings. Got feature names with dtypes: ['int', 'str']. An error will be raised in 1.2.\n",
      "  FutureWarning,\n",
      "D:\\anaconda3\\envs\\ml_study\\lib\\site-packages\\sklearn\\model_selection\\_validation.py:680: DataConversionWarning: A column-vector y was passed when a 1d array was expected. Please change the shape of y to (n_samples,), for example using ravel().\n",
      "  estimator.fit(X_train, y_train, **fit_params)\n",
      "D:\\anaconda3\\envs\\ml_study\\lib\\site-packages\\sklearn\\utils\\validation.py:1692: FutureWarning: Feature names only support names that are all strings. Got feature names with dtypes: ['int', 'str']. An error will be raised in 1.2.\n",
      "  FutureWarning,\n",
      "D:\\anaconda3\\envs\\ml_study\\lib\\site-packages\\sklearn\\utils\\validation.py:1692: FutureWarning: Feature names only support names that are all strings. Got feature names with dtypes: ['int', 'str']. An error will be raised in 1.2.\n",
      "  FutureWarning,\n",
      "D:\\anaconda3\\envs\\ml_study\\lib\\site-packages\\sklearn\\model_selection\\_validation.py:680: DataConversionWarning: A column-vector y was passed when a 1d array was expected. Please change the shape of y to (n_samples,), for example using ravel().\n",
      "  estimator.fit(X_train, y_train, **fit_params)\n",
      "D:\\anaconda3\\envs\\ml_study\\lib\\site-packages\\sklearn\\utils\\validation.py:1692: FutureWarning: Feature names only support names that are all strings. Got feature names with dtypes: ['int', 'str']. An error will be raised in 1.2.\n",
      "  FutureWarning,\n",
      "D:\\anaconda3\\envs\\ml_study\\lib\\site-packages\\sklearn\\utils\\validation.py:1692: FutureWarning: Feature names only support names that are all strings. Got feature names with dtypes: ['int', 'str']. An error will be raised in 1.2.\n",
      "  FutureWarning,\n",
      "D:\\anaconda3\\envs\\ml_study\\lib\\site-packages\\sklearn\\model_selection\\_validation.py:680: DataConversionWarning: A column-vector y was passed when a 1d array was expected. Please change the shape of y to (n_samples,), for example using ravel().\n",
      "  estimator.fit(X_train, y_train, **fit_params)\n",
      "D:\\anaconda3\\envs\\ml_study\\lib\\site-packages\\sklearn\\utils\\validation.py:1692: FutureWarning: Feature names only support names that are all strings. Got feature names with dtypes: ['int', 'str']. An error will be raised in 1.2.\n",
      "  FutureWarning,\n",
      "D:\\anaconda3\\envs\\ml_study\\lib\\site-packages\\sklearn\\utils\\validation.py:1692: FutureWarning: Feature names only support names that are all strings. Got feature names with dtypes: ['int', 'str']. An error will be raised in 1.2.\n",
      "  FutureWarning,\n",
      "D:\\anaconda3\\envs\\ml_study\\lib\\site-packages\\sklearn\\model_selection\\_validation.py:680: DataConversionWarning: A column-vector y was passed when a 1d array was expected. Please change the shape of y to (n_samples,), for example using ravel().\n",
      "  estimator.fit(X_train, y_train, **fit_params)\n",
      "D:\\anaconda3\\envs\\ml_study\\lib\\site-packages\\sklearn\\utils\\validation.py:1692: FutureWarning: Feature names only support names that are all strings. Got feature names with dtypes: ['int', 'str']. An error will be raised in 1.2.\n",
      "  FutureWarning,\n"
     ]
    },
    {
     "data": {
      "text/plain": [
       "0.8212078651685394"
      ]
     },
     "execution_count": 624,
     "metadata": {},
     "output_type": "execute_result"
    }
   ],
   "source": [
    "from sklearn.model_selection import cross_val_score\n",
    "\n",
    "forest_scores = cross_val_score(grid_search.best_estimator_, X_train, y_train, cv=10)\n",
    "forest_scores.mean()"
   ]
  },
  {
   "cell_type": "code",
   "execution_count": 625,
   "id": "9a0eb5f9-b866-40a6-b21d-d18403132170",
   "metadata": {
    "scrolled": true,
    "tags": []
   },
   "outputs": [
    {
     "name": "stderr",
     "output_type": "stream",
     "text": [
      "D:\\anaconda3\\envs\\ml_study\\lib\\site-packages\\sklearn\\utils\\validation.py:1692: FutureWarning: Feature names only support names that are all strings. Got feature names with dtypes: ['int', 'str']. An error will be raised in 1.2.\n",
      "  FutureWarning,\n",
      "D:\\anaconda3\\envs\\ml_study\\lib\\site-packages\\sklearn\\utils\\validation.py:993: DataConversionWarning: A column-vector y was passed when a 1d array was expected. Please change the shape of y to (n_samples, ), for example using ravel().\n",
      "  y = column_or_1d(y, warn=True)\n",
      "D:\\anaconda3\\envs\\ml_study\\lib\\site-packages\\sklearn\\utils\\validation.py:1692: FutureWarning: Feature names only support names that are all strings. Got feature names with dtypes: ['int', 'str']. An error will be raised in 1.2.\n",
      "  FutureWarning,\n",
      "D:\\anaconda3\\envs\\ml_study\\lib\\site-packages\\sklearn\\utils\\validation.py:1692: FutureWarning: Feature names only support names that are all strings. Got feature names with dtypes: ['int', 'str']. An error will be raised in 1.2.\n",
      "  FutureWarning,\n",
      "D:\\anaconda3\\envs\\ml_study\\lib\\site-packages\\sklearn\\utils\\validation.py:993: DataConversionWarning: A column-vector y was passed when a 1d array was expected. Please change the shape of y to (n_samples, ), for example using ravel().\n",
      "  y = column_or_1d(y, warn=True)\n",
      "D:\\anaconda3\\envs\\ml_study\\lib\\site-packages\\sklearn\\utils\\validation.py:1692: FutureWarning: Feature names only support names that are all strings. Got feature names with dtypes: ['int', 'str']. An error will be raised in 1.2.\n",
      "  FutureWarning,\n",
      "D:\\anaconda3\\envs\\ml_study\\lib\\site-packages\\sklearn\\utils\\validation.py:1692: FutureWarning: Feature names only support names that are all strings. Got feature names with dtypes: ['int', 'str']. An error will be raised in 1.2.\n",
      "  FutureWarning,\n",
      "D:\\anaconda3\\envs\\ml_study\\lib\\site-packages\\sklearn\\utils\\validation.py:993: DataConversionWarning: A column-vector y was passed when a 1d array was expected. Please change the shape of y to (n_samples, ), for example using ravel().\n",
      "  y = column_or_1d(y, warn=True)\n",
      "D:\\anaconda3\\envs\\ml_study\\lib\\site-packages\\sklearn\\utils\\validation.py:1692: FutureWarning: Feature names only support names that are all strings. Got feature names with dtypes: ['int', 'str']. An error will be raised in 1.2.\n",
      "  FutureWarning,\n",
      "D:\\anaconda3\\envs\\ml_study\\lib\\site-packages\\sklearn\\utils\\validation.py:1692: FutureWarning: Feature names only support names that are all strings. Got feature names with dtypes: ['int', 'str']. An error will be raised in 1.2.\n",
      "  FutureWarning,\n",
      "D:\\anaconda3\\envs\\ml_study\\lib\\site-packages\\sklearn\\utils\\validation.py:993: DataConversionWarning: A column-vector y was passed when a 1d array was expected. Please change the shape of y to (n_samples, ), for example using ravel().\n",
      "  y = column_or_1d(y, warn=True)\n",
      "D:\\anaconda3\\envs\\ml_study\\lib\\site-packages\\sklearn\\utils\\validation.py:1692: FutureWarning: Feature names only support names that are all strings. Got feature names with dtypes: ['int', 'str']. An error will be raised in 1.2.\n",
      "  FutureWarning,\n",
      "D:\\anaconda3\\envs\\ml_study\\lib\\site-packages\\sklearn\\utils\\validation.py:1692: FutureWarning: Feature names only support names that are all strings. Got feature names with dtypes: ['int', 'str']. An error will be raised in 1.2.\n",
      "  FutureWarning,\n",
      "D:\\anaconda3\\envs\\ml_study\\lib\\site-packages\\sklearn\\utils\\validation.py:993: DataConversionWarning: A column-vector y was passed when a 1d array was expected. Please change the shape of y to (n_samples, ), for example using ravel().\n",
      "  y = column_or_1d(y, warn=True)\n",
      "D:\\anaconda3\\envs\\ml_study\\lib\\site-packages\\sklearn\\utils\\validation.py:1692: FutureWarning: Feature names only support names that are all strings. Got feature names with dtypes: ['int', 'str']. An error will be raised in 1.2.\n",
      "  FutureWarning,\n",
      "D:\\anaconda3\\envs\\ml_study\\lib\\site-packages\\sklearn\\utils\\validation.py:1692: FutureWarning: Feature names only support names that are all strings. Got feature names with dtypes: ['int', 'str']. An error will be raised in 1.2.\n",
      "  FutureWarning,\n",
      "D:\\anaconda3\\envs\\ml_study\\lib\\site-packages\\sklearn\\utils\\validation.py:993: DataConversionWarning: A column-vector y was passed when a 1d array was expected. Please change the shape of y to (n_samples, ), for example using ravel().\n",
      "  y = column_or_1d(y, warn=True)\n",
      "D:\\anaconda3\\envs\\ml_study\\lib\\site-packages\\sklearn\\utils\\validation.py:1692: FutureWarning: Feature names only support names that are all strings. Got feature names with dtypes: ['int', 'str']. An error will be raised in 1.2.\n",
      "  FutureWarning,\n",
      "D:\\anaconda3\\envs\\ml_study\\lib\\site-packages\\sklearn\\utils\\validation.py:1692: FutureWarning: Feature names only support names that are all strings. Got feature names with dtypes: ['int', 'str']. An error will be raised in 1.2.\n",
      "  FutureWarning,\n",
      "D:\\anaconda3\\envs\\ml_study\\lib\\site-packages\\sklearn\\utils\\validation.py:993: DataConversionWarning: A column-vector y was passed when a 1d array was expected. Please change the shape of y to (n_samples, ), for example using ravel().\n",
      "  y = column_or_1d(y, warn=True)\n",
      "D:\\anaconda3\\envs\\ml_study\\lib\\site-packages\\sklearn\\utils\\validation.py:1692: FutureWarning: Feature names only support names that are all strings. Got feature names with dtypes: ['int', 'str']. An error will be raised in 1.2.\n",
      "  FutureWarning,\n",
      "D:\\anaconda3\\envs\\ml_study\\lib\\site-packages\\sklearn\\utils\\validation.py:1692: FutureWarning: Feature names only support names that are all strings. Got feature names with dtypes: ['int', 'str']. An error will be raised in 1.2.\n",
      "  FutureWarning,\n",
      "D:\\anaconda3\\envs\\ml_study\\lib\\site-packages\\sklearn\\utils\\validation.py:993: DataConversionWarning: A column-vector y was passed when a 1d array was expected. Please change the shape of y to (n_samples, ), for example using ravel().\n",
      "  y = column_or_1d(y, warn=True)\n",
      "D:\\anaconda3\\envs\\ml_study\\lib\\site-packages\\sklearn\\utils\\validation.py:1692: FutureWarning: Feature names only support names that are all strings. Got feature names with dtypes: ['int', 'str']. An error will be raised in 1.2.\n",
      "  FutureWarning,\n",
      "D:\\anaconda3\\envs\\ml_study\\lib\\site-packages\\sklearn\\utils\\validation.py:1692: FutureWarning: Feature names only support names that are all strings. Got feature names with dtypes: ['int', 'str']. An error will be raised in 1.2.\n",
      "  FutureWarning,\n",
      "D:\\anaconda3\\envs\\ml_study\\lib\\site-packages\\sklearn\\utils\\validation.py:993: DataConversionWarning: A column-vector y was passed when a 1d array was expected. Please change the shape of y to (n_samples, ), for example using ravel().\n",
      "  y = column_or_1d(y, warn=True)\n",
      "D:\\anaconda3\\envs\\ml_study\\lib\\site-packages\\sklearn\\utils\\validation.py:1692: FutureWarning: Feature names only support names that are all strings. Got feature names with dtypes: ['int', 'str']. An error will be raised in 1.2.\n",
      "  FutureWarning,\n",
      "D:\\anaconda3\\envs\\ml_study\\lib\\site-packages\\sklearn\\utils\\validation.py:1692: FutureWarning: Feature names only support names that are all strings. Got feature names with dtypes: ['int', 'str']. An error will be raised in 1.2.\n",
      "  FutureWarning,\n",
      "D:\\anaconda3\\envs\\ml_study\\lib\\site-packages\\sklearn\\utils\\validation.py:993: DataConversionWarning: A column-vector y was passed when a 1d array was expected. Please change the shape of y to (n_samples, ), for example using ravel().\n",
      "  y = column_or_1d(y, warn=True)\n",
      "D:\\anaconda3\\envs\\ml_study\\lib\\site-packages\\sklearn\\utils\\validation.py:1692: FutureWarning: Feature names only support names that are all strings. Got feature names with dtypes: ['int', 'str']. An error will be raised in 1.2.\n",
      "  FutureWarning,\n"
     ]
    },
    {
     "data": {
      "text/plain": [
       "0.7300689479060265"
      ]
     },
     "execution_count": 625,
     "metadata": {},
     "output_type": "execute_result"
    }
   ],
   "source": [
    "from sklearn.svm import SVC\n",
    "\n",
    "svm_clf = SVC(gamma=\"auto\")\n",
    "svm_scores = cross_val_score(svm_clf, X_train, y_train, cv=10)\n",
    "svm_scores.mean()"
   ]
  },
  {
   "cell_type": "markdown",
   "id": "c77daa92-7f49-47ea-82b0-d8b2c16270d4",
   "metadata": {},
   "source": [
    "책에서 제시한 정답"
   ]
  },
  {
   "cell_type": "code",
   "execution_count": 628,
   "id": "03ec3787-b2ba-4b7a-8998-fc507aa71f44",
   "metadata": {},
   "outputs": [],
   "source": [
    "from sklearn.pipeline import Pipeline\n",
    "from sklearn.impute import SimpleImputer\n",
    "from sklearn.preprocessing import StandardScaler, OneHotEncoder\n",
    "from sklearn.compose import ColumnTransformer\n",
    "\n",
    "num_pipeline = Pipeline([\n",
    "    ('imputer', SimpleImputer(strategy='median')),\n",
    "    ('scaler', StandardScaler())\n",
    "])\n",
    "\n",
    "cat_pipeline = Pipeline([\n",
    "    ('imputer', SimpleImputer(strategy='most_frequent')),\n",
    "    ('cat_encoder', OneHotEncoder(sparse=False))\n",
    "])\n",
    "\n",
    "num_attr = ['Age', 'SibSp', 'Parch', 'Fare']\n",
    "cat_attr = ['Pclass', 'Sex', 'Embarked']\n",
    "\n",
    "preprocess_pipeline = ColumnTransformer([\n",
    "    ('num', num_pipeline, num_attr),\n",
    "    ('cat', cat_pipeline, cat_attr)\n",
    "])"
   ]
  },
  {
   "cell_type": "code",
   "execution_count": 629,
   "id": "90fe74a7-9f33-4bc7-a0ea-33d69d9c6d3b",
   "metadata": {},
   "outputs": [
    {
     "data": {
      "text/plain": [
       "array([[-0.56459877,  0.43135024, -0.47432585, ...,  0.        ,\n",
       "         0.        ,  1.        ],\n",
       "       [ 0.66826167,  0.43135024, -0.47432585, ...,  1.        ,\n",
       "         0.        ,  0.        ],\n",
       "       [-0.25638366, -0.47519908, -0.47432585, ...,  0.        ,\n",
       "         0.        ,  1.        ],\n",
       "       ...,\n",
       "       [-0.10227611,  0.43135024,  2.00611934, ...,  0.        ,\n",
       "         0.        ,  1.        ],\n",
       "       [-0.25638366, -0.47519908, -0.47432585, ...,  1.        ,\n",
       "         0.        ,  0.        ],\n",
       "       [ 0.20593901, -0.47519908, -0.47432585, ...,  0.        ,\n",
       "         1.        ,  0.        ]])"
      ]
     },
     "execution_count": 629,
     "metadata": {},
     "output_type": "execute_result"
    }
   ],
   "source": [
    "X_train_book = preprocess_pipeline.fit_transform(train_data[num_attr+cat_attr])\n",
    "X_train_book"
   ]
  },
  {
   "cell_type": "code",
   "execution_count": 631,
   "id": "087044d5-577a-4d17-93d7-57e51954fbd4",
   "metadata": {},
   "outputs": [
    {
     "data": {
      "text/plain": [
       "0      0\n",
       "1      1\n",
       "2      1\n",
       "3      1\n",
       "4      0\n",
       "      ..\n",
       "886    0\n",
       "887    1\n",
       "888    0\n",
       "889    1\n",
       "890    0\n",
       "Name: Survived, Length: 889, dtype: int64"
      ]
     },
     "execution_count": 631,
     "metadata": {},
     "output_type": "execute_result"
    }
   ],
   "source": [
    "y_train_book = train_data['Survived']\n",
    "y_train_book"
   ]
  },
  {
   "cell_type": "code",
   "execution_count": null,
   "id": "714fd7aa-b2a0-42ac-abe9-835204feaa26",
   "metadata": {
    "scrolled": true,
    "tags": []
   },
   "outputs": [
    {
     "name": "stdout",
     "output_type": "stream",
     "text": [
      "Fitting 5 folds for each of 88 candidates, totalling 440 fits\n",
      "[CV 1/5] END ....max_features=3, n_estimators=5;, score=0.747 total time=   0.0s\n",
      "[CV 2/5] END ....max_features=3, n_estimators=5;, score=0.764 total time=   0.0s\n",
      "[CV 3/5] END ....max_features=3, n_estimators=5;, score=0.831 total time=   0.0s\n",
      "[CV 4/5] END ....max_features=3, n_estimators=5;, score=0.775 total time=   0.0s\n",
      "[CV 5/5] END ....max_features=3, n_estimators=5;, score=0.791 total time=   0.0s\n",
      "[CV 1/5] END ...max_features=3, n_estimators=10;, score=0.775 total time=   0.0s\n",
      "[CV 2/5] END ...max_features=3, n_estimators=10;, score=0.787 total time=   0.0s\n",
      "[CV 3/5] END ...max_features=3, n_estimators=10;, score=0.843 total time=   0.0s\n",
      "[CV 4/5] END ...max_features=3, n_estimators=10;, score=0.787 total time=   0.0s\n",
      "[CV 5/5] END ...max_features=3, n_estimators=10;, score=0.814 total time=   0.0s\n",
      "[CV 1/5] END ...max_features=3, n_estimators=20;, score=0.787 total time=   0.0s\n",
      "[CV 2/5] END ...max_features=3, n_estimators=20;, score=0.787 total time=   0.0s\n",
      "[CV 3/5] END ...max_features=3, n_estimators=20;, score=0.831 total time=   0.0s\n",
      "[CV 4/5] END ...max_features=3, n_estimators=20;, score=0.781 total time=   0.0s\n",
      "[CV 5/5] END ...max_features=3, n_estimators=20;, score=0.814 total time=   0.0s\n",
      "[CV 1/5] END ...max_features=3, n_estimators=30;, score=0.792 total time=   0.0s\n",
      "[CV 2/5] END ...max_features=3, n_estimators=30;, score=0.803 total time=   0.0s\n",
      "[CV 3/5] END ...max_features=3, n_estimators=30;, score=0.831 total time=   0.0s\n",
      "[CV 4/5] END ...max_features=3, n_estimators=30;, score=0.781 total time=   0.0s\n",
      "[CV 5/5] END ...max_features=3, n_estimators=30;, score=0.819 total time=   0.0s\n",
      "[CV 1/5] END ...max_features=3, n_estimators=40;, score=0.787 total time=   0.0s\n",
      "[CV 2/5] END ...max_features=3, n_estimators=40;, score=0.815 total time=   0.0s\n",
      "[CV 3/5] END ...max_features=3, n_estimators=40;, score=0.837 total time=   0.0s\n",
      "[CV 4/5] END ...max_features=3, n_estimators=40;, score=0.775 total time=   0.0s\n",
      "[CV 5/5] END ...max_features=3, n_estimators=40;, score=0.836 total time=   0.0s\n",
      "[CV 1/5] END ...max_features=3, n_estimators=50;, score=0.775 total time=   0.0s\n",
      "[CV 2/5] END ...max_features=3, n_estimators=50;, score=0.809 total time=   0.0s\n",
      "[CV 3/5] END ...max_features=3, n_estimators=50;, score=0.848 total time=   0.0s\n",
      "[CV 4/5] END ...max_features=3, n_estimators=50;, score=0.770 total time=   0.0s\n",
      "[CV 5/5] END ...max_features=3, n_estimators=50;, score=0.814 total time=   0.0s\n",
      "[CV 1/5] END ..max_features=3, n_estimators=100;, score=0.798 total time=   0.2s\n",
      "[CV 2/5] END ..max_features=3, n_estimators=100;, score=0.798 total time=   0.1s\n",
      "[CV 3/5] END ..max_features=3, n_estimators=100;, score=0.848 total time=   0.1s\n",
      "[CV 4/5] END ..max_features=3, n_estimators=100;, score=0.781 total time=   0.1s\n",
      "[CV 5/5] END ..max_features=3, n_estimators=100;, score=0.819 total time=   0.1s\n",
      "[CV 1/5] END ..max_features=3, n_estimators=150;, score=0.787 total time=   0.1s\n",
      "[CV 2/5] END ..max_features=3, n_estimators=150;, score=0.815 total time=   0.1s\n",
      "[CV 3/5] END ..max_features=3, n_estimators=150;, score=0.848 total time=   0.1s\n",
      "[CV 4/5] END ..max_features=3, n_estimators=150;, score=0.775 total time=   0.1s\n",
      "[CV 5/5] END ..max_features=3, n_estimators=150;, score=0.819 total time=   0.1s\n",
      "[CV 1/5] END ..max_features=3, n_estimators=200;, score=0.792 total time=   0.2s\n",
      "[CV 2/5] END ..max_features=3, n_estimators=200;, score=0.803 total time=   0.2s\n",
      "[CV 3/5] END ..max_features=3, n_estimators=200;, score=0.854 total time=   0.2s\n",
      "[CV 4/5] END ..max_features=3, n_estimators=200;, score=0.781 total time=   0.3s\n",
      "[CV 5/5] END ..max_features=3, n_estimators=200;, score=0.814 total time=   0.2s\n",
      "[CV 1/5] END ..max_features=3, n_estimators=250;, score=0.792 total time=   0.4s\n",
      "[CV 2/5] END ..max_features=3, n_estimators=250;, score=0.809 total time=   0.3s\n",
      "[CV 3/5] END ..max_features=3, n_estimators=250;, score=0.848 total time=   0.3s\n",
      "[CV 4/5] END ..max_features=3, n_estimators=250;, score=0.775 total time=   0.3s\n",
      "[CV 5/5] END ..max_features=3, n_estimators=250;, score=0.825 total time=   0.3s\n",
      "[CV 1/5] END ..max_features=3, n_estimators=300;, score=0.775 total time=   0.4s\n",
      "[CV 2/5] END ..max_features=3, n_estimators=300;, score=0.815 total time=   0.5s\n",
      "[CV 3/5] END ..max_features=3, n_estimators=300;, score=0.848 total time=   0.4s\n",
      "[CV 4/5] END ..max_features=3, n_estimators=300;, score=0.775 total time=   0.4s\n",
      "[CV 5/5] END ..max_features=3, n_estimators=300;, score=0.819 total time=   0.4s\n",
      "[CV 1/5] END ....max_features=4, n_estimators=5;, score=0.747 total time=   0.0s\n",
      "[CV 2/5] END ....max_features=4, n_estimators=5;, score=0.798 total time=   0.0s\n",
      "[CV 3/5] END ....max_features=4, n_estimators=5;, score=0.820 total time=   0.0s\n",
      "[CV 4/5] END ....max_features=4, n_estimators=5;, score=0.809 total time=   0.0s\n",
      "[CV 5/5] END ....max_features=4, n_estimators=5;, score=0.814 total time=   0.0s\n",
      "[CV 1/5] END ...max_features=4, n_estimators=10;, score=0.758 total time=   0.0s\n",
      "[CV 2/5] END ...max_features=4, n_estimators=10;, score=0.787 total time=   0.0s\n",
      "[CV 3/5] END ...max_features=4, n_estimators=10;, score=0.837 total time=   0.0s\n",
      "[CV 4/5] END ...max_features=4, n_estimators=10;, score=0.787 total time=   0.0s\n",
      "[CV 5/5] END ...max_features=4, n_estimators=10;, score=0.853 total time=   0.0s\n",
      "[CV 1/5] END ...max_features=4, n_estimators=20;, score=0.803 total time=   0.0s\n",
      "[CV 2/5] END ...max_features=4, n_estimators=20;, score=0.815 total time=   0.0s\n",
      "[CV 3/5] END ...max_features=4, n_estimators=20;, score=0.826 total time=   0.0s\n",
      "[CV 4/5] END ...max_features=4, n_estimators=20;, score=0.770 total time=   0.0s\n",
      "[CV 5/5] END ...max_features=4, n_estimators=20;, score=0.825 total time=   0.0s\n",
      "[CV 1/5] END ...max_features=4, n_estimators=30;, score=0.798 total time=   0.0s\n",
      "[CV 2/5] END ...max_features=4, n_estimators=30;, score=0.781 total time=   0.0s\n",
      "[CV 3/5] END ...max_features=4, n_estimators=30;, score=0.848 total time=   0.0s\n",
      "[CV 4/5] END ...max_features=4, n_estimators=30;, score=0.798 total time=   0.0s\n",
      "[CV 5/5] END ...max_features=4, n_estimators=30;, score=0.847 total time=   0.0s\n",
      "[CV 1/5] END ...max_features=4, n_estimators=40;, score=0.787 total time=   0.0s\n",
      "[CV 2/5] END ...max_features=4, n_estimators=40;, score=0.831 total time=   0.0s\n",
      "[CV 3/5] END ...max_features=4, n_estimators=40;, score=0.843 total time=   0.0s\n",
      "[CV 4/5] END ...max_features=4, n_estimators=40;, score=0.792 total time=   0.0s\n",
      "[CV 5/5] END ...max_features=4, n_estimators=40;, score=0.831 total time=   0.0s\n",
      "[CV 1/5] END ...max_features=4, n_estimators=50;, score=0.775 total time=   0.0s\n",
      "[CV 2/5] END ...max_features=4, n_estimators=50;, score=0.792 total time=   0.0s\n",
      "[CV 3/5] END ...max_features=4, n_estimators=50;, score=0.837 total time=   0.0s\n",
      "[CV 4/5] END ...max_features=4, n_estimators=50;, score=0.781 total time=   0.0s\n",
      "[CV 5/5] END ...max_features=4, n_estimators=50;, score=0.825 total time=   0.0s\n",
      "[CV 1/5] END ..max_features=4, n_estimators=100;, score=0.775 total time=   0.1s\n",
      "[CV 2/5] END ..max_features=4, n_estimators=100;, score=0.815 total time=   0.1s\n",
      "[CV 3/5] END ..max_features=4, n_estimators=100;, score=0.848 total time=   0.1s\n",
      "[CV 4/5] END ..max_features=4, n_estimators=100;, score=0.781 total time=   0.1s\n",
      "[CV 5/5] END ..max_features=4, n_estimators=100;, score=0.836 total time=   0.1s\n",
      "[CV 1/5] END ..max_features=4, n_estimators=150;, score=0.792 total time=   0.2s\n",
      "[CV 2/5] END ..max_features=4, n_estimators=150;, score=0.809 total time=   0.2s\n",
      "[CV 3/5] END ..max_features=4, n_estimators=150;, score=0.854 total time=   0.2s\n",
      "[CV 4/5] END ..max_features=4, n_estimators=150;, score=0.770 total time=   0.2s\n",
      "[CV 5/5] END ..max_features=4, n_estimators=150;, score=0.814 total time=   0.2s\n",
      "[CV 1/5] END ..max_features=4, n_estimators=200;, score=0.787 total time=   0.2s\n",
      "[CV 2/5] END ..max_features=4, n_estimators=200;, score=0.809 total time=   0.2s\n",
      "[CV 3/5] END ..max_features=4, n_estimators=200;, score=0.848 total time=   0.3s\n",
      "[CV 4/5] END ..max_features=4, n_estimators=200;, score=0.781 total time=   0.2s\n",
      "[CV 5/5] END ..max_features=4, n_estimators=200;, score=0.825 total time=   0.3s\n",
      "[CV 1/5] END ..max_features=4, n_estimators=250;, score=0.787 total time=   0.3s\n",
      "[CV 2/5] END ..max_features=4, n_estimators=250;, score=0.809 total time=   0.3s\n",
      "[CV 3/5] END ..max_features=4, n_estimators=250;, score=0.848 total time=   0.3s\n",
      "[CV 4/5] END ..max_features=4, n_estimators=250;, score=0.775 total time=   0.3s\n",
      "[CV 5/5] END ..max_features=4, n_estimators=250;, score=0.825 total time=   0.3s\n",
      "[CV 1/5] END ..max_features=4, n_estimators=300;, score=0.781 total time=   0.3s\n",
      "[CV 2/5] END ..max_features=4, n_estimators=300;, score=0.809 total time=   0.4s\n",
      "[CV 3/5] END ..max_features=4, n_estimators=300;, score=0.848 total time=   0.3s\n",
      "[CV 4/5] END ..max_features=4, n_estimators=300;, score=0.781 total time=   0.3s\n",
      "[CV 5/5] END ..max_features=4, n_estimators=300;, score=0.831 total time=   0.4s\n",
      "[CV 1/5] END ....max_features=5, n_estimators=5;, score=0.792 total time=   0.0s\n",
      "[CV 2/5] END ....max_features=5, n_estimators=5;, score=0.792 total time=   0.0s\n",
      "[CV 3/5] END ....max_features=5, n_estimators=5;, score=0.820 total time=   0.0s\n",
      "[CV 4/5] END ....max_features=5, n_estimators=5;, score=0.787 total time=   0.0s\n",
      "[CV 5/5] END ....max_features=5, n_estimators=5;, score=0.819 total time=   0.0s\n",
      "[CV 1/5] END ...max_features=5, n_estimators=10;, score=0.798 total time=   0.0s\n",
      "[CV 2/5] END ...max_features=5, n_estimators=10;, score=0.798 total time=   0.0s\n",
      "[CV 3/5] END ...max_features=5, n_estimators=10;, score=0.820 total time=   0.0s\n",
      "[CV 4/5] END ...max_features=5, n_estimators=10;, score=0.787 total time=   0.0s\n",
      "[CV 5/5] END ...max_features=5, n_estimators=10;, score=0.842 total time=   0.0s\n",
      "[CV 1/5] END ...max_features=5, n_estimators=20;, score=0.803 total time=   0.0s\n",
      "[CV 2/5] END ...max_features=5, n_estimators=20;, score=0.798 total time=   0.0s\n",
      "[CV 3/5] END ...max_features=5, n_estimators=20;, score=0.854 total time=   0.0s\n",
      "[CV 4/5] END ...max_features=5, n_estimators=20;, score=0.775 total time=   0.0s\n",
      "[CV 5/5] END ...max_features=5, n_estimators=20;, score=0.836 total time=   0.0s\n",
      "[CV 1/5] END ...max_features=5, n_estimators=30;, score=0.815 total time=   0.0s\n",
      "[CV 2/5] END ...max_features=5, n_estimators=30;, score=0.815 total time=   0.0s\n",
      "[CV 3/5] END ...max_features=5, n_estimators=30;, score=0.837 total time=   0.0s\n",
      "[CV 4/5] END ...max_features=5, n_estimators=30;, score=0.770 total time=   0.0s\n",
      "[CV 5/5] END ...max_features=5, n_estimators=30;, score=0.842 total time=   0.0s\n",
      "[CV 1/5] END ...max_features=5, n_estimators=40;, score=0.798 total time=   0.0s\n",
      "[CV 2/5] END ...max_features=5, n_estimators=40;, score=0.809 total time=   0.0s\n",
      "[CV 3/5] END ...max_features=5, n_estimators=40;, score=0.871 total time=   0.0s\n",
      "[CV 4/5] END ...max_features=5, n_estimators=40;, score=0.787 total time=   0.0s\n",
      "[CV 5/5] END ...max_features=5, n_estimators=40;, score=0.836 total time=   0.0s\n",
      "[CV 1/5] END ...max_features=5, n_estimators=50;, score=0.792 total time=   0.0s\n",
      "[CV 2/5] END ...max_features=5, n_estimators=50;, score=0.815 total time=   0.0s\n",
      "[CV 3/5] END ...max_features=5, n_estimators=50;, score=0.848 total time=   0.0s\n",
      "[CV 4/5] END ...max_features=5, n_estimators=50;, score=0.775 total time=   0.0s\n",
      "[CV 5/5] END ...max_features=5, n_estimators=50;, score=0.842 total time=   0.0s\n",
      "[CV 1/5] END ..max_features=5, n_estimators=100;, score=0.787 total time=   0.1s\n",
      "[CV 2/5] END ..max_features=5, n_estimators=100;, score=0.815 total time=   0.0s\n",
      "[CV 3/5] END ..max_features=5, n_estimators=100;, score=0.854 total time=   0.1s\n",
      "[CV 4/5] END ..max_features=5, n_estimators=100;, score=0.775 total time=   0.0s\n",
      "[CV 5/5] END ..max_features=5, n_estimators=100;, score=0.836 total time=   0.0s\n",
      "[CV 1/5] END ..max_features=5, n_estimators=150;, score=0.775 total time=   0.1s\n",
      "[CV 2/5] END ..max_features=5, n_estimators=150;, score=0.815 total time=   0.1s\n",
      "[CV 3/5] END ..max_features=5, n_estimators=150;, score=0.854 total time=   0.1s\n",
      "[CV 4/5] END ..max_features=5, n_estimators=150;, score=0.775 total time=   0.1s\n",
      "[CV 5/5] END ..max_features=5, n_estimators=150;, score=0.842 total time=   0.1s\n",
      "[CV 1/5] END ..max_features=5, n_estimators=200;, score=0.803 total time=   0.2s\n",
      "[CV 2/5] END ..max_features=5, n_estimators=200;, score=0.809 total time=   0.2s\n",
      "[CV 3/5] END ..max_features=5, n_estimators=200;, score=0.848 total time=   0.2s\n",
      "[CV 4/5] END ..max_features=5, n_estimators=200;, score=0.775 total time=   0.2s\n",
      "[CV 5/5] END ..max_features=5, n_estimators=200;, score=0.825 total time=   0.3s\n",
      "[CV 1/5] END ..max_features=5, n_estimators=250;, score=0.798 total time=   0.4s\n",
      "[CV 2/5] END ..max_features=5, n_estimators=250;, score=0.815 total time=   0.3s\n",
      "[CV 3/5] END ..max_features=5, n_estimators=250;, score=0.854 total time=   0.3s\n",
      "[CV 4/5] END ..max_features=5, n_estimators=250;, score=0.781 total time=   0.3s\n",
      "[CV 5/5] END ..max_features=5, n_estimators=250;, score=0.831 total time=   0.3s\n",
      "[CV 1/5] END ..max_features=5, n_estimators=300;, score=0.787 total time=   0.3s\n",
      "[CV 2/5] END ..max_features=5, n_estimators=300;, score=0.815 total time=   0.3s\n",
      "[CV 3/5] END ..max_features=5, n_estimators=300;, score=0.854 total time=   0.3s\n",
      "[CV 4/5] END ..max_features=5, n_estimators=300;, score=0.775 total time=   0.3s\n",
      "[CV 5/5] END ..max_features=5, n_estimators=300;, score=0.836 total time=   0.3s\n",
      "[CV 1/5] END ....max_features=6, n_estimators=5;, score=0.753 total time=   0.0s\n",
      "[CV 2/5] END ....max_features=6, n_estimators=5;, score=0.775 total time=   0.0s\n",
      "[CV 3/5] END ....max_features=6, n_estimators=5;, score=0.831 total time=   0.0s\n",
      "[CV 4/5] END ....max_features=6, n_estimators=5;, score=0.803 total time=   0.0s\n",
      "[CV 5/5] END ....max_features=6, n_estimators=5;, score=0.836 total time=   0.0s\n",
      "[CV 1/5] END ...max_features=6, n_estimators=10;, score=0.775 total time=   0.0s\n",
      "[CV 2/5] END ...max_features=6, n_estimators=10;, score=0.781 total time=   0.0s\n",
      "[CV 3/5] END ...max_features=6, n_estimators=10;, score=0.826 total time=   0.0s\n",
      "[CV 4/5] END ...max_features=6, n_estimators=10;, score=0.803 total time=   0.0s\n",
      "[CV 5/5] END ...max_features=6, n_estimators=10;, score=0.808 total time=   0.0s\n",
      "[CV 1/5] END ...max_features=6, n_estimators=20;, score=0.770 total time=   0.0s\n",
      "[CV 2/5] END ...max_features=6, n_estimators=20;, score=0.809 total time=   0.0s\n",
      "[CV 3/5] END ...max_features=6, n_estimators=20;, score=0.843 total time=   0.0s\n",
      "[CV 4/5] END ...max_features=6, n_estimators=20;, score=0.787 total time=   0.0s\n",
      "[CV 5/5] END ...max_features=6, n_estimators=20;, score=0.847 total time=   0.0s\n",
      "[CV 1/5] END ...max_features=6, n_estimators=30;, score=0.764 total time=   0.0s\n",
      "[CV 2/5] END ...max_features=6, n_estimators=30;, score=0.815 total time=   0.0s\n",
      "[CV 3/5] END ...max_features=6, n_estimators=30;, score=0.865 total time=   0.0s\n",
      "[CV 4/5] END ...max_features=6, n_estimators=30;, score=0.775 total time=   0.0s\n",
      "[CV 5/5] END ...max_features=6, n_estimators=30;, score=0.842 total time=   0.0s\n",
      "[CV 1/5] END ...max_features=6, n_estimators=40;, score=0.781 total time=   0.0s\n",
      "[CV 2/5] END ...max_features=6, n_estimators=40;, score=0.798 total time=   0.0s\n",
      "[CV 3/5] END ...max_features=6, n_estimators=40;, score=0.854 total time=   0.0s\n",
      "[CV 4/5] END ...max_features=6, n_estimators=40;, score=0.781 total time=   0.0s\n",
      "[CV 5/5] END ...max_features=6, n_estimators=40;, score=0.847 total time=   0.0s\n",
      "[CV 1/5] END ...max_features=6, n_estimators=50;, score=0.781 total time=   0.0s\n",
      "[CV 2/5] END ...max_features=6, n_estimators=50;, score=0.803 total time=   0.0s\n",
      "[CV 3/5] END ...max_features=6, n_estimators=50;, score=0.848 total time=   0.0s\n",
      "[CV 4/5] END ...max_features=6, n_estimators=50;, score=0.781 total time=   0.0s\n",
      "[CV 5/5] END ...max_features=6, n_estimators=50;, score=0.836 total time=   0.0s\n",
      "[CV 1/5] END ..max_features=6, n_estimators=100;, score=0.775 total time=   0.0s\n",
      "[CV 2/5] END ..max_features=6, n_estimators=100;, score=0.809 total time=   0.0s\n",
      "[CV 3/5] END ..max_features=6, n_estimators=100;, score=0.865 total time=   0.1s\n",
      "[CV 4/5] END ..max_features=6, n_estimators=100;, score=0.770 total time=   0.0s\n",
      "[CV 5/5] END ..max_features=6, n_estimators=100;, score=0.842 total time=   0.0s\n",
      "[CV 1/5] END ..max_features=6, n_estimators=150;, score=0.775 total time=   0.1s\n",
      "[CV 2/5] END ..max_features=6, n_estimators=150;, score=0.815 total time=   0.1s\n",
      "[CV 3/5] END ..max_features=6, n_estimators=150;, score=0.848 total time=   0.1s\n",
      "[CV 4/5] END ..max_features=6, n_estimators=150;, score=0.781 total time=   0.1s\n",
      "[CV 5/5] END ..max_features=6, n_estimators=150;, score=0.836 total time=   0.1s\n",
      "[CV 1/5] END ..max_features=6, n_estimators=200;, score=0.770 total time=   0.2s\n",
      "[CV 2/5] END ..max_features=6, n_estimators=200;, score=0.815 total time=   0.2s\n",
      "[CV 3/5] END ..max_features=6, n_estimators=200;, score=0.865 total time=   0.2s\n",
      "[CV 4/5] END ..max_features=6, n_estimators=200;, score=0.787 total time=   0.2s\n",
      "[CV 5/5] END ..max_features=6, n_estimators=200;, score=0.825 total time=   0.2s\n",
      "[CV 1/5] END ..max_features=6, n_estimators=250;, score=0.775 total time=   0.3s\n",
      "[CV 2/5] END ..max_features=6, n_estimators=250;, score=0.809 total time=   0.3s\n",
      "[CV 3/5] END ..max_features=6, n_estimators=250;, score=0.854 total time=   0.3s\n",
      "[CV 4/5] END ..max_features=6, n_estimators=250;, score=0.781 total time=   0.3s\n",
      "[CV 5/5] END ..max_features=6, n_estimators=250;, score=0.825 total time=   0.3s\n",
      "[CV 1/5] END ..max_features=6, n_estimators=300;, score=0.792 total time=   0.4s\n",
      "[CV 2/5] END ..max_features=6, n_estimators=300;, score=0.820 total time=   0.3s\n",
      "[CV 3/5] END ..max_features=6, n_estimators=300;, score=0.854 total time=   0.4s\n",
      "[CV 4/5] END ..max_features=6, n_estimators=300;, score=0.781 total time=   0.3s\n",
      "[CV 5/5] END ..max_features=6, n_estimators=300;, score=0.825 total time=   0.3s\n",
      "[CV 1/5] END ....max_features=7, n_estimators=5;, score=0.753 total time=   0.0s\n",
      "[CV 2/5] END ....max_features=7, n_estimators=5;, score=0.815 total time=   0.0s\n",
      "[CV 3/5] END ....max_features=7, n_estimators=5;, score=0.826 total time=   0.0s\n",
      "[CV 4/5] END ....max_features=7, n_estimators=5;, score=0.764 total time=   0.0s\n",
      "[CV 5/5] END ....max_features=7, n_estimators=5;, score=0.836 total time=   0.0s\n",
      "[CV 1/5] END ...max_features=7, n_estimators=10;, score=0.781 total time=   0.0s\n",
      "[CV 2/5] END ...max_features=7, n_estimators=10;, score=0.820 total time=   0.0s\n",
      "[CV 3/5] END ...max_features=7, n_estimators=10;, score=0.837 total time=   0.0s\n",
      "[CV 4/5] END ...max_features=7, n_estimators=10;, score=0.787 total time=   0.0s\n",
      "[CV 5/5] END ...max_features=7, n_estimators=10;, score=0.842 total time=   0.0s\n",
      "[CV 1/5] END ...max_features=7, n_estimators=20;, score=0.764 total time=   0.0s\n",
      "[CV 2/5] END ...max_features=7, n_estimators=20;, score=0.826 total time=   0.0s\n",
      "[CV 3/5] END ...max_features=7, n_estimators=20;, score=0.865 total time=   0.0s\n",
      "[CV 4/5] END ...max_features=7, n_estimators=20;, score=0.775 total time=   0.0s\n",
      "[CV 5/5] END ...max_features=7, n_estimators=20;, score=0.836 total time=   0.0s\n",
      "[CV 1/5] END ...max_features=7, n_estimators=30;, score=0.770 total time=   0.0s\n",
      "[CV 2/5] END ...max_features=7, n_estimators=30;, score=0.803 total time=   0.0s\n",
      "[CV 3/5] END ...max_features=7, n_estimators=30;, score=0.837 total time=   0.0s\n",
      "[CV 4/5] END ...max_features=7, n_estimators=30;, score=0.787 total time=   0.0s\n",
      "[CV 5/5] END ...max_features=7, n_estimators=30;, score=0.836 total time=   0.0s\n",
      "[CV 1/5] END ...max_features=7, n_estimators=40;, score=0.770 total time=   0.0s\n",
      "[CV 2/5] END ...max_features=7, n_estimators=40;, score=0.809 total time=   0.0s\n",
      "[CV 3/5] END ...max_features=7, n_estimators=40;, score=0.854 total time=   0.0s\n",
      "[CV 4/5] END ...max_features=7, n_estimators=40;, score=0.775 total time=   0.0s\n",
      "[CV 5/5] END ...max_features=7, n_estimators=40;, score=0.831 total time=   0.0s\n",
      "[CV 1/5] END ...max_features=7, n_estimators=50;, score=0.815 total time=   0.0s\n",
      "[CV 2/5] END ...max_features=7, n_estimators=50;, score=0.815 total time=   0.0s\n",
      "[CV 3/5] END ...max_features=7, n_estimators=50;, score=0.843 total time=   0.0s\n",
      "[CV 4/5] END ...max_features=7, n_estimators=50;, score=0.781 total time=   0.0s\n",
      "[CV 5/5] END ...max_features=7, n_estimators=50;, score=0.842 total time=   0.0s\n",
      "[CV 1/5] END ..max_features=7, n_estimators=100;, score=0.787 total time=   0.1s\n",
      "[CV 2/5] END ..max_features=7, n_estimators=100;, score=0.820 total time=   0.0s\n",
      "[CV 3/5] END ..max_features=7, n_estimators=100;, score=0.860 total time=   0.1s\n",
      "[CV 4/5] END ..max_features=7, n_estimators=100;, score=0.775 total time=   0.0s\n",
      "[CV 5/5] END ..max_features=7, n_estimators=100;, score=0.825 total time=   0.1s\n",
      "[CV 1/5] END ..max_features=7, n_estimators=150;, score=0.775 total time=   0.1s\n",
      "[CV 2/5] END ..max_features=7, n_estimators=150;, score=0.820 total time=   0.1s\n",
      "[CV 3/5] END ..max_features=7, n_estimators=150;, score=0.854 total time=   0.1s\n",
      "[CV 4/5] END ..max_features=7, n_estimators=150;, score=0.775 total time=   0.1s\n",
      "[CV 5/5] END ..max_features=7, n_estimators=150;, score=0.831 total time=   0.1s\n",
      "[CV 1/5] END ..max_features=7, n_estimators=200;, score=0.781 total time=   0.2s\n",
      "[CV 2/5] END ..max_features=7, n_estimators=200;, score=0.820 total time=   0.2s\n",
      "[CV 3/5] END ..max_features=7, n_estimators=200;, score=0.843 total time=   0.2s\n",
      "[CV 4/5] END ..max_features=7, n_estimators=200;, score=0.787 total time=   0.2s\n",
      "[CV 5/5] END ..max_features=7, n_estimators=200;, score=0.836 total time=   0.2s\n",
      "[CV 1/5] END ..max_features=7, n_estimators=250;, score=0.798 total time=   0.3s\n",
      "[CV 2/5] END ..max_features=7, n_estimators=250;, score=0.815 total time=   0.3s\n",
      "[CV 3/5] END ..max_features=7, n_estimators=250;, score=0.860 total time=   0.3s\n",
      "[CV 4/5] END ..max_features=7, n_estimators=250;, score=0.775 total time=   0.3s\n",
      "[CV 5/5] END ..max_features=7, n_estimators=250;, score=0.842 total time=   0.3s\n",
      "[CV 1/5] END ..max_features=7, n_estimators=300;, score=0.781 total time=   0.4s\n",
      "[CV 2/5] END ..max_features=7, n_estimators=300;, score=0.820 total time=   0.4s\n",
      "[CV 3/5] END ..max_features=7, n_estimators=300;, score=0.860 total time=   0.4s\n",
      "[CV 4/5] END ..max_features=7, n_estimators=300;, score=0.775 total time=   0.4s\n",
      "[CV 5/5] END ..max_features=7, n_estimators=300;, score=0.836 total time=   0.4s\n",
      "[CV 1/5] END ....max_features=8, n_estimators=5;, score=0.753 total time=   0.0s\n",
      "[CV 2/5] END ....max_features=8, n_estimators=5;, score=0.770 total time=   0.0s\n",
      "[CV 3/5] END ....max_features=8, n_estimators=5;, score=0.820 total time=   0.0s\n",
      "[CV 4/5] END ....max_features=8, n_estimators=5;, score=0.770 total time=   0.0s\n",
      "[CV 5/5] END ....max_features=8, n_estimators=5;, score=0.836 total time=   0.0s\n",
      "[CV 1/5] END ...max_features=8, n_estimators=10;, score=0.792 total time=   0.0s\n",
      "[CV 2/5] END ...max_features=8, n_estimators=10;, score=0.775 total time=   0.0s\n",
      "[CV 3/5] END ...max_features=8, n_estimators=10;, score=0.826 total time=   0.0s\n",
      "[CV 4/5] END ...max_features=8, n_estimators=10;, score=0.770 total time=   0.0s\n",
      "[CV 5/5] END ...max_features=8, n_estimators=10;, score=0.859 total time=   0.0s\n",
      "[CV 1/5] END ...max_features=8, n_estimators=20;, score=0.781 total time=   0.0s\n",
      "[CV 2/5] END ...max_features=8, n_estimators=20;, score=0.815 total time=   0.0s\n",
      "[CV 3/5] END ...max_features=8, n_estimators=20;, score=0.843 total time=   0.0s\n",
      "[CV 4/5] END ...max_features=8, n_estimators=20;, score=0.770 total time=   0.0s\n",
      "[CV 5/5] END ...max_features=8, n_estimators=20;, score=0.836 total time=   0.0s\n",
      "[CV 1/5] END ...max_features=8, n_estimators=30;, score=0.781 total time=   0.0s\n",
      "[CV 2/5] END ...max_features=8, n_estimators=30;, score=0.815 total time=   0.0s\n",
      "[CV 3/5] END ...max_features=8, n_estimators=30;, score=0.860 total time=   0.0s\n",
      "[CV 4/5] END ...max_features=8, n_estimators=30;, score=0.775 total time=   0.0s\n",
      "[CV 5/5] END ...max_features=8, n_estimators=30;, score=0.842 total time=   0.0s\n",
      "[CV 1/5] END ...max_features=8, n_estimators=40;, score=0.798 total time=   0.0s\n",
      "[CV 2/5] END ...max_features=8, n_estimators=40;, score=0.809 total time=   0.0s\n",
      "[CV 3/5] END ...max_features=8, n_estimators=40;, score=0.848 total time=   0.0s\n",
      "[CV 4/5] END ...max_features=8, n_estimators=40;, score=0.781 total time=   0.0s\n",
      "[CV 5/5] END ...max_features=8, n_estimators=40;, score=0.842 total time=   0.0s\n",
      "[CV 1/5] END ...max_features=8, n_estimators=50;, score=0.775 total time=   0.0s\n",
      "[CV 2/5] END ...max_features=8, n_estimators=50;, score=0.815 total time=   0.0s\n",
      "[CV 3/5] END ...max_features=8, n_estimators=50;, score=0.843 total time=   0.0s\n",
      "[CV 4/5] END ...max_features=8, n_estimators=50;, score=0.775 total time=   0.0s\n",
      "[CV 5/5] END ...max_features=8, n_estimators=50;, score=0.836 total time=   0.0s\n",
      "[CV 1/5] END ..max_features=8, n_estimators=100;, score=0.775 total time=   0.1s\n",
      "[CV 2/5] END ..max_features=8, n_estimators=100;, score=0.815 total time=   0.1s\n",
      "[CV 3/5] END ..max_features=8, n_estimators=100;, score=0.848 total time=   0.1s\n",
      "[CV 4/5] END ..max_features=8, n_estimators=100;, score=0.787 total time=   0.1s\n",
      "[CV 5/5] END ..max_features=8, n_estimators=100;, score=0.859 total time=   0.1s\n",
      "[CV 1/5] END ..max_features=8, n_estimators=150;, score=0.775 total time=   0.1s\n",
      "[CV 2/5] END ..max_features=8, n_estimators=150;, score=0.820 total time=   0.1s\n",
      "[CV 3/5] END ..max_features=8, n_estimators=150;, score=0.854 total time=   0.2s\n",
      "[CV 4/5] END ..max_features=8, n_estimators=150;, score=0.781 total time=   0.1s\n",
      "[CV 5/5] END ..max_features=8, n_estimators=150;, score=0.853 total time=   0.1s\n",
      "[CV 1/5] END ..max_features=8, n_estimators=200;, score=0.787 total time=   0.2s\n",
      "[CV 2/5] END ..max_features=8, n_estimators=200;, score=0.815 total time=   0.2s\n",
      "[CV 3/5] END ..max_features=8, n_estimators=200;, score=0.854 total time=   0.2s\n",
      "[CV 4/5] END ..max_features=8, n_estimators=200;, score=0.770 total time=   0.2s\n",
      "[CV 5/5] END ..max_features=8, n_estimators=200;, score=0.836 total time=   0.2s\n",
      "[CV 1/5] END ..max_features=8, n_estimators=250;, score=0.775 total time=   0.3s\n",
      "[CV 2/5] END ..max_features=8, n_estimators=250;, score=0.815 total time=   0.3s\n",
      "[CV 3/5] END ..max_features=8, n_estimators=250;, score=0.848 total time=   0.3s\n",
      "[CV 4/5] END ..max_features=8, n_estimators=250;, score=0.770 total time=   0.4s\n",
      "[CV 5/5] END ..max_features=8, n_estimators=250;, score=0.836 total time=   0.4s\n",
      "[CV 1/5] END ..max_features=8, n_estimators=300;, score=0.770 total time=   0.5s\n",
      "[CV 2/5] END ..max_features=8, n_estimators=300;, score=0.815 total time=   0.4s\n",
      "[CV 3/5] END ..max_features=8, n_estimators=300;, score=0.843 total time=   0.4s\n",
      "[CV 4/5] END ..max_features=8, n_estimators=300;, score=0.775 total time=   0.4s\n",
      "[CV 5/5] END ..max_features=8, n_estimators=300;, score=0.842 total time=   0.4s\n",
      "[CV 1/5] END ....max_features=9, n_estimators=5;, score=0.775 total time=   0.0s\n",
      "[CV 2/5] END ....max_features=9, n_estimators=5;, score=0.764 total time=   0.0s\n",
      "[CV 3/5] END ....max_features=9, n_estimators=5;, score=0.831 total time=   0.0s\n",
      "[CV 4/5] END ....max_features=9, n_estimators=5;, score=0.770 total time=   0.0s\n",
      "[CV 5/5] END ....max_features=9, n_estimators=5;, score=0.808 total time=   0.0s\n",
      "[CV 1/5] END ...max_features=9, n_estimators=10;, score=0.742 total time=   0.0s\n",
      "[CV 2/5] END ...max_features=9, n_estimators=10;, score=0.809 total time=   0.0s\n",
      "[CV 3/5] END ...max_features=9, n_estimators=10;, score=0.831 total time=   0.0s\n",
      "[CV 4/5] END ...max_features=9, n_estimators=10;, score=0.798 total time=   0.0s\n",
      "[CV 5/5] END ...max_features=9, n_estimators=10;, score=0.785 total time=   0.0s\n",
      "[CV 1/5] END ...max_features=9, n_estimators=20;, score=0.753 total time=   0.0s\n",
      "[CV 2/5] END ...max_features=9, n_estimators=20;, score=0.809 total time=   0.0s\n",
      "[CV 3/5] END ...max_features=9, n_estimators=20;, score=0.876 total time=   0.0s\n",
      "[CV 4/5] END ...max_features=9, n_estimators=20;, score=0.775 total time=   0.0s\n",
      "[CV 5/5] END ...max_features=9, n_estimators=20;, score=0.842 total time=   0.0s\n",
      "[CV 1/5] END ...max_features=9, n_estimators=30;, score=0.803 total time=   0.0s\n",
      "[CV 2/5] END ...max_features=9, n_estimators=30;, score=0.809 total time=   0.0s\n",
      "[CV 3/5] END ...max_features=9, n_estimators=30;, score=0.837 total time=   0.0s\n",
      "[CV 4/5] END ...max_features=9, n_estimators=30;, score=0.781 total time=   0.0s\n",
      "[CV 5/5] END ...max_features=9, n_estimators=30;, score=0.853 total time=   0.0s\n",
      "[CV 1/5] END ...max_features=9, n_estimators=40;, score=0.775 total time=   0.0s\n",
      "[CV 2/5] END ...max_features=9, n_estimators=40;, score=0.815 total time=   0.0s\n",
      "[CV 3/5] END ...max_features=9, n_estimators=40;, score=0.848 total time=   0.0s\n",
      "[CV 4/5] END ...max_features=9, n_estimators=40;, score=0.787 total time=   0.0s\n",
      "[CV 5/5] END ...max_features=9, n_estimators=40;, score=0.859 total time=   0.0s\n",
      "[CV 1/5] END ...max_features=9, n_estimators=50;, score=0.781 total time=   0.0s\n",
      "[CV 2/5] END ...max_features=9, n_estimators=50;, score=0.815 total time=   0.0s\n",
      "[CV 3/5] END ...max_features=9, n_estimators=50;, score=0.848 total time=   0.0s\n",
      "[CV 4/5] END ...max_features=9, n_estimators=50;, score=0.781 total time=   0.0s\n",
      "[CV 5/5] END ...max_features=9, n_estimators=50;, score=0.853 total time=   0.0s\n",
      "[CV 1/5] END ..max_features=9, n_estimators=100;, score=0.775 total time=   0.1s\n",
      "[CV 2/5] END ..max_features=9, n_estimators=100;, score=0.820 total time=   0.1s\n",
      "[CV 3/5] END ..max_features=9, n_estimators=100;, score=0.848 total time=   0.1s\n",
      "[CV 4/5] END ..max_features=9, n_estimators=100;, score=0.764 total time=   0.1s\n",
      "[CV 5/5] END ..max_features=9, n_estimators=100;, score=0.847 total time=   0.1s\n",
      "[CV 1/5] END ..max_features=9, n_estimators=150;, score=0.787 total time=   0.1s\n",
      "[CV 2/5] END ..max_features=9, n_estimators=150;, score=0.820 total time=   0.1s\n",
      "[CV 3/5] END ..max_features=9, n_estimators=150;, score=0.848 total time=   0.2s\n",
      "[CV 4/5] END ..max_features=9, n_estimators=150;, score=0.770 total time=   0.1s\n",
      "[CV 5/5] END ..max_features=9, n_estimators=150;, score=0.847 total time=   0.1s\n",
      "[CV 1/5] END ..max_features=9, n_estimators=200;, score=0.787 total time=   0.2s\n",
      "[CV 2/5] END ..max_features=9, n_estimators=200;, score=0.815 total time=   0.2s\n",
      "[CV 3/5] END ..max_features=9, n_estimators=200;, score=0.854 total time=   0.2s\n",
      "[CV 4/5] END ..max_features=9, n_estimators=200;, score=0.775 total time=   0.2s\n",
      "[CV 5/5] END ..max_features=9, n_estimators=200;, score=0.842 total time=   0.2s\n",
      "[CV 1/5] END ..max_features=9, n_estimators=250;, score=0.770 total time=   0.3s\n",
      "[CV 2/5] END ..max_features=9, n_estimators=250;, score=0.820 total time=   0.3s\n",
      "[CV 3/5] END ..max_features=9, n_estimators=250;, score=0.848 total time=   0.3s\n",
      "[CV 4/5] END ..max_features=9, n_estimators=250;, score=0.787 total time=   0.3s\n",
      "[CV 5/5] END ..max_features=9, n_estimators=250;, score=0.847 total time=   0.3s\n",
      "[CV 1/5] END ..max_features=9, n_estimators=300;, score=0.781 total time=   0.4s\n",
      "[CV 2/5] END ..max_features=9, n_estimators=300;, score=0.820 total time=   0.4s\n",
      "[CV 3/5] END ..max_features=9, n_estimators=300;, score=0.848 total time=   0.4s\n",
      "[CV 4/5] END ..max_features=9, n_estimators=300;, score=0.781 total time=   0.4s\n",
      "[CV 5/5] END ..max_features=9, n_estimators=300;, score=0.842 total time=   0.4s\n",
      "[CV 1/5] END ...max_features=10, n_estimators=5;, score=0.758 total time=   0.0s\n",
      "[CV 2/5] END ...max_features=10, n_estimators=5;, score=0.775 total time=   0.0s\n",
      "[CV 3/5] END ...max_features=10, n_estimators=5;, score=0.803 total time=   0.0s\n",
      "[CV 4/5] END ...max_features=10, n_estimators=5;, score=0.809 total time=   0.0s\n",
      "[CV 5/5] END ...max_features=10, n_estimators=5;, score=0.814 total time=   0.0s\n",
      "[CV 1/5] END ..max_features=10, n_estimators=10;, score=0.781 total time=   0.0s\n",
      "[CV 2/5] END ..max_features=10, n_estimators=10;, score=0.815 total time=   0.0s\n",
      "[CV 3/5] END ..max_features=10, n_estimators=10;, score=0.826 total time=   0.0s\n",
      "[CV 4/5] END ..max_features=10, n_estimators=10;, score=0.787 total time=   0.0s\n",
      "[CV 5/5] END ..max_features=10, n_estimators=10;, score=0.847 total time=   0.0s\n",
      "[CV 1/5] END ..max_features=10, n_estimators=20;, score=0.764 total time=   0.0s\n",
      "[CV 2/5] END ..max_features=10, n_estimators=20;, score=0.815 total time=   0.0s\n",
      "[CV 3/5] END ..max_features=10, n_estimators=20;, score=0.854 total time=   0.0s\n",
      "[CV 4/5] END ..max_features=10, n_estimators=20;, score=0.770 total time=   0.0s\n",
      "[CV 5/5] END ..max_features=10, n_estimators=20;, score=0.842 total time=   0.0s\n",
      "[CV 1/5] END ..max_features=10, n_estimators=30;, score=0.775 total time=   0.0s\n",
      "[CV 2/5] END ..max_features=10, n_estimators=30;, score=0.820 total time=   0.0s\n",
      "[CV 3/5] END ..max_features=10, n_estimators=30;, score=0.848 total time=   0.0s\n",
      "[CV 4/5] END ..max_features=10, n_estimators=30;, score=0.787 total time=   0.0s\n",
      "[CV 5/5] END ..max_features=10, n_estimators=30;, score=0.842 total time=   0.0s\n",
      "[CV 1/5] END ..max_features=10, n_estimators=40;, score=0.792 total time=   0.0s\n",
      "[CV 2/5] END ..max_features=10, n_estimators=40;, score=0.803 total time=   0.0s\n",
      "[CV 3/5] END ..max_features=10, n_estimators=40;, score=0.848 total time=   0.0s\n",
      "[CV 4/5] END ..max_features=10, n_estimators=40;, score=0.770 total time=   0.0s\n",
      "[CV 5/5] END ..max_features=10, n_estimators=40;, score=0.842 total time=   0.0s\n",
      "[CV 1/5] END ..max_features=10, n_estimators=50;, score=0.792 total time=   0.0s\n",
      "[CV 2/5] END ..max_features=10, n_estimators=50;, score=0.820 total time=   0.0s\n",
      "[CV 3/5] END ..max_features=10, n_estimators=50;, score=0.848 total time=   0.0s\n",
      "[CV 4/5] END ..max_features=10, n_estimators=50;, score=0.781 total time=   0.0s\n",
      "[CV 5/5] END ..max_features=10, n_estimators=50;, score=0.842 total time=   0.0s\n",
      "[CV 1/5] END .max_features=10, n_estimators=100;, score=0.781 total time=   0.1s\n",
      "[CV 2/5] END .max_features=10, n_estimators=100;, score=0.820 total time=   0.1s\n",
      "[CV 3/5] END .max_features=10, n_estimators=100;, score=0.843 total time=   0.1s\n",
      "[CV 4/5] END .max_features=10, n_estimators=100;, score=0.764 total time=   0.1s\n",
      "[CV 5/5] END .max_features=10, n_estimators=100;, score=0.836 total time=   0.1s\n",
      "[CV 1/5] END .max_features=10, n_estimators=150;, score=0.781 total time=   0.1s\n",
      "[CV 2/5] END .max_features=10, n_estimators=150;, score=0.820 total time=   0.1s\n",
      "[CV 3/5] END .max_features=10, n_estimators=150;, score=0.843 total time=   0.2s\n",
      "[CV 4/5] END .max_features=10, n_estimators=150;, score=0.775 total time=   0.2s\n",
      "[CV 5/5] END .max_features=10, n_estimators=150;, score=0.842 total time=   0.2s\n",
      "[CV 1/5] END .max_features=10, n_estimators=200;, score=0.781 total time=   0.2s\n",
      "[CV 2/5] END .max_features=10, n_estimators=200;, score=0.820 total time=   0.2s\n",
      "[CV 3/5] END .max_features=10, n_estimators=200;, score=0.860 total time=   0.2s\n",
      "[CV 4/5] END .max_features=10, n_estimators=200;, score=0.775 total time=   0.2s\n",
      "[CV 5/5] END .max_features=10, n_estimators=200;, score=0.836 total time=   0.2s\n",
      "[CV 1/5] END .max_features=10, n_estimators=250;, score=0.770 total time=   0.4s\n",
      "[CV 2/5] END .max_features=10, n_estimators=250;, score=0.820 total time=   0.4s\n",
      "[CV 3/5] END .max_features=10, n_estimators=250;, score=0.854 total time=   0.4s\n",
      "[CV 4/5] END .max_features=10, n_estimators=250;, score=0.775 total time=   0.4s\n",
      "[CV 5/5] END .max_features=10, n_estimators=250;, score=0.842 total time=   0.3s\n",
      "[CV 1/5] END .max_features=10, n_estimators=300;, score=0.781 total time=   0.5s\n",
      "[CV 2/5] END .max_features=10, n_estimators=300;, score=0.820 total time=   0.5s\n",
      "[CV 3/5] END .max_features=10, n_estimators=300;, score=0.854 total time=   0.4s\n",
      "[CV 4/5] END .max_features=10, n_estimators=300;, score=0.770 total time=   0.5s\n",
      "[CV 5/5] END .max_features=10, n_estimators=300;, score=0.836 total time=   0.7s\n"
     ]
    },
    {
     "data": {
      "text/plain": [
       "GridSearchCV(cv=5, estimator=RandomForestClassifier(),\n",
       "             param_grid={'max_features': [3, 4, 5, 6, 7, 8, 9, 10],\n",
       "                         'n_estimators': [5, 10, 20, 30, 40, 50, 100, 150, 200,\n",
       "                                          250, 300]},\n",
       "             verbose=3)"
      ]
     },
     "execution_count": 632,
     "metadata": {},
     "output_type": "execute_result"
    }
   ],
   "source": [
    "from sklearn.ensemble import RandomForestClassifier\n",
    "from sklearn.model_selection import GridSearchCV\n",
    "\n",
    "grid_params ={\n",
    "    'n_estimators':[5, 10, 20, 30, 40, 50, 100, 150, 200, 250, 300],\n",
    "    'max_features':[3,4,5,6,7,8,9,10]\n",
    "}\n",
    "\n",
    "rndf_clf=RandomForestClassifier()\n",
    "grid_search = GridSearchCV(rndf_clf, grid_params, cv=5, verbose=3)\n",
    "grid_search.fit(X_train_book, y_train_book)"
   ]
  },
  {
   "cell_type": "code",
   "execution_count": null,
   "id": "5d5015b8-3a70-4bd0-b408-53bc451e3747",
   "metadata": {},
   "outputs": [
    {
     "data": {
      "text/plain": [
       "0.820040627182124"
      ]
     },
     "execution_count": 633,
     "metadata": {},
     "output_type": "execute_result"
    }
   ],
   "source": [
    "grid_search.best_score_"
   ]
  },
  {
   "cell_type": "code",
   "execution_count": null,
   "id": "6028c834-0ab5-4d23-a566-3eac5544833a",
   "metadata": {},
   "outputs": [
    {
     "data": {
      "text/plain": [
       "{'max_features': 5, 'n_estimators': 40}"
      ]
     },
     "execution_count": 634,
     "metadata": {},
     "output_type": "execute_result"
    }
   ],
   "source": [
    "grid_search.best_params_"
   ]
  },
  {
   "cell_type": "code",
   "execution_count": 636,
   "id": "c1e811d3-f29a-4d8f-a604-194b71f2f2dc",
   "metadata": {},
   "outputs": [
    {
     "data": {
      "text/plain": [
       "0.8189351378958121"
      ]
     },
     "execution_count": 636,
     "metadata": {},
     "output_type": "execute_result"
    }
   ],
   "source": [
    "from sklearn.model_selection import cross_val_score\n",
    "\n",
    "forest_scores = cross_val_score(grid_search.best_estimator_, X_train_book, y_train_book, cv=10)\n",
    "forest_scores.mean()"
   ]
  },
  {
   "cell_type": "code",
   "execution_count": 637,
   "id": "80b5f9b8-c7da-4e37-a7a6-86baacba8a49",
   "metadata": {},
   "outputs": [
    {
     "data": {
      "text/plain": [
       "0.8245403472931564"
      ]
     },
     "execution_count": 637,
     "metadata": {},
     "output_type": "execute_result"
    }
   ],
   "source": [
    "from sklearn.svm import SVC\n",
    "\n",
    "svm_clf = SVC(gamma=\"auto\")\n",
    "svm_scores = cross_val_score(svm_clf, X_train_book, y_train_book, cv=10)\n",
    "svm_scores.mean()"
   ]
  },
  {
   "cell_type": "markdown",
   "id": "38d7b754-595c-4aaa-8623-06f88231b4eb",
   "metadata": {},
   "source": [
    "느낀점\n",
    "* 데이터셋 구성을 좀 더 깔끔하게 하는 방법을 공부해야겠다. \n",
    "* 데이터에 대한 정보와 시각화도 하면서 보려고 조금 더러워진것도 있으나 파이프 라인이나 one hot 인코딩에 대한 처리 등 부족한 것이 많은듯"
   ]
  },
  {
   "cell_type": "markdown",
   "id": "83e8e880-8ccb-4fc4-ab9f-a305191b5961",
   "metadata": {},
   "source": [
    "# 4. 스팸 분류기 만들기"
   ]
  },
  {
   "cell_type": "markdown",
   "id": "6ee10311-c825-4eb9-be2d-3c11092e5091",
   "metadata": {},
   "source": [
    "### 데이터셋 다운로드"
   ]
  },
  {
   "cell_type": "code",
   "execution_count": 638,
   "id": "5e0fc6a4-c320-47a7-80b5-35f80e5b3f2b",
   "metadata": {},
   "outputs": [],
   "source": [
    "import os\n",
    "import tarfile\n",
    "import urllib.request\n",
    "\n",
    "DOWNLOAD_ROOT = \"http://spamassassin.apache.org/old/publiccorpus/\"\n",
    "HAM_URL = DOWNLOAD_ROOT + \"20030228_easy_ham.tar.bz2\"\n",
    "SPAM_URL = DOWNLOAD_ROOT + \"20030228_spam.tar.bz2\"\n",
    "SPAM_PATH = os.path.join(\"datasets\", \"spam\")\n",
    "\n",
    "def fetch_spam_data(ham_url=HAM_URL, spam_url=SPAM_URL, spam_path=SPAM_PATH):\n",
    "    if not os.path.isdir(spam_path):\n",
    "        os.makedirs(spam_path)\n",
    "    for filename, url in ((\"ham.tar.bz2\", ham_url), (\"spam.tar.bz2\", spam_url)):\n",
    "        path = os.path.join(spam_path, filename)\n",
    "        if not os.path.isfile(path):\n",
    "            urllib.request.urlretrieve(url, path)\n",
    "        tar_bz2_file = tarfile.open(path)\n",
    "        tar_bz2_file.extractall(path=spam_path)\n",
    "        tar_bz2_file.close()"
   ]
  },
  {
   "cell_type": "code",
   "execution_count": 639,
   "id": "ed79b898-69a0-4eaf-a84d-5eaef7e56031",
   "metadata": {},
   "outputs": [],
   "source": [
    "fetch_spam_data()"
   ]
  },
  {
   "cell_type": "code",
   "execution_count": 640,
   "id": "56cec07e-933f-4743-9df2-b5d56e646ef3",
   "metadata": {},
   "outputs": [],
   "source": [
    "HAM_DIR = os.path.join(SPAM_PATH, \"easy_ham\")\n",
    "SPAM_DIR = os.path.join(SPAM_PATH, \"spam\")\n",
    "ham_filenames = [name for name in sorted(os.listdir(HAM_DIR)) if len(name) > 20]\n",
    "spam_filenames = [name for name in sorted(os.listdir(SPAM_DIR)) if len(name) > 20]"
   ]
  },
  {
   "cell_type": "code",
   "execution_count": 641,
   "id": "83ba5348-5555-4df4-a26c-55d02302c4ce",
   "metadata": {},
   "outputs": [
    {
     "data": {
      "text/plain": [
       "(2500, 500)"
      ]
     },
     "execution_count": 641,
     "metadata": {},
     "output_type": "execute_result"
    }
   ],
   "source": [
    "len(ham_filenames), len(spam_filenames)"
   ]
  },
  {
   "cell_type": "code",
   "execution_count": 642,
   "id": "12a05042-c997-4895-91c7-1a91e331fa5e",
   "metadata": {},
   "outputs": [],
   "source": [
    "import email\n",
    "import email.policy\n",
    "\n",
    "def load_email(is_spam, filename, spam_path=SPAM_PATH):\n",
    "    directory = \"spam\" if is_spam else \"easy_ham\"\n",
    "    with open(os.path.join(spam_path, directory, filename), \"rb\") as f:\n",
    "        return email.parser.BytesParser(policy=email.policy.default).parse(f)"
   ]
  },
  {
   "cell_type": "code",
   "execution_count": 644,
   "id": "ab47b7fe-6788-46a6-9b4b-13b847bcb1fd",
   "metadata": {},
   "outputs": [],
   "source": [
    "ham_emails = [load_email(is_spam=False, filename=name) for name in ham_filenames]\n",
    "spam_emails = [load_email(is_spam=True, filename=name) for name in spam_filenames]"
   ]
  },
  {
   "cell_type": "markdown",
   "id": "95369c54-16a5-41b4-aa59-7db4f57fea3e",
   "metadata": {},
   "source": [
    "여기까지는 책에서 제공하는 데이터를 불러옴. 데이터 불러오는방법때문에.."
   ]
  },
  {
   "cell_type": "code",
   "execution_count": 645,
   "id": "d1069a77-5d91-450a-86e4-a584a95bfb6a",
   "metadata": {},
   "outputs": [
    {
     "name": "stdout",
     "output_type": "stream",
     "text": [
      "Martin A posted:\n",
      "Tassos Papadopoulos, the Greek sculptor behind the plan, judged that the\n",
      " limestone of Mount Kerdylio, 70 miles east of Salonika and not far from the\n",
      " Mount Athos monastic community, was ideal for the patriotic sculpture. \n",
      " \n",
      " As well as Alexander's granite features, 240 ft high and 170 ft wide, a\n",
      " museum, a restored amphitheatre and car park for admiring crowds are\n",
      "planned\n",
      "---------------------\n",
      "So is this mountain limestone or granite?\n",
      "If it's limestone, it'll weather pretty fast.\n",
      "\n",
      "------------------------ Yahoo! Groups Sponsor ---------------------~-->\n",
      "4 DVDs Free +s&p Join Now\n",
      "http://us.click.yahoo.com/pt6YBB/NXiEAA/mG3HAA/7gSolB/TM\n",
      "---------------------------------------------------------------------~->\n",
      "\n",
      "To unsubscribe from this group, send an email to:\n",
      "forteana-unsubscribe@egroups.com\n",
      "\n",
      " \n",
      "\n",
      "Your use of Yahoo! Groups is subject to http://docs.yahoo.com/info/terms/\n"
     ]
    }
   ],
   "source": [
    "print(ham_emails[1].get_content().strip())"
   ]
  },
  {
   "cell_type": "code",
   "execution_count": 646,
   "id": "48d3ad4a-1ce5-45d3-83b6-18cc1316f3ec",
   "metadata": {},
   "outputs": [
    {
     "name": "stdout",
     "output_type": "stream",
     "text": [
      "1) Fight The Risk of Cancer!\n",
      "http://www.adclick.ws/p.cfm?o=315&s=pk007\n",
      "\n",
      "2) Slim Down - Guaranteed to lose 10-12 lbs in 30 days\n",
      "http://www.adclick.ws/p.cfm?o=249&s=pk007\n",
      "\n",
      "3) Get the Child Support You Deserve - Free Legal Advice\n",
      "http://www.adclick.ws/p.cfm?o=245&s=pk002\n",
      "\n",
      "4) Join the Web's Fastest Growing Singles Community\n",
      "http://www.adclick.ws/p.cfm?o=259&s=pk007\n",
      "\n",
      "5) Start Your Private Photo Album Online!\n",
      "http://www.adclick.ws/p.cfm?o=283&s=pk007\n",
      "\n",
      "Have a Wonderful Day,\n",
      "Offer Manager\n",
      "PrizeMama\n",
      "\n",
      "\n",
      "\n",
      "\n",
      "\n",
      "\n",
      "\n",
      "\n",
      "\n",
      "\n",
      "\n",
      "\n",
      "\n",
      "If you wish to leave this list please use the link below.\n",
      "http://www.qves.com/trim/?ilug@linux.ie%7C17%7C114258\n",
      "\n",
      "\n",
      "-- \n",
      "Irish Linux Users' Group: ilug@linux.ie\n",
      "http://www.linux.ie/mailman/listinfo/ilug for (un)subscription information.\n",
      "List maintainer: listmaster@linux.ie\n"
     ]
    }
   ],
   "source": [
    "print(spam_emails[1].get_content().strip())"
   ]
  },
  {
   "cell_type": "code",
   "execution_count": 662,
   "id": "acc74dff-191c-4455-b23b-2fc4d7236ee8",
   "metadata": {},
   "outputs": [],
   "source": [
    "email_datas = ham_emails+spam_emails\n",
    "email_labels = np.concatenate([np.full((len(ham_emails)), 0),np.full((len(spam_emails)), 1)], axis = 0)"
   ]
  },
  {
   "cell_type": "code",
   "execution_count": 665,
   "id": "e009bf58-f996-4c96-a406-51b1db2fbea3",
   "metadata": {},
   "outputs": [
    {
     "data": {
      "text/plain": [
       "(3000, (3000,))"
      ]
     },
     "execution_count": 665,
     "metadata": {},
     "output_type": "execute_result"
    }
   ],
   "source": [
    "len(email_datas), email_labels.shape"
   ]
  },
  {
   "cell_type": "markdown",
   "id": "28173dee-366f-432f-9090-14521a8d4d63",
   "metadata": {},
   "source": [
    "데이터 추출\n",
    "\n",
    "**1.** 단어를 split 해서 희소 행렬로 변환하는 변환기\n",
    "\n",
    "**2.** 희소행렬로 만든 단어 중 어간을 추출하여 단어수를 줄이면서 형태를 일치시키는 변환기"
   ]
  },
  {
   "cell_type": "code",
   "execution_count": 667,
   "id": "f45ca9a2-d9e1-4262-aafd-cbccb1799150",
   "metadata": {},
   "outputs": [],
   "source": [
    "from sklearn.base import BaseEstimator, TransformerMixin\n",
    "from nltk.stem import PorterStemmer\n",
    "from nltk.stem import LancasterStemmer\n",
    "\n",
    "class StemmingCountVector(BaseEstimator, TransformerMixin):\n",
    "    def __init__(self):\n",
    "        pass\n",
    "    def fit(self, X, y=None):\n",
    "        pass\n",
    "    def transform(self, X):\n",
    "        stemmer = PorterStemmer()\n",
    "        for i in range(len(X)):\n",
    "            stemmered = stemmer.stem(X[i])\n",
    "            X.replace()\n",
    "        "
   ]
  },
  {
   "cell_type": "markdown",
   "id": "3fe18e49-3449-459d-b712-23c681f32187",
   "metadata": {},
   "source": [
    "# 복잡해 보이므로 잠시 스탑... 나중에 다시 도전"
   ]
  },
  {
   "cell_type": "code",
   "execution_count": null,
   "id": "b82d4d0e-532d-48dd-87e9-c100150073d8",
   "metadata": {},
   "outputs": [],
   "source": []
  }
 ],
 "metadata": {
  "kernelspec": {
   "display_name": "Python 3 (ipykernel)",
   "language": "python",
   "name": "python3"
  },
  "language_info": {
   "codemirror_mode": {
    "name": "ipython",
    "version": 3
   },
   "file_extension": ".py",
   "mimetype": "text/x-python",
   "name": "python",
   "nbconvert_exporter": "python",
   "pygments_lexer": "ipython3",
   "version": "3.7.0"
  }
 },
 "nbformat": 4,
 "nbformat_minor": 5
}
